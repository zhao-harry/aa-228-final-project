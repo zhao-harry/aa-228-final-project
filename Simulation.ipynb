{
 "cells": [
  {
   "cell_type": "code",
   "execution_count": 57,
   "metadata": {
    "vscode": {
     "languageId": "julia"
    }
   },
   "outputs": [
    {
     "data": {
      "text/plain": [
       "6-element Vector{Vector{Int64}}:\n",
       " [1, 0, 0]\n",
       " [0, 0, 1]\n",
       " [0, 1, 0]\n",
       " [1, 1, 1]\n",
       " [2, 1, 0]\n",
       " [1, 2, 0]"
      ]
     },
     "metadata": {},
     "output_type": "display_data"
    }
   ],
   "source": [
    "using Base.Iterators\n",
    "grid_world3D = zeros(10,16,5) #3D grid world in energy, H20, mission progress\n",
    "actions = [[1,0,0], [0,0,1], [0,1,0], [1,1,1], [2,1,0], [1,2,0]] #possible actions, mission progress is binary\n",
    "    "
   ]
  },
  {
   "cell_type": "code",
   "execution_count": 58,
   "metadata": {
    "vscode": {
     "languageId": "julia"
    }
   },
   "outputs": [],
   "source": [
    "reward_model = similar(grid_world3D)\n",
    "for i in 1:10, j in 1:16, k in 1:5\n",
    "    if (k == 5)\n",
    "        reward_model[i, j, k] = 1000\n",
    "    else\n",
    "        reward_model[i, j, k] = float(i)/10 + float(j)/16\n",
    "    end\n",
    "end    "
   ]
  },
  {
   "cell_type": "code",
   "execution_count": 60,
   "metadata": {
    "vscode": {
     "languageId": "julia"
    }
   },
   "outputs": [
    {
     "data": {
      "text/plain": [
       "Transition_Model (generic function with 2 methods)"
      ]
     },
     "metadata": {},
     "output_type": "display_data"
    }
   ],
   "source": [
    "#transition model\n",
    "N_SS = 16*5*10\n",
    "function Transition_Model(current_state, action)\n",
    "    x = rand()\n",
    "    if (x < 0.05)\n",
    "        next_state = current_state\n",
    "        reward = 0\n",
    "    else \n",
    "        next_state = current_state + action\n",
    "        reward = reward_model[next_state]\n",
    "    end\n",
    "    return next_state, reward\n",
    "end"
   ]
  },
  {
   "cell_type": "code",
   "execution_count": 65,
   "metadata": {
    "vscode": {
     "languageId": "julia"
    }
   },
   "outputs": [
    {
     "name": "stdout",
     "output_type": "stream",
     "text": [
      "[2, 1, 1][2, 1, 2][2, 2, 2][3, 3, 3][5, 4, 3]"
     ]
    }
   ],
   "source": [
    "current_state = [1,1,1]\n",
    "for i in 1:5\n",
    "    action = actions[i]\n",
    "    current_state, reward = Transition_Model(current_state, action)\n",
    "    print(current_state)\n",
    "end"
   ]
  }
 ],
 "metadata": {
  "language_info": {
   "name": "python"
  }
 },
 "nbformat": 4,
 "nbformat_minor": 2
}
