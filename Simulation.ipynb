{
 "cells": [
  {
   "cell_type": "code",
   "execution_count": null,
   "metadata": {},
   "outputs": [],
   "source": [
    "using Base.Iterators"
   ]
  },
  {
   "cell_type": "markdown",
   "metadata": {},
   "source": [
    "### Define problem"
   ]
  },
  {
   "cell_type": "code",
   "execution_count": null,
   "metadata": {},
   "outputs": [],
   "source": [
    "energy = 10 # dimensions\n",
    "H2O = 16\n",
    "mission = 5\n",
    "grid_world3D = zeros(energy, H2O, mission) # 3D grid world in energy, H2O, mission progress"
   ]
  },
  {
   "cell_type": "markdown",
   "metadata": {},
   "source": [
    "### Generate actions"
   ]
  },
  {
   "cell_type": "code",
   "execution_count": 10,
   "metadata": {},
   "outputs": [
    {
     "name": "stdout",
     "output_type": "stream",
     "text": [
      "Any[[-3, 0, 0], [-2, -1, 0], [-2, 0, 0], [-2, 1, 0], [-1, -2, 0], [-1, -1, 0], [-1, 0, 0], [-1, 0, 1], [-1, 1, 0], [-1, 2, 0], [0, -3, 0], [0, -2, 0], [0, -1, 0], [0, -1, 1], [0, 0, 0], [0, 1, 0], [0, 2, 0], [0, 3, 0], [1, -2, 0], [1, -1, 0], [1, 0, 0], [1, 1, 0], [1, 2, 0], [2, -1, 0], [2, 0, 0], [2, 1, 0], [3, 0, 0]]"
     ]
    }
   ],
   "source": [
    "actions = []\n",
    "for i in -3:3\n",
    "    for j in -3:3\n",
    "        for k in 0:3\n",
    "            if abs(i) + abs(j) + abs(k) <= 3 # Max action 1-norm distance of 3\n",
    "                if k == 0 || (k != 0 && (i <= 0 && j <= 0 && i + j < 0) && k == -i - j) # If no mission progress OR mission progress equal to resources expended\n",
    "                    action = [i, j, k]\n",
    "                    push!(actions, action)\n",
    "                end\n",
    "            end\n",
    "        end\n",
    "    end\n",
    "end\n",
    "print(actions)"
   ]
  },
  {
   "cell_type": "code",
   "execution_count": null,
   "metadata": {},
   "outputs": [],
   "source": [
    "reward_model = similar(grid_world3D)\n",
    "for i in 1:10, j in 1:16, k in 1:5\n",
    "    if (k == 5)\n",
    "        reward_model[i, j, k] = 1000\n",
    "    else\n",
    "        reward_model[i, j, k] = float(i)/10 + float(j)/16\n",
    "    end\n",
    "end    "
   ]
  },
  {
   "cell_type": "code",
   "execution_count": null,
   "metadata": {},
   "outputs": [],
   "source": [
    "#transition model\n",
    "N_SS = 16*5*10\n",
    "function Transition_Model(current_state, action)\n",
    "    x = rand()\n",
    "    if (x < 0.05)\n",
    "        next_state = current_state\n",
    "        reward = 0\n",
    "    else \n",
    "        next_state = current_state + action\n",
    "        reward = reward_model[next_state]\n",
    "    end\n",
    "    return next_state, reward\n",
    "end"
   ]
  },
  {
   "cell_type": "code",
   "execution_count": null,
   "metadata": {},
   "outputs": [],
   "source": [
    "current_state = [1,1,1]\n",
    "for i in 1:5\n",
    "    action = actions[i]\n",
    "    current_state, reward = Transition_Model(current_state, action)\n",
    "    print(current_state)\n",
    "end"
   ]
  }
 ],
 "metadata": {
  "kernelspec": {
   "display_name": "Julia 1.9.3",
   "language": "julia",
   "name": "julia-1.9"
  },
  "language_info": {
   "file_extension": ".jl",
   "mimetype": "application/julia",
   "name": "julia",
   "version": "1.9.3"
  }
 },
 "nbformat": 4,
 "nbformat_minor": 2
}
