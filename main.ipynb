{
 "cells": [
  {
   "cell_type": "code",
   "execution_count": 24,
   "metadata": {},
   "outputs": [],
   "source": [
    "using QuickPOMDPs\n",
    "using POMDPs\n",
    "using POMDPTools\n",
    "using Distributions\n",
    "using LinearAlgebra\n",
    "using MCTS\n",
    "using POMDPSimulators\n",
    "using POMDPPolicies\n",
    "#using POMDPTutorials\n",
    "using POMDPModels\n",
    "using POMDPModelTools"
   ]
  },
  {
   "cell_type": "code",
   "execution_count": 25,
   "metadata": {},
   "outputs": [
    {
     "data": {
      "text/plain": [
       "Deterministic{Int64}(1)"
      ]
     },
     "metadata": {},
     "output_type": "display_data"
    }
   ],
   "source": [
    "# Define all possible states and actions (with constraints)\n",
    "# [progress, power, h2o, o2]\n",
    "max_progress = 5\n",
    "max_power = 50\n",
    "max_h2o = 10\n",
    "max_o2 = 10\n",
    "max_food = 10\n",
    "p_mission_regression = 0.05\n",
    "p_power_fail = 0.02\n",
    "p_water_loss = 0.02\n",
    "p_food_loss = 0.02\n",
    "p_no_mission_progress = 0.05\n",
    "energy_per_day = 20 #energy production per day\n",
    "\n",
    "# food, water, and oxygen reductions each day \n",
    "food_loss_per_day = 9\n",
    "o2_loss_per_day = 8\n",
    "water_loss_per_day = 1\n",
    "\n",
    "indexed = LinearIndices((max_progress, max_power, max_h2o, max_o2, max_food))\n",
    "states = 1:indexed[max_progress, max_power, max_h2o, max_o2, max_food]\n",
    "# actions = [CartesianIndex(1, -0.2, 0, 0, 0), #make mission progress\n",
    "#            CartesianIndex(0, -0.2, 1, 0, 0), #make water\n",
    "#            CartesianIndex(0, -0.8, -0.45, 1, 0), #make oxygen\n",
    "#            CartesianIndex(0, -0.8, -0.2, -0.1, 1), #make food\n",
    "#            CartesianIndex(0, 0, 0, 0, 0)] #do nothing\n",
    "# scaling\n",
    "actions = [CartesianIndex(1, -2, 0, 0, 0), #make mission progress\n",
    "           CartesianIndex(0, -2, 5, 0, 0), #make water\n",
    "           CartesianIndex(0, -8, -2, 10, 0), #make oxygen\n",
    "           CartesianIndex(0, -8, -1, -1, 10), #make food\n",
    "           CartesianIndex(0, 0, 0, 0, 0)] #do nothing\n",
    "initialindex = indexed[1, 1, 1, 1, 1]\n",
    "#make mission progress\n",
    "\n",
    "initialstate = Deterministic(initialindex)"
   ]
  },
  {
   "cell_type": "code",
   "execution_count": 26,
   "metadata": {},
   "outputs": [
    {
     "data": {
      "text/plain": [
       "6"
      ]
     },
     "metadata": {},
     "output_type": "display_data"
    }
   ],
   "source": [
    "LinearIndices((max_progress, max_power, max_h2o, max_o2, max_food))[1,2,1,1,1]"
   ]
  },
  {
   "cell_type": "code",
   "execution_count": 27,
   "metadata": {},
   "outputs": [
    {
     "data": {
      "text/plain": [
       "outofbounds (generic function with 1 method)"
      ]
     },
     "metadata": {},
     "output_type": "display_data"
    }
   ],
   "source": [
    "# Determine if action is out of bounds\n",
    "# Associated consequences are reflected in transition/reward functions\n",
    "state_maxes = [max_progress, max_power, max_h2o, max_o2, max_food]\n",
    "function outofbounds(state, action)\n",
    "    for i in 1:length(state)\n",
    "        if ((state[i] + action[i]) < 1 || (state[i] + action[i]) > state_maxes[i])\n",
    "            return true\n",
    "        end\n",
    "    end\n",
    "    return false\n",
    "end"
   ]
  },
  {
   "cell_type": "code",
   "execution_count": 28,
   "metadata": {},
   "outputs": [
    {
     "data": {
      "text/plain": [
       "transition (generic function with 1 method)"
      ]
     },
     "metadata": {},
     "output_type": "display_data"
    }
   ],
   "source": [
    "# Transition function\n",
    "function transition(s, a)\n",
    "    svec = CartesianIndices((max_progress, max_power, max_h2o, max_o2, max_food))[s]\n",
    "    svec = collect(Tuple(svec))\n",
    "    a = collect(Tuple(a))\n",
    "    if outofbounds(svec, a)\n",
    "        svec[2] = svec[2] + energy_per_day # increment energy\n",
    "        svec[3] = svec[3] - water_loss_per_day # increment water\n",
    "        svec[4] = svec[4] - o2_loss_per_day # increment oxygen\n",
    "        svec[5] = svec[5] - food_loss_per_day # increment food\n",
    "        if outofbounds(svec, a)\n",
    "            svec[2] = max_power\n",
    "        end\n",
    "        spvec = svec\n",
    "    else\n",
    "        svec[2] = svec[2] + energy_per_day # increment energy\n",
    "        svec[3] = svec[3] - water_loss_per_day # increment water\n",
    "        svec[4] = svec[4] - o2_loss_per_day # increment oxygen\n",
    "        svec[5] = svec[5] - food_loss_per_day # increment food\n",
    "        if outofbounds(svec, a)\n",
    "            svec[2] = max_power\n",
    "        end\n",
    "        x = rand()\n",
    "        if (x < p_no_mission_progress)\n",
    "            spvec = svec # no progress\n",
    "        elseif (x < (p_water_loss + p_no_mission_progress))\n",
    "            svec[3] = 1 # lose all water\n",
    "            spvec = svec + a\n",
    "        elseif (x<(p_water_loss + p_power_fail + p_no_mission_progress))\n",
    "            svec[2] = 1 # lose all energy\n",
    "            spvec = svec + a\n",
    "        elseif (x < (p_mission_regression + p_water_loss + p_power_fail + p_no_mission_progress) && svec[3] > 1)\n",
    "            svec[1] = svec[1] - 1 # backwards progress mission\n",
    "            spvec = svec + a\n",
    "        else \n",
    "            spvec = svec + a\n",
    "        end\n",
    "    end\n",
    "    spvec = CartesianIndex(Tuple(spvec))\n",
    "    sp = indexed[spvec] #linear index\n",
    "    return sp\n",
    "end\n"
   ]
  },
  {
   "cell_type": "code",
   "execution_count": 29,
   "metadata": {},
   "outputs": [
    {
     "data": {
      "text/plain": [
       "QuickMDP{UUID(\"64849720-a7dd-4620-81d8-587ea015b2cc\"), Int64, CartesianIndex{5}, NamedTuple{(:stateindex, :isterminal, :actionindex, :initialstate, :transition, :states, :actions, :discount, :reward), Tuple{Dict{Int64, Int64}, var\"#27#30\", Dict{CartesianIndex{5}, Int64}, Deterministic{Int64}, var\"#28#31\", UnitRange{Int64}, Vector{CartesianIndex{5}}, Float64, var\"#29#32\"}}}((stateindex = Dict(185983 => 185983, 221120 => 221120, 92533 => 92533, 137206 => 137206, 76914 => 76914, 150095 => 150095, 37100 => 37100, 173643 => 173643, 90240 => 90240, 3406 => 3406…), isterminal = var\"#27#30\"(), actionindex = Dict{CartesianIndex{5}, Int64}(CartesianIndex(1, -2, 0, 0, 0) => 1, CartesianIndex(0, -8, -1, -1, 10) => 4, CartesianIndex(0, -2, 5, 0, 0) => 2, CartesianIndex(0, 0, 0, 0, 0) => 5, CartesianIndex(0, -8, -2, 10, 0) => 3), initialstate = Deterministic{Int64}(1), transition = var\"#28#31\"(), states = 1:250000, actions = CartesianIndex{5}[CartesianIndex(1, -2, 0, 0, 0), CartesianIndex(0, -2, 5, 0, 0), CartesianIndex(0, -8, -2, 10, 0), CartesianIndex(0, -8, -1, -1, 10), CartesianIndex(0, 0, 0, 0, 0)], discount = 0.95, reward = var\"#29#32\"()))"
      ]
     },
     "metadata": {},
     "output_type": "display_data"
    }
   ],
   "source": [
    "mission = QuickMDP(\n",
    "    states = states,\n",
    "    actions = actions,\n",
    "    initialstate = initialstate,\n",
    "    discount = 0.95,\n",
    "    isterminal = s -> CartesianIndices((max_progress, max_power, max_h2o, max_o2, max_food))[s][1] == max_progress,\n",
    "\n",
    "    transition = function(s,a)\n",
    "        return Deterministic(transition(s,a))\n",
    "    end,\n",
    "\n",
    "    reward = function (s, a)\n",
    "        svec = CartesianIndices((max_progress, max_power, max_h2o, max_o2, max_food))[s]\n",
    "        spvec = svec + a\n",
    "        if spvec[1] == max_progress\n",
    "            r = 1000\n",
    "        elseif outofbounds(svec, a) # If invalid action\n",
    "            r = -Inf\n",
    "        else\n",
    "            r = -1\n",
    "        end\n",
    "        return r\n",
    "    end\n",
    ")"
   ]
  },
  {
   "cell_type": "code",
   "execution_count": 30,
   "metadata": {},
   "outputs": [
    {
     "data": {
      "text/plain": [
       "MCTSPlanner{QuickMDP{UUID(\"64849720-a7dd-4620-81d8-587ea015b2cc\"), Int64, CartesianIndex{5}, NamedTuple{(:stateindex, :isterminal, :actionindex, :initialstate, :transition, :states, :actions, :discount, :reward), Tuple{Dict{Int64, Int64}, var\"#27#30\", Dict{CartesianIndex{5}, Int64}, Deterministic{Int64}, var\"#28#31\", UnitRange{Int64}, Vector{CartesianIndex{5}}, Float64, var\"#29#32\"}}}, Int64, CartesianIndex{5}, MCTS.SolvedRolloutEstimator{RandomPolicy{Random._GLOBAL_RNG, QuickMDP{UUID(\"64849720-a7dd-4620-81d8-587ea015b2cc\"), Int64, CartesianIndex{5}, NamedTuple{(:stateindex, :isterminal, :actionindex, :initialstate, :transition, :states, :actions, :discount, :reward), Tuple{Dict{Int64, Int64}, var\"#27#30\", Dict{CartesianIndex{5}, Int64}, Deterministic{Int64}, var\"#28#31\", UnitRange{Int64}, Vector{CartesianIndex{5}}, Float64, var\"#29#32\"}}}, NothingUpdater}, Random._GLOBAL_RNG}, Random._GLOBAL_RNG}(MCTSSolver(1000, Inf, 100, 5.0, Random._GLOBAL_RNG(), RolloutEstimator(RandomSolver(Random._GLOBAL_RNG()), 50, 0.0), 0.0, 0, false, false, MCTS.var\"#5#7\"()), QuickMDP{UUID(\"64849720-a7dd-4620-81d8-587ea015b2cc\"), Int64, CartesianIndex{5}, NamedTuple{(:stateindex, :isterminal, :actionindex, :initialstate, :transition, :states, :actions, :discount, :reward), Tuple{Dict{Int64, Int64}, var\"#27#30\", Dict{CartesianIndex{5}, Int64}, Deterministic{Int64}, var\"#28#31\", UnitRange{Int64}, Vector{CartesianIndex{5}}, Float64, var\"#29#32\"}}}((stateindex = Dict(185983 => 185983, 221120 => 221120, 92533 => 92533, 137206 => 137206, 76914 => 76914, 150095 => 150095, 37100 => 37100, 173643 => 173643, 90240 => 90240, 3406 => 3406…), isterminal = var\"#27#30\"(), actionindex = Dict{CartesianIndex{5}, Int64}(CartesianIndex(1, -2, 0, 0, 0) => 1, CartesianIndex(0, -8, -1, -1, 10) => 4, CartesianIndex(0, -2, 5, 0, 0) => 2, CartesianIndex(0, 0, 0, 0, 0) => 5, CartesianIndex(0, -8, -2, 10, 0) => 3), initialstate = Deterministic{Int64}(1), transition = var\"#28#31\"(), states = 1:250000, actions = CartesianIndex{5}[CartesianIndex(1, -2, 0, 0, 0), CartesianIndex(0, -2, 5, 0, 0), CartesianIndex(0, -8, -2, 10, 0), CartesianIndex(0, -8, -1, -1, 10), CartesianIndex(0, 0, 0, 0, 0)], discount = 0.95, reward = var\"#29#32\"())), MCTS.MCTSTree{Int64, CartesianIndex{5}}(Dict{Int64, Int64}(), Vector{Int64}[], Int64[], Int64[], Int64[], Float64[], CartesianIndex{5}[], Dict{Pair{Int64, Int64}, Int64}()), MCTS.SolvedRolloutEstimator{RandomPolicy{Random._GLOBAL_RNG, QuickMDP{UUID(\"64849720-a7dd-4620-81d8-587ea015b2cc\"), Int64, CartesianIndex{5}, NamedTuple{(:stateindex, :isterminal, :actionindex, :initialstate, :transition, :states, :actions, :discount, :reward), Tuple{Dict{Int64, Int64}, var\"#27#30\", Dict{CartesianIndex{5}, Int64}, Deterministic{Int64}, var\"#28#31\", UnitRange{Int64}, Vector{CartesianIndex{5}}, Float64, var\"#29#32\"}}}, NothingUpdater}, Random._GLOBAL_RNG}(RandomPolicy{Random._GLOBAL_RNG, QuickMDP{UUID(\"64849720-a7dd-4620-81d8-587ea015b2cc\"), Int64, CartesianIndex{5}, NamedTuple{(:stateindex, :isterminal, :actionindex, :initialstate, :transition, :states, :actions, :discount, :reward), Tuple{Dict{Int64, Int64}, var\"#27#30\", Dict{CartesianIndex{5}, Int64}, Deterministic{Int64}, var\"#28#31\", UnitRange{Int64}, Vector{CartesianIndex{5}}, Float64, var\"#29#32\"}}}, NothingUpdater}(Random._GLOBAL_RNG(), QuickMDP{UUID(\"64849720-a7dd-4620-81d8-587ea015b2cc\"), Int64, CartesianIndex{5}, NamedTuple{(:stateindex, :isterminal, :actionindex, :initialstate, :transition, :states, :actions, :discount, :reward), Tuple{Dict{Int64, Int64}, var\"#27#30\", Dict{CartesianIndex{5}, Int64}, Deterministic{Int64}, var\"#28#31\", UnitRange{Int64}, Vector{CartesianIndex{5}}, Float64, var\"#29#32\"}}}((stateindex = Dict(185983 => 185983, 221120 => 221120, 92533 => 92533, 137206 => 137206, 76914 => 76914, 150095 => 150095, 37100 => 37100, 173643 => 173643, 90240 => 90240, 3406 => 3406…), isterminal = var\"#27#30\"(), actionindex = Dict{CartesianIndex{5}, Int64}(CartesianIndex(1, -2, 0, 0, 0) => 1, CartesianIndex(0, -8, -1, -1, 10) => 4, CartesianIndex(0, -2, 5, 0, 0) => 2, CartesianIndex(0, 0, 0, 0, 0) => 5, CartesianIndex(0, -8, -2, 10, 0) => 3), initialstate = Deterministic{Int64}(1), transition = var\"#28#31\"(), states = 1:250000, actions = CartesianIndex{5}[CartesianIndex(1, -2, 0, 0, 0), CartesianIndex(0, -2, 5, 0, 0), CartesianIndex(0, -8, -2, 10, 0), CartesianIndex(0, -8, -1, -1, 10), CartesianIndex(0, 0, 0, 0, 0)], discount = 0.95, reward = var\"#29#32\"())), NothingUpdater()), Random._GLOBAL_RNG(), 50, 0.0), Random._GLOBAL_RNG())"
      ]
     },
     "metadata": {},
     "output_type": "display_data"
    }
   ],
   "source": [
    "solver = MCTSSolver(n_iterations=1000, depth=100, exploration_constant=5.0)\n",
    "policy = solve(solver, mission)"
   ]
  },
  {
   "cell_type": "code",
   "execution_count": 31,
   "metadata": {},
   "outputs": [
    {
     "ename": "UndefVarError",
     "evalue": "UndefVarError: `simulate` not defined",
     "output_type": "error",
     "traceback": [
      "UndefVarError: `simulate` not defined\n",
      "\n",
      "Stacktrace:\n",
      " [1] top-level scope\n",
      "   @ ~/Documents/AA228/aa-228-final-project/main.ipynb:2"
     ]
    }
   ],
   "source": [
    "# Initial_state = initialstate(1)\n",
    "history = simulate(policy, mission, 1, 10)\n",
    "\n",
    "# Print the resulting history\n",
    "println(history)"
   ]
  },
  {
   "cell_type": "code",
   "execution_count": 34,
   "metadata": {},
   "outputs": [
    {
     "ename": "BoundsError",
     "evalue": "BoundsError: attempt to access 5×50×10×10×10 LinearIndices{5, NTuple{5, Base.OneTo{Int64}}} at index [1, 50, 0, -7, -8]",
     "output_type": "error",
     "traceback": [
      "BoundsError: attempt to access 5×50×10×10×10 LinearIndices{5, NTuple{5, Base.OneTo{Int64}}} at index [1, 50, 0, -7, -8]\n",
      "\n",
      "Stacktrace:\n",
      "  [1] throw_boundserror(A::LinearIndices{5, NTuple{5, Base.OneTo{Int64}}}, I::NTuple{5, Int64})\n",
      "    @ Base ./abstractarray.jl:744\n",
      "  [2] checkbounds\n",
      "    @ ./abstractarray.jl:709 [inlined]\n",
      "  [3] _getindex\n",
      "    @ ./abstractarray.jl:1328 [inlined]\n",
      "  [4] getindex(A::LinearIndices{5, NTuple{5, Base.OneTo{Int64}}}, I::CartesianIndex{5})\n",
      "    @ Base ./abstractarray.jl:1296\n",
      "  [5] transition(s::Int64, a::CartesianIndex{5})\n",
      "    @ Main ~/Documents/AA228/aa-228-final-project/main.ipynb:40\n",
      "  [6] (::var\"#28#31\")(s::Int64, a::CartesianIndex{5})\n",
      "    @ Main ~/Documents/AA228/aa-228-final-project/main.ipynb:9\n",
      "  [7] transition\n",
      "    @ ~/.julia/packages/QuickPOMDPs/SNkbc/src/quick.jl:217 [inlined]\n",
      "  [8] macro expansion\n",
      "    @ ~/.julia/packages/POMDPs/0qEIe/src/gen_impl.jl:39 [inlined]\n",
      "  [9] genout(v::POMDPs.DDNOut{(:sp, :r)}, m::QuickMDP{UUID(\"64849720-a7dd-4620-81d8-587ea015b2cc\"), Int64, CartesianIndex{5}, NamedTuple{(:stateindex, :isterminal, :actionindex, :initialstate, :transition, :states, :actions, :discount, :reward), Tuple{Dict{Int64, Int64}, var\"#27#30\", Dict{CartesianIndex{5}, Int64}, Deterministic{Int64}, var\"#28#31\", UnitRange{Int64}, Vector{CartesianIndex{5}}, Float64, var\"#29#32\"}}}, s::Int64, a::CartesianIndex{5}, rng::Random._GLOBAL_RNG)\n",
      "    @ POMDPs ~/.julia/packages/POMDPs/0qEIe/src/gen_impl.jl:19\n",
      " [10] #87#f\n",
      "    @ ~/.julia/packages/POMDPs/0qEIe/src/generative.jl:67 [inlined]\n",
      " [11] simulate(planner::MCTSPlanner{QuickMDP{UUID(\"64849720-a7dd-4620-81d8-587ea015b2cc\"), Int64, CartesianIndex{5}, NamedTuple{(:stateindex, :isterminal, :actionindex, :initialstate, :transition, :states, :actions, :discount, :reward), Tuple{Dict{Int64, Int64}, var\"#27#30\", Dict{CartesianIndex{5}, Int64}, Deterministic{Int64}, var\"#28#31\", UnitRange{Int64}, Vector{CartesianIndex{5}}, Float64, var\"#29#32\"}}}, Int64, CartesianIndex{5}, MCTS.SolvedRolloutEstimator{RandomPolicy{Random._GLOBAL_RNG, QuickMDP{UUID(\"64849720-a7dd-4620-81d8-587ea015b2cc\"), Int64, CartesianIndex{5}, NamedTuple{(:stateindex, :isterminal, :actionindex, :initialstate, :transition, :states, :actions, :discount, :reward), Tuple{Dict{Int64, Int64}, var\"#27#30\", Dict{CartesianIndex{5}, Int64}, Deterministic{Int64}, var\"#28#31\", UnitRange{Int64}, Vector{CartesianIndex{5}}, Float64, var\"#29#32\"}}}, NothingUpdater}, Random._GLOBAL_RNG}, Random._GLOBAL_RNG}, node::StateNode{Int64, CartesianIndex{5}}, depth::Int64)\n",
      "    @ MCTS ~/.julia/packages/MCTS/AjLdf/src/vanilla.jl:287\n",
      " [12] build_tree(planner::MCTSPlanner{QuickMDP{UUID(\"64849720-a7dd-4620-81d8-587ea015b2cc\"), Int64, CartesianIndex{5}, NamedTuple{(:stateindex, :isterminal, :actionindex, :initialstate, :transition, :states, :actions, :discount, :reward), Tuple{Dict{Int64, Int64}, var\"#27#30\", Dict{CartesianIndex{5}, Int64}, Deterministic{Int64}, var\"#28#31\", UnitRange{Int64}, Vector{CartesianIndex{5}}, Float64, var\"#29#32\"}}}, Int64, CartesianIndex{5}, MCTS.SolvedRolloutEstimator{RandomPolicy{Random._GLOBAL_RNG, QuickMDP{UUID(\"64849720-a7dd-4620-81d8-587ea015b2cc\"), Int64, CartesianIndex{5}, NamedTuple{(:stateindex, :isterminal, :actionindex, :initialstate, :transition, :states, :actions, :discount, :reward), Tuple{Dict{Int64, Int64}, var\"#27#30\", Dict{CartesianIndex{5}, Int64}, Deterministic{Int64}, var\"#28#31\", UnitRange{Int64}, Vector{CartesianIndex{5}}, Float64, var\"#29#32\"}}}, NothingUpdater}, Random._GLOBAL_RNG}, Random._GLOBAL_RNG}, s::Int64)\n",
      "    @ MCTS ~/.julia/packages/MCTS/AjLdf/src/vanilla.jl:260\n",
      " [13] plan!\n",
      "    @ ~/.julia/packages/MCTS/AjLdf/src/vanilla.jl:234 [inlined]\n",
      " [14] action_info(p::MCTSPlanner{QuickMDP{UUID(\"64849720-a7dd-4620-81d8-587ea015b2cc\"), Int64, CartesianIndex{5}, NamedTuple{(:stateindex, :isterminal, :actionindex, :initialstate, :transition, :states, :actions, :discount, :reward), Tuple{Dict{Int64, Int64}, var\"#27#30\", Dict{CartesianIndex{5}, Int64}, Deterministic{Int64}, var\"#28#31\", UnitRange{Int64}, Vector{CartesianIndex{5}}, Float64, var\"#29#32\"}}}, Int64, CartesianIndex{5}, MCTS.SolvedRolloutEstimator{RandomPolicy{Random._GLOBAL_RNG, QuickMDP{UUID(\"64849720-a7dd-4620-81d8-587ea015b2cc\"), Int64, CartesianIndex{5}, NamedTuple{(:stateindex, :isterminal, :actionindex, :initialstate, :transition, :states, :actions, :discount, :reward), Tuple{Dict{Int64, Int64}, var\"#27#30\", Dict{CartesianIndex{5}, Int64}, Deterministic{Int64}, var\"#28#31\", UnitRange{Int64}, Vector{CartesianIndex{5}}, Float64, var\"#29#32\"}}}, NothingUpdater}, Random._GLOBAL_RNG}, Random._GLOBAL_RNG}, s::Int64)\n",
      "    @ MCTS ~/.julia/packages/MCTS/AjLdf/src/vanilla.jl:189\n",
      " [15] iterate(it::POMDPTools.Simulators.MDPSimIterator{(:s, :a, :r), QuickMDP{UUID(\"64849720-a7dd-4620-81d8-587ea015b2cc\"), Int64, CartesianIndex{5}, NamedTuple{(:stateindex, :isterminal, :actionindex, :initialstate, :transition, :states, :actions, :discount, :reward), Tuple{Dict{Int64, Int64}, var\"#27#30\", Dict{CartesianIndex{5}, Int64}, Deterministic{Int64}, var\"#28#31\", UnitRange{Int64}, Vector{CartesianIndex{5}}, Float64, var\"#29#32\"}}}, MCTSPlanner{QuickMDP{UUID(\"64849720-a7dd-4620-81d8-587ea015b2cc\"), Int64, CartesianIndex{5}, NamedTuple{(:stateindex, :isterminal, :actionindex, :initialstate, :transition, :states, :actions, :discount, :reward), Tuple{Dict{Int64, Int64}, var\"#27#30\", Dict{CartesianIndex{5}, Int64}, Deterministic{Int64}, var\"#28#31\", UnitRange{Int64}, Vector{CartesianIndex{5}}, Float64, var\"#29#32\"}}}, Int64, CartesianIndex{5}, MCTS.SolvedRolloutEstimator{RandomPolicy{Random._GLOBAL_RNG, QuickMDP{UUID(\"64849720-a7dd-4620-81d8-587ea015b2cc\"), Int64, CartesianIndex{5}, NamedTuple{(:stateindex, :isterminal, :actionindex, :initialstate, :transition, :states, :actions, :discount, :reward), Tuple{Dict{Int64, Int64}, var\"#27#30\", Dict{CartesianIndex{5}, Int64}, Deterministic{Int64}, var\"#28#31\", UnitRange{Int64}, Vector{CartesianIndex{5}}, Float64, var\"#29#32\"}}}, NothingUpdater}, Random._GLOBAL_RNG}, Random._GLOBAL_RNG}, Random.TaskLocalRNG, Int64}, is::Tuple{Int64, Int64})\n",
      "    @ POMDPTools.Simulators ~/.julia/packages/POMDPTools/7Rekv/src/Simulators/stepthrough.jl:51\n",
      " [16] iterate(it::POMDPTools.Simulators.MDPSimIterator{(:s, :a, :r), QuickMDP{UUID(\"64849720-a7dd-4620-81d8-587ea015b2cc\"), Int64, CartesianIndex{5}, NamedTuple{(:stateindex, :isterminal, :actionindex, :initialstate, :transition, :states, :actions, :discount, :reward), Tuple{Dict{Int64, Int64}, var\"#27#30\", Dict{CartesianIndex{5}, Int64}, Deterministic{Int64}, var\"#28#31\", UnitRange{Int64}, Vector{CartesianIndex{5}}, Float64, var\"#29#32\"}}}, MCTSPlanner{QuickMDP{UUID(\"64849720-a7dd-4620-81d8-587ea015b2cc\"), Int64, CartesianIndex{5}, NamedTuple{(:stateindex, :isterminal, :actionindex, :initialstate, :transition, :states, :actions, :discount, :reward), Tuple{Dict{Int64, Int64}, var\"#27#30\", Dict{CartesianIndex{5}, Int64}, Deterministic{Int64}, var\"#28#31\", UnitRange{Int64}, Vector{CartesianIndex{5}}, Float64, var\"#29#32\"}}}, Int64, CartesianIndex{5}, MCTS.SolvedRolloutEstimator{RandomPolicy{Random._GLOBAL_RNG, QuickMDP{UUID(\"64849720-a7dd-4620-81d8-587ea015b2cc\"), Int64, CartesianIndex{5}, NamedTuple{(:stateindex, :isterminal, :actionindex, :initialstate, :transition, :states, :actions, :discount, :reward), Tuple{Dict{Int64, Int64}, var\"#27#30\", Dict{CartesianIndex{5}, Int64}, Deterministic{Int64}, var\"#28#31\", UnitRange{Int64}, Vector{CartesianIndex{5}}, Float64, var\"#29#32\"}}}, NothingUpdater}, Random._GLOBAL_RNG}, Random._GLOBAL_RNG}, Random.TaskLocalRNG, Int64})\n",
      "    @ POMDPTools.Simulators ~/.julia/packages/POMDPTools/7Rekv/src/Simulators/stepthrough.jl:46\n",
      " [17] top-level scope\n",
      "    @ ~/Documents/AA228/aa-228-final-project/main.ipynb:4"
     ]
    }
   ],
   "source": [
    "#print(action(policy, 1))\n",
    "rsum = 0.0\n",
    "\n",
    "for (s,a,r) in stepthrough(mission, policy, \"s, a,r\", max_steps=1000)\n",
    "    println(\"s: $s, b: $([s=>pdf(s) for s in states(mission)]), a: $a\")\n",
    "    global rsum += r\n",
    "end\n"
   ]
  },
  {
   "cell_type": "code",
   "execution_count": 35,
   "metadata": {},
   "outputs": [
    {
     "name": "stdout",
     "output_type": "stream",
     "text": [
      "CartesianIndex(1, 1, 1, 1, 1)"
     ]
    },
    {
     "ename": "BoundsError",
     "evalue": "BoundsError: attempt to access 5×50×10×10×10 LinearIndices{5, NTuple{5, Base.OneTo{Int64}}} at index [1, 50, 0, -7, -8]",
     "output_type": "error",
     "traceback": [
      "BoundsError: attempt to access 5×50×10×10×10 LinearIndices{5, NTuple{5, Base.OneTo{Int64}}} at index [1, 50, 0, -7, -8]\n",
      "\n",
      "Stacktrace:\n",
      "  [1] throw_boundserror(A::LinearIndices{5, NTuple{5, Base.OneTo{Int64}}}, I::NTuple{5, Int64})\n",
      "    @ Base ./abstractarray.jl:744\n",
      "  [2] checkbounds\n",
      "    @ ./abstractarray.jl:709 [inlined]\n",
      "  [3] _getindex\n",
      "    @ ./abstractarray.jl:1328 [inlined]\n",
      "  [4] getindex(A::LinearIndices{5, NTuple{5, Base.OneTo{Int64}}}, I::CartesianIndex{5})\n",
      "    @ Base ./abstractarray.jl:1296\n",
      "  [5] transition(s::Int64, a::CartesianIndex{5})\n",
      "    @ Main ~/Documents/AA228/aa-228-final-project/main.ipynb:40\n",
      "  [6] (::var\"#28#31\")(s::Int64, a::CartesianIndex{5})\n",
      "    @ Main ~/Documents/AA228/aa-228-final-project/main.ipynb:9\n",
      "  [7] transition\n",
      "    @ ~/.julia/packages/QuickPOMDPs/SNkbc/src/quick.jl:217 [inlined]\n",
      "  [8] macro expansion\n",
      "    @ ~/.julia/packages/POMDPs/0qEIe/src/gen_impl.jl:39 [inlined]\n",
      "  [9] genout(v::POMDPs.DDNOut{(:sp, :r)}, m::QuickMDP{UUID(\"64849720-a7dd-4620-81d8-587ea015b2cc\"), Int64, CartesianIndex{5}, NamedTuple{(:stateindex, :isterminal, :actionindex, :initialstate, :transition, :states, :actions, :discount, :reward), Tuple{Dict{Int64, Int64}, var\"#27#30\", Dict{CartesianIndex{5}, Int64}, Deterministic{Int64}, var\"#28#31\", UnitRange{Int64}, Vector{CartesianIndex{5}}, Float64, var\"#29#32\"}}}, s::Int64, a::CartesianIndex{5}, rng::Random._GLOBAL_RNG)\n",
      "    @ POMDPs ~/.julia/packages/POMDPs/0qEIe/src/gen_impl.jl:19\n",
      " [10] #87#f\n",
      "    @ ~/.julia/packages/POMDPs/0qEIe/src/generative.jl:67 [inlined]\n",
      " [11] simulate(planner::MCTSPlanner{QuickMDP{UUID(\"64849720-a7dd-4620-81d8-587ea015b2cc\"), Int64, CartesianIndex{5}, NamedTuple{(:stateindex, :isterminal, :actionindex, :initialstate, :transition, :states, :actions, :discount, :reward), Tuple{Dict{Int64, Int64}, var\"#27#30\", Dict{CartesianIndex{5}, Int64}, Deterministic{Int64}, var\"#28#31\", UnitRange{Int64}, Vector{CartesianIndex{5}}, Float64, var\"#29#32\"}}}, Int64, CartesianIndex{5}, MCTS.SolvedRolloutEstimator{RandomPolicy{Random._GLOBAL_RNG, QuickMDP{UUID(\"64849720-a7dd-4620-81d8-587ea015b2cc\"), Int64, CartesianIndex{5}, NamedTuple{(:stateindex, :isterminal, :actionindex, :initialstate, :transition, :states, :actions, :discount, :reward), Tuple{Dict{Int64, Int64}, var\"#27#30\", Dict{CartesianIndex{5}, Int64}, Deterministic{Int64}, var\"#28#31\", UnitRange{Int64}, Vector{CartesianIndex{5}}, Float64, var\"#29#32\"}}}, NothingUpdater}, Random._GLOBAL_RNG}, Random._GLOBAL_RNG}, node::StateNode{Int64, CartesianIndex{5}}, depth::Int64)\n",
      "    @ MCTS ~/.julia/packages/MCTS/AjLdf/src/vanilla.jl:287\n",
      " [12] build_tree(planner::MCTSPlanner{QuickMDP{UUID(\"64849720-a7dd-4620-81d8-587ea015b2cc\"), Int64, CartesianIndex{5}, NamedTuple{(:stateindex, :isterminal, :actionindex, :initialstate, :transition, :states, :actions, :discount, :reward), Tuple{Dict{Int64, Int64}, var\"#27#30\", Dict{CartesianIndex{5}, Int64}, Deterministic{Int64}, var\"#28#31\", UnitRange{Int64}, Vector{CartesianIndex{5}}, Float64, var\"#29#32\"}}}, Int64, CartesianIndex{5}, MCTS.SolvedRolloutEstimator{RandomPolicy{Random._GLOBAL_RNG, QuickMDP{UUID(\"64849720-a7dd-4620-81d8-587ea015b2cc\"), Int64, CartesianIndex{5}, NamedTuple{(:stateindex, :isterminal, :actionindex, :initialstate, :transition, :states, :actions, :discount, :reward), Tuple{Dict{Int64, Int64}, var\"#27#30\", Dict{CartesianIndex{5}, Int64}, Deterministic{Int64}, var\"#28#31\", UnitRange{Int64}, Vector{CartesianIndex{5}}, Float64, var\"#29#32\"}}}, NothingUpdater}, Random._GLOBAL_RNG}, Random._GLOBAL_RNG}, s::Int64)\n",
      "    @ MCTS ~/.julia/packages/MCTS/AjLdf/src/vanilla.jl:260\n",
      " [13] plan!\n",
      "    @ ~/.julia/packages/MCTS/AjLdf/src/vanilla.jl:234 [inlined]\n",
      " [14] action_info(p::MCTSPlanner{QuickMDP{UUID(\"64849720-a7dd-4620-81d8-587ea015b2cc\"), Int64, CartesianIndex{5}, NamedTuple{(:stateindex, :isterminal, :actionindex, :initialstate, :transition, :states, :actions, :discount, :reward), Tuple{Dict{Int64, Int64}, var\"#27#30\", Dict{CartesianIndex{5}, Int64}, Deterministic{Int64}, var\"#28#31\", UnitRange{Int64}, Vector{CartesianIndex{5}}, Float64, var\"#29#32\"}}}, Int64, CartesianIndex{5}, MCTS.SolvedRolloutEstimator{RandomPolicy{Random._GLOBAL_RNG, QuickMDP{UUID(\"64849720-a7dd-4620-81d8-587ea015b2cc\"), Int64, CartesianIndex{5}, NamedTuple{(:stateindex, :isterminal, :actionindex, :initialstate, :transition, :states, :actions, :discount, :reward), Tuple{Dict{Int64, Int64}, var\"#27#30\", Dict{CartesianIndex{5}, Int64}, Deterministic{Int64}, var\"#28#31\", UnitRange{Int64}, Vector{CartesianIndex{5}}, Float64, var\"#29#32\"}}}, NothingUpdater}, Random._GLOBAL_RNG}, Random._GLOBAL_RNG}, s::Int64)\n",
      "    @ MCTS ~/.julia/packages/MCTS/AjLdf/src/vanilla.jl:189\n",
      " [15] action(p::MCTSPlanner{QuickMDP{UUID(\"64849720-a7dd-4620-81d8-587ea015b2cc\"), Int64, CartesianIndex{5}, NamedTuple{(:stateindex, :isterminal, :actionindex, :initialstate, :transition, :states, :actions, :discount, :reward), Tuple{Dict{Int64, Int64}, var\"#27#30\", Dict{CartesianIndex{5}, Int64}, Deterministic{Int64}, var\"#28#31\", UnitRange{Int64}, Vector{CartesianIndex{5}}, Float64, var\"#29#32\"}}}, Int64, CartesianIndex{5}, MCTS.SolvedRolloutEstimator{RandomPolicy{Random._GLOBAL_RNG, QuickMDP{UUID(\"64849720-a7dd-4620-81d8-587ea015b2cc\"), Int64, CartesianIndex{5}, NamedTuple{(:stateindex, :isterminal, :actionindex, :initialstate, :transition, :states, :actions, :discount, :reward), Tuple{Dict{Int64, Int64}, var\"#27#30\", Dict{CartesianIndex{5}, Int64}, Deterministic{Int64}, var\"#28#31\", UnitRange{Int64}, Vector{CartesianIndex{5}}, Float64, var\"#29#32\"}}}, NothingUpdater}, Random._GLOBAL_RNG}, Random._GLOBAL_RNG}, s::Int64)\n",
      "    @ MCTS ~/.julia/packages/MCTS/AjLdf/src/vanilla.jl:194\n",
      " [16] top-level scope\n",
      "    @ ~/Documents/AA228/aa-228-final-project/main.ipynb:9"
     ]
    }
   ],
   "source": [
    "for i in 1:length(states)\n",
    "    st = CartesianIndices((max_progress, max_power, max_h2o, max_o2, max_food))[i] \n",
    "    print(st)\n",
    "    a = CartesianIndex(0, 0, 0, 0, 0)\n",
    "    if (outofbounds(st, a))\n",
    "        print(\"OUTOFBOUNDS\")\n",
    "        break\n",
    "    end\n",
    "    a = action(policy, i)\n",
    "end\n",
    "#a = action(planner, s)"
   ]
  }
 ],
 "metadata": {
  "kernelspec": {
   "display_name": "Julia 1.9.3",
   "language": "julia",
   "name": "julia-1.9"
  },
  "language_info": {
   "file_extension": ".jl",
   "mimetype": "application/julia",
   "name": "julia",
   "version": "1.9.3"
  }
 },
 "nbformat": 4,
 "nbformat_minor": 2
}
