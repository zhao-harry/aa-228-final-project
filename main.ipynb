{
 "cells": [
  {
   "cell_type": "code",
   "execution_count": null,
   "metadata": {},
   "outputs": [],
   "source": [
    "using QuickPOMDPs\n",
    "using POMDPTools\n",
    "using Distributions\n",
    "using LinearAlgebra\n",
    "using Plots\n",
    "using MCTS"
   ]
  },
  {
   "cell_type": "code",
   "execution_count": null,
   "metadata": {},
   "outputs": [],
   "source": [
    "# Define all possible states and actions (with constraints)\n",
    "# [progress, power, h2o, o2]\n",
    "max_progress = 5\n",
    "max_power = 100\n",
    "max_h2o = 10\n",
    "max_o2 = 10\n",
    "p_mission_regression = 0.05\n",
    "p_power_fail = 0.02\n",
    "p_water_loss = 0.02\n",
    "energy_per_day = 2 #energy production per day\n",
    "\n",
    "indexed = LinearIndices((max_progress, max_power, max_h2o, max_o2))\n",
    "states = 1:indexed[max_progress, max_power, max_h2o, max_o2]\n",
    "actions = [CartesianIndex(1, -4, -2, 0), #make mission progress\n",
    "           CartesianIndex(0, -2, 1, 0), #make water\n",
    "           CartesianIndex(0, -1, -1, 1), #make oxygen\n",
    "           CartesianIndex(0, -0, 0, 0)] #do nothing\n",
    "initialindex = indexed[1, 1, 1, 1]\n",
    "#make mission progress\n",
    "\n",
    "initialstate = Deterministic(initialindex)"
   ]
  },
  {
   "cell_type": "code",
   "execution_count": null,
   "metadata": {},
   "outputs": [],
   "source": [
    "CartesianIndices((max_progress, max_power, max_h2o, max_o2))[1]"
   ]
  },
  {
   "cell_type": "code",
   "execution_count": null,
   "metadata": {},
   "outputs": [],
   "source": [
    "indexed[2, 2, 2, 2]"
   ]
  },
  {
   "cell_type": "code",
   "execution_count": null,
   "metadata": {},
   "outputs": [],
   "source": [
    "# Determine if action is out of bounds\n",
    "# Associated consequences are reflected in transition/reward functions\n",
    "state_maxes = [max_progress, max_power, max_h2o, max_o2]\n",
    "function outofbounds(state, action)\n",
    "    for i in 1:length(state)\n",
    "        if ((state[i] + action[i]) < 1 || (state[i] + action[i]) > state_maxes[i])\n",
    "            return true\n",
    "        end\n",
    "    end\n",
    "    return false\n",
    "end"
   ]
  },
  {
   "cell_type": "code",
   "execution_count": null,
   "metadata": {},
   "outputs": [],
   "source": [
    "# Transition function\n",
    "function transition(s, a)\n",
    "    svec = CartesianIndices((max_progress, max_power, max_h2o, max_o2))[s]\n",
    "    svec = collect(Tuple(svec))\n",
    "    a = collect(Tuple(a))\n",
    "    if outofbounds(svec, a)\n",
    "        svec[2] = svec[2] + energy_per_day # increment energy\n",
    "        if outofbounds(svec, a)\n",
    "            svec[2] = max_power\n",
    "        end\n",
    "        spvec = svec\n",
    "    else\n",
    "        svec[2] = svec[2] + energy_per_day # increment energy\n",
    "        if outofbounds(svec, a)\n",
    "            svec[2] = max_power\n",
    "        end\n",
    "        x = rand()\n",
    "        if (x < 0.05)\n",
    "            spvec = svec # no progress\n",
    "        elseif (x < p_water_loss)\n",
    "            svec[3] = 0.0 # lose all water\n",
    "            spvec = svec + a\n",
    "        elseif (x<(p_water_loss + p_power_fail))\n",
    "            svec[2] = 0.0 # lose all energy\n",
    "            spvec = svec + a\n",
    "        elseif (x < (p_mission_regression + p_water_loss + p_power_fail) && svec[3] >= 1)\n",
    "            svec[1] = svec[1] - 1 # backwards progress mission\n",
    "            spvec = svec + a\n",
    "        else \n",
    "            spvec = svec + a\n",
    "        end\n",
    "    end\n",
    "    spvec = CartesianIndices(spvec)\n",
    "    sp = indexed[spvec]\n",
    "end\n"
   ]
  },
  {
   "cell_type": "code",
   "execution_count": null,
   "metadata": {},
   "outputs": [],
   "source": [
    "mission = QuickMDP(\n",
    "    states = states,\n",
    "    actions = actions,\n",
    "    initialstate = initialstate,\n",
    "    discount = 0.95,\n",
    "    isterminal = s -> s[1] == 10,\n",
    "\n",
    "    transition = transition,\n",
    "\n",
    "    reward = function (s, a)\n",
    "        svec = CartesianIndices((max_progress, max_power, max_h2o, max_o2))[s]\n",
    "        spvec = svec + a\n",
    "        if svec[1] == max_progress\n",
    "            r = 1000\n",
    "        elseif outofbounds(svec, a) # If invalid action\n",
    "            r = -1e9\n",
    "        else\n",
    "            r = -1\n",
    "        end\n",
    "        return r\n",
    "    end\n",
    ")\n"
   ]
  },
  {
   "cell_type": "code",
   "execution_count": null,
   "metadata": {},
   "outputs": [],
   "source": [
    "solver = MCTSSolver(n_iterations=50, depth=40, exploration_constant=5.0)\n",
    "planner = solve(solver, mission)\n",
    "#a = action(planner, s)"
   ]
  },
  {
   "cell_type": "code",
   "execution_count": null,
   "metadata": {},
   "outputs": [],
   "source": [
    "#prepare to plot\n",
    "\n",
    "#change and iterate like if (states == energy plot xy)\n",
    "states = reshape(states, (4, Int(length(states)/4)))\n",
    "mission = states[1,:]\n",
    "resources_E = states[2, :]\n",
    "resources_H2O = states[3,:]\n",
    "resources_total = resources_E  + resources_H2O\n",
    "goal = fill(mission[end], length(mission))\n",
    "t = range(0, length=length(mission))\n",
    "#rewards_accumulation = cumsum(rewards)"
   ]
  },
  {
   "cell_type": "code",
   "execution_count": 39,
   "metadata": {},
   "outputs": [],
   "source": [
    "#plot Mission Progress over Resources\n",
    "p1 = plot()\n",
    "plot!(p1, mission, resources_total, marker=(:circle,5), arrow=true, arrowsize=0.1, legend=false)\n",
    "vline!(p1, goal[1])\n",
    "ylabel!(\"Resources\")\n",
    "xlabel!(\"Mission Progress\")\n",
    "ylims!(0.9, (state_dimensions[2] + state_dimensions[3] + 1))\n",
    "xlims!(0.9, state_dimensions[1] + 0.5)\n",
    "\n",
    "#savefig(p1, \"Mission Progress VS Resources.pdf\")"
   ]
  },
  {
   "cell_type": "code",
   "execution_count": null,
   "metadata": {},
   "outputs": [],
   "source": [
    "#plot Mission and Resource development over time\n",
    "#savefig(p2, \"Mission Progress VS Resources.pdf\")\n",
    "anim = @animate for i in 1:length(mission)\n",
    "    p2 = plot()\n",
    "    plot!(p2 , 1:i, goal[1:i],  linewidth=2,   label=\"Mission Goal\")\n",
    "    plot!(p2 ,1:i, [resources_E[1:i], resources_H2O[1:i]], label=[\"Resources Energy\" \"Resources H2O\"], title = \"Resource and Mission development over time\")\n",
    "    plot!(p2 ,1:i, mission[1:i], linewidth = 2,  label=\"Mission Progress\")\n",
    "    xlabel!(\"Time Steps\")\n",
    "    ylabel!(\"Mission Progress and Resources\")\n",
    "end\n",
    "\n",
    "\n",
    "gif(anim, fps=5)"
   ]
  },
  {
   "cell_type": "code",
   "execution_count": null,
   "metadata": {},
   "outputs": [],
   "source": [
    "#Resource level histogram\n",
    "p3 = bar(t, [resources_total, resources_E], xlabel=\"Time Steps\", ylabel=\"Resource Accumulation\", label=[\"Resources H20\" \"Resources Energy\"], title = \"Resource Reserves over time\")\n",
    "\n",
    "#savefig(p3, \"Resource Reserves.pdf\")"
   ]
  },
  {
   "cell_type": "code",
   "execution_count": null,
   "metadata": {},
   "outputs": [],
   "source": [
    "#Plot Reward accumulation over time\n",
    "layout = @layout [a b] #creates 1x2 subplots\n",
    "\n",
    "p4 = plot(t[1:end-1], rewards[1:end-1], subplot=1, layout=layout,legend=false)\n",
    "plot!(p4, t, rewards_accumulation, subplot=2, legend=false)\n",
    "xlabel!(p4, \"Time Steps\")\n",
    "ylabel!(p4, \"Rewards\", subplot=1)\n",
    "ylabel!(p4, \"Accumulated Rewards\", subplot=2)\n",
    "title!(p4,\"Rewards (except the \\n last time step)\", subplot = 1)\n",
    "title!(p4,\"Accumulated Rewards\", subplot = 2)\n",
    "\n",
    "#savefig(p4, \"Rewards.pdf\")"
   ]
  }
 ],
 "metadata": {
  "kernelspec": {
   "display_name": "Julia 1.9.3",
   "language": "julia",
   "name": "julia-1.9"
  },
  "language_info": {
   "file_extension": ".jl",
   "mimetype": "application/julia",
   "name": "julia",
   "version": "1.9.3"
  }
 },
 "nbformat": 4,
 "nbformat_minor": 2
}
