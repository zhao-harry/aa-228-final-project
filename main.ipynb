{
 "cells": [
  {
   "cell_type": "code",
   "execution_count": 1,
   "metadata": {},
   "outputs": [],
   "source": [
    "using QuickPOMDPs\n",
    "using POMDPTools\n",
    "using Distributions\n",
    "using LinearAlgebra\n",
    "using MCTS"
   ]
  },
  {
   "cell_type": "code",
   "execution_count": 2,
   "metadata": {},
   "outputs": [
    {
     "data": {
      "text/plain": [
       "Deterministic{Int64}(1)"
      ]
     },
     "metadata": {},
     "output_type": "display_data"
    }
   ],
   "source": [
    "# Define all possible states and actions (with constraints)\n",
    "# [progress, power, h2o, o2]\n",
    "max_progress = 5\n",
    "max_power = 100\n",
    "max_h2o = 10\n",
    "max_o2 = 10\n",
    "p_mission_regression = 0.05\n",
    "p_power_fail = 0.02\n",
    "p_water_loss = 0.02\n",
    "energy_per_day = 2 #energy production per day\n",
    "\n",
    "indexed = LinearIndices((max_progress, max_power, max_h2o, max_o2))\n",
    "states = 1:indexed[max_progress, max_power, max_h2o, max_o2]\n",
    "actions = [CartesianIndex(1, -4, -2, 0), #make mission progress\n",
    "           CartesianIndex(0, -2, 1, 0), #make water\n",
    "           CartesianIndex(0, -1, -1, 1), #make oxygen\n",
    "           CartesianIndex(0, -0, 0, 0)] #do nothing\n",
    "initialindex = indexed[1, 1, 1, 1]\n",
    "#make mission progress\n",
    "\n",
    "initialstate = Deterministic(initialindex)"
   ]
  },
  {
   "cell_type": "code",
   "execution_count": 5,
   "metadata": {},
   "outputs": [
    {
     "data": {
      "text/plain": [
       "outofbounds (generic function with 1 method)"
      ]
     },
     "metadata": {},
     "output_type": "display_data"
    }
   ],
   "source": [
    "# Determine if action is out of bounds\n",
    "# Associated consequences are reflected in transition/reward functions\n",
    "state_maxes = [max_progress, max_power, max_h2o, max_o2]\n",
    "function outofbounds(state, action)\n",
    "    for i in 1:length(state)\n",
    "        if ((state[i] + action[i]) < 1 || (state[i] + action[i]) > state_maxes[i])\n",
    "            return true\n",
    "        end\n",
    "    end\n",
    "    return false\n",
    "end"
   ]
  },
  {
   "cell_type": "code",
   "execution_count": 37,
   "metadata": {},
   "outputs": [
    {
     "data": {
      "text/plain": [
       "transition (generic function with 1 method)"
      ]
     },
     "metadata": {},
     "output_type": "display_data"
    }
   ],
   "source": [
    "# Transition function\n",
    "function transition(s, a)\n",
    "    svec = CartesianIndices((max_progress, max_power, max_h2o, max_o2))[s]\n",
    "    svec = collect(Tuple(svec))\n",
    "    a = collect(Tuple(a))\n",
    "    if outofbounds(svec, a)\n",
    "        svec[2] = svec[2] + energy_per_day # increment energy\n",
    "        if outofbounds(svec, a)\n",
    "            svec[2] = max_power\n",
    "        end\n",
    "        spvec = svec\n",
    "    else\n",
    "        svec[2] = svec[2] + energy_per_day # increment energy\n",
    "        if outofbounds(svec, a)\n",
    "            svec[2] = max_power\n",
    "        end\n",
    "        x = rand()\n",
    "        if (x < 0.05)\n",
    "            spvec = svec # no progress\n",
    "        elseif (x < p_water_loss)\n",
    "            svec[3] = 0.0 # lose all water\n",
    "            spvec = svec + a\n",
    "        elseif (x<(p_water_loss + p_power_fail))\n",
    "            svec[2] = 0.0 # lose all energy\n",
    "            spvec = svec + a\n",
    "        elseif (x < (p_mission_regression + p_water_loss + p_power_fail) && svec[3] >= 1)\n",
    "            svec[1] = svec[1] - 1 # backwards progress mission\n",
    "            spvec = svec + a\n",
    "        else \n",
    "            spvec = svec + a\n",
    "        end\n",
    "    end\n",
    "    spvec = CartesianIndex(Tuple(spvec))\n",
    "    sp = indexed[spvec]\n",
    "    return Deterministic(sp)\n",
    "end\n"
   ]
  },
  {
   "cell_type": "code",
   "execution_count": 38,
   "metadata": {},
   "outputs": [
    {
     "data": {
      "text/plain": [
       "QuickMDP{UUID(\"767fbe04-0a79-4d73-b59b-5c7d227e79bd\"), Int64, CartesianIndex{4}, NamedTuple{(:stateindex, :isterminal, :actionindex, :initialstate, :transition, :states, :actions, :discount, :reward), Tuple{Dict{Int64, Int64}, var\"#15#17\", Dict{CartesianIndex{4}, Int64}, Deterministic{Int64}, typeof(transition), UnitRange{Int64}, Vector{CartesianIndex{4}}, Float64, var\"#16#18\"}}}((stateindex = Dict(29965 => 29965, 45120 => 45120, 30270 => 30270, 1703 => 1703, 37100 => 37100, 7685 => 7685, 3406 => 3406, 28804 => 28804, 27640 => 27640, 2015 => 2015…), isterminal = var\"#15#17\"(), actionindex = Dict{CartesianIndex{4}, Int64}(CartesianIndex(0, -2, 1, 0) => 2, CartesianIndex(0, 0, 0, 0) => 4, CartesianIndex(0, -1, -1, 1) => 3, CartesianIndex(1, -4, -2, 0) => 1), initialstate = Deterministic{Int64}(1), transition = transition, states = 1:50000, actions = CartesianIndex{4}[CartesianIndex(1, -4, -2, 0), CartesianIndex(0, -2, 1, 0), CartesianIndex(0, -1, -1, 1), CartesianIndex(0, 0, 0, 0)], discount = 0.95, reward = var\"#16#18\"()))"
      ]
     },
     "metadata": {},
     "output_type": "display_data"
    }
   ],
   "source": [
    "mission = QuickMDP(\n",
    "    states = states,\n",
    "    actions = actions,\n",
    "    initialstate = initialstate,\n",
    "    discount = 0.95,\n",
    "    isterminal = s -> CartesianIndices((max_progress, max_power, max_h2o, max_o2))[s][1] == max_progress,\n",
    "\n",
    "    transition = transition,\n",
    "\n",
    "    reward = function (s, a)\n",
    "        svec = CartesianIndices((max_progress, max_power, max_h2o, max_o2))[s]\n",
    "        spvec = svec + a\n",
    "        if svec[1] == max_progress\n",
    "            r = 1000\n",
    "        elseif outofbounds(svec, a) # If invalid action\n",
    "            r = -1e9\n",
    "        else\n",
    "            r = -1\n",
    "        end\n",
    "        return r\n",
    "    end\n",
    ")"
   ]
  },
  {
   "cell_type": "code",
   "execution_count": 39,
   "metadata": {},
   "outputs": [
    {
     "data": {
      "text/plain": [
       "MCTSPlanner{QuickMDP{UUID(\"767fbe04-0a79-4d73-b59b-5c7d227e79bd\"), Int64, CartesianIndex{4}, NamedTuple{(:stateindex, :isterminal, :actionindex, :initialstate, :transition, :states, :actions, :discount, :reward), Tuple{Dict{Int64, Int64}, var\"#15#17\", Dict{CartesianIndex{4}, Int64}, Deterministic{Int64}, typeof(transition), UnitRange{Int64}, Vector{CartesianIndex{4}}, Float64, var\"#16#18\"}}}, Int64, CartesianIndex{4}, MCTS.SolvedRolloutEstimator{RandomPolicy{Random._GLOBAL_RNG, QuickMDP{UUID(\"767fbe04-0a79-4d73-b59b-5c7d227e79bd\"), Int64, CartesianIndex{4}, NamedTuple{(:stateindex, :isterminal, :actionindex, :initialstate, :transition, :states, :actions, :discount, :reward), Tuple{Dict{Int64, Int64}, var\"#15#17\", Dict{CartesianIndex{4}, Int64}, Deterministic{Int64}, typeof(transition), UnitRange{Int64}, Vector{CartesianIndex{4}}, Float64, var\"#16#18\"}}}, NothingUpdater}, Random._GLOBAL_RNG}, Random._GLOBAL_RNG}(MCTSSolver(1000, Inf, 100, 5.0, Random._GLOBAL_RNG(), RolloutEstimator(RandomSolver(Random._GLOBAL_RNG()), 50, 0.0), 0.0, 0, false, false, MCTS.var\"#5#7\"()), QuickMDP{UUID(\"767fbe04-0a79-4d73-b59b-5c7d227e79bd\"), Int64, CartesianIndex{4}, NamedTuple{(:stateindex, :isterminal, :actionindex, :initialstate, :transition, :states, :actions, :discount, :reward), Tuple{Dict{Int64, Int64}, var\"#15#17\", Dict{CartesianIndex{4}, Int64}, Deterministic{Int64}, typeof(transition), UnitRange{Int64}, Vector{CartesianIndex{4}}, Float64, var\"#16#18\"}}}((stateindex = Dict(29965 => 29965, 45120 => 45120, 30270 => 30270, 1703 => 1703, 37100 => 37100, 7685 => 7685, 3406 => 3406, 28804 => 28804, 27640 => 27640, 2015 => 2015…), isterminal = var\"#15#17\"(), actionindex = Dict{CartesianIndex{4}, Int64}(CartesianIndex(0, -2, 1, 0) => 2, CartesianIndex(0, 0, 0, 0) => 4, CartesianIndex(0, -1, -1, 1) => 3, CartesianIndex(1, -4, -2, 0) => 1), initialstate = Deterministic{Int64}(1), transition = transition, states = 1:50000, actions = CartesianIndex{4}[CartesianIndex(1, -4, -2, 0), CartesianIndex(0, -2, 1, 0), CartesianIndex(0, -1, -1, 1), CartesianIndex(0, 0, 0, 0)], discount = 0.95, reward = var\"#16#18\"())), MCTS.MCTSTree{Int64, CartesianIndex{4}}(Dict{Int64, Int64}(), Vector{Int64}[], Int64[], Int64[], Int64[], Float64[], CartesianIndex{4}[], Dict{Pair{Int64, Int64}, Int64}()), MCTS.SolvedRolloutEstimator{RandomPolicy{Random._GLOBAL_RNG, QuickMDP{UUID(\"767fbe04-0a79-4d73-b59b-5c7d227e79bd\"), Int64, CartesianIndex{4}, NamedTuple{(:stateindex, :isterminal, :actionindex, :initialstate, :transition, :states, :actions, :discount, :reward), Tuple{Dict{Int64, Int64}, var\"#15#17\", Dict{CartesianIndex{4}, Int64}, Deterministic{Int64}, typeof(transition), UnitRange{Int64}, Vector{CartesianIndex{4}}, Float64, var\"#16#18\"}}}, NothingUpdater}, Random._GLOBAL_RNG}(RandomPolicy{Random._GLOBAL_RNG, QuickMDP{UUID(\"767fbe04-0a79-4d73-b59b-5c7d227e79bd\"), Int64, CartesianIndex{4}, NamedTuple{(:stateindex, :isterminal, :actionindex, :initialstate, :transition, :states, :actions, :discount, :reward), Tuple{Dict{Int64, Int64}, var\"#15#17\", Dict{CartesianIndex{4}, Int64}, Deterministic{Int64}, typeof(transition), UnitRange{Int64}, Vector{CartesianIndex{4}}, Float64, var\"#16#18\"}}}, NothingUpdater}(Random._GLOBAL_RNG(), QuickMDP{UUID(\"767fbe04-0a79-4d73-b59b-5c7d227e79bd\"), Int64, CartesianIndex{4}, NamedTuple{(:stateindex, :isterminal, :actionindex, :initialstate, :transition, :states, :actions, :discount, :reward), Tuple{Dict{Int64, Int64}, var\"#15#17\", Dict{CartesianIndex{4}, Int64}, Deterministic{Int64}, typeof(transition), UnitRange{Int64}, Vector{CartesianIndex{4}}, Float64, var\"#16#18\"}}}((stateindex = Dict(29965 => 29965, 45120 => 45120, 30270 => 30270, 1703 => 1703, 37100 => 37100, 7685 => 7685, 3406 => 3406, 28804 => 28804, 27640 => 27640, 2015 => 2015…), isterminal = var\"#15#17\"(), actionindex = Dict{CartesianIndex{4}, Int64}(CartesianIndex(0, -2, 1, 0) => 2, CartesianIndex(0, 0, 0, 0) => 4, CartesianIndex(0, -1, -1, 1) => 3, CartesianIndex(1, -4, -2, 0) => 1), initialstate = Deterministic{Int64}(1), transition = transition, states = 1:50000, actions = CartesianIndex{4}[CartesianIndex(1, -4, -2, 0), CartesianIndex(0, -2, 1, 0), CartesianIndex(0, -1, -1, 1), CartesianIndex(0, 0, 0, 0)], discount = 0.95, reward = var\"#16#18\"())), NothingUpdater()), Random._GLOBAL_RNG(), 50, 0.0), Random._GLOBAL_RNG())"
      ]
     },
     "metadata": {},
     "output_type": "display_data"
    }
   ],
   "source": [
    "solver = MCTSSolver(n_iterations=1000, depth=100, exploration_constant=5.0)\n",
    "planner = solve(solver, mission)"
   ]
  },
  {
   "cell_type": "code",
   "execution_count": 41,
   "metadata": {},
   "outputs": [
    {
     "ename": "BoundsError",
     "evalue": "BoundsError: attempt to access 5×100×10×10 LinearIndices{4, NTuple{4, Base.OneTo{Int64}}} at index [4, 102, 3, 5]",
     "output_type": "error",
     "traceback": [
      "BoundsError: attempt to access 5×100×10×10 LinearIndices{4, NTuple{4, Base.OneTo{Int64}}} at index [4, 102, 3, 5]\n",
      "\n",
      "Stacktrace:\n",
      "  [1] throw_boundserror(A::LinearIndices{4, NTuple{4, Base.OneTo{Int64}}}, I::NTuple{4, Int64})\n",
      "    @ Base ./abstractarray.jl:744\n",
      "  [2] checkbounds\n",
      "    @ ./abstractarray.jl:709 [inlined]\n",
      "  [3] _getindex\n",
      "    @ ./abstractarray.jl:1328 [inlined]\n",
      "  [4] getindex(A::LinearIndices{4, NTuple{4, Base.OneTo{Int64}}}, I::CartesianIndex{4})\n",
      "    @ Base ./abstractarray.jl:1296\n",
      "  [5] transition(s::Int64, a::CartesianIndex{4})\n",
      "    @ Main ~/workspace/aa-228-final-project/main.ipynb:34\n",
      "  [6] transition\n",
      "    @ ~/.julia/packages/QuickPOMDPs/SNkbc/src/quick.jl:217 [inlined]\n",
      "  [7] macro expansion\n",
      "    @ ~/.julia/packages/POMDPs/0qEIe/src/gen_impl.jl:39 [inlined]\n",
      "  [8] genout(v::POMDPs.DDNOut{(:sp, :r)}, m::QuickMDP{UUID(\"767fbe04-0a79-4d73-b59b-5c7d227e79bd\"), Int64, CartesianIndex{4}, NamedTuple{(:stateindex, :isterminal, :actionindex, :initialstate, :transition, :states, :actions, :discount, :reward), Tuple{Dict{Int64, Int64}, var\"#15#17\", Dict{CartesianIndex{4}, Int64}, Deterministic{Int64}, typeof(transition), UnitRange{Int64}, Vector{CartesianIndex{4}}, Float64, var\"#16#18\"}}}, s::Int64, a::CartesianIndex{4}, rng::Random._GLOBAL_RNG)\n",
      "    @ POMDPs ~/.julia/packages/POMDPs/0qEIe/src/gen_impl.jl:19\n",
      "  [9] (::POMDPTools.Simulators.var\"#367#f#3\")(m::QuickMDP{UUID(\"767fbe04-0a79-4d73-b59b-5c7d227e79bd\"), Int64, CartesianIndex{4}, NamedTuple{(:stateindex, :isterminal, :actionindex, :initialstate, :transition, :states, :actions, :discount, :reward), Tuple{Dict{Int64, Int64}, var\"#15#17\", Dict{CartesianIndex{4}, Int64}, Deterministic{Int64}, typeof(transition), UnitRange{Int64}, Vector{CartesianIndex{4}}, Float64, var\"#16#18\"}}}, s::Int64, a::CartesianIndex{4}, rng::Random._GLOBAL_RNG)\n",
      "    @ POMDPTools.Simulators ~/.julia/packages/POMDPs/0qEIe/src/generative.jl:67\n",
      " [10] simulate(sim::RolloutSimulator{Random._GLOBAL_RNG}, mdp::QuickMDP{UUID(\"767fbe04-0a79-4d73-b59b-5c7d227e79bd\"), Int64, CartesianIndex{4}, NamedTuple{(:stateindex, :isterminal, :actionindex, :initialstate, :transition, :states, :actions, :discount, :reward), Tuple{Dict{Int64, Int64}, var\"#15#17\", Dict{CartesianIndex{4}, Int64}, Deterministic{Int64}, typeof(transition), UnitRange{Int64}, Vector{CartesianIndex{4}}, Float64, var\"#16#18\"}}}, policy::RandomPolicy{Random._GLOBAL_RNG, QuickMDP{UUID(\"767fbe04-0a79-4d73-b59b-5c7d227e79bd\"), Int64, CartesianIndex{4}, NamedTuple{(:stateindex, :isterminal, :actionindex, :initialstate, :transition, :states, :actions, :discount, :reward), Tuple{Dict{Int64, Int64}, var\"#15#17\", Dict{CartesianIndex{4}, Int64}, Deterministic{Int64}, typeof(transition), UnitRange{Int64}, Vector{CartesianIndex{4}}, Float64, var\"#16#18\"}}}, NothingUpdater}, initialstate::Int64)\n",
      "    @ POMDPTools.Simulators ~/.julia/packages/POMDPTools/7Rekv/src/Simulators/rollout.jl:143\n",
      " [11] estimate_value(estimator::MCTS.SolvedRolloutEstimator{RandomPolicy{Random._GLOBAL_RNG, QuickMDP{UUID(\"767fbe04-0a79-4d73-b59b-5c7d227e79bd\"), Int64, CartesianIndex{4}, NamedTuple{(:stateindex, :isterminal, :actionindex, :initialstate, :transition, :states, :actions, :discount, :reward), Tuple{Dict{Int64, Int64}, var\"#15#17\", Dict{CartesianIndex{4}, Int64}, Deterministic{Int64}, typeof(transition), UnitRange{Int64}, Vector{CartesianIndex{4}}, Float64, var\"#16#18\"}}}, NothingUpdater}, Random._GLOBAL_RNG}, mdp::QuickMDP{UUID(\"767fbe04-0a79-4d73-b59b-5c7d227e79bd\"), Int64, CartesianIndex{4}, NamedTuple{(:stateindex, :isterminal, :actionindex, :initialstate, :transition, :states, :actions, :discount, :reward), Tuple{Dict{Int64, Int64}, var\"#15#17\", Dict{CartesianIndex{4}, Int64}, Deterministic{Int64}, typeof(transition), UnitRange{Int64}, Vector{CartesianIndex{4}}, Float64, var\"#16#18\"}}}, state::Int64, remaining_depth::Int64)\n",
      "    @ MCTS ~/.julia/packages/MCTS/AjLdf/src/domain_knowledge.jl:72\n",
      " [12] simulate(planner::MCTSPlanner{QuickMDP{UUID(\"767fbe04-0a79-4d73-b59b-5c7d227e79bd\"), Int64, CartesianIndex{4}, NamedTuple{(:stateindex, :isterminal, :actionindex, :initialstate, :transition, :states, :actions, :discount, :reward), Tuple{Dict{Int64, Int64}, var\"#15#17\", Dict{CartesianIndex{4}, Int64}, Deterministic{Int64}, typeof(transition), UnitRange{Int64}, Vector{CartesianIndex{4}}, Float64, var\"#16#18\"}}}, Int64, CartesianIndex{4}, MCTS.SolvedRolloutEstimator{RandomPolicy{Random._GLOBAL_RNG, QuickMDP{UUID(\"767fbe04-0a79-4d73-b59b-5c7d227e79bd\"), Int64, CartesianIndex{4}, NamedTuple{(:stateindex, :isterminal, :actionindex, :initialstate, :transition, :states, :actions, :discount, :reward), Tuple{Dict{Int64, Int64}, var\"#15#17\", Dict{CartesianIndex{4}, Int64}, Deterministic{Int64}, typeof(transition), UnitRange{Int64}, Vector{CartesianIndex{4}}, Float64, var\"#16#18\"}}}, NothingUpdater}, Random._GLOBAL_RNG}, Random._GLOBAL_RNG}, node::StateNode{Int64, CartesianIndex{4}}, depth::Int64)\n",
      "    @ MCTS ~/.julia/packages/MCTS/AjLdf/src/vanilla.jl:293\n",
      " [13] build_tree(planner::MCTSPlanner{QuickMDP{UUID(\"767fbe04-0a79-4d73-b59b-5c7d227e79bd\"), Int64, CartesianIndex{4}, NamedTuple{(:stateindex, :isterminal, :actionindex, :initialstate, :transition, :states, :actions, :discount, :reward), Tuple{Dict{Int64, Int64}, var\"#15#17\", Dict{CartesianIndex{4}, Int64}, Deterministic{Int64}, typeof(transition), UnitRange{Int64}, Vector{CartesianIndex{4}}, Float64, var\"#16#18\"}}}, Int64, CartesianIndex{4}, MCTS.SolvedRolloutEstimator{RandomPolicy{Random._GLOBAL_RNG, QuickMDP{UUID(\"767fbe04-0a79-4d73-b59b-5c7d227e79bd\"), Int64, CartesianIndex{4}, NamedTuple{(:stateindex, :isterminal, :actionindex, :initialstate, :transition, :states, :actions, :discount, :reward), Tuple{Dict{Int64, Int64}, var\"#15#17\", Dict{CartesianIndex{4}, Int64}, Deterministic{Int64}, typeof(transition), UnitRange{Int64}, Vector{CartesianIndex{4}}, Float64, var\"#16#18\"}}}, NothingUpdater}, Random._GLOBAL_RNG}, Random._GLOBAL_RNG}, s::Int64)\n",
      "    @ MCTS ~/.julia/packages/MCTS/AjLdf/src/vanilla.jl:260\n",
      " [14] plan!\n",
      "    @ ~/.julia/packages/MCTS/AjLdf/src/vanilla.jl:234 [inlined]\n",
      " [15] action_info(p::MCTSPlanner{QuickMDP{UUID(\"767fbe04-0a79-4d73-b59b-5c7d227e79bd\"), Int64, CartesianIndex{4}, NamedTuple{(:stateindex, :isterminal, :actionindex, :initialstate, :transition, :states, :actions, :discount, :reward), Tuple{Dict{Int64, Int64}, var\"#15#17\", Dict{CartesianIndex{4}, Int64}, Deterministic{Int64}, typeof(transition), UnitRange{Int64}, Vector{CartesianIndex{4}}, Float64, var\"#16#18\"}}}, Int64, CartesianIndex{4}, MCTS.SolvedRolloutEstimator{RandomPolicy{Random._GLOBAL_RNG, QuickMDP{UUID(\"767fbe04-0a79-4d73-b59b-5c7d227e79bd\"), Int64, CartesianIndex{4}, NamedTuple{(:stateindex, :isterminal, :actionindex, :initialstate, :transition, :states, :actions, :discount, :reward), Tuple{Dict{Int64, Int64}, var\"#15#17\", Dict{CartesianIndex{4}, Int64}, Deterministic{Int64}, typeof(transition), UnitRange{Int64}, Vector{CartesianIndex{4}}, Float64, var\"#16#18\"}}}, NothingUpdater}, Random._GLOBAL_RNG}, Random._GLOBAL_RNG}, s::Int64)\n",
      "    @ MCTS ~/.julia/packages/MCTS/AjLdf/src/vanilla.jl:189\n",
      " [16] action(p::MCTSPlanner{QuickMDP{UUID(\"767fbe04-0a79-4d73-b59b-5c7d227e79bd\"), Int64, CartesianIndex{4}, NamedTuple{(:stateindex, :isterminal, :actionindex, :initialstate, :transition, :states, :actions, :discount, :reward), Tuple{Dict{Int64, Int64}, var\"#15#17\", Dict{CartesianIndex{4}, Int64}, Deterministic{Int64}, typeof(transition), UnitRange{Int64}, Vector{CartesianIndex{4}}, Float64, var\"#16#18\"}}}, Int64, CartesianIndex{4}, MCTS.SolvedRolloutEstimator{RandomPolicy{Random._GLOBAL_RNG, QuickMDP{UUID(\"767fbe04-0a79-4d73-b59b-5c7d227e79bd\"), Int64, CartesianIndex{4}, NamedTuple{(:stateindex, :isterminal, :actionindex, :initialstate, :transition, :states, :actions, :discount, :reward), Tuple{Dict{Int64, Int64}, var\"#15#17\", Dict{CartesianIndex{4}, Int64}, Deterministic{Int64}, typeof(transition), UnitRange{Int64}, Vector{CartesianIndex{4}}, Float64, var\"#16#18\"}}}, NothingUpdater}, Random._GLOBAL_RNG}, Random._GLOBAL_RNG}, s::Int64)\n",
      "    @ MCTS ~/.julia/packages/MCTS/AjLdf/src/vanilla.jl:194\n",
      " [17] top-level scope\n",
      "    @ ~/workspace/aa-228-final-project/main.ipynb:2"
     ]
    }
   ],
   "source": [
    "s = 2192\n",
    "a = action(planner, s)"
   ]
  }
 ],
 "metadata": {
  "kernelspec": {
   "display_name": "Julia 1.9.3",
   "language": "julia",
   "name": "julia-1.9"
  },
  "language_info": {
   "file_extension": ".jl",
   "mimetype": "application/julia",
   "name": "julia",
   "version": "1.9.3"
  }
 },
 "nbformat": 4,
 "nbformat_minor": 2
}
