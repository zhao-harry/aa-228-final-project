{
 "cells": [
  {
   "cell_type": "code",
   "execution_count": 98,
   "metadata": {},
   "outputs": [],
   "source": [
    "using QuickPOMDPs\n",
    "using POMDPTools\n",
    "using Distributions\n",
    "using LinearAlgebra"
   ]
  },
  {
   "cell_type": "code",
   "execution_count": 99,
   "metadata": {},
   "outputs": [
    {
     "data": {
      "text/plain": [
       "Deterministic{Int64}(1)"
      ]
     },
     "metadata": {},
     "output_type": "display_data"
    }
   ],
   "source": [
    "# Define all possible states and actions (with constraints)\n",
    "# [progress, power, h2o, o2]\n",
    "max_progress = 5\n",
    "max_power = 100\n",
    "max_h2o = 10\n",
    "max_o2 = 10\n",
    "p_mission_regression = 0.05\n",
    "p_power_fail = 0.02\n",
    "p_water_loss = 0.02\n",
    "energy_per_day = 2 #energy production per day\n",
    "\n",
    "indexed = LinearIndices((max_progress, max_power, max_h2o, max_o2))\n",
    "states = 1:indexed[max_progress, max_power, max_h2o, max_o2]\n",
    "actions = [CartesianIndex(1, -4, -2, 0), #make mission progress\n",
    "           CartesianIndex(0, -2, 1, 0), #make water\n",
    "           CartesianIndex(0, -1, -1, 1), #make oxygen\n",
    "           CartesianIndex(0, -0, 0, 0)] #do nothing\n",
    "initialindex = indexed[1, 1, 1, 1]\n",
    "#make mission progress\n",
    "\n",
    "initialstate = Deterministic(initialindex)"
   ]
  },
  {
   "cell_type": "code",
   "execution_count": 100,
   "metadata": {},
   "outputs": [
    {
     "data": {
      "text/plain": [
       "CartesianIndex(1, 1, 1, 1)"
      ]
     },
     "metadata": {},
     "output_type": "display_data"
    }
   ],
   "source": [
    "CartesianIndices((max_progress, max_power, max_h2o, max_o2))[1]"
   ]
  },
  {
   "cell_type": "code",
   "execution_count": 101,
   "metadata": {},
   "outputs": [
    {
     "data": {
      "text/plain": [
       "5507"
      ]
     },
     "metadata": {},
     "output_type": "display_data"
    }
   ],
   "source": [
    "indexed[2, 2, 2, 2]"
   ]
  },
  {
   "cell_type": "code",
   "execution_count": 102,
   "metadata": {},
   "outputs": [
    {
     "data": {
      "text/plain": [
       "outofbounds (generic function with 1 method)"
      ]
     },
     "metadata": {},
     "output_type": "display_data"
    }
   ],
   "source": [
    "# Determine if action is out of bounds\n",
    "# Associated consequences are reflected in transition/reward functions\n",
    "state_maxes = [max_progress, max_power, max_h2o, max_o2]\n",
    "function outofbounds(state, action)\n",
    "    for i in 1:length(state)\n",
    "        if ((state[i] + action[i]) < 1 || (state[i] + action[i]) > state_maxes[i])\n",
    "            return true\n",
    "        end\n",
    "    end\n",
    "    return false\n",
    "end"
   ]
  },
  {
   "cell_type": "code",
   "execution_count": 158,
   "metadata": {},
   "outputs": [
    {
     "data": {
      "text/plain": [
       "transition (generic function with 1 method)"
      ]
     },
     "metadata": {},
     "output_type": "display_data"
    }
   ],
   "source": [
    "# Transition function\n",
    "function transition(s, a)\n",
    "    svec = CartesianIndices((max_progress, max_power, max_h2o, max_o2))[s]\n",
    "    svec = collect(Tuple(svec))\n",
    "    a = collect(Tuple(a))\n",
    "    if outofbounds(svec, a)\n",
    "        svec[2] = svec[2] + energy_per_day # increment energy\n",
    "        if outofbounds(svec, a)\n",
    "            svec[2] = max_power\n",
    "        end\n",
    "        spvec = svec\n",
    "    else\n",
    "        svec[2] = svec[2] + energy_per_day # increment energy\n",
    "        if outofbounds(svec, a)\n",
    "            svec[2] = max_power\n",
    "        end\n",
    "        x = rand()\n",
    "        if (x < 0.05)\n",
    "            spvec = svec # no progress\n",
    "        elseif (x < p_water_loss)\n",
    "            svec[3] = 0.0 # lose all water\n",
    "            spvec = svec + a\n",
    "        elseif (x<(p_water_loss + p_power_fail))\n",
    "            svec[2] = 0.0 # lose all energy\n",
    "            spvec = svec + a\n",
    "        elseif (x < (p_mission_regression + p_water_loss + p_power_fail) && svec[3] >= 1)\n",
    "            svec[1] = svec[1] - 1 # backwards progress mission\n",
    "            spvec = svec + a\n",
    "        else \n",
    "            spvec = svec + a\n",
    "        end\n",
    "    end\n",
    "    spvec = CartesianIndices(spvec)\n",
    "    sp = indexed[spvec]\n",
    "end\n"
   ]
  },
  {
   "cell_type": "code",
   "execution_count": 159,
   "metadata": {},
   "outputs": [
    {
     "data": {
      "text/plain": [
       "QuickMDP{UUID(\"b55994ad-2064-4e9e-a973-246048e3f072\"), Int64, CartesianIndex{4}, NamedTuple{(:stateindex, :isterminal, :actionindex, :initialstate, :transition, :states, :actions, :discount, :reward), Tuple{Dict{Int64, Int64}, var\"#105#107\", Dict{CartesianIndex{4}, Int64}, Deterministic{Int64}, typeof(transition), UnitRange{Int64}, Vector{CartesianIndex{4}}, Float64, var\"#106#108\"}}}((stateindex = Dict(29965 => 29965, 45120 => 45120, 30270 => 30270, 1703 => 1703, 37100 => 37100, 7685 => 7685, 3406 => 3406, 28804 => 28804, 27640 => 27640, 2015 => 2015…), isterminal = var\"#105#107\"(), actionindex = Dict{CartesianIndex{4}, Int64}(CartesianIndex(0, -2, 1, 0) => 2, CartesianIndex(0, 0, 0, 0) => 4, CartesianIndex(0, -1, -1, 1) => 3, CartesianIndex(1, -4, -2, 0) => 1), initialstate = Deterministic{Int64}(1), transition = transition, states = 1:50000, actions = CartesianIndex{4}[CartesianIndex(1, -4, -2, 0), CartesianIndex(0, -2, 1, 0), CartesianIndex(0, -1, -1, 1), CartesianIndex(0, 0, 0, 0)], discount = 0.95, reward = var\"#106#108\"()))"
      ]
     },
     "metadata": {},
     "output_type": "display_data"
    }
   ],
   "source": [
    "mission = QuickMDP(\n",
    "    states = states,\n",
    "    actions = actions,\n",
    "    initialstate = initialstate,\n",
    "    discount = 0.95,\n",
    "    isterminal = s -> s[1] == 10,\n",
    "\n",
    "    transition = transition,\n",
    "\n",
    "    reward = function (s, a)\n",
    "        svec = CartesianIndices((max_progress, max_power, max_h2o, max_o2))[s]\n",
    "        spvec = svec + a\n",
    "        if svec[1] == max_progress\n",
    "            r = 1000\n",
    "        elseif outofbounds(svec, a) # If invalid action\n",
    "            r = -1e9\n",
    "        else\n",
    "            r = -1\n",
    "        end\n",
    "        return r\n",
    "    end\n",
    ")"
   ]
  },
  {
   "cell_type": "code",
   "execution_count": 166,
   "metadata": {},
   "outputs": [
    {
     "data": {
      "text/plain": [
       "CartesianIndex(0, -2, 1, 0)"
      ]
     },
     "metadata": {},
     "output_type": "display_data"
    }
   ],
   "source": [
    "solver = MCTSSolver(n_iterations=50, depth=40, exploration_constant=5.0)\n",
    "planner = solve(solver, mission)\n",
    "a = action(planner, s)"
   ]
  }
 ],
 "metadata": {
  "kernelspec": {
   "display_name": "Julia 1.9.3",
   "language": "julia",
   "name": "julia-1.9"
  },
  "language_info": {
   "file_extension": ".jl",
   "mimetype": "application/julia",
   "name": "julia",
   "version": "1.9.3"
  }
 },
 "nbformat": 4,
 "nbformat_minor": 2
}
