{
 "cells": [
  {
   "cell_type": "code",
   "execution_count": 2,
   "metadata": {},
   "outputs": [],
   "source": [
    "using QuickPOMDPs\n",
    "using POMDPs\n",
    "using POMDPTools\n",
    "using Distributions\n",
    "using LinearAlgebra\n",
    "using MCTS\n",
    "using POMDPSimulators\n",
    "using POMDPPolicies\n",
    "#using POMDPTutorials\n",
    "using POMDPModels\n",
    "using POMDPModelTools\n",
    "using Plots\n",
    "using CSV\n",
    "using Tables"
   ]
  },
  {
   "cell_type": "markdown",
   "metadata": {},
   "source": [
    "### Define problem"
   ]
  },
  {
   "cell_type": "markdown",
   "metadata": {},
   "source": [
    "*** Parameters"
   ]
  },
  {
   "cell_type": "code",
   "execution_count": 4,
   "metadata": {},
   "outputs": [
    {
     "data": {
      "text/plain": [
       "3"
      ]
     },
     "metadata": {},
     "output_type": "display_data"
    }
   ],
   "source": [
    "# Dimensions\n",
    "max_progress = 5\n",
    "max_power = 50\n",
    "max_h2o = 50\n",
    "max_o2 = 50\n",
    "max_food = 50\n",
    "\n",
    "# Uncertainties\n",
    "p_mission_regression = 0.05\n",
    "p_power_fail = 0.02\n",
    "p_water_loss = 0.02\n",
    "p_food_loss = 0.02\n",
    "p_no_mission_progress = 0.05\n",
    "\n",
    "# Resource consumption\n",
    "consumed_power = -10 # generated\n",
    "consumed_h2o = 1\n",
    "consumed_o2 = 2\n",
    "consumed_food = 3"
   ]
  },
  {
   "cell_type": "code",
   "execution_count": 5,
   "metadata": {},
   "outputs": [
    {
     "data": {
      "text/plain": [
       "5-element Vector{CartesianIndex{5}}:\n",
       " CartesianIndex(1, 9, -1, -2, -3)\n",
       " CartesianIndex(0, 9, 1, -2, -3)\n",
       " CartesianIndex(0, 8, -2, -1, -3)\n",
       " CartesianIndex(0, 9, -2, -3, -1)\n",
       " CartesianIndex(0, 10, -1, -2, -3)"
      ]
     },
     "metadata": {},
     "output_type": "display_data"
    }
   ],
   "source": [
    "# Define all possible states and actions (with constraints)\n",
    "# [progress, power, h2o, o2, food]\n",
    "indexed = LinearIndices((max_progress, max_power, max_h2o, max_o2, max_food))\n",
    "states = 1:indexed[max_progress, max_power, max_h2o, max_o2, max_food]\n",
    "\n",
    "basic_actions = [\n",
    "      CartesianIndex(1, -1, 0, 0, 0), # make mission progress\n",
    "      CartesianIndex(0, -1, 2, 0, 0), # make water \n",
    "      CartesianIndex(0, -2, -1, 1, 0), # make oxygen\n",
    "      CartesianIndex(0, -1, -1, -1, 2), # make food\n",
    "      CartesianIndex(0, 0, 0, 0, 0)\n",
    "] # do nothing\n",
    "consumed = CartesianIndex(0, consumed_power, consumed_h2o, consumed_o2, consumed_food)\n",
    "actions = [action - consumed for action in basic_actions]"
   ]
  },
  {
   "cell_type": "markdown",
   "metadata": {},
   "source": [
    "### Reward, Transition"
   ]
  },
  {
   "cell_type": "code",
   "execution_count": 6,
   "metadata": {},
   "outputs": [
    {
     "data": {
      "text/plain": [
       "clamp_state (generic function with 1 method)"
      ]
     },
     "metadata": {},
     "output_type": "display_data"
    }
   ],
   "source": [
    "# Determine if action is out of bounds\n",
    "# Associated consequences are reflected in transition/reward functions\n",
    "state_maxes = [max_progress, max_power, max_h2o, max_o2, max_food]\n",
    "\n",
    "function outofbounds(state, action)\n",
    "    for i in 1:length(state)\n",
    "        if ((state[i] + action[i]) < 1 || (state[i] + action[i]) > state_maxes[i])\n",
    "            return true\n",
    "        end\n",
    "    end\n",
    "    return false\n",
    "end\n",
    "\n",
    "# Determine if action is out of bounds\n",
    "# Associated consequences are reflected in transition/reward functions\n",
    "state_maxes = [max_progress, max_power, max_h2o, max_o2, max_food]\n",
    "function clamp_state(state)\n",
    "    for i in 1:length(state)\n",
    "        state[i] = clamp(state[i], 1, state_maxes[i])\n",
    "    end\n",
    "    return state\n",
    "end"
   ]
  },
  {
   "cell_type": "code",
   "execution_count": 7,
   "metadata": {},
   "outputs": [
    {
     "data": {
      "text/plain": [
       "reward (generic function with 1 method)"
      ]
     },
     "metadata": {},
     "output_type": "display_data"
    }
   ],
   "source": [
    "function reward(s, a)\n",
    "    svec = CartesianIndices((max_progress, max_power, max_h2o, max_o2, max_food))[s]\n",
    "    if svec[1] == max_progress\n",
    "        r = 1000\n",
    "    elseif outofbounds(svec, a) # If invalid action\n",
    "        r = -1000000\n",
    "    else\n",
    "        r = -1\n",
    "    end\n",
    "    return r\n",
    "end\n",
    "#end    "
   ]
  },
  {
   "cell_type": "code",
   "execution_count": 8,
   "metadata": {},
   "outputs": [
    {
     "data": {
      "text/plain": [
       "transition (generic function with 1 method)"
      ]
     },
     "metadata": {},
     "output_type": "display_data"
    }
   ],
   "source": [
    "function transition(s, a)\n",
    "    svec = CartesianIndices((max_progress, max_power, max_h2o, max_o2, max_food))[s]\n",
    "    svec = collect(Tuple(svec))\n",
    "    a = collect(Tuple(a))\n",
    "    if outofbounds(svec, a)\n",
    "        if outofbounds(svec, a)\n",
    "            svec[2] = max_power\n",
    "        end\n",
    "        spvec = svec\n",
    "    else\n",
    "        if outofbounds(svec, a)\n",
    "            svec[2] = max_power\n",
    "        end\n",
    "        x = rand()\n",
    "        if (x < p_no_mission_progress)\n",
    "            spvec = svec # no progress\n",
    "        elseif (x < (p_water_loss + p_no_mission_progress))\n",
    "            svec[3] = 1 # lose all water\n",
    "            spvec = svec + a\n",
    "        elseif (x<(p_water_loss + p_power_fail + p_no_mission_progress))\n",
    "            svec[2] = 1 # lose all energy\n",
    "            spvec = svec + a\n",
    "        elseif (x < (p_mission_regression + p_water_loss + p_power_fail + p_no_mission_progress) && svec[3] > 1)\n",
    "            svec[1] = svec[1] - 1 # backwards progress mission\n",
    "            spvec = svec + a\n",
    "        else \n",
    "            spvec = svec + a\n",
    "        end\n",
    "    end\n",
    "    spvec = CartesianIndex(Tuple(spvec))\n",
    "    sp = indexed[spvec] #linear index\n",
    "    return sp\n",
    "end\n"
   ]
  },
  {
   "cell_type": "markdown",
   "metadata": {},
   "source": [
    "*** Simulate"
   ]
  },
  {
   "cell_type": "code",
   "execution_count": 9,
   "metadata": {},
   "outputs": [],
   "source": [
    "#simulate\n",
    "\n",
    "#initialize\n",
    "sarsp = Imatrix = zeros(Int, 4, 1)\n",
    "\n",
    "current_state = indexed[1, 20, 20, 20, 20] #initialstate(mission)\n",
    "\n",
    "states = collect(Tuple(CartesianIndices((max_progress, max_power, max_h2o, max_o2, max_food))[current_state]))\n",
    "\n",
    "# s a r s'\n",
    "count = 0\n",
    "while (current_state[1] != state_maxes[1])\n",
    "    ind_action = rand(1:5)\n",
    "    a = actions[ind_action] #random action\n",
    "    next_state = transition(current_state, a)\n",
    "    r = reward(next_state, a)\n",
    "    sarsp = hcat(sarsp, [current_state, ind_action, r, next_state])\n",
    "    #print(sarsp[:, count+1])\n",
    "    current_state = next_state\n",
    "    count += 1\n",
    "end\n",
    "\n",
    "#delete first row again\n",
    "sarsp = sarsp[:, 2:end]\n",
    "\n",
    "\n"
   ]
  },
  {
   "cell_type": "code",
   "execution_count": null,
   "metadata": {},
   "outputs": [],
   "source": [
    "#write to csv\n",
    "\n",
    "# Specify the filename\n",
    "filename = \"data.csv\"\n",
    "\n",
    "# Write the matrix to the CSV file\n",
    "CSV.write(filename, Tables.table(sarsp'), header = [\"s\", \"a\", \"r\", \"s'\"])"
   ]
  },
  {
   "cell_type": "code",
   "execution_count": null,
   "metadata": {},
   "outputs": [],
   "source": [
    "#prepare to plot\n",
    "\n",
    "mission = states[3,:]\n",
    "resources_E = states[1, :]\n",
    "resources_H2O = states[2,:]\n",
    "resources_total = resources_E  + resources_H2O\n",
    "goal = fill(mission[end], length(mission))\n",
    "t = range(0, length=length(mission))\n",
    "rewards_accumulation = cumsum(rewards)\n"
   ]
  },
  {
   "cell_type": "code",
   "execution_count": null,
   "metadata": {},
   "outputs": [],
   "source": [
    "#plot Mission Progress over Resources\n",
    "p1 = plot()\n",
    "plot!(p1, mission, resources_total, marker=(:circle,5), arrow=true, arrowsize=0.1, legend=false)\n",
    "vline!(p1, goal[1])\n",
    "ylabel!(\"Resources\")\n",
    "xlabel!(\"Mission Progress\")\n",
    "ylims!(0.9, (state_dimensions[1] + state_dimensions[2] + 1))\n",
    "xlims!(0.9, state_dimensions[3] + 0.5)\n",
    "\n",
    "#savefig(p1, \"Mission Progress VS Resources.pdf\")"
   ]
  },
  {
   "cell_type": "code",
   "execution_count": null,
   "metadata": {},
   "outputs": [],
   "source": [
    "#plot Mission and Resource development over time\n",
    "#savefig(p2, \"Mission Progress VS Resources.pdf\")\n",
    "anim = @animate for i in 1:length(mission)\n",
    "    p2 = plot()\n",
    "    plot!(p2 , 1:i, goal[1:i],  linewidth=2,   label=\"Mission Goal\")\n",
    "    plot!(p2 ,1:i, [resources_E[1:i], resources_H2O[1:i]], label=[\"Resources Energy\" \"Resources H2O\"], title = \"Resource and Mission development over time\")\n",
    "    plot!(p2 ,1:i, mission[1:i], linewidth = 2,  label=\"Mission Progress\")\n",
    "    xlabel!(\"Time Steps\")\n",
    "    ylabel!(\"Mission Progress and Resources\")\n",
    "end\n",
    "\n",
    "\n",
    "gif(anim, fps=5)"
   ]
  },
  {
   "cell_type": "code",
   "execution_count": null,
   "metadata": {},
   "outputs": [],
   "source": [
    "#Resource level histogram\n",
    "p3 = bar(t, [resources_total, resources_E], xlabel=\"Time Steps\", ylabel=\"Resource Accumulation\", label=[\"Resources H20\" \"Resources Energy\"], title = \"Resource Reserves over time\")\n",
    "\n",
    "#savefig(p3, \"Resource Reserves.pdf\")"
   ]
  },
  {
   "cell_type": "code",
   "execution_count": null,
   "metadata": {},
   "outputs": [],
   "source": [
    "#Plot Reward accumulation over time\n",
    "layout = @layout [a b] #creates 1x2 subplots\n",
    "\n",
    "p4 = plot(t[1:end-1], rewards[1:end-1], subplot=1, layout=layout,legend=false)\n",
    "plot!(p4, t, rewards_accumulation, subplot=2, legend=false)\n",
    "xlabel!(p4, \"Time Steps\")\n",
    "ylabel!(p4, \"Rewards\", subplot=1)\n",
    "ylabel!(p4, \"Accumulated Rewards\", subplot=2)\n",
    "title!(p4,\"Rewards (except the \\n last time step)\", subplot = 1)\n",
    "title!(p4,\"Accumulated Rewards\", subplot = 2)\n",
    "\n",
    "#savefig(p4, \"Rewards.pdf\")"
   ]
  }
 ],
 "metadata": {
  "kernelspec": {
   "display_name": "Julia 1.9.3",
   "language": "julia",
   "name": "julia-1.9"
  },
  "language_info": {
   "file_extension": ".jl",
   "mimetype": "application/julia",
   "name": "julia",
   "version": "1.9.3"
  }
 },
 "nbformat": 4,
 "nbformat_minor": 2
}
