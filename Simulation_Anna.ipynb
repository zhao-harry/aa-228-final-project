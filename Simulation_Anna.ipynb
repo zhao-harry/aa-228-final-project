{
 "cells": [
  {
   "cell_type": "code",
   "execution_count": 1,
   "metadata": {},
   "outputs": [],
   "source": [
    "using QuickPOMDPs\n",
    "using POMDPs\n",
    "using POMDPTools\n",
    "using Distributions\n",
    "using LinearAlgebra\n",
    "using MCTS\n",
    "using POMDPSimulators\n",
    "using POMDPPolicies\n",
    "#using POMDPTutorials\n",
    "using POMDPModels\n",
    "using POMDPModelTools\n",
    "using Plots"
   ]
  },
  {
   "cell_type": "markdown",
   "metadata": {},
   "source": [
    "### Define problem"
   ]
  },
  {
   "cell_type": "markdown",
   "metadata": {},
   "source": [
    "*** Parameters"
   ]
  },
  {
   "cell_type": "code",
   "execution_count": 2,
   "metadata": {},
   "outputs": [
    {
     "data": {
      "text/plain": [
       "9"
      ]
     },
     "metadata": {},
     "output_type": "display_data"
    }
   ],
   "source": [
    "# Dimensions\n",
    "max_progress = 5\n",
    "max_power = 20\n",
    "max_h2o = 20\n",
    "max_o2 = 20\n",
    "max_food = 20\n",
    "\n",
    "# Uncertainties\n",
    "p_mission_regression = 0.05\n",
    "p_power_fail = 0.02\n",
    "p_water_loss = 0.02\n",
    "p_food_loss = 0.02\n",
    "p_no_mission_progress = 0.05\n",
    "\n",
    "# Resource consumption\n",
    "consumed_power = -10 # generated\n",
    "consumed_h2o = 1\n",
    "consumed_o2 = 8\n",
    "consumed_food = 9"
   ]
  },
  {
   "cell_type": "code",
   "execution_count": 3,
   "metadata": {},
   "outputs": [
    {
     "data": {
      "text/plain": [
       "5-element Vector{CartesianIndex{5}}:\n",
       " CartesianIndex(1, 9, -1, -8, -9)\n",
       " CartesianIndex(0, 9, 1, -8, -9)\n",
       " CartesianIndex(0, 8, -2, -7, -9)\n",
       " CartesianIndex(0, 9, -2, -9, -7)\n",
       " CartesianIndex(0, 10, -1, -8, -9)"
      ]
     },
     "metadata": {},
     "output_type": "display_data"
    }
   ],
   "source": [
    "# Define all possible states and actions (with constraints)\n",
    "# [progress, power, h2o, o2, food]\n",
    "indexed = LinearIndices((max_progress, max_power, max_h2o, max_o2, max_food))\n",
    "states = 1:indexed[max_progress, max_power, max_h2o, max_o2, max_food]\n",
    "\n",
    "basic_actions = [\n",
    "      CartesianIndex(1, -1, 0, 0, 0), # make mission progress\n",
    "      CartesianIndex(0, -1, 2, 0, 0), # make water \n",
    "      CartesianIndex(0, -2, -1, 1, 0), # make oxygen\n",
    "      CartesianIndex(0, -1, -1, -1, 2), # make food\n",
    "      CartesianIndex(0, 0, 0, 0, 0)\n",
    "] # do nothing\n",
    "consumed = CartesianIndex(0, consumed_power, consumed_h2o, consumed_o2, consumed_food)\n",
    "actions = [action - consumed for action in basic_actions]"
   ]
  },
  {
   "cell_type": "markdown",
   "metadata": {},
   "source": [
    "### Reward, Transition"
   ]
  },
  {
   "cell_type": "code",
   "execution_count": 4,
   "metadata": {},
   "outputs": [
    {
     "data": {
      "text/plain": [
       "outofbounds (generic function with 1 method)"
      ]
     },
     "metadata": {},
     "output_type": "display_data"
    }
   ],
   "source": [
    "# Determine if action is out of bounds\n",
    "# Associated consequences are reflected in transition/reward functions\n",
    "state_maxes = [max_progress, max_power, max_h2o, max_o2, max_food]\n",
    "function outofbounds(state, action)\n",
    "    for i in 1:length(state)\n",
    "        if ((state[i] + action[i]) < 1 || (state[i] + action[i]) > state_maxes[i])\n",
    "            return true\n",
    "        end\n",
    "    end\n",
    "    return false\n",
    "end"
   ]
  },
  {
   "cell_type": "code",
   "execution_count": 5,
   "metadata": {},
   "outputs": [
    {
     "data": {
      "text/plain": [
       "reward (generic function with 1 method)"
      ]
     },
     "metadata": {},
     "output_type": "display_data"
    }
   ],
   "source": [
    "function reward(s, a)\n",
    "    svec = CartesianIndices((max_progress, max_power, max_h2o, max_o2, max_food))[s]\n",
    "    if svec[1] == max_progress\n",
    "        r = 1000\n",
    "    elseif outofbounds(svec, a) # If invalid action\n",
    "        r = -Inf\n",
    "    else\n",
    "        r = -1\n",
    "    end\n",
    "    return r\n",
    "end\n",
    "#end    "
   ]
  },
  {
   "cell_type": "code",
   "execution_count": 6,
   "metadata": {},
   "outputs": [
    {
     "data": {
      "text/plain": [
       "transition (generic function with 1 method)"
      ]
     },
     "metadata": {},
     "output_type": "display_data"
    }
   ],
   "source": [
    "function transition(s, a)\n",
    "    svec = CartesianIndices((max_progress, max_power, max_h2o, max_o2, max_food))[s]\n",
    "    svec = collect(Tuple(svec))\n",
    "    a = collect(Tuple(a))\n",
    "    if outofbounds(svec, a)\n",
    "        if outofbounds(svec, a)\n",
    "            svec[2] = max_power\n",
    "        end\n",
    "        spvec = svec\n",
    "    else\n",
    "        if outofbounds(svec, a)\n",
    "            svec[2] = max_power\n",
    "        end\n",
    "        x = rand()\n",
    "        if (x < p_no_mission_progress)\n",
    "            spvec = svec # no progress\n",
    "        elseif (x < (p_water_loss + p_no_mission_progress))\n",
    "            svec[3] = 1 # lose all water\n",
    "            spvec = svec + a\n",
    "        elseif (x<(p_water_loss + p_power_fail + p_no_mission_progress))\n",
    "            svec[2] = 1 # lose all energy\n",
    "            spvec = svec + a\n",
    "        elseif (x < (p_mission_regression + p_water_loss + p_power_fail + p_no_mission_progress) && svec[3] > 1)\n",
    "            svec[1] = svec[1] - 1 # backwards progress mission\n",
    "            spvec = svec + a\n",
    "        else \n",
    "            spvec = svec + a\n",
    "        end\n",
    "    end\n",
    "    spvec = CartesianIndex(Tuple(spvec))\n",
    "    sp = indexed[spvec] #linear index\n",
    "    return sp\n",
    "end\n"
   ]
  },
  {
   "cell_type": "code",
   "execution_count": 7,
   "metadata": {},
   "outputs": [
    {
     "data": {
      "text/plain": [
       "MCTSPlanner{QuickMDP{UUID(\"b84d75fd-b42a-44ae-bda9-68a7f292d287\"), Int64, CartesianIndex{5}, NamedTuple{(:stateindex, :isterminal, :actionindex, :initialstate, :transition, :states, :actions, :discount, :reward), Tuple{Dict{Int64, Int64}, var\"#13#16\", Dict{CartesianIndex{5}, Int64}, Deterministic{Int64}, var\"#14#17\", UnitRange{Int64}, Vector{CartesianIndex{5}}, Float64, var\"#15#18\"}}}, Int64, CartesianIndex{5}, MCTS.SolvedRolloutEstimator{RandomPolicy{Random._GLOBAL_RNG, QuickMDP{UUID(\"b84d75fd-b42a-44ae-bda9-68a7f292d287\"), Int64, CartesianIndex{5}, NamedTuple{(:stateindex, :isterminal, :actionindex, :initialstate, :transition, :states, :actions, :discount, :reward), Tuple{Dict{Int64, Int64}, var\"#13#16\", Dict{CartesianIndex{5}, Int64}, Deterministic{Int64}, var\"#14#17\", UnitRange{Int64}, Vector{CartesianIndex{5}}, Float64, var\"#15#18\"}}}, NothingUpdater}, Random._GLOBAL_RNG}, Random._GLOBAL_RNG}(MCTSSolver(1000, Inf, 100, 5.0, Random._GLOBAL_RNG(), RolloutEstimator(RandomSolver(Random._GLOBAL_RNG()), 50, 0.0), 0.0, 0, false, false, MCTS.var\"#5#7\"()), QuickMDP{UUID(\"b84d75fd-b42a-44ae-bda9-68a7f292d287\"), Int64, CartesianIndex{5}, NamedTuple{(:stateindex, :isterminal, :actionindex, :initialstate, :transition, :states, :actions, :discount, :reward), Tuple{Dict{Int64, Int64}, var\"#13#16\", Dict{CartesianIndex{5}, Int64}, Deterministic{Int64}, var\"#14#17\", UnitRange{Int64}, Vector{CartesianIndex{5}}, Float64, var\"#15#18\"}}}((stateindex = Dict(395569 => 395569, 371966 => 371966, 437164 => 437164, 596187 => 596187, 620993 => 620993, 656260 => 656260, 600380 => 600380, 718997 => 718997, 737686 => 737686, 427681 => 427681…), isterminal = var\"#13#16\"(), actionindex = Dict{CartesianIndex{5}, Int64}(CartesianIndex(0, 9, 1, -8, -9) => 2, CartesianIndex(1, 9, -1, -8, -9) => 1, CartesianIndex(0, 8, -2, -7, -9) => 3, CartesianIndex(0, 9, -2, -9, -7) => 4, CartesianIndex(0, 10, -1, -8, -9) => 5), initialstate = Deterministic{Int64}(799996), transition = var\"#14#17\"(), states = 1:800000, actions = CartesianIndex{5}[CartesianIndex(1, 9, -1, -8, -9), CartesianIndex(0, 9, 1, -8, -9), CartesianIndex(0, 8, -2, -7, -9), CartesianIndex(0, 9, -2, -9, -7), CartesianIndex(0, 10, -1, -8, -9)], discount = 0.95, reward = var\"#15#18\"())), MCTS.MCTSTree{Int64, CartesianIndex{5}}(Dict{Int64, Int64}(), Vector{Int64}[], Int64[], Int64[], Int64[], Float64[], CartesianIndex{5}[], Dict{Pair{Int64, Int64}, Int64}()), MCTS.SolvedRolloutEstimator{RandomPolicy{Random._GLOBAL_RNG, QuickMDP{UUID(\"b84d75fd-b42a-44ae-bda9-68a7f292d287\"), Int64, CartesianIndex{5}, NamedTuple{(:stateindex, :isterminal, :actionindex, :initialstate, :transition, :states, :actions, :discount, :reward), Tuple{Dict{Int64, Int64}, var\"#13#16\", Dict{CartesianIndex{5}, Int64}, Deterministic{Int64}, var\"#14#17\", UnitRange{Int64}, Vector{CartesianIndex{5}}, Float64, var\"#15#18\"}}}, NothingUpdater}, Random._GLOBAL_RNG}(RandomPolicy{Random._GLOBAL_RNG, QuickMDP{UUID(\"b84d75fd-b42a-44ae-bda9-68a7f292d287\"), Int64, CartesianIndex{5}, NamedTuple{(:stateindex, :isterminal, :actionindex, :initialstate, :transition, :states, :actions, :discount, :reward), Tuple{Dict{Int64, Int64}, var\"#13#16\", Dict{CartesianIndex{5}, Int64}, Deterministic{Int64}, var\"#14#17\", UnitRange{Int64}, Vector{CartesianIndex{5}}, Float64, var\"#15#18\"}}}, NothingUpdater}(Random._GLOBAL_RNG(), QuickMDP{UUID(\"b84d75fd-b42a-44ae-bda9-68a7f292d287\"), Int64, CartesianIndex{5}, NamedTuple{(:stateindex, :isterminal, :actionindex, :initialstate, :transition, :states, :actions, :discount, :reward), Tuple{Dict{Int64, Int64}, var\"#13#16\", Dict{CartesianIndex{5}, Int64}, Deterministic{Int64}, var\"#14#17\", UnitRange{Int64}, Vector{CartesianIndex{5}}, Float64, var\"#15#18\"}}}((stateindex = Dict(395569 => 395569, 371966 => 371966, 437164 => 437164, 596187 => 596187, 620993 => 620993, 656260 => 656260, 600380 => 600380, 718997 => 718997, 737686 => 737686, 427681 => 427681…), isterminal = var\"#13#16\"(), actionindex = Dict{CartesianIndex{5}, Int64}(CartesianIndex(0, 9, 1, -8, -9) => 2, CartesianIndex(1, 9, -1, -8, -9) => 1, CartesianIndex(0, 8, -2, -7, -9) => 3, CartesianIndex(0, 9, -2, -9, -7) => 4, CartesianIndex(0, 10, -1, -8, -9) => 5), initialstate = Deterministic{Int64}(799996), transition = var\"#14#17\"(), states = 1:800000, actions = CartesianIndex{5}[CartesianIndex(1, 9, -1, -8, -9), CartesianIndex(0, 9, 1, -8, -9), CartesianIndex(0, 8, -2, -7, -9), CartesianIndex(0, 9, -2, -9, -7), CartesianIndex(0, 10, -1, -8, -9)], discount = 0.95, reward = var\"#15#18\"())), NothingUpdater()), Random._GLOBAL_RNG(), 50, 0.0), Random._GLOBAL_RNG())"
      ]
     },
     "metadata": {},
     "output_type": "display_data"
    }
   ],
   "source": [
    "initialindex = indexed[1, 20, 20, 20, 20]\n",
    "initialstate = Deterministic(initialindex)\n",
    "\n",
    "mission = QuickMDP(\n",
    "    states = states,\n",
    "    actions = actions,\n",
    "    initialstate = initialstate,\n",
    "    discount = 0.95,\n",
    "    isterminal = s -> CartesianIndices((max_progress, max_power, max_h2o, max_o2, max_food))[s][1] == max_progress,\n",
    "\n",
    "    transition = function(s,a)\n",
    "        return Deterministic(transition(s,a))\n",
    "    end,\n",
    "\n",
    "    reward = function (s, a)\n",
    "        return reward(s,a)\n",
    "    end\n",
    ")\n",
    "\n",
    "\n",
    "solver = MCTSSolver(n_iterations=1000, depth=100, exploration_constant=5.0)\n",
    "policy = solve(solver, mission)"
   ]
  },
  {
   "cell_type": "code",
   "execution_count": 8,
   "metadata": {},
   "outputs": [
    {
     "name": "stdout",
     "output_type": "stream",
     "text": [
      "CartesianIndex(1, 9, -1, -8, -9)"
     ]
    },
    {
     "name": "stdout",
     "output_type": "stream",
     "text": [
      "CartesianIndex(1, 9, -1, -8, -9)"
     ]
    },
    {
     "name": "stdout",
     "output_type": "stream",
     "text": [
      "CartesianIndex(1, 9, -1, -8, -9)"
     ]
    },
    {
     "name": "stdout",
     "output_type": "stream",
     "text": [
      "CartesianIndex(1, 9, -1, -8, -9)"
     ]
    },
    {
     "name": "stdout",
     "output_type": "stream",
     "text": [
      "CartesianIndex(1, 9, -1, -8, -9)"
     ]
    },
    {
     "name": "stdout",
     "output_type": "stream",
     "text": [
      "CartesianIndex(1, 9, -1, -8, -9)"
     ]
    },
    {
     "name": "stdout",
     "output_type": "stream",
     "text": [
      "CartesianIndex(1, 9, -1, -8, -9)"
     ]
    },
    {
     "name": "stdout",
     "output_type": "stream",
     "text": [
      "CartesianIndex(1, 9, -1, -8, -9)"
     ]
    },
    {
     "name": "stdout",
     "output_type": "stream",
     "text": [
      "CartesianIndex(1, 9, -1, -8, -9)"
     ]
    },
    {
     "name": "stdout",
     "output_type": "stream",
     "text": [
      "CartesianIndex(1, 9, -1, -8, -9)"
     ]
    },
    {
     "name": "stdout",
     "output_type": "stream",
     "text": [
      "CartesianIndex(1, 9, -1, -8, -9)"
     ]
    },
    {
     "name": "stdout",
     "output_type": "stream",
     "text": [
      "CartesianIndex(1, 9, -1, -8, -9)"
     ]
    },
    {
     "name": "stdout",
     "output_type": "stream",
     "text": [
      "CartesianIndex(1, 9, -1, -8, -9)"
     ]
    },
    {
     "name": "stdout",
     "output_type": "stream",
     "text": [
      "CartesianIndex(1, 9, -1, -8, -9)"
     ]
    },
    {
     "name": "stdout",
     "output_type": "stream",
     "text": [
      "CartesianIndex(1, 9, -1, -8, -9)"
     ]
    },
    {
     "name": "stdout",
     "output_type": "stream",
     "text": [
      "CartesianIndex(1, 9, -1, -8, -9)"
     ]
    },
    {
     "name": "stdout",
     "output_type": "stream",
     "text": [
      "CartesianIndex(1, 9, -1, -8, -9)"
     ]
    },
    {
     "name": "stdout",
     "output_type": "stream",
     "text": [
      "CartesianIndex(1, 9, -1, -8, -9)"
     ]
    },
    {
     "name": "stdout",
     "output_type": "stream",
     "text": [
      "CartesianIndex(1, 9, -1, -8, -9)"
     ]
    },
    {
     "name": "stdout",
     "output_type": "stream",
     "text": [
      "CartesianIndex(1, 9, -1, -8, -9)"
     ]
    },
    {
     "name": "stdout",
     "output_type": "stream",
     "text": [
      "CartesianIndex(1, 9, -1, -8, -9)"
     ]
    },
    {
     "name": "stdout",
     "output_type": "stream",
     "text": [
      "CartesianIndex(1, 9, -1, -8, -9)"
     ]
    },
    {
     "name": "stdout",
     "output_type": "stream",
     "text": [
      "CartesianIndex(1, 9, -1, -8, -9)"
     ]
    },
    {
     "name": "stdout",
     "output_type": "stream",
     "text": [
      "CartesianIndex(1, 9, -1, -8, -9)"
     ]
    },
    {
     "name": "stdout",
     "output_type": "stream",
     "text": [
      "CartesianIndex(1, 9, -1, -8, -9)"
     ]
    },
    {
     "name": "stdout",
     "output_type": "stream",
     "text": [
      "CartesianIndex(1, 9, -1, -8, -9)"
     ]
    },
    {
     "name": "stdout",
     "output_type": "stream",
     "text": [
      "CartesianIndex(1, 9, -1, -8, -9)"
     ]
    },
    {
     "name": "stdout",
     "output_type": "stream",
     "text": [
      "CartesianIndex(1, 9, -1, -8, -9)"
     ]
    },
    {
     "name": "stdout",
     "output_type": "stream",
     "text": [
      "CartesianIndex(1, 9, -1, -8, -9)"
     ]
    },
    {
     "name": "stdout",
     "output_type": "stream",
     "text": [
      "CartesianIndex(1, 9, -1, -8, -9)"
     ]
    },
    {
     "name": "stdout",
     "output_type": "stream",
     "text": [
      "CartesianIndex(1, 9, -1, -8, -9)"
     ]
    },
    {
     "name": "stdout",
     "output_type": "stream",
     "text": [
      "CartesianIndex(1, 9, -1, -8, -9)"
     ]
    },
    {
     "name": "stdout",
     "output_type": "stream",
     "text": [
      "CartesianIndex(1, 9, -1, -8, -9)"
     ]
    },
    {
     "name": "stdout",
     "output_type": "stream",
     "text": [
      "CartesianIndex(1, 9, -1, -8, -9)"
     ]
    },
    {
     "name": "stdout",
     "output_type": "stream",
     "text": [
      "CartesianIndex(1, 9, -1, -8, -9)"
     ]
    },
    {
     "name": "stdout",
     "output_type": "stream",
     "text": [
      "CartesianIndex(1, 9, -1, -8, -9)"
     ]
    },
    {
     "name": "stdout",
     "output_type": "stream",
     "text": [
      "CartesianIndex(1, 9, -1, -8, -9)"
     ]
    },
    {
     "name": "stdout",
     "output_type": "stream",
     "text": [
      "CartesianIndex(1, 9, -1, -8, -9)"
     ]
    },
    {
     "name": "stdout",
     "output_type": "stream",
     "text": [
      "CartesianIndex(1, 9, -1, -8, -9)"
     ]
    },
    {
     "name": "stdout",
     "output_type": "stream",
     "text": [
      "CartesianIndex(1, 9, -1, -8, -9)"
     ]
    },
    {
     "name": "stdout",
     "output_type": "stream",
     "text": [
      "CartesianIndex(1, 9, -1, -8, -9)"
     ]
    },
    {
     "name": "stdout",
     "output_type": "stream",
     "text": [
      "CartesianIndex(1, 9, -1, -8, -9)"
     ]
    },
    {
     "name": "stdout",
     "output_type": "stream",
     "text": [
      "CartesianIndex(1, 9, -1, -8, -9)"
     ]
    },
    {
     "name": "stdout",
     "output_type": "stream",
     "text": [
      "CartesianIndex(1, 9, -1, -8, -9)"
     ]
    },
    {
     "name": "stdout",
     "output_type": "stream",
     "text": [
      "CartesianIndex(1, 9, -1, -8, -9)"
     ]
    },
    {
     "name": "stdout",
     "output_type": "stream",
     "text": [
      "CartesianIndex(1, 9, -1, -8, -9)"
     ]
    },
    {
     "name": "stdout",
     "output_type": "stream",
     "text": [
      "CartesianIndex(1, 9, -1, -8, -9)"
     ]
    },
    {
     "name": "stdout",
     "output_type": "stream",
     "text": [
      "CartesianIndex(1, 9, -1, -8, -9)"
     ]
    },
    {
     "name": "stdout",
     "output_type": "stream",
     "text": [
      "CartesianIndex(1, 9, -1, -8, -9)"
     ]
    },
    {
     "name": "stdout",
     "output_type": "stream",
     "text": [
      "CartesianIndex(1, 9, -1, -8, -9)"
     ]
    },
    {
     "name": "stdout",
     "output_type": "stream",
     "text": [
      "CartesianIndex(1, 9, -1, -8, -9)"
     ]
    },
    {
     "name": "stdout",
     "output_type": "stream",
     "text": [
      "CartesianIndex(1, 9, -1, -8, -9)"
     ]
    },
    {
     "name": "stdout",
     "output_type": "stream",
     "text": [
      "CartesianIndex(1, 9, -1, -8, -9)"
     ]
    },
    {
     "name": "stdout",
     "output_type": "stream",
     "text": [
      "CartesianIndex(1, 9, -1, -8, -9)"
     ]
    },
    {
     "name": "stdout",
     "output_type": "stream",
     "text": [
      "CartesianIndex(1, 9, -1, -8, -9)"
     ]
    },
    {
     "name": "stdout",
     "output_type": "stream",
     "text": [
      "CartesianIndex(1, 9, -1, -8, -9)"
     ]
    },
    {
     "name": "stdout",
     "output_type": "stream",
     "text": [
      "CartesianIndex(1, 9, -1, -8, -9)"
     ]
    },
    {
     "name": "stdout",
     "output_type": "stream",
     "text": [
      "CartesianIndex(1, 9, -1, -8, -9)"
     ]
    },
    {
     "name": "stdout",
     "output_type": "stream",
     "text": [
      "CartesianIndex(1, 9, -1, -8, -9)"
     ]
    },
    {
     "name": "stdout",
     "output_type": "stream",
     "text": [
      "CartesianIndex(1, 9, -1, -8, -9)"
     ]
    },
    {
     "name": "stdout",
     "output_type": "stream",
     "text": [
      "CartesianIndex(1, 9, -1, -8, -9)"
     ]
    },
    {
     "name": "stdout",
     "output_type": "stream",
     "text": [
      "CartesianIndex(1, 9, -1, -8, -9)"
     ]
    },
    {
     "name": "stdout",
     "output_type": "stream",
     "text": [
      "CartesianIndex(1, 9, -1, -8, -9)"
     ]
    },
    {
     "name": "stdout",
     "output_type": "stream",
     "text": [
      "CartesianIndex(1, 9, -1, -8, -9)"
     ]
    },
    {
     "name": "stdout",
     "output_type": "stream",
     "text": [
      "CartesianIndex(1, 9, -1, -8, -9)"
     ]
    },
    {
     "name": "stdout",
     "output_type": "stream",
     "text": [
      "CartesianIndex(1, 9, -1, -8, -9)"
     ]
    },
    {
     "name": "stdout",
     "output_type": "stream",
     "text": [
      "CartesianIndex(1, 9, -1, -8, -9)"
     ]
    },
    {
     "name": "stdout",
     "output_type": "stream",
     "text": [
      "CartesianIndex(1, 9, -1, -8, -9)"
     ]
    },
    {
     "name": "stdout",
     "output_type": "stream",
     "text": [
      "CartesianIndex(1, 9, -1, -8, -9)"
     ]
    },
    {
     "name": "stdout",
     "output_type": "stream",
     "text": [
      "CartesianIndex(1, 9, -1, -8, -9)"
     ]
    },
    {
     "name": "stdout",
     "output_type": "stream",
     "text": [
      "CartesianIndex(1, 9, -1, -8, -9)"
     ]
    },
    {
     "name": "stdout",
     "output_type": "stream",
     "text": [
      "CartesianIndex(1, 9, -1, -8, -9)"
     ]
    },
    {
     "name": "stdout",
     "output_type": "stream",
     "text": [
      "CartesianIndex(1, 9, -1, -8, -9)"
     ]
    },
    {
     "name": "stdout",
     "output_type": "stream",
     "text": [
      "CartesianIndex(1, 9, -1, -8, -9)"
     ]
    },
    {
     "name": "stdout",
     "output_type": "stream",
     "text": [
      "CartesianIndex(1, 9, -1, -8, -9)"
     ]
    },
    {
     "name": "stdout",
     "output_type": "stream",
     "text": [
      "CartesianIndex(1, 9, -1, -8, -9)"
     ]
    },
    {
     "name": "stdout",
     "output_type": "stream",
     "text": [
      "CartesianIndex(1, 9, -1, -8, -9)"
     ]
    },
    {
     "name": "stdout",
     "output_type": "stream",
     "text": [
      "CartesianIndex(1, 9, -1, -8, -9)"
     ]
    },
    {
     "name": "stdout",
     "output_type": "stream",
     "text": [
      "CartesianIndex(1, 9, -1, -8, -9)"
     ]
    },
    {
     "name": "stdout",
     "output_type": "stream",
     "text": [
      "CartesianIndex(1, 9, -1, -8, -9)"
     ]
    }
   ],
   "source": [
    "#simulate\n",
    "current_state = indexed[1, 20, 20, 20, 20] #initialstate(mission)\n",
    "states = collect(Tuple(CartesianIndices((max_progress, max_power, max_h2o, max_o2, max_food))[current_state]))\n",
    "rewards = [0.0]\n",
    "while(current_state[1] != state_maxes[1])\n",
    "    a = action(policy, current_state)\n",
    "    print(a)\n",
    "    current_state = transition(current_state, a)\n",
    "    r = reward(current_state, a)\n",
    "    append!(states, collect(Tuple(CartesianIndices((max_progress, max_power, max_h2o, max_o2, max_food))[current_state])))\n",
    "    append!(rewards, r)\n",
    "end\n",
    "\n",
    "for i in length(states):\n",
    "    states[i] = array(CartesianIndices((max_progress, max_power, max_h2o, max_o2, max_food))[s])\n",
    "end\n",
    "states = reshape(states, (5, Int(length(states)/5)))"
   ]
  },
  {
   "cell_type": "code",
   "execution_count": null,
   "metadata": {},
   "outputs": [],
   "source": [
    "#prepare to plot\n",
    "\n",
    "mission = states[3,:]\n",
    "resources_E = states[1, :]\n",
    "resources_H2O = states[2,:]\n",
    "resources_total = resources_E  + resources_H2O\n",
    "goal = fill(mission[end], length(mission))\n",
    "t = range(0, length=length(mission))\n",
    "rewards_accumulation = cumsum(rewards)\n"
   ]
  },
  {
   "cell_type": "code",
   "execution_count": null,
   "metadata": {},
   "outputs": [],
   "source": [
    "#plot Mission Progress over Resources\n",
    "p1 = plot()\n",
    "plot!(p1, mission, resources_total, marker=(:circle,5), arrow=true, arrowsize=0.1, legend=false)\n",
    "vline!(p1, goal[1])\n",
    "ylabel!(\"Resources\")\n",
    "xlabel!(\"Mission Progress\")\n",
    "ylims!(0.9, (state_dimensions[1] + state_dimensions[2] + 1))\n",
    "xlims!(0.9, state_dimensions[3] + 0.5)\n",
    "\n",
    "#savefig(p1, \"Mission Progress VS Resources.pdf\")"
   ]
  },
  {
   "cell_type": "code",
   "execution_count": null,
   "metadata": {},
   "outputs": [],
   "source": [
    "#plot Mission and Resource development over time\n",
    "#savefig(p2, \"Mission Progress VS Resources.pdf\")\n",
    "anim = @animate for i in 1:length(mission)\n",
    "    p2 = plot()\n",
    "    plot!(p2 , 1:i, goal[1:i],  linewidth=2,   label=\"Mission Goal\")\n",
    "    plot!(p2 ,1:i, [resources_E[1:i], resources_H2O[1:i]], label=[\"Resources Energy\" \"Resources H2O\"], title = \"Resource and Mission development over time\")\n",
    "    plot!(p2 ,1:i, mission[1:i], linewidth = 2,  label=\"Mission Progress\")\n",
    "    xlabel!(\"Time Steps\")\n",
    "    ylabel!(\"Mission Progress and Resources\")\n",
    "end\n",
    "\n",
    "\n",
    "gif(anim, fps=5)"
   ]
  },
  {
   "cell_type": "code",
   "execution_count": null,
   "metadata": {},
   "outputs": [],
   "source": [
    "#Resource level histogram\n",
    "p3 = bar(t, [resources_total, resources_E], xlabel=\"Time Steps\", ylabel=\"Resource Accumulation\", label=[\"Resources H20\" \"Resources Energy\"], title = \"Resource Reserves over time\")\n",
    "\n",
    "#savefig(p3, \"Resource Reserves.pdf\")"
   ]
  },
  {
   "cell_type": "code",
   "execution_count": null,
   "metadata": {},
   "outputs": [],
   "source": [
    "#Plot Reward accumulation over time\n",
    "layout = @layout [a b] #creates 1x2 subplots\n",
    "\n",
    "p4 = plot(t[1:end-1], rewards[1:end-1], subplot=1, layout=layout,legend=false)\n",
    "plot!(p4, t, rewards_accumulation, subplot=2, legend=false)\n",
    "xlabel!(p4, \"Time Steps\")\n",
    "ylabel!(p4, \"Rewards\", subplot=1)\n",
    "ylabel!(p4, \"Accumulated Rewards\", subplot=2)\n",
    "title!(p4,\"Rewards (except the \\n last time step)\", subplot = 1)\n",
    "title!(p4,\"Accumulated Rewards\", subplot = 2)\n",
    "\n",
    "#savefig(p4, \"Rewards.pdf\")"
   ]
  }
 ],
 "metadata": {
  "kernelspec": {
   "display_name": "Julia 1.9.3",
   "language": "julia",
   "name": "julia-1.9"
  },
  "language_info": {
   "file_extension": ".jl",
   "mimetype": "application/julia",
   "name": "julia",
   "version": "1.9.3"
  }
 },
 "nbformat": 4,
 "nbformat_minor": 2
}
