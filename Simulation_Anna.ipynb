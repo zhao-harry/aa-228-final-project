{
 "cells": [
  {
   "cell_type": "code",
   "execution_count": 1,
   "metadata": {},
   "outputs": [],
   "source": [
    "using QuickPOMDPs\n",
    "using POMDPs\n",
    "using POMDPTools\n",
    "using Distributions\n",
    "using LinearAlgebra\n",
    "using MCTS\n",
    "using POMDPSimulators\n",
    "using POMDPPolicies\n",
    "#using POMDPTutorials\n",
    "using POMDPModels\n",
    "using POMDPModelTools\n",
    "using Plots\n",
    "using CSV\n",
    "using Tables"
   ]
  },
  {
   "cell_type": "markdown",
   "metadata": {},
   "source": [
    "### Define problem"
   ]
  },
  {
   "cell_type": "markdown",
   "metadata": {},
   "source": [
    "*** Parameters"
   ]
  },
  {
   "cell_type": "code",
   "execution_count": 2,
   "metadata": {},
   "outputs": [
    {
     "data": {
      "text/plain": [
       "1"
      ]
     },
     "metadata": {},
     "output_type": "display_data"
    }
   ],
   "source": [
    "# Dimensions\n",
    "max_progress = 5\n",
    "max_power = 50\n",
    "max_h2o = 50\n",
    "max_o2 = 50\n",
    "max_food = 50\n",
    "\n",
    "# Uncertainties\n",
    "p_mission_regression = 0.05\n",
    "p_power_fail = 0.02\n",
    "p_water_loss = 0.02\n",
    "p_food_loss = 0.02\n",
    "p_no_mission_progress = 0.05\n",
    "\n",
    "# Resource consumption\n",
    "consumed_power = -2 # generated\n",
    "consumed_h2o = 1\n",
    "consumed_o2 = 1\n",
    "consumed_food = 1"
   ]
  },
  {
   "cell_type": "code",
   "execution_count": 3,
   "metadata": {},
   "outputs": [
    {
     "data": {
      "text/plain": [
       "5-element Vector{CartesianIndex{5}}:\n",
       " CartesianIndex(1, -1, -1, -1, -1)\n",
       " CartesianIndex(0, 0, 4, -1, -1)\n",
       " CartesianIndex(0, 0, -2, 4, -1)\n",
       " CartesianIndex(0, 0, -2, -2, 4)\n",
       " CartesianIndex(0, 2, -1, -1, -1)"
      ]
     },
     "metadata": {},
     "output_type": "display_data"
    }
   ],
   "source": [
    "# Define all possible states and actions (with constraints)\n",
    "# [progress, power, h2o, o2, food]\n",
    "indexed = LinearIndices((max_progress, max_power, max_h2o, max_o2, max_food))\n",
    "states = 1:indexed[max_progress, max_power, max_h2o, max_o2, max_food]\n",
    "\n",
    "basic_actions = [\n",
    "      CartesianIndex(1, -3, 0, 0, 0), # make mission progress\n",
    "      CartesianIndex(0, -2, 5, 0, 0), # make water \n",
    "      CartesianIndex(0, -2, -1, 5, 0), # make oxygen\n",
    "      CartesianIndex(0, -2, -1, -1, 5), # make food\n",
    "      CartesianIndex(0, 0, 0, 0, 0)\n",
    "] # do nothing\n",
    "consumed = CartesianIndex(0, consumed_power, consumed_h2o, consumed_o2, consumed_food)\n",
    "actions = [action - consumed for action in basic_actions]"
   ]
  },
  {
   "cell_type": "markdown",
   "metadata": {},
   "source": [
    "### Reward, Transition"
   ]
  },
  {
   "cell_type": "code",
   "execution_count": 4,
   "metadata": {},
   "outputs": [
    {
     "data": {
      "text/plain": [
       "clamp_state (generic function with 1 method)"
      ]
     },
     "metadata": {},
     "output_type": "display_data"
    }
   ],
   "source": [
    "# Determine if action is out of bounds\n",
    "# Associated consequences are reflected in transition/reward functions\n",
    "state_maxes = [max_progress, max_power, max_h2o, max_o2, max_food]\n",
    "\n",
    "function outofbounds(state, action)\n",
    "    for i in 1:length(state)\n",
    "        if ((state[i] + action[i]) < 1 || (state[i] + action[i]) > state_maxes[i])\n",
    "            return true\n",
    "        end\n",
    "    end\n",
    "    return false\n",
    "end\n",
    "\n",
    "# Determine if action is out of bounds\n",
    "# Associated consequences are reflected in transition/reward functions\n",
    "state_maxes = [max_progress, max_power, max_h2o, max_o2, max_food]\n",
    "function clamp_state(state)\n",
    "    for i in 1:length(state)\n",
    "        state[i] = clamp(state[i], 1, state_maxes[i])\n",
    "    end\n",
    "    return state\n",
    "end"
   ]
  },
  {
   "cell_type": "code",
   "execution_count": 5,
   "metadata": {},
   "outputs": [
    {
     "data": {
      "text/plain": [
       "reward (generic function with 1 method)"
      ]
     },
     "metadata": {},
     "output_type": "display_data"
    }
   ],
   "source": [
    "function reward(s, a)\n",
    "    svec = CartesianIndices((max_progress, max_power, max_h2o, max_o2, max_food))[s]\n",
    "    if svec[1] == max_progress\n",
    "        r = 1000\n",
    "    elseif outofbounds(svec, a) # If invalid action\n",
    "        r = -1000000\n",
    "    else\n",
    "        r = -1\n",
    "    end\n",
    "    return r\n",
    "end\n",
    "#end    "
   ]
  },
  {
   "cell_type": "code",
   "execution_count": 23,
   "metadata": {},
   "outputs": [
    {
     "data": {
      "text/plain": [
       "transition (generic function with 1 method)"
      ]
     },
     "metadata": {},
     "output_type": "display_data"
    }
   ],
   "source": [
    "     #thought: when we make no mission progress or lose water - we would still consume/produce energy??\n",
    "\n",
    "# Transition function\n",
    "function transition(s, a)\n",
    "    p_nominal = 1 - p_no_mission_progress - p_water_loss - p_power_fail - p_mission_regression \n",
    "    probabilities = [p_no_mission_progress, p_water_loss, p_power_fail, p_mission_regression, p_nominal]\n",
    "\n",
    "    svec = CartesianIndices((max_progress, max_power, max_h2o, max_o2, max_food))[s]\n",
    "    svec = collect(Tuple(svec))\n",
    "    a = collect(Tuple(a))\n",
    "\n",
    "    if outofbounds(svec, a)\n",
    "        return s\n",
    "    else\n",
    "        spvec_no_mission_progress = svec\n",
    "\n",
    "        spvec_water_loss = svec + a\n",
    "        spvec_water_loss[3] = 1 # lose all water\n",
    "\n",
    "        spvec_power_fail = svec + a\n",
    "        spvec_power_fail[2] = 1 # lose all energy\n",
    "\n",
    "        spvec_mission_regression = svec + a\n",
    "        spvec_mission_regression[1] = spvec_mission_regression[1] - 1 # mission setback\n",
    "\n",
    "        spvec_nominal = svec + a\n",
    "\n",
    "        spvec = [spvec_no_mission_progress, spvec_water_loss, spvec_power_fail, spvec_mission_regression, spvec_nominal]\n",
    "    end\n",
    "    \n",
    "    desired_length = length(spvec)\n",
    "    cart_spvec = [CartesianIndex(1,1,1,1,1) for _ in 1:desired_length]\n",
    "    sp = []\n",
    "    for i in 1:length(probabilities)\n",
    "        spvec[i] = clamp_state(spvec[i])\n",
    "        cart_spvec[i] = CartesianIndex(Tuple(spvec[i]))\n",
    "\n",
    "        push!(sp, indexed[CartesianIndex(Tuple(spvec[i]))])\n",
    "    end\n",
    "\n",
    "    return  rand(SparseCat(sp, probabilities))\n",
    "end\n"
   ]
  },
  {
   "cell_type": "markdown",
   "metadata": {},
   "source": [
    "*** Simulate"
   ]
  },
  {
   "cell_type": "code",
   "execution_count": 24,
   "metadata": {},
   "outputs": [],
   "source": [
    "struct setup_struct\n",
    "    initial_state::Int\n",
    "    policy::Int\n",
    "end"
   ]
  },
  {
   "cell_type": "code",
   "execution_count": 25,
   "metadata": {},
   "outputs": [],
   "source": [
    "#generate different setups to generate data\n",
    "possible_initials = [indexed[1, 20, 20, 20, 20], indexed[4, 20, 20, 20, 20], indexed[2, 10, 10, 10, 10], indexed[1, 1, 1, 1, 1], indexed[3, 10, 1, 10, 1]]\n",
    "possible_actions = [0, 1, 2, 3, 4 ,5]\n",
    "\n",
    "setups = []\n",
    "for i in 1:length(possible_actions)\n",
    "    for j in 1:length(possible_initials)\n",
    "        push!(setups, setup_struct(possible_initials[j], possible_actions[i]))\n",
    "    end\n",
    "end\n"
   ]
  },
  {
   "cell_type": "code",
   "execution_count": 26,
   "metadata": {},
   "outputs": [
    {
     "data": {
      "text/plain": [
       "11541846"
      ]
     },
     "metadata": {},
     "output_type": "display_data"
    },
    {
     "data": {
      "text/plain": [
       "10905346"
      ]
     },
     "metadata": {},
     "output_type": "display_data"
    },
    {
     "data": {
      "text/plain": [
       "10329846"
      ]
     },
     "metadata": {},
     "output_type": "display_data"
    },
    {
     "data": {
      "text/plain": [
       "9692106"
      ]
     },
     "metadata": {},
     "output_type": "display_data"
    },
    {
     "data": {
      "text/plain": [
       "9054352"
      ]
     },
     "metadata": {},
     "output_type": "display_data"
    },
    {
     "data": {
      "text/plain": [
       "11528852"
      ]
     },
     "metadata": {},
     "output_type": "display_data"
    },
    {
     "data": {
      "text/plain": [
       "10891112"
      ]
     },
     "metadata": {},
     "output_type": "display_data"
    },
    {
     "data": {
      "text/plain": [
       "10315612"
      ]
     },
     "metadata": {},
     "output_type": "display_data"
    },
    {
     "data": {
      "text/plain": [
       "9740112"
      ]
     },
     "metadata": {},
     "output_type": "display_data"
    },
    {
     "data": {
      "text/plain": [
       "9102358"
      ]
     },
     "metadata": {},
     "output_type": "display_data"
    },
    {
     "data": {
      "text/plain": [
       "8526858"
      ]
     },
     "metadata": {},
     "output_type": "display_data"
    },
    {
     "data": {
      "text/plain": [
       "7890358"
      ]
     },
     "metadata": {},
     "output_type": "display_data"
    },
    {
     "data": {
      "text/plain": [
       "7252618"
      ]
     },
     "metadata": {},
     "output_type": "display_data"
    },
    {
     "data": {
      "text/plain": [
       "9727118"
      ]
     },
     "metadata": {},
     "output_type": "display_data"
    },
    {
     "data": {
      "text/plain": [
       "9089364"
      ]
     },
     "metadata": {},
     "output_type": "display_data"
    },
    {
     "data": {
      "text/plain": [
       "8451624"
      ]
     },
     "metadata": {},
     "output_type": "display_data"
    },
    {
     "data": {
      "text/plain": [
       "8451624"
      ]
     },
     "metadata": {},
     "output_type": "display_data"
    },
    {
     "data": {
      "text/plain": [
       "7813870"
      ]
     },
     "metadata": {},
     "output_type": "display_data"
    },
    {
     "data": {
      "text/plain": [
       "12117349"
      ]
     },
     "metadata": {},
     "output_type": "display_data"
    },
    {
     "data": {
      "text/plain": [
       "11541849"
      ]
     },
     "metadata": {},
     "output_type": "display_data"
    },
    {
     "data": {
      "text/plain": [
       "10904095"
      ]
     },
     "metadata": {},
     "output_type": "display_data"
    },
    {
     "data": {
      "text/plain": [
       "5164297"
      ]
     },
     "metadata": {},
     "output_type": "display_data"
    },
    {
     "data": {
      "text/plain": [
       "5164297"
      ]
     },
     "metadata": {},
     "output_type": "display_data"
    },
    {
     "data": {
      "text/plain": [
       "7638796"
      ]
     },
     "metadata": {},
     "output_type": "display_data"
    },
    {
     "data": {
      "text/plain": [
       "7001042"
      ]
     },
     "metadata": {},
     "output_type": "display_data"
    },
    {
     "data": {
      "text/plain": [
       "6364542"
      ]
     },
     "metadata": {},
     "output_type": "display_data"
    },
    {
     "data": {
      "text/plain": [
       "5726788"
      ]
     },
     "metadata": {},
     "output_type": "display_data"
    },
    {
     "data": {
      "text/plain": [
       "8201288"
      ]
     },
     "metadata": {},
     "output_type": "display_data"
    },
    {
     "data": {
      "text/plain": [
       "8201288"
      ]
     },
     "metadata": {},
     "output_type": "display_data"
    },
    {
     "data": {
      "text/plain": [
       "7625788"
      ]
     },
     "metadata": {},
     "output_type": "display_data"
    },
    {
     "data": {
      "text/plain": [
       "6987538"
      ]
     },
     "metadata": {},
     "output_type": "display_data"
    },
    {
     "data": {
      "text/plain": [
       "6987538"
      ]
     },
     "metadata": {},
     "output_type": "display_data"
    },
    {
     "data": {
      "text/plain": [
       "6987538"
      ]
     },
     "metadata": {},
     "output_type": "display_data"
    },
    {
     "data": {
      "text/plain": [
       "6987538"
      ]
     },
     "metadata": {},
     "output_type": "display_data"
    },
    {
     "data": {
      "text/plain": [
       "6351038"
      ]
     },
     "metadata": {},
     "output_type": "display_data"
    },
    {
     "data": {
      "text/plain": [
       "5714538"
      ]
     },
     "metadata": {},
     "output_type": "display_data"
    },
    {
     "data": {
      "text/plain": [
       "5078037"
      ]
     },
     "metadata": {},
     "output_type": "display_data"
    },
    {
     "data": {
      "text/plain": [
       "4440252"
      ]
     },
     "metadata": {},
     "output_type": "display_data"
    },
    {
     "data": {
      "text/plain": [
       "3802512"
      ]
     },
     "metadata": {},
     "output_type": "display_data"
    },
    {
     "data": {
      "text/plain": [
       "3164758"
      ]
     },
     "metadata": {},
     "output_type": "display_data"
    },
    {
     "data": {
      "text/plain": [
       "2527017"
      ]
     },
     "metadata": {},
     "output_type": "display_data"
    },
    {
     "data": {
      "text/plain": [
       "5001517"
      ]
     },
     "metadata": {},
     "output_type": "display_data"
    },
    {
     "data": {
      "text/plain": [
       "5001517"
      ]
     },
     "metadata": {},
     "output_type": "display_data"
    },
    {
     "data": {
      "text/plain": [
       "5001517"
      ]
     },
     "metadata": {},
     "output_type": "display_data"
    },
    {
     "data": {
      "text/plain": [
       "5001517"
      ]
     },
     "metadata": {},
     "output_type": "display_data"
    },
    {
     "data": {
      "text/plain": [
       "4426017"
      ]
     },
     "metadata": {},
     "output_type": "display_data"
    },
    {
     "data": {
      "text/plain": [
       "3788263"
      ]
     },
     "metadata": {},
     "output_type": "display_data"
    },
    {
     "data": {
      "text/plain": [
       "6262763"
      ]
     },
     "metadata": {},
     "output_type": "display_data"
    },
    {
     "data": {
      "text/plain": [
       "5626263"
      ]
     },
     "metadata": {},
     "output_type": "display_data"
    },
    {
     "data": {
      "text/plain": [
       "5626263"
      ]
     },
     "metadata": {},
     "output_type": "display_data"
    },
    {
     "data": {
      "text/plain": [
       "5050763"
      ]
     },
     "metadata": {},
     "output_type": "display_data"
    },
    {
     "data": {
      "text/plain": [
       "4413009"
      ]
     },
     "metadata": {},
     "output_type": "display_data"
    },
    {
     "data": {
      "text/plain": [
       "3776509"
      ]
     },
     "metadata": {},
     "output_type": "display_data"
    },
    {
     "data": {
      "text/plain": [
       "6251009"
      ]
     },
     "metadata": {},
     "output_type": "display_data"
    },
    {
     "data": {
      "text/plain": [
       "5675509"
      ]
     },
     "metadata": {},
     "output_type": "display_data"
    },
    {
     "data": {
      "text/plain": [
       "8150009"
      ]
     },
     "metadata": {},
     "output_type": "display_data"
    },
    {
     "data": {
      "text/plain": [
       "8150009"
      ]
     },
     "metadata": {},
     "output_type": "display_data"
    },
    {
     "data": {
      "text/plain": [
       "1"
      ]
     },
     "metadata": {},
     "output_type": "display_data"
    },
    {
     "data": {
      "text/plain": [
       "1"
      ]
     },
     "metadata": {},
     "output_type": "display_data"
    },
    {
     "data": {
      "text/plain": [
       "1"
      ]
     },
     "metadata": {},
     "output_type": "display_data"
    },
    {
     "data": {
      "text/plain": [
       "1"
      ]
     },
     "metadata": {},
     "output_type": "display_data"
    },
    {
     "data": {
      "text/plain": [
       "1"
      ]
     },
     "metadata": {},
     "output_type": "display_data"
    },
    {
     "data": {
      "text/plain": [
       "1"
      ]
     },
     "metadata": {},
     "output_type": "display_data"
    },
    {
     "data": {
      "text/plain": [
       "1"
      ]
     },
     "metadata": {},
     "output_type": "display_data"
    },
    {
     "data": {
      "text/plain": [
       "1"
      ]
     },
     "metadata": {},
     "output_type": "display_data"
    },
    {
     "data": {
      "text/plain": [
       "1"
      ]
     },
     "metadata": {},
     "output_type": "display_data"
    },
    {
     "data": {
      "text/plain": [
       "1"
      ]
     },
     "metadata": {},
     "output_type": "display_data"
    },
    {
     "data": {
      "text/plain": [
       "112548"
      ]
     },
     "metadata": {},
     "output_type": "display_data"
    },
    {
     "data": {
      "text/plain": [
       "112548"
      ]
     },
     "metadata": {},
     "output_type": "display_data"
    },
    {
     "data": {
      "text/plain": [
       "112548"
      ]
     },
     "metadata": {},
     "output_type": "display_data"
    },
    {
     "data": {
      "text/plain": [
       "112548"
      ]
     },
     "metadata": {},
     "output_type": "display_data"
    },
    {
     "data": {
      "text/plain": [
       "112548"
      ]
     },
     "metadata": {},
     "output_type": "display_data"
    },
    {
     "data": {
      "text/plain": [
       "112548"
      ]
     },
     "metadata": {},
     "output_type": "display_data"
    },
    {
     "data": {
      "text/plain": [
       "112548"
      ]
     },
     "metadata": {},
     "output_type": "display_data"
    },
    {
     "data": {
      "text/plain": [
       "112548"
      ]
     },
     "metadata": {},
     "output_type": "display_data"
    },
    {
     "data": {
      "text/plain": [
       "112548"
      ]
     },
     "metadata": {},
     "output_type": "display_data"
    },
    {
     "data": {
      "text/plain": [
       "112548"
      ]
     },
     "metadata": {},
     "output_type": "display_data"
    },
    {
     "data": {
      "text/plain": [
       "11479592"
      ]
     },
     "metadata": {},
     "output_type": "display_data"
    },
    {
     "data": {
      "text/plain": [
       "10837588"
      ]
     },
     "metadata": {},
     "output_type": "display_data"
    },
    {
     "data": {
      "text/plain": [
       "10837588"
      ]
     },
     "metadata": {},
     "output_type": "display_data"
    },
    {
     "data": {
      "text/plain": [
       "10837588"
      ]
     },
     "metadata": {},
     "output_type": "display_data"
    },
    {
     "data": {
      "text/plain": [
       "10837588"
      ]
     },
     "metadata": {},
     "output_type": "display_data"
    },
    {
     "data": {
      "text/plain": [
       "10837588"
      ]
     },
     "metadata": {},
     "output_type": "display_data"
    },
    {
     "data": {
      "text/plain": [
       "10837588"
      ]
     },
     "metadata": {},
     "output_type": "display_data"
    },
    {
     "data": {
      "text/plain": [
       "10837588"
      ]
     },
     "metadata": {},
     "output_type": "display_data"
    },
    {
     "data": {
      "text/plain": [
       "10837588"
      ]
     },
     "metadata": {},
     "output_type": "display_data"
    },
    {
     "data": {
      "text/plain": [
       "10837588"
      ]
     },
     "metadata": {},
     "output_type": "display_data"
    },
    {
     "data": {
      "text/plain": [
       "10837588"
      ]
     },
     "metadata": {},
     "output_type": "display_data"
    },
    {
     "data": {
      "text/plain": [
       "10837588"
      ]
     },
     "metadata": {},
     "output_type": "display_data"
    },
    {
     "data": {
      "text/plain": [
       "12117349"
      ]
     },
     "metadata": {},
     "output_type": "display_data"
    },
    {
     "data": {
      "text/plain": [
       "11479595"
      ]
     },
     "metadata": {},
     "output_type": "display_data"
    },
    {
     "data": {
      "text/plain": [
       "5102043"
      ]
     },
     "metadata": {},
     "output_type": "display_data"
    },
    {
     "data": {
      "text/plain": [
       "4464289"
      ]
     },
     "metadata": {},
     "output_type": "display_data"
    },
    {
     "data": {
      "text/plain": [
       "3826535"
      ]
     },
     "metadata": {},
     "output_type": "display_data"
    },
    {
     "data": {
      "text/plain": [
       "1"
      ]
     },
     "metadata": {},
     "output_type": "display_data"
    },
    {
     "data": {
      "text/plain": [
       "1"
      ]
     },
     "metadata": {},
     "output_type": "display_data"
    },
    {
     "data": {
      "text/plain": [
       "1"
      ]
     },
     "metadata": {},
     "output_type": "display_data"
    },
    {
     "data": {
      "text/plain": [
       "1"
      ]
     },
     "metadata": {},
     "output_type": "display_data"
    },
    {
     "data": {
      "text/plain": [
       "1"
      ]
     },
     "metadata": {},
     "output_type": "display_data"
    },
    {
     "data": {
      "text/plain": [
       "1"
      ]
     },
     "metadata": {},
     "output_type": "display_data"
    },
    {
     "data": {
      "text/plain": [
       "1"
      ]
     },
     "metadata": {},
     "output_type": "display_data"
    },
    {
     "data": {
      "text/plain": [
       "1"
      ]
     },
     "metadata": {},
     "output_type": "display_data"
    },
    {
     "data": {
      "text/plain": [
       "1"
      ]
     },
     "metadata": {},
     "output_type": "display_data"
    },
    {
     "data": {
      "text/plain": [
       "1"
      ]
     },
     "metadata": {},
     "output_type": "display_data"
    },
    {
     "data": {
      "text/plain": [
       "112548"
      ]
     },
     "metadata": {},
     "output_type": "display_data"
    },
    {
     "data": {
      "text/plain": [
       "112548"
      ]
     },
     "metadata": {},
     "output_type": "display_data"
    },
    {
     "data": {
      "text/plain": [
       "112548"
      ]
     },
     "metadata": {},
     "output_type": "display_data"
    },
    {
     "data": {
      "text/plain": [
       "112548"
      ]
     },
     "metadata": {},
     "output_type": "display_data"
    },
    {
     "data": {
      "text/plain": [
       "112548"
      ]
     },
     "metadata": {},
     "output_type": "display_data"
    },
    {
     "data": {
      "text/plain": [
       "112548"
      ]
     },
     "metadata": {},
     "output_type": "display_data"
    },
    {
     "data": {
      "text/plain": [
       "112548"
      ]
     },
     "metadata": {},
     "output_type": "display_data"
    },
    {
     "data": {
      "text/plain": [
       "112548"
      ]
     },
     "metadata": {},
     "output_type": "display_data"
    },
    {
     "data": {
      "text/plain": [
       "112548"
      ]
     },
     "metadata": {},
     "output_type": "display_data"
    },
    {
     "data": {
      "text/plain": [
       "112548"
      ]
     },
     "metadata": {},
     "output_type": "display_data"
    },
    {
     "data": {
      "text/plain": [
       "11480846"
      ]
     },
     "metadata": {},
     "output_type": "display_data"
    },
    {
     "data": {
      "text/plain": [
       "10844346"
      ]
     },
     "metadata": {},
     "output_type": "display_data"
    },
    {
     "data": {
      "text/plain": [
       "10207846"
      ]
     },
     "metadata": {},
     "output_type": "display_data"
    },
    {
     "data": {
      "text/plain": [
       "9571346"
      ]
     },
     "metadata": {},
     "output_type": "display_data"
    },
    {
     "data": {
      "text/plain": [
       "8934846"
      ]
     },
     "metadata": {},
     "output_type": "display_data"
    },
    {
     "data": {
      "text/plain": [
       "8298346"
      ]
     },
     "metadata": {},
     "output_type": "display_data"
    },
    {
     "data": {
      "text/plain": [
       "7661846"
      ]
     },
     "metadata": {},
     "output_type": "display_data"
    },
    {
     "data": {
      "text/plain": [
       "7661846"
      ]
     },
     "metadata": {},
     "output_type": "display_data"
    },
    {
     "data": {
      "text/plain": [
       "7661846"
      ]
     },
     "metadata": {},
     "output_type": "display_data"
    },
    {
     "data": {
      "text/plain": [
       "7661846"
      ]
     },
     "metadata": {},
     "output_type": "display_data"
    },
    {
     "data": {
      "text/plain": [
       "7661846"
      ]
     },
     "metadata": {},
     "output_type": "display_data"
    },
    {
     "data": {
      "text/plain": [
       "7661846"
      ]
     },
     "metadata": {},
     "output_type": "display_data"
    },
    {
     "data": {
      "text/plain": [
       "7661846"
      ]
     },
     "metadata": {},
     "output_type": "display_data"
    },
    {
     "data": {
      "text/plain": [
       "7661846"
      ]
     },
     "metadata": {},
     "output_type": "display_data"
    },
    {
     "data": {
      "text/plain": [
       "7661846"
      ]
     },
     "metadata": {},
     "output_type": "display_data"
    },
    {
     "data": {
      "text/plain": [
       "7661846"
      ]
     },
     "metadata": {},
     "output_type": "display_data"
    },
    {
     "data": {
      "text/plain": [
       "7661846"
      ]
     },
     "metadata": {},
     "output_type": "display_data"
    },
    {
     "data": {
      "text/plain": [
       "11480849"
      ]
     },
     "metadata": {},
     "output_type": "display_data"
    },
    {
     "data": {
      "text/plain": [
       "10844349"
      ]
     },
     "metadata": {},
     "output_type": "display_data"
    },
    {
     "data": {
      "text/plain": [
       "10207849"
      ]
     },
     "metadata": {},
     "output_type": "display_data"
    },
    {
     "data": {
      "text/plain": [
       "10207849"
      ]
     },
     "metadata": {},
     "output_type": "display_data"
    },
    {
     "data": {
      "text/plain": [
       "9571349"
      ]
     },
     "metadata": {},
     "output_type": "display_data"
    },
    {
     "data": {
      "text/plain": [
       "8934849"
      ]
     },
     "metadata": {},
     "output_type": "display_data"
    },
    {
     "data": {
      "text/plain": [
       "8298349"
      ]
     },
     "metadata": {},
     "output_type": "display_data"
    },
    {
     "data": {
      "text/plain": [
       "7661848"
      ]
     },
     "metadata": {},
     "output_type": "display_data"
    },
    {
     "data": {
      "text/plain": [
       "7661848"
      ]
     },
     "metadata": {},
     "output_type": "display_data"
    },
    {
     "data": {
      "text/plain": [
       "7661848"
      ]
     },
     "metadata": {},
     "output_type": "display_data"
    },
    {
     "data": {
      "text/plain": [
       "7661848"
      ]
     },
     "metadata": {},
     "output_type": "display_data"
    },
    {
     "data": {
      "text/plain": [
       "7661848"
      ]
     },
     "metadata": {},
     "output_type": "display_data"
    },
    {
     "data": {
      "text/plain": [
       "7661848"
      ]
     },
     "metadata": {},
     "output_type": "display_data"
    },
    {
     "data": {
      "text/plain": [
       "7661848"
      ]
     },
     "metadata": {},
     "output_type": "display_data"
    },
    {
     "data": {
      "text/plain": [
       "7661848"
      ]
     },
     "metadata": {},
     "output_type": "display_data"
    },
    {
     "data": {
      "text/plain": [
       "7661848"
      ]
     },
     "metadata": {},
     "output_type": "display_data"
    },
    {
     "data": {
      "text/plain": [
       "7661848"
      ]
     },
     "metadata": {},
     "output_type": "display_data"
    },
    {
     "data": {
      "text/plain": [
       "5103297"
      ]
     },
     "metadata": {},
     "output_type": "display_data"
    },
    {
     "data": {
      "text/plain": [
       "4466797"
      ]
     },
     "metadata": {},
     "output_type": "display_data"
    },
    {
     "data": {
      "text/plain": [
       "3830297"
      ]
     },
     "metadata": {},
     "output_type": "display_data"
    },
    {
     "data": {
      "text/plain": [
       "3193797"
      ]
     },
     "metadata": {},
     "output_type": "display_data"
    },
    {
     "data": {
      "text/plain": [
       "2557297"
      ]
     },
     "metadata": {},
     "output_type": "display_data"
    },
    {
     "data": {
      "text/plain": [
       "1920796"
      ]
     },
     "metadata": {},
     "output_type": "display_data"
    },
    {
     "data": {
      "text/plain": [
       "1284296"
      ]
     },
     "metadata": {},
     "output_type": "display_data"
    },
    {
     "data": {
      "text/plain": [
       "647796"
      ]
     },
     "metadata": {},
     "output_type": "display_data"
    },
    {
     "data": {
      "text/plain": [
       "11296"
      ]
     },
     "metadata": {},
     "output_type": "display_data"
    },
    {
     "data": {
      "text/plain": [
       "11296"
      ]
     },
     "metadata": {},
     "output_type": "display_data"
    },
    {
     "data": {
      "text/plain": [
       "11296"
      ]
     },
     "metadata": {},
     "output_type": "display_data"
    },
    {
     "data": {
      "text/plain": [
       "11296"
      ]
     },
     "metadata": {},
     "output_type": "display_data"
    },
    {
     "data": {
      "text/plain": [
       "11296"
      ]
     },
     "metadata": {},
     "output_type": "display_data"
    },
    {
     "data": {
      "text/plain": [
       "11296"
      ]
     },
     "metadata": {},
     "output_type": "display_data"
    },
    {
     "data": {
      "text/plain": [
       "11296"
      ]
     },
     "metadata": {},
     "output_type": "display_data"
    },
    {
     "data": {
      "text/plain": [
       "11296"
      ]
     },
     "metadata": {},
     "output_type": "display_data"
    },
    {
     "data": {
      "text/plain": [
       "11296"
      ]
     },
     "metadata": {},
     "output_type": "display_data"
    },
    {
     "data": {
      "text/plain": [
       "11296"
      ]
     },
     "metadata": {},
     "output_type": "display_data"
    },
    {
     "data": {
      "text/plain": [
       "11296"
      ]
     },
     "metadata": {},
     "output_type": "display_data"
    },
    {
     "data": {
      "text/plain": [
       "1"
      ]
     },
     "metadata": {},
     "output_type": "display_data"
    },
    {
     "data": {
      "text/plain": [
       "1"
      ]
     },
     "metadata": {},
     "output_type": "display_data"
    },
    {
     "data": {
      "text/plain": [
       "1"
      ]
     },
     "metadata": {},
     "output_type": "display_data"
    },
    {
     "data": {
      "text/plain": [
       "1"
      ]
     },
     "metadata": {},
     "output_type": "display_data"
    },
    {
     "data": {
      "text/plain": [
       "1"
      ]
     },
     "metadata": {},
     "output_type": "display_data"
    },
    {
     "data": {
      "text/plain": [
       "1"
      ]
     },
     "metadata": {},
     "output_type": "display_data"
    },
    {
     "data": {
      "text/plain": [
       "1"
      ]
     },
     "metadata": {},
     "output_type": "display_data"
    },
    {
     "data": {
      "text/plain": [
       "1"
      ]
     },
     "metadata": {},
     "output_type": "display_data"
    },
    {
     "data": {
      "text/plain": [
       "1"
      ]
     },
     "metadata": {},
     "output_type": "display_data"
    },
    {
     "data": {
      "text/plain": [
       "1"
      ]
     },
     "metadata": {},
     "output_type": "display_data"
    },
    {
     "data": {
      "text/plain": [
       "112548"
      ]
     },
     "metadata": {},
     "output_type": "display_data"
    },
    {
     "data": {
      "text/plain": [
       "112548"
      ]
     },
     "metadata": {},
     "output_type": "display_data"
    },
    {
     "data": {
      "text/plain": [
       "112548"
      ]
     },
     "metadata": {},
     "output_type": "display_data"
    },
    {
     "data": {
      "text/plain": [
       "112548"
      ]
     },
     "metadata": {},
     "output_type": "display_data"
    },
    {
     "data": {
      "text/plain": [
       "112548"
      ]
     },
     "metadata": {},
     "output_type": "display_data"
    },
    {
     "data": {
      "text/plain": [
       "112548"
      ]
     },
     "metadata": {},
     "output_type": "display_data"
    },
    {
     "data": {
      "text/plain": [
       "112548"
      ]
     },
     "metadata": {},
     "output_type": "display_data"
    },
    {
     "data": {
      "text/plain": [
       "112548"
      ]
     },
     "metadata": {},
     "output_type": "display_data"
    },
    {
     "data": {
      "text/plain": [
       "112548"
      ]
     },
     "metadata": {},
     "output_type": "display_data"
    },
    {
     "data": {
      "text/plain": [
       "112548"
      ]
     },
     "metadata": {},
     "output_type": "display_data"
    },
    {
     "data": {
      "text/plain": [
       "11541846"
      ]
     },
     "metadata": {},
     "output_type": "display_data"
    },
    {
     "data": {
      "text/plain": [
       "10966346"
      ]
     },
     "metadata": {},
     "output_type": "display_data"
    },
    {
     "data": {
      "text/plain": [
       "10390846"
      ]
     },
     "metadata": {},
     "output_type": "display_data"
    },
    {
     "data": {
      "text/plain": [
       "9815346"
      ]
     },
     "metadata": {},
     "output_type": "display_data"
    },
    {
     "data": {
      "text/plain": [
       "9237596"
      ]
     },
     "metadata": {},
     "output_type": "display_data"
    },
    {
     "data": {
      "text/plain": [
       "9237596"
      ]
     },
     "metadata": {},
     "output_type": "display_data"
    },
    {
     "data": {
      "text/plain": [
       "9237596"
      ]
     },
     "metadata": {},
     "output_type": "display_data"
    },
    {
     "data": {
      "text/plain": [
       "9237596"
      ]
     },
     "metadata": {},
     "output_type": "display_data"
    },
    {
     "data": {
      "text/plain": [
       "9237596"
      ]
     },
     "metadata": {},
     "output_type": "display_data"
    },
    {
     "data": {
      "text/plain": [
       "9237596"
      ]
     },
     "metadata": {},
     "output_type": "display_data"
    },
    {
     "data": {
      "text/plain": [
       "9237596"
      ]
     },
     "metadata": {},
     "output_type": "display_data"
    },
    {
     "data": {
      "text/plain": [
       "9237596"
      ]
     },
     "metadata": {},
     "output_type": "display_data"
    },
    {
     "data": {
      "text/plain": [
       "9237596"
      ]
     },
     "metadata": {},
     "output_type": "display_data"
    },
    {
     "data": {
      "text/plain": [
       "9237596"
      ]
     },
     "metadata": {},
     "output_type": "display_data"
    },
    {
     "data": {
      "text/plain": [
       "9237596"
      ]
     },
     "metadata": {},
     "output_type": "display_data"
    },
    {
     "data": {
      "text/plain": [
       "11541849"
      ]
     },
     "metadata": {},
     "output_type": "display_data"
    },
    {
     "data": {
      "text/plain": [
       "10966349"
      ]
     },
     "metadata": {},
     "output_type": "display_data"
    },
    {
     "data": {
      "text/plain": [
       "10390849"
      ]
     },
     "metadata": {},
     "output_type": "display_data"
    },
    {
     "data": {
      "text/plain": [
       "9815349"
      ]
     },
     "metadata": {},
     "output_type": "display_data"
    },
    {
     "data": {
      "text/plain": [
       "9239849"
      ]
     },
     "metadata": {},
     "output_type": "display_data"
    },
    {
     "data": {
      "text/plain": [
       "8664349"
      ]
     },
     "metadata": {},
     "output_type": "display_data"
    },
    {
     "data": {
      "text/plain": [
       "8088849"
      ]
     },
     "metadata": {},
     "output_type": "display_data"
    },
    {
     "data": {
      "text/plain": [
       "8088849"
      ]
     },
     "metadata": {},
     "output_type": "display_data"
    },
    {
     "data": {
      "text/plain": [
       "8088849"
      ]
     },
     "metadata": {},
     "output_type": "display_data"
    },
    {
     "data": {
      "text/plain": [
       "8088849"
      ]
     },
     "metadata": {},
     "output_type": "display_data"
    },
    {
     "data": {
      "text/plain": [
       "8088849"
      ]
     },
     "metadata": {},
     "output_type": "display_data"
    },
    {
     "data": {
      "text/plain": [
       "8088849"
      ]
     },
     "metadata": {},
     "output_type": "display_data"
    },
    {
     "data": {
      "text/plain": [
       "8088849"
      ]
     },
     "metadata": {},
     "output_type": "display_data"
    },
    {
     "data": {
      "text/plain": [
       "8088849"
      ]
     },
     "metadata": {},
     "output_type": "display_data"
    },
    {
     "data": {
      "text/plain": [
       "8088849"
      ]
     },
     "metadata": {},
     "output_type": "display_data"
    },
    {
     "data": {
      "text/plain": [
       "8088849"
      ]
     },
     "metadata": {},
     "output_type": "display_data"
    },
    {
     "data": {
      "text/plain": [
       "8088849"
      ]
     },
     "metadata": {},
     "output_type": "display_data"
    },
    {
     "data": {
      "text/plain": [
       "5164296"
      ]
     },
     "metadata": {},
     "output_type": "display_data"
    },
    {
     "data": {
      "text/plain": [
       "4588796"
      ]
     },
     "metadata": {},
     "output_type": "display_data"
    },
    {
     "data": {
      "text/plain": [
       "4013296"
      ]
     },
     "metadata": {},
     "output_type": "display_data"
    },
    {
     "data": {
      "text/plain": [
       "3437796"
      ]
     },
     "metadata": {},
     "output_type": "display_data"
    },
    {
     "data": {
      "text/plain": [
       "3437796"
      ]
     },
     "metadata": {},
     "output_type": "display_data"
    },
    {
     "data": {
      "text/plain": [
       "3437796"
      ]
     },
     "metadata": {},
     "output_type": "display_data"
    },
    {
     "data": {
      "text/plain": [
       "3437796"
      ]
     },
     "metadata": {},
     "output_type": "display_data"
    },
    {
     "data": {
      "text/plain": [
       "3437796"
      ]
     },
     "metadata": {},
     "output_type": "display_data"
    },
    {
     "data": {
      "text/plain": [
       "3437796"
      ]
     },
     "metadata": {},
     "output_type": "display_data"
    },
    {
     "data": {
      "text/plain": [
       "3437796"
      ]
     },
     "metadata": {},
     "output_type": "display_data"
    },
    {
     "data": {
      "text/plain": [
       "3437796"
      ]
     },
     "metadata": {},
     "output_type": "display_data"
    },
    {
     "data": {
      "text/plain": [
       "3437796"
      ]
     },
     "metadata": {},
     "output_type": "display_data"
    },
    {
     "data": {
      "text/plain": [
       "3437796"
      ]
     },
     "metadata": {},
     "output_type": "display_data"
    },
    {
     "data": {
      "text/plain": [
       "3437796"
      ]
     },
     "metadata": {},
     "output_type": "display_data"
    },
    {
     "data": {
      "text/plain": [
       "1"
      ]
     },
     "metadata": {},
     "output_type": "display_data"
    },
    {
     "data": {
      "text/plain": [
       "1"
      ]
     },
     "metadata": {},
     "output_type": "display_data"
    },
    {
     "data": {
      "text/plain": [
       "1"
      ]
     },
     "metadata": {},
     "output_type": "display_data"
    },
    {
     "data": {
      "text/plain": [
       "1"
      ]
     },
     "metadata": {},
     "output_type": "display_data"
    },
    {
     "data": {
      "text/plain": [
       "1"
      ]
     },
     "metadata": {},
     "output_type": "display_data"
    },
    {
     "data": {
      "text/plain": [
       "1"
      ]
     },
     "metadata": {},
     "output_type": "display_data"
    },
    {
     "data": {
      "text/plain": [
       "1"
      ]
     },
     "metadata": {},
     "output_type": "display_data"
    },
    {
     "data": {
      "text/plain": [
       "1"
      ]
     },
     "metadata": {},
     "output_type": "display_data"
    },
    {
     "data": {
      "text/plain": [
       "1"
      ]
     },
     "metadata": {},
     "output_type": "display_data"
    },
    {
     "data": {
      "text/plain": [
       "1"
      ]
     },
     "metadata": {},
     "output_type": "display_data"
    },
    {
     "data": {
      "text/plain": [
       "112548"
      ]
     },
     "metadata": {},
     "output_type": "display_data"
    },
    {
     "data": {
      "text/plain": [
       "112548"
      ]
     },
     "metadata": {},
     "output_type": "display_data"
    },
    {
     "data": {
      "text/plain": [
       "112548"
      ]
     },
     "metadata": {},
     "output_type": "display_data"
    },
    {
     "data": {
      "text/plain": [
       "112548"
      ]
     },
     "metadata": {},
     "output_type": "display_data"
    },
    {
     "data": {
      "text/plain": [
       "112548"
      ]
     },
     "metadata": {},
     "output_type": "display_data"
    },
    {
     "data": {
      "text/plain": [
       "112548"
      ]
     },
     "metadata": {},
     "output_type": "display_data"
    },
    {
     "data": {
      "text/plain": [
       "112548"
      ]
     },
     "metadata": {},
     "output_type": "display_data"
    },
    {
     "data": {
      "text/plain": [
       "112548"
      ]
     },
     "metadata": {},
     "output_type": "display_data"
    },
    {
     "data": {
      "text/plain": [
       "112548"
      ]
     },
     "metadata": {},
     "output_type": "display_data"
    },
    {
     "data": {
      "text/plain": [
       "112548"
      ]
     },
     "metadata": {},
     "output_type": "display_data"
    },
    {
     "data": {
      "text/plain": [
       "14591846"
      ]
     },
     "metadata": {},
     "output_type": "display_data"
    },
    {
     "data": {
      "text/plain": [
       "17066346"
      ]
     },
     "metadata": {},
     "output_type": "display_data"
    },
    {
     "data": {
      "text/plain": [
       "19540846"
      ]
     },
     "metadata": {},
     "output_type": "display_data"
    },
    {
     "data": {
      "text/plain": [
       "22015346"
      ]
     },
     "metadata": {},
     "output_type": "display_data"
    },
    {
     "data": {
      "text/plain": [
       "24489846"
      ]
     },
     "metadata": {},
     "output_type": "display_data"
    },
    {
     "data": {
      "text/plain": [
       "26964346"
      ]
     },
     "metadata": {},
     "output_type": "display_data"
    },
    {
     "data": {
      "text/plain": [
       "29438846"
      ]
     },
     "metadata": {},
     "output_type": "display_data"
    },
    {
     "data": {
      "text/plain": [
       "29438846"
      ]
     },
     "metadata": {},
     "output_type": "display_data"
    },
    {
     "data": {
      "text/plain": [
       "29438846"
      ]
     },
     "metadata": {},
     "output_type": "display_data"
    },
    {
     "data": {
      "text/plain": [
       "29438846"
      ]
     },
     "metadata": {},
     "output_type": "display_data"
    },
    {
     "data": {
      "text/plain": [
       "29438846"
      ]
     },
     "metadata": {},
     "output_type": "display_data"
    },
    {
     "data": {
      "text/plain": [
       "29438846"
      ]
     },
     "metadata": {},
     "output_type": "display_data"
    },
    {
     "data": {
      "text/plain": [
       "29438846"
      ]
     },
     "metadata": {},
     "output_type": "display_data"
    },
    {
     "data": {
      "text/plain": [
       "29438846"
      ]
     },
     "metadata": {},
     "output_type": "display_data"
    },
    {
     "data": {
      "text/plain": [
       "29438846"
      ]
     },
     "metadata": {},
     "output_type": "display_data"
    },
    {
     "data": {
      "text/plain": [
       "29438846"
      ]
     },
     "metadata": {},
     "output_type": "display_data"
    },
    {
     "data": {
      "text/plain": [
       "29438846"
      ]
     },
     "metadata": {},
     "output_type": "display_data"
    },
    {
     "data": {
      "text/plain": [
       "14591849"
      ]
     },
     "metadata": {},
     "output_type": "display_data"
    },
    {
     "data": {
      "text/plain": [
       "17066349"
      ]
     },
     "metadata": {},
     "output_type": "display_data"
    },
    {
     "data": {
      "text/plain": [
       "17066349"
      ]
     },
     "metadata": {},
     "output_type": "display_data"
    },
    {
     "data": {
      "text/plain": [
       "19540849"
      ]
     },
     "metadata": {},
     "output_type": "display_data"
    },
    {
     "data": {
      "text/plain": [
       "22015349"
      ]
     },
     "metadata": {},
     "output_type": "display_data"
    },
    {
     "data": {
      "text/plain": [
       "24489849"
      ]
     },
     "metadata": {},
     "output_type": "display_data"
    },
    {
     "data": {
      "text/plain": [
       "26964349"
      ]
     },
     "metadata": {},
     "output_type": "display_data"
    },
    {
     "data": {
      "text/plain": [
       "29438849"
      ]
     },
     "metadata": {},
     "output_type": "display_data"
    },
    {
     "data": {
      "text/plain": [
       "29438849"
      ]
     },
     "metadata": {},
     "output_type": "display_data"
    },
    {
     "data": {
      "text/plain": [
       "29438849"
      ]
     },
     "metadata": {},
     "output_type": "display_data"
    },
    {
     "data": {
      "text/plain": [
       "29438849"
      ]
     },
     "metadata": {},
     "output_type": "display_data"
    },
    {
     "data": {
      "text/plain": [
       "29438849"
      ]
     },
     "metadata": {},
     "output_type": "display_data"
    },
    {
     "data": {
      "text/plain": [
       "29438849"
      ]
     },
     "metadata": {},
     "output_type": "display_data"
    },
    {
     "data": {
      "text/plain": [
       "29438849"
      ]
     },
     "metadata": {},
     "output_type": "display_data"
    },
    {
     "data": {
      "text/plain": [
       "29438849"
      ]
     },
     "metadata": {},
     "output_type": "display_data"
    },
    {
     "data": {
      "text/plain": [
       "29438849"
      ]
     },
     "metadata": {},
     "output_type": "display_data"
    },
    {
     "data": {
      "text/plain": [
       "29438849"
      ]
     },
     "metadata": {},
     "output_type": "display_data"
    },
    {
     "data": {
      "text/plain": [
       "8214297"
      ]
     },
     "metadata": {},
     "output_type": "display_data"
    },
    {
     "data": {
      "text/plain": [
       "10688797"
      ]
     },
     "metadata": {},
     "output_type": "display_data"
    },
    {
     "data": {
      "text/plain": [
       "13163297"
      ]
     },
     "metadata": {},
     "output_type": "display_data"
    },
    {
     "data": {
      "text/plain": [
       "15637797"
      ]
     },
     "metadata": {},
     "output_type": "display_data"
    },
    {
     "data": {
      "text/plain": [
       "15637797"
      ]
     },
     "metadata": {},
     "output_type": "display_data"
    },
    {
     "data": {
      "text/plain": [
       "15637797"
      ]
     },
     "metadata": {},
     "output_type": "display_data"
    },
    {
     "data": {
      "text/plain": [
       "15637797"
      ]
     },
     "metadata": {},
     "output_type": "display_data"
    },
    {
     "data": {
      "text/plain": [
       "15637797"
      ]
     },
     "metadata": {},
     "output_type": "display_data"
    },
    {
     "data": {
      "text/plain": [
       "15637797"
      ]
     },
     "metadata": {},
     "output_type": "display_data"
    },
    {
     "data": {
      "text/plain": [
       "15637797"
      ]
     },
     "metadata": {},
     "output_type": "display_data"
    },
    {
     "data": {
      "text/plain": [
       "15637797"
      ]
     },
     "metadata": {},
     "output_type": "display_data"
    },
    {
     "data": {
      "text/plain": [
       "15637797"
      ]
     },
     "metadata": {},
     "output_type": "display_data"
    },
    {
     "data": {
      "text/plain": [
       "15637797"
      ]
     },
     "metadata": {},
     "output_type": "display_data"
    },
    {
     "data": {
      "text/plain": [
       "15637797"
      ]
     },
     "metadata": {},
     "output_type": "display_data"
    },
    {
     "data": {
      "text/plain": [
       "1"
      ]
     },
     "metadata": {},
     "output_type": "display_data"
    },
    {
     "data": {
      "text/plain": [
       "1"
      ]
     },
     "metadata": {},
     "output_type": "display_data"
    },
    {
     "data": {
      "text/plain": [
       "1"
      ]
     },
     "metadata": {},
     "output_type": "display_data"
    },
    {
     "data": {
      "text/plain": [
       "1"
      ]
     },
     "metadata": {},
     "output_type": "display_data"
    },
    {
     "data": {
      "text/plain": [
       "1"
      ]
     },
     "metadata": {},
     "output_type": "display_data"
    },
    {
     "data": {
      "text/plain": [
       "1"
      ]
     },
     "metadata": {},
     "output_type": "display_data"
    },
    {
     "data": {
      "text/plain": [
       "1"
      ]
     },
     "metadata": {},
     "output_type": "display_data"
    },
    {
     "data": {
      "text/plain": [
       "1"
      ]
     },
     "metadata": {},
     "output_type": "display_data"
    },
    {
     "data": {
      "text/plain": [
       "1"
      ]
     },
     "metadata": {},
     "output_type": "display_data"
    },
    {
     "data": {
      "text/plain": [
       "1"
      ]
     },
     "metadata": {},
     "output_type": "display_data"
    },
    {
     "data": {
      "text/plain": [
       "112548"
      ]
     },
     "metadata": {},
     "output_type": "display_data"
    },
    {
     "data": {
      "text/plain": [
       "112548"
      ]
     },
     "metadata": {},
     "output_type": "display_data"
    },
    {
     "data": {
      "text/plain": [
       "112548"
      ]
     },
     "metadata": {},
     "output_type": "display_data"
    },
    {
     "data": {
      "text/plain": [
       "112548"
      ]
     },
     "metadata": {},
     "output_type": "display_data"
    },
    {
     "data": {
      "text/plain": [
       "112548"
      ]
     },
     "metadata": {},
     "output_type": "display_data"
    },
    {
     "data": {
      "text/plain": [
       "112548"
      ]
     },
     "metadata": {},
     "output_type": "display_data"
    },
    {
     "data": {
      "text/plain": [
       "112548"
      ]
     },
     "metadata": {},
     "output_type": "display_data"
    },
    {
     "data": {
      "text/plain": [
       "112548"
      ]
     },
     "metadata": {},
     "output_type": "display_data"
    },
    {
     "data": {
      "text/plain": [
       "112548"
      ]
     },
     "metadata": {},
     "output_type": "display_data"
    },
    {
     "data": {
      "text/plain": [
       "112548"
      ]
     },
     "metadata": {},
     "output_type": "display_data"
    },
    {
     "data": {
      "text/plain": [
       "11479606"
      ]
     },
     "metadata": {},
     "output_type": "display_data"
    },
    {
     "data": {
      "text/plain": [
       "10841866"
      ]
     },
     "metadata": {},
     "output_type": "display_data"
    },
    {
     "data": {
      "text/plain": [
       "10841866"
      ]
     },
     "metadata": {},
     "output_type": "display_data"
    },
    {
     "data": {
      "text/plain": [
       "10204126"
      ]
     },
     "metadata": {},
     "output_type": "display_data"
    },
    {
     "data": {
      "text/plain": [
       "9566386"
      ]
     },
     "metadata": {},
     "output_type": "display_data"
    },
    {
     "data": {
      "text/plain": [
       "8928646"
      ]
     },
     "metadata": {},
     "output_type": "display_data"
    },
    {
     "data": {
      "text/plain": [
       "8290906"
      ]
     },
     "metadata": {},
     "output_type": "display_data"
    },
    {
     "data": {
      "text/plain": [
       "7653166"
      ]
     },
     "metadata": {},
     "output_type": "display_data"
    },
    {
     "data": {
      "text/plain": [
       "7015426"
      ]
     },
     "metadata": {},
     "output_type": "display_data"
    },
    {
     "data": {
      "text/plain": [
       "6377686"
      ]
     },
     "metadata": {},
     "output_type": "display_data"
    },
    {
     "data": {
      "text/plain": [
       "5739946"
      ]
     },
     "metadata": {},
     "output_type": "display_data"
    },
    {
     "data": {
      "text/plain": [
       "5102206"
      ]
     },
     "metadata": {},
     "output_type": "display_data"
    },
    {
     "data": {
      "text/plain": [
       "4464466"
      ]
     },
     "metadata": {},
     "output_type": "display_data"
    },
    {
     "data": {
      "text/plain": [
       "3826726"
      ]
     },
     "metadata": {},
     "output_type": "display_data"
    },
    {
     "data": {
      "text/plain": [
       "3188986"
      ]
     },
     "metadata": {},
     "output_type": "display_data"
    },
    {
     "data": {
      "text/plain": [
       "2551246"
      ]
     },
     "metadata": {},
     "output_type": "display_data"
    },
    {
     "data": {
      "text/plain": [
       "2551246"
      ]
     },
     "metadata": {},
     "output_type": "display_data"
    },
    {
     "data": {
      "text/plain": [
       "2551246"
      ]
     },
     "metadata": {},
     "output_type": "display_data"
    },
    {
     "data": {
      "text/plain": [
       "2551246"
      ]
     },
     "metadata": {},
     "output_type": "display_data"
    },
    {
     "data": {
      "text/plain": [
       "2551246"
      ]
     },
     "metadata": {},
     "output_type": "display_data"
    },
    {
     "data": {
      "text/plain": [
       "2551246"
      ]
     },
     "metadata": {},
     "output_type": "display_data"
    },
    {
     "data": {
      "text/plain": [
       "2551246"
      ]
     },
     "metadata": {},
     "output_type": "display_data"
    },
    {
     "data": {
      "text/plain": [
       "2551246"
      ]
     },
     "metadata": {},
     "output_type": "display_data"
    },
    {
     "data": {
      "text/plain": [
       "2551246"
      ]
     },
     "metadata": {},
     "output_type": "display_data"
    },
    {
     "data": {
      "text/plain": [
       "2551246"
      ]
     },
     "metadata": {},
     "output_type": "display_data"
    },
    {
     "data": {
      "text/plain": [
       "11479609"
      ]
     },
     "metadata": {},
     "output_type": "display_data"
    },
    {
     "data": {
      "text/plain": [
       "10841869"
      ]
     },
     "metadata": {},
     "output_type": "display_data"
    },
    {
     "data": {
      "text/plain": [
       "10204129"
      ]
     },
     "metadata": {},
     "output_type": "display_data"
    },
    {
     "data": {
      "text/plain": [
       "9566389"
      ]
     },
     "metadata": {},
     "output_type": "display_data"
    },
    {
     "data": {
      "text/plain": [
       "8928649"
      ]
     },
     "metadata": {},
     "output_type": "display_data"
    },
    {
     "data": {
      "text/plain": [
       "8290909"
      ]
     },
     "metadata": {},
     "output_type": "display_data"
    },
    {
     "data": {
      "text/plain": [
       "7653169"
      ]
     },
     "metadata": {},
     "output_type": "display_data"
    },
    {
     "data": {
      "text/plain": [
       "7015429"
      ]
     },
     "metadata": {},
     "output_type": "display_data"
    },
    {
     "data": {
      "text/plain": [
       "6377689"
      ]
     },
     "metadata": {},
     "output_type": "display_data"
    },
    {
     "data": {
      "text/plain": [
       "5739949"
      ]
     },
     "metadata": {},
     "output_type": "display_data"
    },
    {
     "data": {
      "text/plain": [
       "5102209"
      ]
     },
     "metadata": {},
     "output_type": "display_data"
    },
    {
     "data": {
      "text/plain": [
       "4462719"
      ]
     },
     "metadata": {},
     "output_type": "display_data"
    },
    {
     "data": {
      "text/plain": [
       "4462719"
      ]
     },
     "metadata": {},
     "output_type": "display_data"
    },
    {
     "data": {
      "text/plain": [
       "4462719"
      ]
     },
     "metadata": {},
     "output_type": "display_data"
    },
    {
     "data": {
      "text/plain": [
       "4462719"
      ]
     },
     "metadata": {},
     "output_type": "display_data"
    },
    {
     "data": {
      "text/plain": [
       "4462719"
      ]
     },
     "metadata": {},
     "output_type": "display_data"
    },
    {
     "data": {
      "text/plain": [
       "4462719"
      ]
     },
     "metadata": {},
     "output_type": "display_data"
    },
    {
     "data": {
      "text/plain": [
       "4462719"
      ]
     },
     "metadata": {},
     "output_type": "display_data"
    },
    {
     "data": {
      "text/plain": [
       "4462719"
      ]
     },
     "metadata": {},
     "output_type": "display_data"
    },
    {
     "data": {
      "text/plain": [
       "4462719"
      ]
     },
     "metadata": {},
     "output_type": "display_data"
    },
    {
     "data": {
      "text/plain": [
       "4462719"
      ]
     },
     "metadata": {},
     "output_type": "display_data"
    },
    {
     "data": {
      "text/plain": [
       "4462719"
      ]
     },
     "metadata": {},
     "output_type": "display_data"
    },
    {
     "data": {
      "text/plain": [
       "5102057"
      ]
     },
     "metadata": {},
     "output_type": "display_data"
    },
    {
     "data": {
      "text/plain": [
       "4464317"
      ]
     },
     "metadata": {},
     "output_type": "display_data"
    },
    {
     "data": {
      "text/plain": [
       "3826577"
      ]
     },
     "metadata": {},
     "output_type": "display_data"
    },
    {
     "data": {
      "text/plain": [
       "3826577"
      ]
     },
     "metadata": {},
     "output_type": "display_data"
    },
    {
     "data": {
      "text/plain": [
       "3187587"
      ]
     },
     "metadata": {},
     "output_type": "display_data"
    },
    {
     "data": {
      "text/plain": [
       "3187587"
      ]
     },
     "metadata": {},
     "output_type": "display_data"
    },
    {
     "data": {
      "text/plain": [
       "3187587"
      ]
     },
     "metadata": {},
     "output_type": "display_data"
    },
    {
     "data": {
      "text/plain": [
       "3187587"
      ]
     },
     "metadata": {},
     "output_type": "display_data"
    },
    {
     "data": {
      "text/plain": [
       "3187587"
      ]
     },
     "metadata": {},
     "output_type": "display_data"
    },
    {
     "data": {
      "text/plain": [
       "3187587"
      ]
     },
     "metadata": {},
     "output_type": "display_data"
    },
    {
     "data": {
      "text/plain": [
       "3187587"
      ]
     },
     "metadata": {},
     "output_type": "display_data"
    },
    {
     "data": {
      "text/plain": [
       "3187587"
      ]
     },
     "metadata": {},
     "output_type": "display_data"
    },
    {
     "data": {
      "text/plain": [
       "3187587"
      ]
     },
     "metadata": {},
     "output_type": "display_data"
    },
    {
     "data": {
      "text/plain": [
       "3187587"
      ]
     },
     "metadata": {},
     "output_type": "display_data"
    },
    {
     "data": {
      "text/plain": [
       "1"
      ]
     },
     "metadata": {},
     "output_type": "display_data"
    },
    {
     "data": {
      "text/plain": [
       "1"
      ]
     },
     "metadata": {},
     "output_type": "display_data"
    },
    {
     "data": {
      "text/plain": [
       "1"
      ]
     },
     "metadata": {},
     "output_type": "display_data"
    },
    {
     "data": {
      "text/plain": [
       "1"
      ]
     },
     "metadata": {},
     "output_type": "display_data"
    },
    {
     "data": {
      "text/plain": [
       "1"
      ]
     },
     "metadata": {},
     "output_type": "display_data"
    },
    {
     "data": {
      "text/plain": [
       "1"
      ]
     },
     "metadata": {},
     "output_type": "display_data"
    },
    {
     "data": {
      "text/plain": [
       "1"
      ]
     },
     "metadata": {},
     "output_type": "display_data"
    },
    {
     "data": {
      "text/plain": [
       "1"
      ]
     },
     "metadata": {},
     "output_type": "display_data"
    },
    {
     "data": {
      "text/plain": [
       "1"
      ]
     },
     "metadata": {},
     "output_type": "display_data"
    },
    {
     "data": {
      "text/plain": [
       "1"
      ]
     },
     "metadata": {},
     "output_type": "display_data"
    },
    {
     "data": {
      "text/plain": [
       "112548"
      ]
     },
     "metadata": {},
     "output_type": "display_data"
    },
    {
     "data": {
      "text/plain": [
       "112548"
      ]
     },
     "metadata": {},
     "output_type": "display_data"
    },
    {
     "data": {
      "text/plain": [
       "112548"
      ]
     },
     "metadata": {},
     "output_type": "display_data"
    },
    {
     "data": {
      "text/plain": [
       "112548"
      ]
     },
     "metadata": {},
     "output_type": "display_data"
    },
    {
     "data": {
      "text/plain": [
       "112548"
      ]
     },
     "metadata": {},
     "output_type": "display_data"
    },
    {
     "data": {
      "text/plain": [
       "112548"
      ]
     },
     "metadata": {},
     "output_type": "display_data"
    },
    {
     "data": {
      "text/plain": [
       "112548"
      ]
     },
     "metadata": {},
     "output_type": "display_data"
    },
    {
     "data": {
      "text/plain": [
       "112548"
      ]
     },
     "metadata": {},
     "output_type": "display_data"
    },
    {
     "data": {
      "text/plain": [
       "112548"
      ]
     },
     "metadata": {},
     "output_type": "display_data"
    },
    {
     "data": {
      "text/plain": [
       "112548"
      ]
     },
     "metadata": {},
     "output_type": "display_data"
    },
    {
     "data": {
      "text/plain": [
       "4×402 Matrix{Int64}:\n",
       " 12117346  11541846  10905346  10329846  …    112548    112548    112548\n",
       "        3         2         3         5            5         5         5\n",
       "       -1        -1        -1        -1     -1000000  -1000000  -1000000\n",
       " 11541846  10905346  10329846   9692106       112548    112548    112548"
      ]
     },
     "metadata": {},
     "output_type": "display_data"
    }
   ],
   "source": [
    "#simulate\n",
    "#initialize\n",
    "sarsp = Imatrix = zeros(Int, 4, 1)\n",
    "\n",
    "for i in 1:length(setups)\n",
    "    setup = setups[i]\n",
    "    current_state = setup.initial_state #initialstate(mission)\n",
    "    policy = setup.policy\n",
    "\n",
    "    if (policy == 0)\n",
    "        random_policy = true\n",
    "    else\n",
    "        random_policy = false\n",
    "    end\n",
    "    # s a r s'\n",
    "    count = 0\n",
    "    while (CartesianIndices((max_progress, max_power, max_h2o, max_o2, max_food))[current_state][1] != state_maxes[1] && count < 10)\n",
    "        if (random_policy)\n",
    "            policy = rand(1:5) \n",
    "        end \n",
    "        a = actions[policy] \n",
    "        \n",
    "        next_state = transition(current_state, a)\n",
    "        r = reward(next_state, a)\n",
    "        sarsp = hcat(sarsp, [current_state, policy, r, next_state])\n",
    "        if (next_state == current_state)\n",
    "            count += 1\n",
    "        end\n",
    "        current_state = next_state\n",
    "    end\n",
    "end\n",
    "\n",
    "#delete first row again\n",
    "sarsp = sarsp[:, 2:end]\n",
    "\n",
    "\n"
   ]
  },
  {
   "cell_type": "code",
   "execution_count": 27,
   "metadata": {},
   "outputs": [
    {
     "data": {
      "text/plain": [
       "\"data.csv\""
      ]
     },
     "metadata": {},
     "output_type": "display_data"
    }
   ],
   "source": [
    "#write to csv\n",
    "\n",
    "# Specify the filename\n",
    "filename = \"data.csv\"\n",
    "\n",
    "# Write the matrix to the CSV file\n",
    "CSV.write(filename, Tables.table(sarsp'), header = [\"s\", \"a\", \"r\", \"s'\"])"
   ]
  },
  {
   "cell_type": "code",
   "execution_count": 11,
   "metadata": {},
   "outputs": [
    {
     "ename": "UndefVarError",
     "evalue": "UndefVarError: `rewards` not defined",
     "output_type": "error",
     "traceback": [
      "UndefVarError: `rewards` not defined\n",
      "\n",
      "Stacktrace:\n",
      " [1] top-level scope\n",
      "   @ ~/Documents/SanFran/04_Academics/01_Autumn Quarter 2023/AA228/aa-228-final-project/Simulation_Anna.ipynb:9"
     ]
    }
   ],
   "source": [
    "#prepare to plot\n",
    "\n",
    "mission = states[3,:]\n",
    "resources_E = states[1, :]\n",
    "resources_H2O = states[2,:]\n",
    "resources_total = resources_E  + resources_H2O\n",
    "goal = fill(mission[end], length(mission))\n",
    "t = range(0, length=length(mission))\n",
    "rewards_accumulation = cumsum(rewards)\n"
   ]
  },
  {
   "cell_type": "code",
   "execution_count": 12,
   "metadata": {},
   "outputs": [
    {
     "ename": "UndefVarError",
     "evalue": "UndefVarError: `state_dimensions` not defined",
     "output_type": "error",
     "traceback": [
      "UndefVarError: `state_dimensions` not defined\n",
      "\n",
      "Stacktrace:\n",
      " [1] top-level scope\n",
      "   @ ~/Documents/SanFran/04_Academics/01_Autumn Quarter 2023/AA228/aa-228-final-project/Simulation_Anna.ipynb:7"
     ]
    }
   ],
   "source": [
    "#plot Mission Progress over Resources\n",
    "p1 = plot()\n",
    "plot!(p1, mission, resources_total, marker=(:circle,5), arrow=true, arrowsize=0.1, legend=false)\n",
    "vline!(p1, goal[1])\n",
    "ylabel!(\"Resources\")\n",
    "xlabel!(\"Mission Progress\")\n",
    "ylims!(0.9, (state_dimensions[1] + state_dimensions[2] + 1))\n",
    "xlims!(0.9, state_dimensions[3] + 0.5)\n",
    "\n",
    "#savefig(p1, \"Mission Progress VS Resources.pdf\")"
   ]
  },
  {
   "cell_type": "code",
   "execution_count": 13,
   "metadata": {},
   "outputs": [
    {
     "name": "stderr",
     "output_type": "stream",
     "text": [
      "┌ Info: Saved animation to /var/folders/53/dkwtw9r94vvbm2k2b5khb0ch0000gn/T/jl_7EXW3GhypE.gif\n",
      "└ @ Plots /Users/Anna/.julia/packages/Plots/sxUvK/src/animation.jl:156\n"
     ]
    },
    {
     "data": {
      "text/html": [
       "<img src=\"data:image/gif;base64,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\" />"
      ],
      "text/plain": [
       "Plots.AnimatedGif(\"/var/folders/53/dkwtw9r94vvbm2k2b5khb0ch0000gn/T/jl_7EXW3GhypE.gif\")"
      ]
     },
     "metadata": {},
     "output_type": "display_data"
    }
   ],
   "source": [
    "#plot Mission and Resource development over time\n",
    "#savefig(p2, \"Mission Progress VS Resources.pdf\")\n",
    "anim = @animate for i in 1:length(mission)\n",
    "    p2 = plot()\n",
    "    plot!(p2 , 1:i, goal[1:i],  linewidth=2,   label=\"Mission Goal\")\n",
    "    plot!(p2 ,1:i, [resources_E[1:i], resources_H2O[1:i]], label=[\"Resources Energy\" \"Resources H2O\"], title = \"Resource and Mission development over time\")\n",
    "    plot!(p2 ,1:i, mission[1:i], linewidth = 2,  label=\"Mission Progress\")\n",
    "    xlabel!(\"Time Steps\")\n",
    "    ylabel!(\"Mission Progress and Resources\")\n",
    "end\n",
    "\n",
    "\n",
    "gif(anim, fps=5)"
   ]
  },
  {
   "cell_type": "code",
   "execution_count": 14,
   "metadata": {},
   "outputs": [
    {
     "data": {
      "image/png": "[encoded data removed]",
      "image/svg+xml": [
       "<?xml version=\"1.0\" encoding=\"utf-8\"?>\n",
       "<svg xmlns=\"http://www.w3.org/2000/svg\" xmlns:xlink=\"http://www.w3.org/1999/xlink\" width=\"600\" height=\"400\" viewBox=\"0 0 2400 1600\">\n",
       "<defs>\n",
       "  <clipPath id=\"clip560\">\n",
       "    <rect x=\"0\" y=\"0\" width=\"2400\" height=\"1600\"/>\n",
       "  </clipPath>\n",
       "</defs>\n",
       "<path clip-path=\"url(#clip560)\" d=\"M0 1600 L2400 1600 L2400 0 L0 0  Z\" fill=\"#ffffff\" fill-rule=\"evenodd\" fill-opacity=\"1\"/>\n",
       "<defs>\n",
       "  <clipPath id=\"clip561\">\n",
       "    <rect x=\"480\" y=\"0\" width=\"1681\" height=\"1600\"/>\n",
       "  </clipPath>\n",
       "</defs>\n",
       "<path clip-path=\"url(#clip560)\" d=\"M174.149 1423.18 L2352.76 1423.18 L2352.76 123.472 L174.149 123.472  Z\" fill=\"#ffffff\" fill-rule=\"evenodd\" fill-opacity=\"1\"/>\n",
       "<defs>\n",
       "  <clipPath id=\"clip562\">\n",
       "    <rect x=\"174\" y=\"123\" width=\"2180\" height=\"1301\"/>\n",
       "  </clipPath>\n",
       "</defs>\n",
       "<polyline clip-path=\"url(#clip562)\" style=\"stroke:#000000; stroke-linecap:round; stroke-linejoin:round; stroke-width:2; stroke-opacity:0.1; fill:none\" points=\"293.976,1423.18 293.976,123.472 \"/>\n",
       "<polyline clip-path=\"url(#clip562)\" style=\"stroke:#000000; stroke-linecap:round; stroke-linejoin:round; stroke-width:2; stroke-opacity:0.1; fill:none\" points=\"778.714,1423.18 778.714,123.472 \"/>\n",
       "<polyline clip-path=\"url(#clip562)\" style=\"stroke:#000000; stroke-linecap:round; stroke-linejoin:round; stroke-width:2; stroke-opacity:0.1; fill:none\" points=\"1263.45,1423.18 1263.45,123.472 \"/>\n",
       "<polyline clip-path=\"url(#clip562)\" style=\"stroke:#000000; stroke-linecap:round; stroke-linejoin:round; stroke-width:2; stroke-opacity:0.1; fill:none\" points=\"1748.19,1423.18 1748.19,123.472 \"/>\n",
       "<polyline clip-path=\"url(#clip562)\" style=\"stroke:#000000; stroke-linecap:round; stroke-linejoin:round; stroke-width:2; stroke-opacity:0.1; fill:none\" points=\"2232.93,1423.18 2232.93,123.472 \"/>\n",
       "<polyline clip-path=\"url(#clip560)\" style=\"stroke:#000000; stroke-linecap:round; stroke-linejoin:round; stroke-width:4; stroke-opacity:1; fill:none\" points=\"174.149,1423.18 2352.76,1423.18 \"/>\n",
       "<polyline clip-path=\"url(#clip560)\" style=\"stroke:#000000; stroke-linecap:round; stroke-linejoin:round; stroke-width:4; stroke-opacity:1; fill:none\" points=\"293.976,1423.18 293.976,1404.28 \"/>\n",
       "<polyline clip-path=\"url(#clip560)\" style=\"stroke:#000000; stroke-linecap:round; stroke-linejoin:round; stroke-width:4; stroke-opacity:1; fill:none\" points=\"778.714,1423.18 778.714,1404.28 \"/>\n",
       "<polyline clip-path=\"url(#clip560)\" style=\"stroke:#000000; stroke-linecap:round; stroke-linejoin:round; stroke-width:4; stroke-opacity:1; fill:none\" points=\"1263.45,1423.18 1263.45,1404.28 \"/>\n",
       "<polyline clip-path=\"url(#clip560)\" style=\"stroke:#000000; stroke-linecap:round; stroke-linejoin:round; stroke-width:4; stroke-opacity:1; fill:none\" points=\"1748.19,1423.18 1748.19,1404.28 \"/>\n",
       "<polyline clip-path=\"url(#clip560)\" style=\"stroke:#000000; stroke-linecap:round; stroke-linejoin:round; stroke-width:4; stroke-opacity:1; fill:none\" points=\"2232.93,1423.18 2232.93,1404.28 \"/>\n",
       "<path clip-path=\"url(#clip560)\" d=\"M240.261 1468.75 L269.937 1468.75 L269.937 1472.69 L240.261 1472.69 L240.261 1468.75 Z\" fill=\"#000000\" fill-rule=\"nonzero\" fill-opacity=\"1\" /><path clip-path=\"url(#clip560)\" d=\"M290.029 1454.1 Q286.418 1454.1 284.59 1457.66 Q282.784 1461.2 282.784 1468.33 Q282.784 1475.44 284.59 1479.01 Q286.418 1482.55 290.029 1482.55 Q293.664 1482.55 295.469 1479.01 Q297.298 1475.44 297.298 1468.33 Q297.298 1461.2 295.469 1457.66 Q293.664 1454.1 290.029 1454.1 M290.029 1450.39 Q295.84 1450.39 298.895 1455 Q301.974 1459.58 301.974 1468.33 Q301.974 1477.06 298.895 1481.67 Q295.84 1486.25 290.029 1486.25 Q284.219 1486.25 281.141 1481.67 Q278.085 1477.06 278.085 1468.33 Q278.085 1459.58 281.141 1455 Q284.219 1450.39 290.029 1450.39 Z\" fill=\"#000000\" fill-rule=\"nonzero\" fill-opacity=\"1\" /><path clip-path=\"url(#clip560)\" d=\"M310.191 1479.7 L315.076 1479.7 L315.076 1485.58 L310.191 1485.58 L310.191 1479.7 Z\" fill=\"#000000\" fill-rule=\"nonzero\" fill-opacity=\"1\" /><path clip-path=\"url(#clip560)\" d=\"M338.108 1455.09 L326.302 1473.54 L338.108 1473.54 L338.108 1455.09 M336.881 1451.02 L342.761 1451.02 L342.761 1473.54 L347.691 1473.54 L347.691 1477.43 L342.761 1477.43 L342.761 1485.58 L338.108 1485.58 L338.108 1477.43 L322.506 1477.43 L322.506 1472.92 L336.881 1451.02 Z\" fill=\"#000000\" fill-rule=\"nonzero\" fill-opacity=\"1\" /><path clip-path=\"url(#clip560)\" d=\"M726.041 1468.75 L755.717 1468.75 L755.717 1472.69 L726.041 1472.69 L726.041 1468.75 Z\" fill=\"#000000\" fill-rule=\"nonzero\" fill-opacity=\"1\" /><path clip-path=\"url(#clip560)\" d=\"M775.809 1454.1 Q772.198 1454.1 770.369 1457.66 Q768.564 1461.2 768.564 1468.33 Q768.564 1475.44 770.369 1479.01 Q772.198 1482.55 775.809 1482.55 Q779.443 1482.55 781.249 1479.01 Q783.078 1475.44 783.078 1468.33 Q783.078 1461.2 781.249 1457.66 Q779.443 1454.1 775.809 1454.1 M775.809 1450.39 Q781.619 1450.39 784.675 1455 Q787.754 1459.58 787.754 1468.33 Q787.754 1477.06 784.675 1481.67 Q781.619 1486.25 775.809 1486.25 Q769.999 1486.25 766.92 1481.67 Q763.865 1477.06 763.865 1468.33 Q763.865 1459.58 766.92 1455 Q769.999 1450.39 775.809 1450.39 Z\" fill=\"#000000\" fill-rule=\"nonzero\" fill-opacity=\"1\" /><path clip-path=\"url(#clip560)\" d=\"M795.971 1479.7 L800.855 1479.7 L800.855 1485.58 L795.971 1485.58 L795.971 1479.7 Z\" fill=\"#000000\" fill-rule=\"nonzero\" fill-opacity=\"1\" /><path clip-path=\"url(#clip560)\" d=\"M815.068 1481.64 L831.388 1481.64 L831.388 1485.58 L809.443 1485.58 L809.443 1481.64 Q812.105 1478.89 816.689 1474.26 Q821.295 1469.61 822.476 1468.27 Q824.721 1465.74 825.601 1464.01 Q826.503 1462.25 826.503 1460.56 Q826.503 1457.8 824.559 1456.07 Q822.638 1454.33 819.536 1454.33 Q817.337 1454.33 814.883 1455.09 Q812.453 1455.86 809.675 1457.41 L809.675 1452.69 Q812.499 1451.55 814.953 1450.97 Q817.406 1450.39 819.443 1450.39 Q824.814 1450.39 828.008 1453.08 Q831.202 1455.77 831.202 1460.26 Q831.202 1462.39 830.392 1464.31 Q829.605 1466.2 827.499 1468.8 Q826.92 1469.47 823.818 1472.69 Q820.716 1475.88 815.068 1481.64 Z\" fill=\"#000000\" fill-rule=\"nonzero\" fill-opacity=\"1\" /><path clip-path=\"url(#clip560)\" d=\"M1240.84 1454.1 Q1237.23 1454.1 1235.4 1457.66 Q1233.59 1461.2 1233.59 1468.33 Q1233.59 1475.44 1235.4 1479.01 Q1237.23 1482.55 1240.84 1482.55 Q1244.47 1482.55 1246.28 1479.01 Q1248.11 1475.44 1248.11 1468.33 Q1248.11 1461.2 1246.28 1457.66 Q1244.47 1454.1 1240.84 1454.1 M1240.84 1450.39 Q1246.65 1450.39 1249.7 1455 Q1252.78 1459.58 1252.78 1468.33 Q1252.78 1477.06 1249.7 1481.67 Q1246.65 1486.25 1240.84 1486.25 Q1235.03 1486.25 1231.95 1481.67 Q1228.89 1477.06 1228.89 1468.33 Q1228.89 1459.58 1231.95 1455 Q1235.03 1450.39 1240.84 1450.39 Z\" fill=\"#000000\" fill-rule=\"nonzero\" fill-opacity=\"1\" /><path clip-path=\"url(#clip560)\" d=\"M1261 1479.7 L1265.88 1479.7 L1265.88 1485.58 L1261 1485.58 L1261 1479.7 Z\" fill=\"#000000\" fill-rule=\"nonzero\" fill-opacity=\"1\" /><path clip-path=\"url(#clip560)\" d=\"M1286.07 1454.1 Q1282.46 1454.1 1280.63 1457.66 Q1278.82 1461.2 1278.82 1468.33 Q1278.82 1475.44 1280.63 1479.01 Q1282.46 1482.55 1286.07 1482.55 Q1289.7 1482.55 1291.51 1479.01 Q1293.34 1475.44 1293.34 1468.33 Q1293.34 1461.2 1291.51 1457.66 Q1289.7 1454.1 1286.07 1454.1 M1286.07 1450.39 Q1291.88 1450.39 1294.93 1455 Q1298.01 1459.58 1298.01 1468.33 Q1298.01 1477.06 1294.93 1481.67 Q1291.88 1486.25 1286.07 1486.25 Q1280.26 1486.25 1277.18 1481.67 Q1274.12 1477.06 1274.12 1468.33 Q1274.12 1459.58 1277.18 1455 Q1280.26 1450.39 1286.07 1450.39 Z\" fill=\"#000000\" fill-rule=\"nonzero\" fill-opacity=\"1\" /><path clip-path=\"url(#clip560)\" d=\"M1726.37 1454.1 Q1722.76 1454.1 1720.93 1457.66 Q1719.13 1461.2 1719.13 1468.33 Q1719.13 1475.44 1720.93 1479.01 Q1722.76 1482.55 1726.37 1482.55 Q1730.01 1482.55 1731.81 1479.01 Q1733.64 1475.44 1733.64 1468.33 Q1733.64 1461.2 1731.81 1457.66 Q1730.01 1454.1 1726.37 1454.1 M1726.37 1450.39 Q1732.18 1450.39 1735.24 1455 Q1738.32 1459.58 1738.32 1468.33 Q1738.32 1477.06 1735.24 1481.67 Q1732.18 1486.25 1726.37 1486.25 Q1720.56 1486.25 1717.48 1481.67 Q1714.43 1477.06 1714.43 1468.33 Q1714.43 1459.58 1717.48 1455 Q1720.56 1450.39 1726.37 1450.39 Z\" fill=\"#000000\" fill-rule=\"nonzero\" fill-opacity=\"1\" /><path clip-path=\"url(#clip560)\" d=\"M1746.54 1479.7 L1751.42 1479.7 L1751.42 1485.58 L1746.54 1485.58 L1746.54 1479.7 Z\" fill=\"#000000\" fill-rule=\"nonzero\" fill-opacity=\"1\" /><path clip-path=\"url(#clip560)\" d=\"M1765.63 1481.64 L1781.95 1481.64 L1781.95 1485.58 L1760.01 1485.58 L1760.01 1481.64 Q1762.67 1478.89 1767.25 1474.26 Q1771.86 1469.61 1773.04 1468.27 Q1775.29 1465.74 1776.16 1464.01 Q1777.07 1462.25 1777.07 1460.56 Q1777.07 1457.8 1775.12 1456.07 Q1773.2 1454.33 1770.1 1454.33 Q1767.9 1454.33 1765.45 1455.09 Q1763.02 1455.86 1760.24 1457.41 L1760.24 1452.69 Q1763.06 1451.55 1765.52 1450.97 Q1767.97 1450.39 1770.01 1450.39 Q1775.38 1450.39 1778.57 1453.08 Q1781.77 1455.77 1781.77 1460.26 Q1781.77 1462.39 1780.96 1464.31 Q1780.17 1466.2 1778.06 1468.8 Q1777.48 1469.47 1774.38 1472.69 Q1771.28 1475.88 1765.63 1481.64 Z\" fill=\"#000000\" fill-rule=\"nonzero\" fill-opacity=\"1\" /><path clip-path=\"url(#clip560)\" d=\"M2210.07 1454.1 Q2206.46 1454.1 2204.63 1457.66 Q2202.82 1461.2 2202.82 1468.33 Q2202.82 1475.44 2204.63 1479.01 Q2206.46 1482.55 2210.07 1482.55 Q2213.7 1482.55 2215.51 1479.01 Q2217.34 1475.44 2217.34 1468.33 Q2217.34 1461.2 2215.51 1457.66 Q2213.7 1454.1 2210.07 1454.1 M2210.07 1450.39 Q2215.88 1450.39 2218.94 1455 Q2222.01 1459.58 2222.01 1468.33 Q2222.01 1477.06 2218.94 1481.67 Q2215.88 1486.25 2210.07 1486.25 Q2204.26 1486.25 2201.18 1481.67 Q2198.13 1477.06 2198.13 1468.33 Q2198.13 1459.58 2201.18 1455 Q2204.26 1450.39 2210.07 1450.39 Z\" fill=\"#000000\" fill-rule=\"nonzero\" fill-opacity=\"1\" /><path clip-path=\"url(#clip560)\" d=\"M2230.23 1479.7 L2235.12 1479.7 L2235.12 1485.58 L2230.23 1485.58 L2230.23 1479.7 Z\" fill=\"#000000\" fill-rule=\"nonzero\" fill-opacity=\"1\" /><path clip-path=\"url(#clip560)\" d=\"M2258.15 1455.09 L2246.34 1473.54 L2258.15 1473.54 L2258.15 1455.09 M2256.92 1451.02 L2262.8 1451.02 L2262.8 1473.54 L2267.73 1473.54 L2267.73 1477.43 L2262.8 1477.43 L2262.8 1485.58 L2258.15 1485.58 L2258.15 1477.43 L2242.55 1477.43 L2242.55 1472.92 L2256.92 1451.02 Z\" fill=\"#000000\" fill-rule=\"nonzero\" fill-opacity=\"1\" /><path clip-path=\"url(#clip560)\" d=\"M1083.64 1520.52 L1123.84 1520.52 L1123.84 1525.93 L1106.97 1525.93 L1106.97 1568.04 L1100.51 1568.04 L1100.51 1525.93 L1083.64 1525.93 L1083.64 1520.52 Z\" fill=\"#000000\" fill-rule=\"nonzero\" fill-opacity=\"1\" /><path clip-path=\"url(#clip560)\" d=\"M1127.78 1532.4 L1133.64 1532.4 L1133.64 1568.04 L1127.78 1568.04 L1127.78 1532.4 M1127.78 1518.52 L1133.64 1518.52 L1133.64 1525.93 L1127.78 1525.93 L1127.78 1518.52 Z\" fill=\"#000000\" fill-rule=\"nonzero\" fill-opacity=\"1\" /><path clip-path=\"url(#clip560)\" d=\"M1173.65 1539.24 Q1175.84 1535.29 1178.9 1533.41 Q1181.96 1531.54 1186.09 1531.54 Q1191.66 1531.54 1194.69 1535.45 Q1197.71 1539.33 1197.71 1546.53 L1197.71 1568.04 L1191.82 1568.04 L1191.82 1546.72 Q1191.82 1541.59 1190.01 1539.11 Q1188.19 1536.63 1184.47 1536.63 Q1179.92 1536.63 1177.28 1539.65 Q1174.63 1542.68 1174.63 1547.9 L1174.63 1568.04 L1168.75 1568.04 L1168.75 1546.72 Q1168.75 1541.56 1166.93 1539.11 Q1165.12 1536.63 1161.33 1536.63 Q1156.84 1536.63 1154.2 1539.68 Q1151.56 1542.71 1151.56 1547.9 L1151.56 1568.04 L1145.67 1568.04 L1145.67 1532.4 L1151.56 1532.4 L1151.56 1537.93 Q1153.56 1534.66 1156.37 1533.1 Q1159.17 1531.54 1163.02 1531.54 Q1166.9 1531.54 1169.61 1533.51 Q1172.34 1535.48 1173.65 1539.24 Z\" fill=\"#000000\" fill-rule=\"nonzero\" fill-opacity=\"1\" /><path clip-path=\"url(#clip560)\" d=\"M1239.88 1548.76 L1239.88 1551.62 L1212.96 1551.62 Q1213.34 1557.67 1216.58 1560.85 Q1219.86 1564 1225.69 1564 Q1229.06 1564 1232.21 1563.17 Q1235.4 1562.35 1238.51 1560.69 L1238.51 1566.23 Q1235.36 1567.57 1232.05 1568.27 Q1228.74 1568.97 1225.34 1568.97 Q1216.81 1568.97 1211.81 1564 Q1206.85 1559.04 1206.85 1550.57 Q1206.85 1541.82 1211.56 1536.69 Q1216.3 1531.54 1224.32 1531.54 Q1231.51 1531.54 1235.68 1536.18 Q1239.88 1540.8 1239.88 1548.76 M1234.03 1547.04 Q1233.96 1542.23 1231.32 1539.37 Q1228.71 1536.5 1224.38 1536.5 Q1219.48 1536.5 1216.52 1539.27 Q1213.59 1542.04 1213.15 1547.07 L1234.03 1547.04 Z\" fill=\"#000000\" fill-rule=\"nonzero\" fill-opacity=\"1\" /><path clip-path=\"url(#clip560)\" d=\"M1298.96 1522.08 L1298.96 1528.35 Q1295.3 1526.6 1292.05 1525.74 Q1288.8 1524.88 1285.78 1524.88 Q1280.53 1524.88 1277.66 1526.92 Q1274.83 1528.96 1274.83 1532.71 Q1274.83 1535.87 1276.71 1537.49 Q1278.62 1539.08 1283.9 1540.07 L1287.79 1540.86 Q1294.98 1542.23 1298.38 1545.7 Q1301.82 1549.14 1301.82 1554.93 Q1301.82 1561.84 1297.17 1565.4 Q1292.56 1568.97 1283.62 1568.97 Q1280.24 1568.97 1276.42 1568.2 Q1272.63 1567.44 1268.56 1565.94 L1268.56 1559.32 Q1272.48 1561.52 1276.23 1562.63 Q1279.99 1563.75 1283.62 1563.75 Q1289.12 1563.75 1292.11 1561.58 Q1295.11 1559.42 1295.11 1555.41 Q1295.11 1551.91 1292.94 1549.93 Q1290.81 1547.96 1285.91 1546.97 L1281.99 1546.21 Q1274.8 1544.78 1271.58 1541.72 Q1268.37 1538.67 1268.37 1533.22 Q1268.37 1526.92 1272.79 1523.29 Q1277.25 1519.66 1285.05 1519.66 Q1288.39 1519.66 1291.86 1520.27 Q1295.33 1520.87 1298.96 1522.08 Z\" fill=\"#000000\" fill-rule=\"nonzero\" fill-opacity=\"1\" /><path clip-path=\"url(#clip560)\" d=\"M1317.39 1522.27 L1317.39 1532.4 L1329.45 1532.4 L1329.45 1536.95 L1317.39 1536.95 L1317.39 1556.3 Q1317.39 1560.66 1318.56 1561.9 Q1319.77 1563.14 1323.43 1563.14 L1329.45 1563.14 L1329.45 1568.04 L1323.43 1568.04 Q1316.65 1568.04 1314.08 1565.53 Q1311.5 1562.98 1311.5 1556.3 L1311.5 1536.95 L1307.2 1536.95 L1307.2 1532.4 L1311.5 1532.4 L1311.5 1522.27 L1317.39 1522.27 Z\" fill=\"#000000\" fill-rule=\"nonzero\" fill-opacity=\"1\" /><path clip-path=\"url(#clip560)\" d=\"M1367.64 1548.76 L1367.64 1551.62 L1340.72 1551.62 Q1341.1 1557.67 1344.34 1560.85 Q1347.62 1564 1353.45 1564 Q1356.82 1564 1359.97 1563.17 Q1363.16 1562.35 1366.27 1560.69 L1366.27 1566.23 Q1363.12 1567.57 1359.81 1568.27 Q1356.5 1568.97 1353.1 1568.97 Q1344.57 1568.97 1339.57 1564 Q1334.61 1559.04 1334.61 1550.57 Q1334.61 1541.82 1339.32 1536.69 Q1344.06 1531.54 1352.08 1531.54 Q1359.27 1531.54 1363.44 1536.18 Q1367.64 1540.8 1367.64 1548.76 M1361.79 1547.04 Q1361.72 1542.23 1359.08 1539.37 Q1356.47 1536.5 1352.14 1536.5 Q1347.24 1536.5 1344.28 1539.27 Q1341.35 1542.04 1340.91 1547.07 L1361.79 1547.04 Z\" fill=\"#000000\" fill-rule=\"nonzero\" fill-opacity=\"1\" /><path clip-path=\"url(#clip560)\" d=\"M1382.92 1562.7 L1382.92 1581.6 L1377.03 1581.6 L1377.03 1532.4 L1382.92 1532.4 L1382.92 1537.81 Q1384.77 1534.62 1387.57 1533.1 Q1390.4 1531.54 1394.32 1531.54 Q1400.81 1531.54 1404.85 1536.69 Q1408.92 1541.85 1408.92 1550.25 Q1408.92 1558.65 1404.85 1563.81 Q1400.81 1568.97 1394.32 1568.97 Q1390.4 1568.97 1387.57 1567.44 Q1384.77 1565.88 1382.92 1562.7 M1402.85 1550.25 Q1402.85 1543.79 1400.17 1540.13 Q1397.53 1536.44 1392.88 1536.44 Q1388.24 1536.44 1385.56 1540.13 Q1382.92 1543.79 1382.92 1550.25 Q1382.92 1556.71 1385.56 1560.4 Q1388.24 1564.07 1392.88 1564.07 Q1397.53 1564.07 1400.17 1560.4 Q1402.85 1556.71 1402.85 1550.25 Z\" fill=\"#000000\" fill-rule=\"nonzero\" fill-opacity=\"1\" /><path clip-path=\"url(#clip560)\" d=\"M1441.36 1533.45 L1441.36 1538.98 Q1438.88 1537.71 1436.2 1537.07 Q1433.53 1536.44 1430.66 1536.44 Q1426.3 1536.44 1424.11 1537.77 Q1421.94 1539.11 1421.94 1541.79 Q1421.94 1543.82 1423.5 1545 Q1425.06 1546.15 1429.77 1547.2 L1431.78 1547.64 Q1438.02 1548.98 1440.63 1551.43 Q1443.27 1553.85 1443.27 1558.21 Q1443.27 1563.17 1439.32 1566.07 Q1435.41 1568.97 1428.53 1568.97 Q1425.67 1568.97 1422.55 1568.39 Q1419.46 1567.85 1416.02 1566.74 L1416.02 1560.69 Q1419.27 1562.38 1422.42 1563.24 Q1425.57 1564.07 1428.66 1564.07 Q1432.8 1564.07 1435.02 1562.66 Q1437.25 1561.23 1437.25 1558.65 Q1437.25 1556.27 1435.63 1554.99 Q1434.04 1553.72 1428.59 1552.54 L1426.56 1552.07 Q1421.12 1550.92 1418.7 1548.56 Q1416.28 1546.18 1416.28 1542.04 Q1416.28 1537.01 1419.84 1534.27 Q1423.41 1531.54 1429.96 1531.54 Q1433.21 1531.54 1436.07 1532.01 Q1438.94 1532.49 1441.36 1533.45 Z\" fill=\"#000000\" fill-rule=\"nonzero\" fill-opacity=\"1\" /><polyline clip-path=\"url(#clip562)\" style=\"stroke:#000000; stroke-linecap:round; stroke-linejoin:round; stroke-width:2; stroke-opacity:0.1; fill:none\" points=\"174.149,1423.18 2352.76,1423.18 \"/>\n",
       "<polyline clip-path=\"url(#clip562)\" style=\"stroke:#000000; stroke-linecap:round; stroke-linejoin:round; stroke-width:2; stroke-opacity:0.1; fill:none\" points=\"174.149,989.944 2352.76,989.944 \"/>\n",
       "<polyline clip-path=\"url(#clip562)\" style=\"stroke:#000000; stroke-linecap:round; stroke-linejoin:round; stroke-width:2; stroke-opacity:0.1; fill:none\" points=\"174.149,556.708 2352.76,556.708 \"/>\n",
       "<polyline clip-path=\"url(#clip562)\" style=\"stroke:#000000; stroke-linecap:round; stroke-linejoin:round; stroke-width:2; stroke-opacity:0.1; fill:none\" points=\"174.149,123.472 2352.76,123.472 \"/>\n",
       "<polyline clip-path=\"url(#clip560)\" style=\"stroke:#000000; stroke-linecap:round; stroke-linejoin:round; stroke-width:4; stroke-opacity:1; fill:none\" points=\"174.149,1423.18 174.149,123.472 \"/>\n",
       "<polyline clip-path=\"url(#clip560)\" style=\"stroke:#000000; stroke-linecap:round; stroke-linejoin:round; stroke-width:4; stroke-opacity:1; fill:none\" points=\"174.149,1423.18 193.047,1423.18 \"/>\n",
       "<polyline clip-path=\"url(#clip560)\" style=\"stroke:#000000; stroke-linecap:round; stroke-linejoin:round; stroke-width:4; stroke-opacity:1; fill:none\" points=\"174.149,989.944 193.047,989.944 \"/>\n",
       "<polyline clip-path=\"url(#clip560)\" style=\"stroke:#000000; stroke-linecap:round; stroke-linejoin:round; stroke-width:4; stroke-opacity:1; fill:none\" points=\"174.149,556.708 193.047,556.708 \"/>\n",
       "<polyline clip-path=\"url(#clip560)\" style=\"stroke:#000000; stroke-linecap:round; stroke-linejoin:round; stroke-width:4; stroke-opacity:1; fill:none\" points=\"174.149,123.472 193.047,123.472 \"/>\n",
       "<path clip-path=\"url(#clip560)\" d=\"M126.205 1408.98 Q122.593 1408.98 120.765 1412.54 Q118.959 1416.08 118.959 1423.21 Q118.959 1430.32 120.765 1433.89 Q122.593 1437.43 126.205 1437.43 Q129.839 1437.43 131.644 1433.89 Q133.473 1430.32 133.473 1423.21 Q133.473 1416.08 131.644 1412.54 Q129.839 1408.98 126.205 1408.98 M126.205 1405.27 Q132.015 1405.27 135.07 1409.88 Q138.149 1414.46 138.149 1423.21 Q138.149 1431.94 135.07 1436.55 Q132.015 1441.13 126.205 1441.13 Q120.394 1441.13 117.316 1436.55 Q114.26 1431.94 114.26 1423.21 Q114.26 1414.46 117.316 1409.88 Q120.394 1405.27 126.205 1405.27 Z\" fill=\"#000000\" fill-rule=\"nonzero\" fill-opacity=\"1\" /><path clip-path=\"url(#clip560)\" d=\"M118.242 1003.29 L125.88 1003.29 L125.88 976.923 L117.57 978.59 L117.57 974.331 L125.834 972.664 L130.51 972.664 L130.51 1003.29 L138.149 1003.29 L138.149 1007.22 L118.242 1007.22 L118.242 1003.29 Z\" fill=\"#000000\" fill-rule=\"nonzero\" fill-opacity=\"1\" /><path clip-path=\"url(#clip560)\" d=\"M121.83 570.053 L138.149 570.053 L138.149 573.988 L116.205 573.988 L116.205 570.053 Q118.867 567.298 123.45 562.669 Q128.056 558.016 129.237 556.673 Q131.482 554.15 132.362 552.414 Q133.265 550.655 133.265 548.965 Q133.265 546.21 131.32 544.474 Q129.399 542.738 126.297 542.738 Q124.098 542.738 121.644 543.502 Q119.214 544.266 116.436 545.817 L116.436 541.095 Q119.26 539.96 121.714 539.382 Q124.168 538.803 126.205 538.803 Q131.575 538.803 134.769 541.488 Q137.964 544.173 137.964 548.664 Q137.964 550.794 137.154 552.715 Q136.367 554.613 134.26 557.206 Q133.681 557.877 130.58 561.095 Q127.478 564.289 121.83 570.053 Z\" fill=\"#000000\" fill-rule=\"nonzero\" fill-opacity=\"1\" /><path clip-path=\"url(#clip560)\" d=\"M131.019 122.118 Q134.376 122.836 136.251 125.104 Q138.149 127.373 138.149 130.706 Q138.149 135.822 134.63 138.623 Q131.112 141.423 124.63 141.423 Q122.455 141.423 120.14 140.984 Q117.848 140.567 115.394 139.71 L115.394 135.197 Q117.339 136.331 119.654 136.91 Q121.968 137.488 124.492 137.488 Q128.89 137.488 131.181 135.752 Q133.496 134.016 133.496 130.706 Q133.496 127.65 131.343 125.937 Q129.214 124.201 125.394 124.201 L121.367 124.201 L121.367 120.359 L125.58 120.359 Q129.029 120.359 130.857 118.993 Q132.686 117.604 132.686 115.012 Q132.686 112.35 130.788 110.937 Q128.913 109.502 125.394 109.502 Q123.473 109.502 121.274 109.919 Q119.075 110.336 116.436 111.215 L116.436 107.049 Q119.098 106.308 121.413 105.937 Q123.751 105.567 125.811 105.567 Q131.135 105.567 134.237 107.998 Q137.339 110.405 137.339 114.525 Q137.339 117.396 135.695 119.386 Q134.052 121.354 131.019 122.118 Z\" fill=\"#000000\" fill-rule=\"nonzero\" fill-opacity=\"1\" /><path clip-path=\"url(#clip560)\" d=\"M41.7242 1126.73 Q42.4244 1124.67 44.7161 1122.72 Q47.0077 1120.75 51.0181 1118.78 L64.0042 1112.25 L64.0042 1119.16 L51.8138 1125.24 Q47.0395 1127.59 45.48 1129.82 Q43.9204 1132.02 43.9204 1135.84 L43.9204 1142.84 L64.0042 1142.84 L64.0042 1149.27 L16.4842 1149.27 L16.4842 1134.75 Q16.4842 1126.61 19.8898 1122.6 Q23.2955 1118.59 30.1704 1118.59 Q34.6582 1118.59 37.6183 1120.69 Q40.5784 1122.76 41.7242 1126.73 M21.7677 1142.84 L38.6368 1142.84 L38.6368 1134.75 Q38.6368 1130.11 36.5043 1127.75 Q34.34 1125.37 30.1704 1125.37 Q26.0009 1125.37 23.9002 1127.75 Q21.7677 1130.11 21.7677 1134.75 L21.7677 1142.84 Z\" fill=\"#000000\" fill-rule=\"nonzero\" fill-opacity=\"1\" /><path clip-path=\"url(#clip560)\" d=\"M44.7161 1076.67 L47.5806 1076.67 L47.5806 1103.59 Q53.6281 1103.21 56.8109 1099.97 Q59.9619 1096.69 59.9619 1090.86 Q59.9619 1087.49 59.1344 1084.34 Q58.3069 1081.16 56.6518 1078.04 L62.1899 1078.04 Q63.5267 1081.19 64.227 1084.5 Q64.9272 1087.81 64.9272 1091.21 Q64.9272 1099.74 59.9619 1104.74 Q54.9967 1109.71 46.5303 1109.71 Q37.7774 1109.71 32.6531 1105 Q27.4968 1100.25 27.4968 1092.23 Q27.4968 1085.04 32.1438 1080.87 Q36.7589 1076.67 44.7161 1076.67 M42.9973 1082.52 Q38.1912 1082.59 35.3266 1085.23 Q32.4621 1087.84 32.4621 1092.17 Q32.4621 1097.07 35.2312 1100.03 Q38.0002 1102.96 43.0292 1103.4 L42.9973 1082.52 Z\" fill=\"#000000\" fill-rule=\"nonzero\" fill-opacity=\"1\" /><path clip-path=\"url(#clip560)\" d=\"M29.4065 1044.33 L34.9447 1044.33 Q33.6716 1046.81 33.035 1049.49 Q32.3984 1052.16 32.3984 1055.02 Q32.3984 1059.38 33.7352 1061.58 Q35.072 1063.75 37.7456 1063.75 Q39.7826 1063.75 40.9603 1062.19 Q42.1061 1060.63 43.1565 1055.92 L43.6021 1053.91 Q44.9389 1047.67 47.3897 1045.06 Q49.8086 1042.42 54.1691 1042.42 Q59.1344 1042.42 62.0308 1046.37 Q64.9272 1050.28 64.9272 1057.16 Q64.9272 1060.02 64.3543 1063.14 Q63.8132 1066.23 62.6992 1069.67 L56.6518 1069.67 Q58.3387 1066.42 59.198 1063.27 Q60.0256 1060.12 60.0256 1057.03 Q60.0256 1052.89 58.6251 1050.66 Q57.1929 1048.44 54.6147 1048.44 Q52.2276 1048.44 50.9545 1050.06 Q49.6813 1051.65 48.5037 1057.09 L48.0262 1059.13 Q46.8804 1064.57 44.5251 1066.99 Q42.138 1069.41 38.0002 1069.41 Q32.9713 1069.41 30.2341 1065.85 Q27.4968 1062.28 27.4968 1055.72 Q27.4968 1052.48 27.9743 1049.61 Q28.4517 1046.75 29.4065 1044.33 Z\" fill=\"#000000\" fill-rule=\"nonzero\" fill-opacity=\"1\" /><path clip-path=\"url(#clip560)\" d=\"M32.4621 1019.28 Q32.4621 1023.99 36.1542 1026.73 Q39.8145 1029.47 46.212 1029.47 Q52.6095 1029.47 56.3017 1026.76 Q59.9619 1024.02 59.9619 1019.28 Q59.9619 1014.6 56.2698 1011.86 Q52.5777 1009.13 46.212 1009.13 Q39.8781 1009.13 36.186 1011.86 Q32.4621 1014.6 32.4621 1019.28 M27.4968 1019.28 Q27.4968 1011.64 32.4621 1007.28 Q37.4273 1002.92 46.212 1002.92 Q54.9649 1002.92 59.9619 1007.28 Q64.9272 1011.64 64.9272 1019.28 Q64.9272 1026.95 59.9619 1031.31 Q54.9649 1035.64 46.212 1035.64 Q37.4273 1035.64 32.4621 1031.31 Q27.4968 1026.95 27.4968 1019.28 Z\" fill=\"#000000\" fill-rule=\"nonzero\" fill-opacity=\"1\" /><path clip-path=\"url(#clip560)\" d=\"M49.9359 993.818 L28.3562 993.818 L28.3562 987.962 L49.7131 987.962 Q54.7739 987.962 57.3202 985.988 Q59.8346 984.015 59.8346 980.068 Q59.8346 975.326 56.8109 972.589 Q53.7872 969.819 48.5673 969.819 L28.3562 969.819 L28.3562 963.963 L64.0042 963.963 L64.0042 969.819 L58.5296 969.819 Q61.7762 971.952 63.3676 974.785 Q64.9272 977.586 64.9272 981.31 Q64.9272 987.452 61.1078 990.635 Q57.2883 993.818 49.9359 993.818 M27.4968 979.082 L27.4968 979.082 Z\" fill=\"#000000\" fill-rule=\"nonzero\" fill-opacity=\"1\" /><path clip-path=\"url(#clip560)\" d=\"M33.8307 931.243 Q33.2578 932.23 33.0032 933.408 Q32.7167 934.553 32.7167 935.954 Q32.7167 940.919 35.9632 943.593 Q39.1779 946.234 45.2253 946.234 L64.0042 946.234 L64.0042 952.123 L28.3562 952.123 L28.3562 946.234 L33.8944 946.234 Q30.6479 944.388 29.0883 941.428 Q27.4968 938.468 27.4968 934.235 Q27.4968 933.63 27.5923 932.898 Q27.656 932.166 27.8151 931.275 L33.8307 931.243 Z\" fill=\"#000000\" fill-rule=\"nonzero\" fill-opacity=\"1\" /><path clip-path=\"url(#clip560)\" d=\"M29.7248 900.879 L35.1993 900.879 Q33.8307 903.361 33.1623 905.876 Q32.4621 908.359 32.4621 910.905 Q32.4621 916.602 36.0905 919.753 Q39.6872 922.904 46.212 922.904 Q52.7369 922.904 56.3653 919.753 Q59.9619 916.602 59.9619 910.905 Q59.9619 908.359 59.2935 905.876 Q58.5933 903.361 57.2247 900.879 L62.6355 900.879 Q63.7814 903.33 64.3543 905.971 Q64.9272 908.581 64.9272 911.541 Q64.9272 919.594 59.8664 924.336 Q54.8057 929.079 46.212 929.079 Q37.491 929.079 32.4939 924.305 Q27.4968 919.499 27.4968 911.159 Q27.4968 908.454 28.0697 905.876 Q28.6108 903.298 29.7248 900.879 Z\" fill=\"#000000\" fill-rule=\"nonzero\" fill-opacity=\"1\" /><path clip-path=\"url(#clip560)\" d=\"M44.7161 860.202 L47.5806 860.202 L47.5806 887.129 Q53.6281 886.747 56.8109 883.5 Q59.9619 880.222 59.9619 874.397 Q59.9619 871.024 59.1344 867.873 Q58.3069 864.69 56.6518 861.571 L62.1899 861.571 Q63.5267 864.722 64.227 868.032 Q64.9272 871.342 64.9272 874.748 Q64.9272 883.278 59.9619 888.275 Q54.9967 893.24 46.5303 893.24 Q37.7774 893.24 32.6531 888.529 Q27.4968 883.787 27.4968 875.766 Q27.4968 868.573 32.1438 864.403 Q36.7589 860.202 44.7161 860.202 M42.9973 866.058 Q38.1912 866.122 35.3266 868.764 Q32.4621 871.374 32.4621 875.702 Q32.4621 880.604 35.2312 883.564 Q38.0002 886.492 43.0292 886.938 L42.9973 866.058 Z\" fill=\"#000000\" fill-rule=\"nonzero\" fill-opacity=\"1\" /><path clip-path=\"url(#clip560)\" d=\"M22.818 813.732 L46.4666 822.453 L46.4666 804.979 L22.818 813.732 M16.4842 817.361 L16.4842 810.072 L64.0042 791.962 L64.0042 798.646 L51.8138 802.974 L51.8138 824.395 L64.0042 828.724 L64.0042 835.503 L16.4842 817.361 Z\" fill=\"#000000\" fill-rule=\"nonzero\" fill-opacity=\"1\" /><path clip-path=\"url(#clip560)\" d=\"M29.7248 760.77 L35.1993 760.77 Q33.8307 763.252 33.1623 765.767 Q32.4621 768.249 32.4621 770.796 Q32.4621 776.493 36.0905 779.644 Q39.6872 782.795 46.212 782.795 Q52.7369 782.795 56.3653 779.644 Q59.9619 776.493 59.9619 770.796 Q59.9619 768.249 59.2935 765.767 Q58.5933 763.252 57.2247 760.77 L62.6355 760.77 Q63.7814 763.22 64.3543 765.862 Q64.9272 768.472 64.9272 771.432 Q64.9272 779.485 59.8664 784.227 Q54.8057 788.97 46.212 788.97 Q37.491 788.97 32.4939 784.195 Q27.4968 779.389 27.4968 771.05 Q27.4968 768.345 28.0697 765.767 Q28.6108 763.189 29.7248 760.77 Z\" fill=\"#000000\" fill-rule=\"nonzero\" fill-opacity=\"1\" /><path clip-path=\"url(#clip560)\" d=\"M29.7248 724.931 L35.1993 724.931 Q33.8307 727.413 33.1623 729.928 Q32.4621 732.41 32.4621 734.957 Q32.4621 740.654 36.0905 743.805 Q39.6872 746.956 46.212 746.956 Q52.7369 746.956 56.3653 743.805 Q59.9619 740.654 59.9619 734.957 Q59.9619 732.41 59.2935 729.928 Q58.5933 727.413 57.2247 724.931 L62.6355 724.931 Q63.7814 727.381 64.3543 730.023 Q64.9272 732.633 64.9272 735.593 Q64.9272 743.646 59.8664 748.388 Q54.8057 753.131 46.212 753.131 Q37.491 753.131 32.4939 748.356 Q27.4968 743.55 27.4968 735.211 Q27.4968 732.506 28.0697 729.928 Q28.6108 727.35 29.7248 724.931 Z\" fill=\"#000000\" fill-rule=\"nonzero\" fill-opacity=\"1\" /><path clip-path=\"url(#clip560)\" d=\"M49.9359 715.35 L28.3562 715.35 L28.3562 709.494 L49.7131 709.494 Q54.7739 709.494 57.3202 707.52 Q59.8346 705.547 59.8346 701.6 Q59.8346 696.858 56.8109 694.121 Q53.7872 691.352 48.5673 691.352 L28.3562 691.352 L28.3562 685.495 L64.0042 685.495 L64.0042 691.352 L58.5296 691.352 Q61.7762 693.484 63.3676 696.317 Q64.9272 699.118 64.9272 702.842 Q64.9272 708.985 61.1078 712.167 Q57.2883 715.35 49.9359 715.35 M27.4968 700.614 L27.4968 700.614 Z\" fill=\"#000000\" fill-rule=\"nonzero\" fill-opacity=\"1\" /><path clip-path=\"url(#clip560)\" d=\"M35.1993 645.678 Q31.2526 643.481 29.3747 640.426 Q27.4968 637.37 27.4968 633.233 Q27.4968 627.663 31.4117 624.639 Q35.2948 621.615 42.4881 621.615 L64.0042 621.615 L64.0042 627.504 L42.679 627.504 Q37.5546 627.504 35.072 629.318 Q32.5894 631.132 32.5894 634.856 Q32.5894 639.407 35.6131 642.049 Q38.6368 644.691 43.8567 644.691 L64.0042 644.691 L64.0042 650.579 L42.679 650.579 Q37.5228 650.579 35.072 652.393 Q32.5894 654.208 32.5894 657.995 Q32.5894 662.483 35.6449 665.125 Q38.6686 667.767 43.8567 667.767 L64.0042 667.767 L64.0042 673.655 L28.3562 673.655 L28.3562 667.767 L33.8944 667.767 Q30.616 665.761 29.0564 662.961 Q27.4968 660.16 27.4968 656.308 Q27.4968 652.425 29.4702 649.72 Q31.4436 646.983 35.1993 645.678 Z\" fill=\"#000000\" fill-rule=\"nonzero\" fill-opacity=\"1\" /><path clip-path=\"url(#clip560)\" d=\"M49.9359 610.539 L28.3562 610.539 L28.3562 604.683 L49.7131 604.683 Q54.7739 604.683 57.3202 602.709 Q59.8346 600.736 59.8346 596.789 Q59.8346 592.047 56.8109 589.309 Q53.7872 586.54 48.5673 586.54 L28.3562 586.54 L28.3562 580.684 L64.0042 580.684 L64.0042 586.54 L58.5296 586.54 Q61.7762 588.673 63.3676 591.505 Q64.9272 594.306 64.9272 598.03 Q64.9272 604.173 61.1078 607.356 Q57.2883 610.539 49.9359 610.539 M27.4968 595.802 L27.4968 595.802 Z\" fill=\"#000000\" fill-rule=\"nonzero\" fill-opacity=\"1\" /><path clip-path=\"url(#clip560)\" d=\"M14.479 568.621 L14.479 562.764 L64.0042 562.764 L64.0042 568.621 L14.479 568.621 Z\" fill=\"#000000\" fill-rule=\"nonzero\" fill-opacity=\"1\" /><path clip-path=\"url(#clip560)\" d=\"M46.0847 534.31 Q46.0847 541.407 47.7079 544.145 Q49.3312 546.882 53.2461 546.882 Q56.3653 546.882 58.2114 544.845 Q60.0256 542.776 60.0256 539.243 Q60.0256 534.373 56.5881 531.445 Q53.1188 528.485 47.3897 528.485 L46.0847 528.485 L46.0847 534.31 M43.6657 522.629 L64.0042 522.629 L64.0042 528.485 L58.5933 528.485 Q61.8398 530.49 63.3994 533.482 Q64.9272 536.474 64.9272 540.803 Q64.9272 546.277 61.8716 549.524 Q58.7843 552.738 53.6281 552.738 Q47.6125 552.738 44.5569 548.728 Q41.5014 544.686 41.5014 536.697 L41.5014 528.485 L40.9285 528.485 Q36.8862 528.485 34.6901 531.159 Q32.4621 533.8 32.4621 538.606 Q32.4621 541.662 33.1941 544.558 Q33.9262 547.455 35.3903 550.128 L29.9795 550.128 Q28.7381 546.914 28.1334 543.89 Q27.4968 540.866 27.4968 538.002 Q27.4968 530.267 31.5072 526.448 Q35.5176 522.629 43.6657 522.629 Z\" fill=\"#000000\" fill-rule=\"nonzero\" fill-opacity=\"1\" /><path clip-path=\"url(#clip560)\" d=\"M18.2347 504.773 L28.3562 504.773 L28.3562 492.71 L32.9077 492.71 L32.9077 504.773 L52.2594 504.773 Q56.6199 504.773 57.8613 503.595 Q59.1026 502.386 59.1026 498.725 L59.1026 492.71 L64.0042 492.71 L64.0042 498.725 Q64.0042 505.505 61.4897 508.083 Q58.9434 510.661 52.2594 510.661 L32.9077 510.661 L32.9077 514.958 L28.3562 514.958 L28.3562 510.661 L18.2347 510.661 L18.2347 504.773 Z\" fill=\"#000000\" fill-rule=\"nonzero\" fill-opacity=\"1\" /><path clip-path=\"url(#clip560)\" d=\"M28.3562 485.007 L28.3562 479.151 L64.0042 479.151 L64.0042 485.007 L28.3562 485.007 M14.479 485.007 L14.479 479.151 L21.895 479.151 L21.895 485.007 L14.479 485.007 Z\" fill=\"#000000\" fill-rule=\"nonzero\" fill-opacity=\"1\" /><path clip-path=\"url(#clip560)\" d=\"M32.4621 453.083 Q32.4621 457.794 36.1542 460.531 Q39.8145 463.268 46.212 463.268 Q52.6095 463.268 56.3017 460.563 Q59.9619 457.826 59.9619 453.083 Q59.9619 448.404 56.2698 445.667 Q52.5777 442.93 46.212 442.93 Q39.8781 442.93 36.186 445.667 Q32.4621 448.404 32.4621 453.083 M27.4968 453.083 Q27.4968 445.444 32.4621 441.084 Q37.4273 436.723 46.212 436.723 Q54.9649 436.723 59.9619 441.084 Q64.9272 445.444 64.9272 453.083 Q64.9272 460.754 59.9619 465.114 Q54.9649 469.443 46.212 469.443 Q37.4273 469.443 32.4621 465.114 Q27.4968 460.754 27.4968 453.083 Z\" fill=\"#000000\" fill-rule=\"nonzero\" fill-opacity=\"1\" /><path clip-path=\"url(#clip560)\" d=\"M42.4881 397.383 L64.0042 397.383 L64.0042 403.24 L42.679 403.24 Q37.6183 403.24 35.1038 405.213 Q32.5894 407.186 32.5894 411.133 Q32.5894 415.876 35.6131 418.613 Q38.6368 421.35 43.8567 421.35 L64.0042 421.35 L64.0042 427.238 L28.3562 427.238 L28.3562 421.35 L33.8944 421.35 Q30.6797 419.249 29.0883 416.417 Q27.4968 413.552 27.4968 409.828 Q27.4968 403.685 31.3163 400.534 Q35.1038 397.383 42.4881 397.383 Z\" fill=\"#000000\" fill-rule=\"nonzero\" fill-opacity=\"1\" /><path clip-path=\"url(#clip560)\" d=\"M694.057 44.2197 Q696.69 45.1109 699.161 48.0275 Q701.673 50.9442 704.185 56.0483 L712.489 72.576 L703.698 72.576 L695.961 57.061 Q692.964 50.9847 690.128 48.9997 Q687.333 47.0148 682.472 47.0148 L673.56 47.0148 L673.56 72.576 L665.377 72.576 L665.377 12.096 L683.849 12.096 Q694.219 12.096 699.323 16.4305 Q704.428 20.7649 704.428 29.5149 Q704.428 35.2267 701.754 38.994 Q699.121 42.7613 694.057 44.2197 M673.56 18.8205 L673.56 40.2903 L683.849 40.2903 Q689.763 40.2903 692.761 37.5762 Q695.799 34.8216 695.799 29.5149 Q695.799 24.2082 692.761 21.5346 Q689.763 18.8205 683.849 18.8205 L673.56 18.8205 Z\" fill=\"#000000\" fill-rule=\"nonzero\" fill-opacity=\"1\" /><path clip-path=\"url(#clip560)\" d=\"M757.778 48.0275 L757.778 51.6733 L723.507 51.6733 Q723.993 59.3701 728.125 63.421 Q732.298 67.4314 739.711 67.4314 Q744.005 67.4314 748.015 66.3781 Q752.066 65.3249 756.036 63.2184 L756.036 70.267 Q752.026 71.9684 747.813 72.8596 Q743.6 73.7508 739.265 73.7508 Q728.409 73.7508 722.049 67.4314 Q715.73 61.1119 715.73 50.3365 Q715.73 39.1965 721.725 32.6746 Q727.761 26.1121 737.969 26.1121 Q747.124 26.1121 752.431 32.0264 Q757.778 37.9003 757.778 48.0275 M750.324 45.84 Q750.243 39.7232 746.881 36.0774 Q743.559 32.4315 738.05 32.4315 Q731.812 32.4315 728.044 35.9558 Q724.318 39.4801 723.75 45.8805 L750.324 45.84 Z\" fill=\"#000000\" fill-rule=\"nonzero\" fill-opacity=\"1\" /><path clip-path=\"url(#clip560)\" d=\"M798.935 28.5427 L798.935 35.5912 Q795.776 33.9709 792.373 33.1607 Q788.97 32.3505 785.324 32.3505 Q779.774 32.3505 776.979 34.0519 Q774.225 35.7533 774.225 39.156 Q774.225 41.7486 776.21 43.2475 Q778.195 44.7058 784.19 46.0426 L786.742 46.6097 Q794.682 48.3111 798.004 51.4303 Q801.366 54.509 801.366 60.0587 Q801.366 66.3781 796.343 70.0644 Q791.36 73.7508 782.61 73.7508 Q778.964 73.7508 774.994 73.0216 Q771.065 72.3329 766.69 70.9151 L766.69 63.2184 Q770.822 65.3654 774.832 66.4591 Q778.843 67.5124 782.772 67.5124 Q788.038 67.5124 790.874 65.73 Q793.71 63.9071 793.71 60.6258 Q793.71 57.5877 791.644 55.9673 Q789.618 54.3469 782.691 52.8481 L780.099 52.2405 Q773.171 50.7821 770.093 47.7845 Q767.014 44.7463 767.014 39.4801 Q767.014 33.0797 771.551 29.5959 Q776.088 26.1121 784.433 26.1121 Q788.565 26.1121 792.211 26.7198 Q795.857 27.3274 798.935 28.5427 Z\" fill=\"#000000\" fill-rule=\"nonzero\" fill-opacity=\"1\" /><path clip-path=\"url(#clip560)\" d=\"M830.816 32.4315 Q824.821 32.4315 821.337 37.1306 Q817.853 41.7891 817.853 49.9314 Q817.853 58.0738 821.296 62.7728 Q824.78 67.4314 830.816 67.4314 Q836.771 67.4314 840.254 62.7323 Q843.738 58.0333 843.738 49.9314 Q843.738 41.8701 840.254 37.1711 Q836.771 32.4315 830.816 32.4315 M830.816 26.1121 Q840.538 26.1121 846.088 32.4315 Q851.637 38.7509 851.637 49.9314 Q851.637 61.0714 846.088 67.4314 Q840.538 73.7508 830.816 73.7508 Q821.053 73.7508 815.503 67.4314 Q809.994 61.0714 809.994 49.9314 Q809.994 38.7509 815.503 32.4315 Q821.053 26.1121 830.816 26.1121 Z\" fill=\"#000000\" fill-rule=\"nonzero\" fill-opacity=\"1\" /><path clip-path=\"url(#clip560)\" d=\"M863.223 54.671 L863.223 27.2059 L870.677 27.2059 L870.677 54.3874 Q870.677 60.8284 873.188 64.0691 Q875.7 67.2693 880.723 67.2693 Q886.759 67.2693 890.243 63.421 Q893.767 59.5726 893.767 52.9291 L893.767 27.2059 L901.221 27.2059 L901.221 72.576 L893.767 72.576 L893.767 65.6084 Q891.053 69.7404 887.447 71.7658 Q883.883 73.7508 879.143 73.7508 Q871.325 73.7508 867.274 68.8897 Q863.223 64.0286 863.223 54.671 M881.979 26.1121 L881.979 26.1121 Z\" fill=\"#000000\" fill-rule=\"nonzero\" fill-opacity=\"1\" /><path clip-path=\"url(#clip560)\" d=\"M942.864 34.1734 Q941.608 33.4443 940.109 33.1202 Q938.651 32.7556 936.869 32.7556 Q930.549 32.7556 927.146 36.8875 Q923.784 40.9789 923.784 48.6757 L923.784 72.576 L916.29 72.576 L916.29 27.2059 L923.784 27.2059 L923.784 34.2544 Q926.134 30.1225 929.901 28.1376 Q933.668 26.1121 939.056 26.1121 Q939.826 26.1121 940.757 26.2337 Q941.689 26.3147 942.823 26.5172 L942.864 34.1734 Z\" fill=\"#000000\" fill-rule=\"nonzero\" fill-opacity=\"1\" /><path clip-path=\"url(#clip560)\" d=\"M981.509 28.9478 L981.509 35.9153 Q978.35 34.1734 975.15 33.3227 Q971.99 32.4315 968.749 32.4315 Q961.498 32.4315 957.488 37.0496 Q953.477 41.6271 953.477 49.9314 Q953.477 58.2358 957.488 62.8538 Q961.498 67.4314 968.749 67.4314 Q971.99 67.4314 975.15 66.5807 Q978.35 65.6895 981.509 63.9476 L981.509 70.8341 Q978.39 72.2924 975.028 73.0216 Q971.706 73.7508 967.939 73.7508 Q957.69 73.7508 951.654 67.3098 Q945.618 60.8689 945.618 49.9314 Q945.618 38.832 951.695 32.472 Q957.812 26.1121 968.425 26.1121 Q971.868 26.1121 975.15 26.8413 Q978.431 27.5299 981.509 28.9478 Z\" fill=\"#000000\" fill-rule=\"nonzero\" fill-opacity=\"1\" /><path clip-path=\"url(#clip560)\" d=\"M1033.28 48.0275 L1033.28 51.6733 L999.009 51.6733 Q999.495 59.3701 1003.63 63.421 Q1007.8 67.4314 1015.21 67.4314 Q1019.51 67.4314 1023.52 66.3781 Q1027.57 65.3249 1031.54 63.2184 L1031.54 70.267 Q1027.53 71.9684 1023.31 72.8596 Q1019.1 73.7508 1014.77 73.7508 Q1003.91 73.7508 997.551 67.4314 Q991.232 61.1119 991.232 50.3365 Q991.232 39.1965 997.227 32.6746 Q1003.26 26.1121 1013.47 26.1121 Q1022.63 26.1121 1027.93 32.0264 Q1033.28 37.9003 1033.28 48.0275 M1025.83 45.84 Q1025.75 39.7232 1022.38 36.0774 Q1019.06 32.4315 1013.55 32.4315 Q1007.31 32.4315 1003.55 35.9558 Q999.82 39.4801 999.252 45.8805 L1025.83 45.84 Z\" fill=\"#000000\" fill-rule=\"nonzero\" fill-opacity=\"1\" /><path clip-path=\"url(#clip560)\" d=\"M1100.89 44.2197 Q1103.52 45.1109 1105.99 48.0275 Q1108.51 50.9442 1111.02 56.0483 L1119.32 72.576 L1110.53 72.576 L1102.79 57.061 Q1099.8 50.9847 1096.96 48.9997 Q1094.17 47.0148 1089.3 47.0148 L1080.39 47.0148 L1080.39 72.576 L1072.21 72.576 L1072.21 12.096 L1090.68 12.096 Q1101.05 12.096 1106.16 16.4305 Q1111.26 20.7649 1111.26 29.5149 Q1111.26 35.2267 1108.59 38.994 Q1105.95 42.7613 1100.89 44.2197 M1080.39 18.8205 L1080.39 40.2903 L1090.68 40.2903 Q1096.6 40.2903 1099.59 37.5762 Q1102.63 34.8216 1102.63 29.5149 Q1102.63 24.2082 1099.59 21.5346 Q1096.6 18.8205 1090.68 18.8205 L1080.39 18.8205 Z\" fill=\"#000000\" fill-rule=\"nonzero\" fill-opacity=\"1\" /><path clip-path=\"url(#clip560)\" d=\"M1164.61 48.0275 L1164.61 51.6733 L1130.34 51.6733 Q1130.83 59.3701 1134.96 63.421 Q1139.13 67.4314 1146.54 67.4314 Q1150.84 67.4314 1154.85 66.3781 Q1158.9 65.3249 1162.87 63.2184 L1162.87 70.267 Q1158.86 71.9684 1154.65 72.8596 Q1150.43 73.7508 1146.1 73.7508 Q1135.24 73.7508 1128.88 67.4314 Q1122.56 61.1119 1122.56 50.3365 Q1122.56 39.1965 1128.56 32.6746 Q1134.59 26.1121 1144.8 26.1121 Q1153.96 26.1121 1159.26 32.0264 Q1164.61 37.9003 1164.61 48.0275 M1157.16 45.84 Q1157.08 39.7232 1153.71 36.0774 Q1150.39 32.4315 1144.88 32.4315 Q1138.64 32.4315 1134.88 35.9558 Q1131.15 39.4801 1130.58 45.8805 L1157.16 45.84 Z\" fill=\"#000000\" fill-rule=\"nonzero\" fill-opacity=\"1\" /><path clip-path=\"url(#clip560)\" d=\"M1205.77 28.5427 L1205.77 35.5912 Q1202.61 33.9709 1199.21 33.1607 Q1195.8 32.3505 1192.16 32.3505 Q1186.61 32.3505 1183.81 34.0519 Q1181.06 35.7533 1181.06 39.156 Q1181.06 41.7486 1183.04 43.2475 Q1185.03 44.7058 1191.02 46.0426 L1193.57 46.6097 Q1201.51 48.3111 1204.84 51.4303 Q1208.2 54.509 1208.2 60.0587 Q1208.2 66.3781 1203.17 70.0644 Q1198.19 73.7508 1189.44 73.7508 Q1185.8 73.7508 1181.83 73.0216 Q1177.9 72.3329 1173.52 70.9151 L1173.52 63.2184 Q1177.65 65.3654 1181.66 66.4591 Q1185.68 67.5124 1189.6 67.5124 Q1194.87 67.5124 1197.71 65.73 Q1200.54 63.9071 1200.54 60.6258 Q1200.54 57.5877 1198.48 55.9673 Q1196.45 54.3469 1189.52 52.8481 L1186.93 52.2405 Q1180 50.7821 1176.93 47.7845 Q1173.85 44.7463 1173.85 39.4801 Q1173.85 33.0797 1178.38 29.5959 Q1182.92 26.1121 1191.27 26.1121 Q1195.4 26.1121 1199.04 26.7198 Q1202.69 27.3274 1205.77 28.5427 Z\" fill=\"#000000\" fill-rule=\"nonzero\" fill-opacity=\"1\" /><path clip-path=\"url(#clip560)\" d=\"M1258.87 48.0275 L1258.87 51.6733 L1224.6 51.6733 Q1225.09 59.3701 1229.22 63.421 Q1233.39 67.4314 1240.81 67.4314 Q1245.1 67.4314 1249.11 66.3781 Q1253.16 65.3249 1257.13 63.2184 L1257.13 70.267 Q1253.12 71.9684 1248.91 72.8596 Q1244.7 73.7508 1240.36 73.7508 Q1229.51 73.7508 1223.15 67.4314 Q1216.83 61.1119 1216.83 50.3365 Q1216.83 39.1965 1222.82 32.6746 Q1228.86 26.1121 1239.07 26.1121 Q1248.22 26.1121 1253.53 32.0264 Q1258.87 37.9003 1258.87 48.0275 M1251.42 45.84 Q1251.34 39.7232 1247.98 36.0774 Q1244.66 32.4315 1239.15 32.4315 Q1232.91 32.4315 1229.14 35.9558 Q1225.41 39.4801 1224.85 45.8805 L1251.42 45.84 Z\" fill=\"#000000\" fill-rule=\"nonzero\" fill-opacity=\"1\" /><path clip-path=\"url(#clip560)\" d=\"M1297.4 34.1734 Q1296.14 33.4443 1294.64 33.1202 Q1293.19 32.7556 1291.4 32.7556 Q1285.08 32.7556 1281.68 36.8875 Q1278.32 40.9789 1278.32 48.6757 L1278.32 72.576 L1270.83 72.576 L1270.83 27.2059 L1278.32 27.2059 L1278.32 34.2544 Q1280.67 30.1225 1284.44 28.1376 Q1288.2 26.1121 1293.59 26.1121 Q1294.36 26.1121 1295.29 26.2337 Q1296.22 26.3147 1297.36 26.5172 L1297.4 34.1734 Z\" fill=\"#000000\" fill-rule=\"nonzero\" fill-opacity=\"1\" /><path clip-path=\"url(#clip560)\" d=\"M1299.87 27.2059 L1307.77 27.2059 L1321.95 65.2844 L1336.13 27.2059 L1344.02 27.2059 L1327.01 72.576 L1316.88 72.576 L1299.87 27.2059 Z\" fill=\"#000000\" fill-rule=\"nonzero\" fill-opacity=\"1\" /><path clip-path=\"url(#clip560)\" d=\"M1393.12 48.0275 L1393.12 51.6733 L1358.85 51.6733 Q1359.34 59.3701 1363.47 63.421 Q1367.64 67.4314 1375.05 67.4314 Q1379.35 67.4314 1383.36 66.3781 Q1387.41 65.3249 1391.38 63.2184 L1391.38 70.267 Q1387.37 71.9684 1383.16 72.8596 Q1378.94 73.7508 1374.61 73.7508 Q1363.75 73.7508 1357.39 67.4314 Q1351.07 61.1119 1351.07 50.3365 Q1351.07 39.1965 1357.07 32.6746 Q1363.1 26.1121 1373.31 26.1121 Q1382.47 26.1121 1387.77 32.0264 Q1393.12 37.9003 1393.12 48.0275 M1385.67 45.84 Q1385.59 39.7232 1382.22 36.0774 Q1378.9 32.4315 1373.39 32.4315 Q1367.16 32.4315 1363.39 35.9558 Q1359.66 39.4801 1359.09 45.8805 L1385.67 45.84 Z\" fill=\"#000000\" fill-rule=\"nonzero\" fill-opacity=\"1\" /><path clip-path=\"url(#clip560)\" d=\"M1434.28 28.5427 L1434.28 35.5912 Q1431.12 33.9709 1427.72 33.1607 Q1424.31 32.3505 1420.67 32.3505 Q1415.12 32.3505 1412.32 34.0519 Q1409.57 35.7533 1409.57 39.156 Q1409.57 41.7486 1411.55 43.2475 Q1413.54 44.7058 1419.53 46.0426 L1422.09 46.6097 Q1430.03 48.3111 1433.35 51.4303 Q1436.71 54.509 1436.71 60.0587 Q1436.71 66.3781 1431.69 70.0644 Q1426.7 73.7508 1417.95 73.7508 Q1414.31 73.7508 1410.34 73.0216 Q1406.41 72.3329 1402.03 70.9151 L1402.03 63.2184 Q1406.17 65.3654 1410.18 66.4591 Q1414.19 67.5124 1418.12 67.5124 Q1423.38 67.5124 1426.22 65.73 Q1429.05 63.9071 1429.05 60.6258 Q1429.05 57.5877 1426.99 55.9673 Q1424.96 54.3469 1418.03 52.8481 L1415.44 52.2405 Q1408.52 50.7821 1405.44 47.7845 Q1402.36 44.7463 1402.36 39.4801 Q1402.36 33.0797 1406.89 29.5959 Q1411.43 26.1121 1419.78 26.1121 Q1423.91 26.1121 1427.55 26.7198 Q1431.2 27.3274 1434.28 28.5427 Z\" fill=\"#000000\" fill-rule=\"nonzero\" fill-opacity=\"1\" /><path clip-path=\"url(#clip560)\" d=\"M1492.53 32.4315 Q1486.54 32.4315 1483.05 37.1306 Q1479.57 41.7891 1479.57 49.9314 Q1479.57 58.0738 1483.01 62.7728 Q1486.5 67.4314 1492.53 67.4314 Q1498.49 67.4314 1501.97 62.7323 Q1505.45 58.0333 1505.45 49.9314 Q1505.45 41.8701 1501.97 37.1711 Q1498.49 32.4315 1492.53 32.4315 M1492.53 26.1121 Q1502.25 26.1121 1507.8 32.4315 Q1513.35 38.7509 1513.35 49.9314 Q1513.35 61.0714 1507.8 67.4314 Q1502.25 73.7508 1492.53 73.7508 Q1482.77 73.7508 1477.22 67.4314 Q1471.71 61.0714 1471.71 49.9314 Q1471.71 38.7509 1477.22 32.4315 Q1482.77 26.1121 1492.53 26.1121 Z\" fill=\"#000000\" fill-rule=\"nonzero\" fill-opacity=\"1\" /><path clip-path=\"url(#clip560)\" d=\"M1520.36 27.2059 L1528.26 27.2059 L1542.44 65.2844 L1556.62 27.2059 L1564.52 27.2059 L1547.5 72.576 L1537.37 72.576 L1520.36 27.2059 Z\" fill=\"#000000\" fill-rule=\"nonzero\" fill-opacity=\"1\" /><path clip-path=\"url(#clip560)\" d=\"M1613.61 48.0275 L1613.61 51.6733 L1579.34 51.6733 Q1579.83 59.3701 1583.96 63.421 Q1588.13 67.4314 1595.55 67.4314 Q1599.84 67.4314 1603.85 66.3781 Q1607.9 65.3249 1611.87 63.2184 L1611.87 70.267 Q1607.86 71.9684 1603.65 72.8596 Q1599.43 73.7508 1595.1 73.7508 Q1584.24 73.7508 1577.88 67.4314 Q1571.56 61.1119 1571.56 50.3365 Q1571.56 39.1965 1577.56 32.6746 Q1583.6 26.1121 1593.8 26.1121 Q1602.96 26.1121 1608.27 32.0264 Q1613.61 37.9003 1613.61 48.0275 M1606.16 45.84 Q1606.08 39.7232 1602.72 36.0774 Q1599.39 32.4315 1593.88 32.4315 Q1587.65 32.4315 1583.88 35.9558 Q1580.15 39.4801 1579.58 45.8805 L1606.16 45.84 Z\" fill=\"#000000\" fill-rule=\"nonzero\" fill-opacity=\"1\" /><path clip-path=\"url(#clip560)\" d=\"M1652.14 34.1734 Q1650.88 33.4443 1649.38 33.1202 Q1647.92 32.7556 1646.14 32.7556 Q1639.82 32.7556 1636.42 36.8875 Q1633.06 40.9789 1633.06 48.6757 L1633.06 72.576 L1625.56 72.576 L1625.56 27.2059 L1633.06 27.2059 L1633.06 34.2544 Q1635.41 30.1225 1639.17 28.1376 Q1642.94 26.1121 1648.33 26.1121 Q1649.1 26.1121 1650.03 26.2337 Q1650.96 26.3147 1652.1 26.5172 L1652.14 34.1734 Z\" fill=\"#000000\" fill-rule=\"nonzero\" fill-opacity=\"1\" /><path clip-path=\"url(#clip560)\" d=\"M1693.7 14.324 L1693.7 27.2059 L1709.05 27.2059 L1709.05 32.9987 L1693.7 32.9987 L1693.7 57.6282 Q1693.7 63.1779 1695.2 64.7578 Q1696.74 66.3376 1701.4 66.3376 L1709.05 66.3376 L1709.05 72.576 L1701.4 72.576 Q1692.77 72.576 1689.49 69.3758 Q1686.2 66.1351 1686.2 57.6282 L1686.2 32.9987 L1680.74 32.9987 L1680.74 27.2059 L1686.2 27.2059 L1686.2 14.324 L1693.7 14.324 Z\" fill=\"#000000\" fill-rule=\"nonzero\" fill-opacity=\"1\" /><path clip-path=\"url(#clip560)\" d=\"M1718.86 27.2059 L1726.31 27.2059 L1726.31 72.576 L1718.86 72.576 L1718.86 27.2059 M1718.86 9.54393 L1726.31 9.54393 L1726.31 18.9825 L1718.86 18.9825 L1718.86 9.54393 Z\" fill=\"#000000\" fill-rule=\"nonzero\" fill-opacity=\"1\" /><path clip-path=\"url(#clip560)\" d=\"M1777.23 35.9153 Q1780.02 30.8922 1783.91 28.5022 Q1787.8 26.1121 1793.07 26.1121 Q1800.16 26.1121 1804.01 31.0947 Q1807.85 36.0368 1807.85 45.1919 L1807.85 72.576 L1800.36 72.576 L1800.36 45.4349 Q1800.36 38.913 1798.05 35.7533 Q1795.74 32.5936 1791 32.5936 Q1785.21 32.5936 1781.85 36.4419 Q1778.48 40.2903 1778.48 46.9338 L1778.48 72.576 L1770.99 72.576 L1770.99 45.4349 Q1770.99 38.8725 1768.68 35.7533 Q1766.37 32.5936 1761.55 32.5936 Q1755.84 32.5936 1752.48 36.4824 Q1749.12 40.3308 1749.12 46.9338 L1749.12 72.576 L1741.62 72.576 L1741.62 27.2059 L1749.12 27.2059 L1749.12 34.2544 Q1751.67 30.082 1755.23 28.0971 Q1758.8 26.1121 1763.7 26.1121 Q1768.64 26.1121 1772.08 28.6237 Q1775.57 31.1352 1777.23 35.9153 Z\" fill=\"#000000\" fill-rule=\"nonzero\" fill-opacity=\"1\" /><path clip-path=\"url(#clip560)\" d=\"M1861.53 48.0275 L1861.53 51.6733 L1827.26 51.6733 Q1827.74 59.3701 1831.88 63.421 Q1836.05 67.4314 1843.46 67.4314 Q1847.75 67.4314 1851.77 66.3781 Q1855.82 65.3249 1859.79 63.2184 L1859.79 70.267 Q1855.78 71.9684 1851.56 72.8596 Q1847.35 73.7508 1843.02 73.7508 Q1832.16 73.7508 1825.8 67.4314 Q1819.48 61.1119 1819.48 50.3365 Q1819.48 39.1965 1825.47 32.6746 Q1831.51 26.1121 1841.72 26.1121 Q1850.87 26.1121 1856.18 32.0264 Q1861.53 37.9003 1861.53 48.0275 M1854.07 45.84 Q1853.99 39.7232 1850.63 36.0774 Q1847.31 32.4315 1841.8 32.4315 Q1835.56 32.4315 1831.79 35.9558 Q1828.07 39.4801 1827.5 45.8805 L1854.07 45.84 Z\" fill=\"#000000\" fill-rule=\"nonzero\" fill-opacity=\"1\" /><path clip-path=\"url(#clip562)\" d=\"M293.976 123.472 L293.976 1423.18 L2232.93 1423.18 L2232.93 123.472 L293.976 123.472 L293.976 123.472  Z\" fill=\"#009af9\" fill-rule=\"evenodd\" fill-opacity=\"1\"/>\n",
       "<polyline clip-path=\"url(#clip562)\" style=\"stroke:#000000; stroke-linecap:round; stroke-linejoin:round; stroke-width:4; stroke-opacity:1; fill:none\" points=\"293.976,123.472 293.976,1423.18 2232.93,1423.18 2232.93,123.472 293.976,123.472 \"/>\n",
       "<circle clip-path=\"url(#clip562)\" style=\"fill:#009af9; stroke:none; fill-opacity:0\" cx=\"1263.45\" cy=\"123.472\" r=\"2\"/>\n",
       "<path clip-path=\"url(#clip562)\" d=\"M293.976 989.944 L293.976 1423.18 L2232.93 1423.18 L2232.93 989.944 L293.976 989.944 L293.976 989.944  Z\" fill=\"#e26f46\" fill-rule=\"evenodd\" fill-opacity=\"1\"/>\n",
       "<polyline clip-path=\"url(#clip562)\" style=\"stroke:#000000; stroke-linecap:round; stroke-linejoin:round; stroke-width:4; stroke-opacity:1; fill:none\" points=\"293.976,989.944 293.976,1423.18 2232.93,1423.18 2232.93,989.944 293.976,989.944 \"/>\n",
       "<circle clip-path=\"url(#clip562)\" style=\"fill:#e26f46; stroke:none; fill-opacity:0\" cx=\"1263.45\" cy=\"989.944\" r=\"2\"/>\n",
       "<path clip-path=\"url(#clip560)\" d=\"M1645.19 322.316 L2280.14 322.316 L2280.14 166.796 L1645.19 166.796  Z\" fill=\"#ffffff\" fill-rule=\"evenodd\" fill-opacity=\"1\"/>\n",
       "<polyline clip-path=\"url(#clip560)\" style=\"stroke:#000000; stroke-linecap:round; stroke-linejoin:round; stroke-width:4; stroke-opacity:1; fill:none\" points=\"1645.19,322.316 2280.14,322.316 2280.14,166.796 1645.19,166.796 1645.19,322.316 \"/>\n",
       "<path clip-path=\"url(#clip560)\" d=\"M1669.4 239.372 L1814.64 239.372 L1814.64 197.9 L1669.4 197.9 L1669.4 239.372  Z\" fill=\"#009af9\" fill-rule=\"evenodd\" fill-opacity=\"1\"/>\n",
       "<polyline clip-path=\"url(#clip560)\" style=\"stroke:#000000; stroke-linecap:round; stroke-linejoin:round; stroke-width:4; stroke-opacity:1; fill:none\" points=\"1669.4,239.372 1814.64,239.372 1814.64,197.9 1669.4,197.9 1669.4,239.372 \"/>\n",
       "<path clip-path=\"url(#clip560)\" d=\"M1855.24 219.712 Q1856.74 220.221 1858.15 221.888 Q1859.59 223.555 1861.02 226.471 L1865.77 235.916 L1860.75 235.916 L1856.32 227.05 Q1854.61 223.578 1852.99 222.444 Q1851.39 221.309 1848.62 221.309 L1843.52 221.309 L1843.52 235.916 L1838.85 235.916 L1838.85 201.356 L1849.4 201.356 Q1855.33 201.356 1858.25 203.833 Q1861.16 206.309 1861.16 211.309 Q1861.16 214.573 1859.63 216.726 Q1858.13 218.879 1855.24 219.712 M1843.52 205.198 L1843.52 217.467 L1849.4 217.467 Q1852.78 217.467 1854.5 215.916 Q1856.23 214.342 1856.23 211.309 Q1856.23 208.277 1854.5 206.749 Q1852.78 205.198 1849.4 205.198 L1843.52 205.198 Z\" fill=\"#000000\" fill-rule=\"nonzero\" fill-opacity=\"1\" /><path clip-path=\"url(#clip560)\" d=\"M1891.65 221.888 L1891.65 223.971 L1872.07 223.971 Q1872.34 228.369 1874.7 230.684 Q1877.09 232.976 1881.32 232.976 Q1883.78 232.976 1886.07 232.374 Q1888.38 231.772 1890.65 230.569 L1890.65 234.596 Q1888.36 235.568 1885.95 236.078 Q1883.55 236.587 1881.07 236.587 Q1874.87 236.587 1871.23 232.976 Q1867.62 229.365 1867.62 223.207 Q1867.62 216.842 1871.05 213.115 Q1874.5 209.365 1880.33 209.365 Q1885.56 209.365 1888.59 212.745 Q1891.65 216.101 1891.65 221.888 M1887.39 220.638 Q1887.34 217.143 1885.42 215.059 Q1883.52 212.976 1880.38 212.976 Q1876.81 212.976 1874.66 214.99 Q1872.53 217.004 1872.2 220.661 L1887.39 220.638 Z\" fill=\"#000000\" fill-rule=\"nonzero\" fill-opacity=\"1\" /><path clip-path=\"url(#clip560)\" d=\"M1915.17 210.754 L1915.17 214.782 Q1913.36 213.856 1911.42 213.393 Q1909.47 212.93 1907.39 212.93 Q1904.22 212.93 1902.62 213.902 Q1901.05 214.874 1901.05 216.819 Q1901.05 218.3 1902.18 219.157 Q1903.32 219.99 1906.74 220.754 L1908.2 221.078 Q1912.74 222.05 1914.63 223.832 Q1916.56 225.592 1916.56 228.763 Q1916.56 232.374 1913.69 234.481 Q1910.84 236.587 1905.84 236.587 Q1903.75 236.587 1901.49 236.17 Q1899.24 235.777 1896.74 234.967 L1896.74 230.569 Q1899.1 231.795 1901.39 232.42 Q1903.69 233.022 1905.93 233.022 Q1908.94 233.022 1910.56 232.004 Q1912.18 230.962 1912.18 229.087 Q1912.18 227.351 1911 226.425 Q1909.84 225.499 1905.88 224.643 L1904.4 224.295 Q1900.44 223.462 1898.69 221.749 Q1896.93 220.013 1896.93 217.004 Q1896.93 213.346 1899.52 211.356 Q1902.11 209.365 1906.88 209.365 Q1909.24 209.365 1911.32 209.712 Q1913.41 210.059 1915.17 210.754 Z\" fill=\"#000000\" fill-rule=\"nonzero\" fill-opacity=\"1\" /><path clip-path=\"url(#clip560)\" d=\"M1933.38 212.976 Q1929.96 212.976 1927.97 215.661 Q1925.98 218.323 1925.98 222.976 Q1925.98 227.629 1927.94 230.314 Q1929.94 232.976 1933.38 232.976 Q1936.79 232.976 1938.78 230.291 Q1940.77 227.606 1940.77 222.976 Q1940.77 218.37 1938.78 215.684 Q1936.79 212.976 1933.38 212.976 M1933.38 209.365 Q1938.94 209.365 1942.11 212.976 Q1945.28 216.587 1945.28 222.976 Q1945.28 229.342 1942.11 232.976 Q1938.94 236.587 1933.38 236.587 Q1927.81 236.587 1924.63 232.976 Q1921.49 229.342 1921.49 222.976 Q1921.49 216.587 1924.63 212.976 Q1927.81 209.365 1933.38 209.365 Z\" fill=\"#000000\" fill-rule=\"nonzero\" fill-opacity=\"1\" /><path clip-path=\"url(#clip560)\" d=\"M1951.9 225.684 L1951.9 209.99 L1956.16 209.99 L1956.16 225.522 Q1956.16 229.203 1957.6 231.055 Q1959.03 232.883 1961.9 232.883 Q1965.35 232.883 1967.34 230.684 Q1969.36 228.485 1969.36 224.689 L1969.36 209.99 L1973.62 209.99 L1973.62 235.916 L1969.36 235.916 L1969.36 231.934 Q1967.81 234.295 1965.75 235.453 Q1963.71 236.587 1961 236.587 Q1956.53 236.587 1954.22 233.809 Q1951.9 231.031 1951.9 225.684 M1962.62 209.365 L1962.62 209.365 Z\" fill=\"#000000\" fill-rule=\"nonzero\" fill-opacity=\"1\" /><path clip-path=\"url(#clip560)\" d=\"M1997.41 213.971 Q1996.69 213.555 1995.84 213.37 Q1995 213.161 1993.99 213.161 Q1990.37 213.161 1988.43 215.522 Q1986.51 217.86 1986.51 222.258 L1986.51 235.916 L1982.23 235.916 L1982.23 209.99 L1986.51 209.99 L1986.51 214.018 Q1987.85 211.657 1990 210.522 Q1992.16 209.365 1995.24 209.365 Q1995.68 209.365 1996.21 209.434 Q1996.74 209.481 1997.39 209.596 L1997.41 213.971 Z\" fill=\"#000000\" fill-rule=\"nonzero\" fill-opacity=\"1\" /><path clip-path=\"url(#clip560)\" d=\"M2019.5 210.985 L2019.5 214.967 Q2017.69 213.971 2015.86 213.485 Q2014.06 212.976 2012.2 212.976 Q2008.06 212.976 2005.77 215.615 Q2003.48 218.231 2003.48 222.976 Q2003.48 227.721 2005.77 230.36 Q2008.06 232.976 2012.2 232.976 Q2014.06 232.976 2015.86 232.49 Q2017.69 231.981 2019.5 230.985 L2019.5 234.92 Q2017.71 235.754 2015.79 236.17 Q2013.89 236.587 2011.74 236.587 Q2005.88 236.587 2002.43 232.906 Q1998.99 229.226 1998.99 222.976 Q1998.99 216.633 2002.46 212.999 Q2005.95 209.365 2012.02 209.365 Q2013.99 209.365 2015.86 209.782 Q2017.74 210.175 2019.5 210.985 Z\" fill=\"#000000\" fill-rule=\"nonzero\" fill-opacity=\"1\" /><path clip-path=\"url(#clip560)\" d=\"M2049.08 221.888 L2049.08 223.971 L2029.49 223.971 Q2029.77 228.369 2032.13 230.684 Q2034.52 232.976 2038.75 232.976 Q2041.21 232.976 2043.5 232.374 Q2045.81 231.772 2048.08 230.569 L2048.08 234.596 Q2045.79 235.568 2043.38 236.078 Q2040.98 236.587 2038.5 236.587 Q2032.3 236.587 2028.66 232.976 Q2025.05 229.365 2025.05 223.207 Q2025.05 216.842 2028.48 213.115 Q2031.93 209.365 2037.76 209.365 Q2042.99 209.365 2046.02 212.745 Q2049.08 216.101 2049.08 221.888 M2044.82 220.638 Q2044.77 217.143 2042.85 215.059 Q2040.95 212.976 2037.81 212.976 Q2034.24 212.976 2032.09 214.99 Q2029.96 217.004 2029.63 220.661 L2044.82 220.638 Z\" fill=\"#000000\" fill-rule=\"nonzero\" fill-opacity=\"1\" /><path clip-path=\"url(#clip560)\" d=\"M2072.6 210.754 L2072.6 214.782 Q2070.79 213.856 2068.85 213.393 Q2066.9 212.93 2064.82 212.93 Q2061.65 212.93 2060.05 213.902 Q2058.48 214.874 2058.48 216.819 Q2058.48 218.3 2059.61 219.157 Q2060.74 219.99 2064.17 220.754 L2065.63 221.078 Q2070.17 222.05 2072.06 223.832 Q2073.99 225.592 2073.99 228.763 Q2073.99 232.374 2071.12 234.481 Q2068.27 236.587 2063.27 236.587 Q2061.18 236.587 2058.92 236.17 Q2056.67 235.777 2054.17 234.967 L2054.17 230.569 Q2056.53 231.795 2058.82 232.42 Q2061.12 233.022 2063.36 233.022 Q2066.37 233.022 2067.99 232.004 Q2069.61 230.962 2069.61 229.087 Q2069.61 227.351 2068.43 226.425 Q2067.27 225.499 2063.31 224.643 L2061.83 224.295 Q2057.87 223.462 2056.12 221.749 Q2054.36 220.013 2054.36 217.004 Q2054.36 213.346 2056.95 211.356 Q2059.54 209.365 2064.31 209.365 Q2066.67 209.365 2068.75 209.712 Q2070.84 210.059 2072.6 210.754 Z\" fill=\"#000000\" fill-rule=\"nonzero\" fill-opacity=\"1\" /><path clip-path=\"url(#clip560)\" d=\"M2096.02 201.356 L2100.7 201.356 L2100.7 215.522 L2117.69 215.522 L2117.69 201.356 L2122.36 201.356 L2122.36 235.916 L2117.69 235.916 L2117.69 219.457 L2100.7 219.457 L2100.7 235.916 L2096.02 235.916 L2096.02 201.356 Z\" fill=\"#000000\" fill-rule=\"nonzero\" fill-opacity=\"1\" /><path clip-path=\"url(#clip560)\" d=\"M2136.11 231.981 L2152.43 231.981 L2152.43 235.916 L2130.49 235.916 L2130.49 231.981 Q2133.15 229.226 2137.74 224.596 Q2142.34 219.944 2143.52 218.601 Q2145.77 216.078 2146.65 214.342 Q2147.55 212.583 2147.55 210.893 Q2147.55 208.138 2145.61 206.402 Q2143.68 204.666 2140.58 204.666 Q2138.38 204.666 2135.93 205.43 Q2133.5 206.194 2130.72 207.745 L2130.72 203.022 Q2133.55 201.888 2136 201.309 Q2138.45 200.731 2140.49 200.731 Q2145.86 200.731 2149.05 203.416 Q2152.25 206.101 2152.25 210.592 Q2152.25 212.721 2151.44 214.643 Q2150.65 216.541 2148.55 219.133 Q2147.97 219.805 2144.86 223.022 Q2141.76 226.217 2136.11 231.981 Z\" fill=\"#000000\" fill-rule=\"nonzero\" fill-opacity=\"1\" /><path clip-path=\"url(#clip560)\" d=\"M2172.25 204.434 Q2168.64 204.434 2166.81 207.999 Q2165 211.541 2165 218.67 Q2165 225.777 2166.81 229.342 Q2168.64 232.883 2172.25 232.883 Q2175.88 232.883 2177.69 229.342 Q2179.52 225.777 2179.52 218.67 Q2179.52 211.541 2177.69 207.999 Q2175.88 204.434 2172.25 204.434 M2172.25 200.731 Q2178.06 200.731 2181.11 205.337 Q2184.19 209.92 2184.19 218.67 Q2184.19 227.397 2181.11 232.004 Q2178.06 236.587 2172.25 236.587 Q2166.44 236.587 2163.36 232.004 Q2160.3 227.397 2160.3 218.67 Q2160.3 209.92 2163.36 205.337 Q2166.44 200.731 2172.25 200.731 Z\" fill=\"#000000\" fill-rule=\"nonzero\" fill-opacity=\"1\" /><path clip-path=\"url(#clip560)\" d=\"M1669.4 291.212 L1814.64 291.212 L1814.64 249.74 L1669.4 249.74 L1669.4 291.212  Z\" fill=\"#e26f46\" fill-rule=\"evenodd\" fill-opacity=\"1\"/>\n",
       "<polyline clip-path=\"url(#clip560)\" style=\"stroke:#000000; stroke-linecap:round; stroke-linejoin:round; stroke-width:4; stroke-opacity:1; fill:none\" points=\"1669.4,291.212 1814.64,291.212 1814.64,249.74 1669.4,249.74 1669.4,291.212 \"/>\n",
       "<path clip-path=\"url(#clip560)\" d=\"M1855.24 271.552 Q1856.74 272.061 1858.15 273.728 Q1859.59 275.395 1861.02 278.311 L1865.77 287.756 L1860.75 287.756 L1856.32 278.89 Q1854.61 275.418 1852.99 274.284 Q1851.39 273.149 1848.62 273.149 L1843.52 273.149 L1843.52 287.756 L1838.85 287.756 L1838.85 253.196 L1849.4 253.196 Q1855.33 253.196 1858.25 255.673 Q1861.16 258.149 1861.16 263.149 Q1861.16 266.413 1859.63 268.566 Q1858.13 270.719 1855.24 271.552 M1843.52 257.038 L1843.52 269.307 L1849.4 269.307 Q1852.78 269.307 1854.5 267.756 Q1856.23 266.182 1856.23 263.149 Q1856.23 260.117 1854.5 258.589 Q1852.78 257.038 1849.4 257.038 L1843.52 257.038 Z\" fill=\"#000000\" fill-rule=\"nonzero\" fill-opacity=\"1\" /><path clip-path=\"url(#clip560)\" d=\"M1891.65 273.728 L1891.65 275.811 L1872.07 275.811 Q1872.34 280.209 1874.7 282.524 Q1877.09 284.816 1881.32 284.816 Q1883.78 284.816 1886.07 284.214 Q1888.38 283.612 1890.65 282.409 L1890.65 286.436 Q1888.36 287.408 1885.95 287.918 Q1883.55 288.427 1881.07 288.427 Q1874.87 288.427 1871.23 284.816 Q1867.62 281.205 1867.62 275.047 Q1867.62 268.682 1871.05 264.955 Q1874.5 261.205 1880.33 261.205 Q1885.56 261.205 1888.59 264.585 Q1891.65 267.941 1891.65 273.728 M1887.39 272.478 Q1887.34 268.983 1885.42 266.899 Q1883.52 264.816 1880.38 264.816 Q1876.81 264.816 1874.66 266.83 Q1872.53 268.844 1872.2 272.501 L1887.39 272.478 Z\" fill=\"#000000\" fill-rule=\"nonzero\" fill-opacity=\"1\" /><path clip-path=\"url(#clip560)\" d=\"M1915.17 262.594 L1915.17 266.622 Q1913.36 265.696 1911.42 265.233 Q1909.47 264.77 1907.39 264.77 Q1904.22 264.77 1902.62 265.742 Q1901.05 266.714 1901.05 268.659 Q1901.05 270.14 1902.18 270.997 Q1903.32 271.83 1906.74 272.594 L1908.2 272.918 Q1912.74 273.89 1914.63 275.672 Q1916.56 277.432 1916.56 280.603 Q1916.56 284.214 1913.69 286.321 Q1910.84 288.427 1905.84 288.427 Q1903.75 288.427 1901.49 288.01 Q1899.24 287.617 1896.74 286.807 L1896.74 282.409 Q1899.1 283.635 1901.39 284.26 Q1903.69 284.862 1905.93 284.862 Q1908.94 284.862 1910.56 283.844 Q1912.18 282.802 1912.18 280.927 Q1912.18 279.191 1911 278.265 Q1909.84 277.339 1905.88 276.483 L1904.4 276.135 Q1900.44 275.302 1898.69 273.589 Q1896.93 271.853 1896.93 268.844 Q1896.93 265.186 1899.52 263.196 Q1902.11 261.205 1906.88 261.205 Q1909.24 261.205 1911.32 261.552 Q1913.41 261.899 1915.17 262.594 Z\" fill=\"#000000\" fill-rule=\"nonzero\" fill-opacity=\"1\" /><path clip-path=\"url(#clip560)\" d=\"M1933.38 264.816 Q1929.96 264.816 1927.97 267.501 Q1925.98 270.163 1925.98 274.816 Q1925.98 279.469 1927.94 282.154 Q1929.94 284.816 1933.38 284.816 Q1936.79 284.816 1938.78 282.131 Q1940.77 279.446 1940.77 274.816 Q1940.77 270.21 1938.78 267.524 Q1936.79 264.816 1933.38 264.816 M1933.38 261.205 Q1938.94 261.205 1942.11 264.816 Q1945.28 268.427 1945.28 274.816 Q1945.28 281.182 1942.11 284.816 Q1938.94 288.427 1933.38 288.427 Q1927.81 288.427 1924.63 284.816 Q1921.49 281.182 1921.49 274.816 Q1921.49 268.427 1924.63 264.816 Q1927.81 261.205 1933.38 261.205 Z\" fill=\"#000000\" fill-rule=\"nonzero\" fill-opacity=\"1\" /><path clip-path=\"url(#clip560)\" d=\"M1951.9 277.524 L1951.9 261.83 L1956.16 261.83 L1956.16 277.362 Q1956.16 281.043 1957.6 282.895 Q1959.03 284.723 1961.9 284.723 Q1965.35 284.723 1967.34 282.524 Q1969.36 280.325 1969.36 276.529 L1969.36 261.83 L1973.62 261.83 L1973.62 287.756 L1969.36 287.756 L1969.36 283.774 Q1967.81 286.135 1965.75 287.293 Q1963.71 288.427 1961 288.427 Q1956.53 288.427 1954.22 285.649 Q1951.9 282.871 1951.9 277.524 M1962.62 261.205 L1962.62 261.205 Z\" fill=\"#000000\" fill-rule=\"nonzero\" fill-opacity=\"1\" /><path clip-path=\"url(#clip560)\" d=\"M1997.41 265.811 Q1996.69 265.395 1995.84 265.21 Q1995 265.001 1993.99 265.001 Q1990.37 265.001 1988.43 267.362 Q1986.51 269.7 1986.51 274.098 L1986.51 287.756 L1982.23 287.756 L1982.23 261.83 L1986.51 261.83 L1986.51 265.858 Q1987.85 263.497 1990 262.362 Q1992.16 261.205 1995.24 261.205 Q1995.68 261.205 1996.21 261.274 Q1996.74 261.321 1997.39 261.436 L1997.41 265.811 Z\" fill=\"#000000\" fill-rule=\"nonzero\" fill-opacity=\"1\" /><path clip-path=\"url(#clip560)\" d=\"M2019.5 262.825 L2019.5 266.807 Q2017.69 265.811 2015.86 265.325 Q2014.06 264.816 2012.2 264.816 Q2008.06 264.816 2005.77 267.455 Q2003.48 270.071 2003.48 274.816 Q2003.48 279.561 2005.77 282.2 Q2008.06 284.816 2012.2 284.816 Q2014.06 284.816 2015.86 284.33 Q2017.69 283.821 2019.5 282.825 L2019.5 286.76 Q2017.71 287.594 2015.79 288.01 Q2013.89 288.427 2011.74 288.427 Q2005.88 288.427 2002.43 284.746 Q1998.99 281.066 1998.99 274.816 Q1998.99 268.473 2002.46 264.839 Q2005.95 261.205 2012.02 261.205 Q2013.99 261.205 2015.86 261.622 Q2017.74 262.015 2019.5 262.825 Z\" fill=\"#000000\" fill-rule=\"nonzero\" fill-opacity=\"1\" /><path clip-path=\"url(#clip560)\" d=\"M2049.08 273.728 L2049.08 275.811 L2029.49 275.811 Q2029.77 280.209 2032.13 282.524 Q2034.52 284.816 2038.75 284.816 Q2041.21 284.816 2043.5 284.214 Q2045.81 283.612 2048.08 282.409 L2048.08 286.436 Q2045.79 287.408 2043.38 287.918 Q2040.98 288.427 2038.5 288.427 Q2032.3 288.427 2028.66 284.816 Q2025.05 281.205 2025.05 275.047 Q2025.05 268.682 2028.48 264.955 Q2031.93 261.205 2037.76 261.205 Q2042.99 261.205 2046.02 264.585 Q2049.08 267.941 2049.08 273.728 M2044.82 272.478 Q2044.77 268.983 2042.85 266.899 Q2040.95 264.816 2037.81 264.816 Q2034.24 264.816 2032.09 266.83 Q2029.96 268.844 2029.63 272.501 L2044.82 272.478 Z\" fill=\"#000000\" fill-rule=\"nonzero\" fill-opacity=\"1\" /><path clip-path=\"url(#clip560)\" d=\"M2072.6 262.594 L2072.6 266.622 Q2070.79 265.696 2068.85 265.233 Q2066.9 264.77 2064.82 264.77 Q2061.65 264.77 2060.05 265.742 Q2058.48 266.714 2058.48 268.659 Q2058.48 270.14 2059.61 270.997 Q2060.74 271.83 2064.17 272.594 L2065.63 272.918 Q2070.17 273.89 2072.06 275.672 Q2073.99 277.432 2073.99 280.603 Q2073.99 284.214 2071.12 286.321 Q2068.27 288.427 2063.27 288.427 Q2061.18 288.427 2058.92 288.01 Q2056.67 287.617 2054.17 286.807 L2054.17 282.409 Q2056.53 283.635 2058.82 284.26 Q2061.12 284.862 2063.36 284.862 Q2066.37 284.862 2067.99 283.844 Q2069.61 282.802 2069.61 280.927 Q2069.61 279.191 2068.43 278.265 Q2067.27 277.339 2063.31 276.483 L2061.83 276.135 Q2057.87 275.302 2056.12 273.589 Q2054.36 271.853 2054.36 268.844 Q2054.36 265.186 2056.95 263.196 Q2059.54 261.205 2064.31 261.205 Q2066.67 261.205 2068.75 261.552 Q2070.84 261.899 2072.6 262.594 Z\" fill=\"#000000\" fill-rule=\"nonzero\" fill-opacity=\"1\" /><path clip-path=\"url(#clip560)\" d=\"M2096.02 253.196 L2117.87 253.196 L2117.87 257.131 L2100.7 257.131 L2100.7 267.362 L2117.16 267.362 L2117.16 271.297 L2100.7 271.297 L2100.7 283.821 L2118.29 283.821 L2118.29 287.756 L2096.02 287.756 L2096.02 253.196 Z\" fill=\"#000000\" fill-rule=\"nonzero\" fill-opacity=\"1\" /><path clip-path=\"url(#clip560)\" d=\"M2147.34 272.108 L2147.34 287.756 L2143.08 287.756 L2143.08 272.247 Q2143.08 268.566 2141.65 266.737 Q2140.21 264.909 2137.34 264.909 Q2133.89 264.909 2131.9 267.108 Q2129.91 269.307 2129.91 273.103 L2129.91 287.756 L2125.63 287.756 L2125.63 261.83 L2129.91 261.83 L2129.91 265.858 Q2131.44 263.52 2133.5 262.362 Q2135.58 261.205 2138.29 261.205 Q2142.76 261.205 2145.05 263.983 Q2147.34 266.737 2147.34 272.108 Z\" fill=\"#000000\" fill-rule=\"nonzero\" fill-opacity=\"1\" /><path clip-path=\"url(#clip560)\" d=\"M2178.01 273.728 L2178.01 275.811 L2158.43 275.811 Q2158.71 280.209 2161.07 282.524 Q2163.45 284.816 2167.69 284.816 Q2170.14 284.816 2172.43 284.214 Q2174.75 283.612 2177.02 282.409 L2177.02 286.436 Q2174.73 287.408 2172.32 287.918 Q2169.91 288.427 2167.43 288.427 Q2161.23 288.427 2157.6 284.816 Q2153.99 281.205 2153.99 275.047 Q2153.99 268.682 2157.41 264.955 Q2160.86 261.205 2166.69 261.205 Q2171.92 261.205 2174.96 264.585 Q2178.01 267.941 2178.01 273.728 M2173.75 272.478 Q2173.71 268.983 2171.79 266.899 Q2169.89 264.816 2166.74 264.816 Q2163.17 264.816 2161.02 266.83 Q2158.89 268.844 2158.57 272.501 L2173.75 272.478 Z\" fill=\"#000000\" fill-rule=\"nonzero\" fill-opacity=\"1\" /><path clip-path=\"url(#clip560)\" d=\"M2200.03 265.811 Q2199.31 265.395 2198.45 265.21 Q2197.62 265.001 2196.6 265.001 Q2192.99 265.001 2191.05 267.362 Q2189.12 269.7 2189.12 274.098 L2189.12 287.756 L2184.84 287.756 L2184.84 261.83 L2189.12 261.83 L2189.12 265.858 Q2190.47 263.497 2192.62 262.362 Q2194.77 261.205 2197.85 261.205 Q2198.29 261.205 2198.82 261.274 Q2199.36 261.321 2200 261.436 L2200.03 265.811 Z\" fill=\"#000000\" fill-rule=\"nonzero\" fill-opacity=\"1\" /><path clip-path=\"url(#clip560)\" d=\"M2220.72 274.492 Q2220.72 269.862 2218.8 267.316 Q2216.9 264.77 2213.45 264.77 Q2210.03 264.77 2208.11 267.316 Q2206.21 269.862 2206.21 274.492 Q2206.21 279.098 2208.11 281.645 Q2210.03 284.191 2213.45 284.191 Q2216.9 284.191 2218.8 281.645 Q2220.72 279.098 2220.72 274.492 M2224.98 284.538 Q2224.98 291.158 2222.04 294.376 Q2219.1 297.617 2213.04 297.617 Q2210.79 297.617 2208.8 297.27 Q2206.81 296.945 2204.93 296.251 L2204.93 292.108 Q2206.81 293.126 2208.64 293.612 Q2210.47 294.098 2212.36 294.098 Q2216.55 294.098 2218.64 291.899 Q2220.72 289.723 2220.72 285.302 L2220.72 283.196 Q2219.4 285.487 2217.34 286.621 Q2215.28 287.756 2212.41 287.756 Q2207.64 287.756 2204.73 284.121 Q2201.81 280.487 2201.81 274.492 Q2201.81 268.473 2204.73 264.839 Q2207.64 261.205 2212.41 261.205 Q2215.28 261.205 2217.34 262.339 Q2219.4 263.473 2220.72 265.765 L2220.72 261.83 L2224.98 261.83 L2224.98 284.538 Z\" fill=\"#000000\" fill-rule=\"nonzero\" fill-opacity=\"1\" /><path clip-path=\"url(#clip560)\" d=\"M2244.54 290.163 Q2242.73 294.793 2241.02 296.205 Q2239.31 297.617 2236.44 297.617 L2233.04 297.617 L2233.04 294.052 L2235.54 294.052 Q2237.29 294.052 2238.27 293.219 Q2239.24 292.385 2240.42 289.283 L2241.18 287.339 L2230.7 261.83 L2235.21 261.83 L2243.31 282.108 L2251.42 261.83 L2255.93 261.83 L2244.54 290.163 Z\" fill=\"#000000\" fill-rule=\"nonzero\" fill-opacity=\"1\" /></svg>\n"
      ],
      "text/html": [
       "<?xml version=\"1.0\" encoding=\"utf-8\"?>\n",
       "<svg xmlns=\"http://www.w3.org/2000/svg\" xmlns:xlink=\"http://www.w3.org/1999/xlink\" width=\"600\" height=\"400\" viewBox=\"0 0 2400 1600\">\n",
       "<defs>\n",
       "  <clipPath id=\"clip610\">\n",
       "    <rect x=\"0\" y=\"0\" width=\"2400\" height=\"1600\"/>\n",
       "  </clipPath>\n",
       "</defs>\n",
       "<path clip-path=\"url(#clip610)\" d=\"M0 1600 L2400 1600 L2400 0 L0 0  Z\" fill=\"#ffffff\" fill-rule=\"evenodd\" fill-opacity=\"1\"/>\n",
       "<defs>\n",
       "  <clipPath id=\"clip611\">\n",
       "    <rect x=\"480\" y=\"0\" width=\"1681\" height=\"1600\"/>\n",
       "  </clipPath>\n",
       "</defs>\n",
       "<path clip-path=\"url(#clip610)\" d=\"M174.149 1423.18 L2352.76 1423.18 L2352.76 123.472 L174.149 123.472  Z\" fill=\"#ffffff\" fill-rule=\"evenodd\" fill-opacity=\"1\"/>\n",
       "<defs>\n",
       "  <clipPath id=\"clip612\">\n",
       "    <rect x=\"174\" y=\"123\" width=\"2180\" height=\"1301\"/>\n",
       "  </clipPath>\n",
       "</defs>\n",
       "<polyline clip-path=\"url(#clip612)\" style=\"stroke:#000000; stroke-linecap:round; stroke-linejoin:round; stroke-width:2; stroke-opacity:0.1; fill:none\" points=\"293.976,1423.18 293.976,123.472 \"/>\n",
       "<polyline clip-path=\"url(#clip612)\" style=\"stroke:#000000; stroke-linecap:round; stroke-linejoin:round; stroke-width:2; stroke-opacity:0.1; fill:none\" points=\"778.714,1423.18 778.714,123.472 \"/>\n",
       "<polyline clip-path=\"url(#clip612)\" style=\"stroke:#000000; stroke-linecap:round; stroke-linejoin:round; stroke-width:2; stroke-opacity:0.1; fill:none\" points=\"1263.45,1423.18 1263.45,123.472 \"/>\n",
       "<polyline clip-path=\"url(#clip612)\" style=\"stroke:#000000; stroke-linecap:round; stroke-linejoin:round; stroke-width:2; stroke-opacity:0.1; fill:none\" points=\"1748.19,1423.18 1748.19,123.472 \"/>\n",
       "<polyline clip-path=\"url(#clip612)\" style=\"stroke:#000000; stroke-linecap:round; stroke-linejoin:round; stroke-width:2; stroke-opacity:0.1; fill:none\" points=\"2232.93,1423.18 2232.93,123.472 \"/>\n",
       "<polyline clip-path=\"url(#clip610)\" style=\"stroke:#000000; stroke-linecap:round; stroke-linejoin:round; stroke-width:4; stroke-opacity:1; fill:none\" points=\"174.149,1423.18 2352.76,1423.18 \"/>\n",
       "<polyline clip-path=\"url(#clip610)\" style=\"stroke:#000000; stroke-linecap:round; stroke-linejoin:round; stroke-width:4; stroke-opacity:1; fill:none\" points=\"293.976,1423.18 293.976,1404.28 \"/>\n",
       "<polyline clip-path=\"url(#clip610)\" style=\"stroke:#000000; stroke-linecap:round; stroke-linejoin:round; stroke-width:4; stroke-opacity:1; fill:none\" points=\"778.714,1423.18 778.714,1404.28 \"/>\n",
       "<polyline clip-path=\"url(#clip610)\" style=\"stroke:#000000; stroke-linecap:round; stroke-linejoin:round; stroke-width:4; stroke-opacity:1; fill:none\" points=\"1263.45,1423.18 1263.45,1404.28 \"/>\n",
       "<polyline clip-path=\"url(#clip610)\" style=\"stroke:#000000; stroke-linecap:round; stroke-linejoin:round; stroke-width:4; stroke-opacity:1; fill:none\" points=\"1748.19,1423.18 1748.19,1404.28 \"/>\n",
       "<polyline clip-path=\"url(#clip610)\" style=\"stroke:#000000; stroke-linecap:round; stroke-linejoin:round; stroke-width:4; stroke-opacity:1; fill:none\" points=\"2232.93,1423.18 2232.93,1404.28 \"/>\n",
       "<path clip-path=\"url(#clip610)\" d=\"M240.261 1468.75 L269.937 1468.75 L269.937 1472.69 L240.261 1472.69 L240.261 1468.75 Z\" fill=\"#000000\" fill-rule=\"nonzero\" fill-opacity=\"1\" /><path clip-path=\"url(#clip610)\" d=\"M290.029 1454.1 Q286.418 1454.1 284.59 1457.66 Q282.784 1461.2 282.784 1468.33 Q282.784 1475.44 284.59 1479.01 Q286.418 1482.55 290.029 1482.55 Q293.664 1482.55 295.469 1479.01 Q297.298 1475.44 297.298 1468.33 Q297.298 1461.2 295.469 1457.66 Q293.664 1454.1 290.029 1454.1 M290.029 1450.39 Q295.84 1450.39 298.895 1455 Q301.974 1459.58 301.974 1468.33 Q301.974 1477.06 298.895 1481.67 Q295.84 1486.25 290.029 1486.25 Q284.219 1486.25 281.141 1481.67 Q278.085 1477.06 278.085 1468.33 Q278.085 1459.58 281.141 1455 Q284.219 1450.39 290.029 1450.39 Z\" fill=\"#000000\" fill-rule=\"nonzero\" fill-opacity=\"1\" /><path clip-path=\"url(#clip610)\" d=\"M310.191 1479.7 L315.076 1479.7 L315.076 1485.58 L310.191 1485.58 L310.191 1479.7 Z\" fill=\"#000000\" fill-rule=\"nonzero\" fill-opacity=\"1\" /><path clip-path=\"url(#clip610)\" d=\"M338.108 1455.09 L326.302 1473.54 L338.108 1473.54 L338.108 1455.09 M336.881 1451.02 L342.761 1451.02 L342.761 1473.54 L347.691 1473.54 L347.691 1477.43 L342.761 1477.43 L342.761 1485.58 L338.108 1485.58 L338.108 1477.43 L322.506 1477.43 L322.506 1472.92 L336.881 1451.02 Z\" fill=\"#000000\" fill-rule=\"nonzero\" fill-opacity=\"1\" /><path clip-path=\"url(#clip610)\" d=\"M726.041 1468.75 L755.717 1468.75 L755.717 1472.69 L726.041 1472.69 L726.041 1468.75 Z\" fill=\"#000000\" fill-rule=\"nonzero\" fill-opacity=\"1\" /><path clip-path=\"url(#clip610)\" d=\"M775.809 1454.1 Q772.198 1454.1 770.369 1457.66 Q768.564 1461.2 768.564 1468.33 Q768.564 1475.44 770.369 1479.01 Q772.198 1482.55 775.809 1482.55 Q779.443 1482.55 781.249 1479.01 Q783.078 1475.44 783.078 1468.33 Q783.078 1461.2 781.249 1457.66 Q779.443 1454.1 775.809 1454.1 M775.809 1450.39 Q781.619 1450.39 784.675 1455 Q787.754 1459.58 787.754 1468.33 Q787.754 1477.06 784.675 1481.67 Q781.619 1486.25 775.809 1486.25 Q769.999 1486.25 766.92 1481.67 Q763.865 1477.06 763.865 1468.33 Q763.865 1459.58 766.92 1455 Q769.999 1450.39 775.809 1450.39 Z\" fill=\"#000000\" fill-rule=\"nonzero\" fill-opacity=\"1\" /><path clip-path=\"url(#clip610)\" d=\"M795.971 1479.7 L800.855 1479.7 L800.855 1485.58 L795.971 1485.58 L795.971 1479.7 Z\" fill=\"#000000\" fill-rule=\"nonzero\" fill-opacity=\"1\" /><path clip-path=\"url(#clip610)\" d=\"M815.068 1481.64 L831.388 1481.64 L831.388 1485.58 L809.443 1485.58 L809.443 1481.64 Q812.105 1478.89 816.689 1474.26 Q821.295 1469.61 822.476 1468.27 Q824.721 1465.74 825.601 1464.01 Q826.503 1462.25 826.503 1460.56 Q826.503 1457.8 824.559 1456.07 Q822.638 1454.33 819.536 1454.33 Q817.337 1454.33 814.883 1455.09 Q812.453 1455.86 809.675 1457.41 L809.675 1452.69 Q812.499 1451.55 814.953 1450.97 Q817.406 1450.39 819.443 1450.39 Q824.814 1450.39 828.008 1453.08 Q831.202 1455.77 831.202 1460.26 Q831.202 1462.39 830.392 1464.31 Q829.605 1466.2 827.499 1468.8 Q826.92 1469.47 823.818 1472.69 Q820.716 1475.88 815.068 1481.64 Z\" fill=\"#000000\" fill-rule=\"nonzero\" fill-opacity=\"1\" /><path clip-path=\"url(#clip610)\" d=\"M1240.84 1454.1 Q1237.23 1454.1 1235.4 1457.66 Q1233.59 1461.2 1233.59 1468.33 Q1233.59 1475.44 1235.4 1479.01 Q1237.23 1482.55 1240.84 1482.55 Q1244.47 1482.55 1246.28 1479.01 Q1248.11 1475.44 1248.11 1468.33 Q1248.11 1461.2 1246.28 1457.66 Q1244.47 1454.1 1240.84 1454.1 M1240.84 1450.39 Q1246.65 1450.39 1249.7 1455 Q1252.78 1459.58 1252.78 1468.33 Q1252.78 1477.06 1249.7 1481.67 Q1246.65 1486.25 1240.84 1486.25 Q1235.03 1486.25 1231.95 1481.67 Q1228.89 1477.06 1228.89 1468.33 Q1228.89 1459.58 1231.95 1455 Q1235.03 1450.39 1240.84 1450.39 Z\" fill=\"#000000\" fill-rule=\"nonzero\" fill-opacity=\"1\" /><path clip-path=\"url(#clip610)\" d=\"M1261 1479.7 L1265.88 1479.7 L1265.88 1485.58 L1261 1485.58 L1261 1479.7 Z\" fill=\"#000000\" fill-rule=\"nonzero\" fill-opacity=\"1\" /><path clip-path=\"url(#clip610)\" d=\"M1286.07 1454.1 Q1282.46 1454.1 1280.63 1457.66 Q1278.82 1461.2 1278.82 1468.33 Q1278.82 1475.44 1280.63 1479.01 Q1282.46 1482.55 1286.07 1482.55 Q1289.7 1482.55 1291.51 1479.01 Q1293.34 1475.44 1293.34 1468.33 Q1293.34 1461.2 1291.51 1457.66 Q1289.7 1454.1 1286.07 1454.1 M1286.07 1450.39 Q1291.88 1450.39 1294.93 1455 Q1298.01 1459.58 1298.01 1468.33 Q1298.01 1477.06 1294.93 1481.67 Q1291.88 1486.25 1286.07 1486.25 Q1280.26 1486.25 1277.18 1481.67 Q1274.12 1477.06 1274.12 1468.33 Q1274.12 1459.58 1277.18 1455 Q1280.26 1450.39 1286.07 1450.39 Z\" fill=\"#000000\" fill-rule=\"nonzero\" fill-opacity=\"1\" /><path clip-path=\"url(#clip610)\" d=\"M1726.37 1454.1 Q1722.76 1454.1 1720.93 1457.66 Q1719.13 1461.2 1719.13 1468.33 Q1719.13 1475.44 1720.93 1479.01 Q1722.76 1482.55 1726.37 1482.55 Q1730.01 1482.55 1731.81 1479.01 Q1733.64 1475.44 1733.64 1468.33 Q1733.64 1461.2 1731.81 1457.66 Q1730.01 1454.1 1726.37 1454.1 M1726.37 1450.39 Q1732.18 1450.39 1735.24 1455 Q1738.32 1459.58 1738.32 1468.33 Q1738.32 1477.06 1735.24 1481.67 Q1732.18 1486.25 1726.37 1486.25 Q1720.56 1486.25 1717.48 1481.67 Q1714.43 1477.06 1714.43 1468.33 Q1714.43 1459.58 1717.48 1455 Q1720.56 1450.39 1726.37 1450.39 Z\" fill=\"#000000\" fill-rule=\"nonzero\" fill-opacity=\"1\" /><path clip-path=\"url(#clip610)\" d=\"M1746.54 1479.7 L1751.42 1479.7 L1751.42 1485.58 L1746.54 1485.58 L1746.54 1479.7 Z\" fill=\"#000000\" fill-rule=\"nonzero\" fill-opacity=\"1\" /><path clip-path=\"url(#clip610)\" d=\"M1765.63 1481.64 L1781.95 1481.64 L1781.95 1485.58 L1760.01 1485.58 L1760.01 1481.64 Q1762.67 1478.89 1767.25 1474.26 Q1771.86 1469.61 1773.04 1468.27 Q1775.29 1465.74 1776.16 1464.01 Q1777.07 1462.25 1777.07 1460.56 Q1777.07 1457.8 1775.12 1456.07 Q1773.2 1454.33 1770.1 1454.33 Q1767.9 1454.33 1765.45 1455.09 Q1763.02 1455.86 1760.24 1457.41 L1760.24 1452.69 Q1763.06 1451.55 1765.52 1450.97 Q1767.97 1450.39 1770.01 1450.39 Q1775.38 1450.39 1778.57 1453.08 Q1781.77 1455.77 1781.77 1460.26 Q1781.77 1462.39 1780.96 1464.31 Q1780.17 1466.2 1778.06 1468.8 Q1777.48 1469.47 1774.38 1472.69 Q1771.28 1475.88 1765.63 1481.64 Z\" fill=\"#000000\" fill-rule=\"nonzero\" fill-opacity=\"1\" /><path clip-path=\"url(#clip610)\" d=\"M2210.07 1454.1 Q2206.46 1454.1 2204.63 1457.66 Q2202.82 1461.2 2202.82 1468.33 Q2202.82 1475.44 2204.63 1479.01 Q2206.46 1482.55 2210.07 1482.55 Q2213.7 1482.55 2215.51 1479.01 Q2217.34 1475.44 2217.34 1468.33 Q2217.34 1461.2 2215.51 1457.66 Q2213.7 1454.1 2210.07 1454.1 M2210.07 1450.39 Q2215.88 1450.39 2218.94 1455 Q2222.01 1459.58 2222.01 1468.33 Q2222.01 1477.06 2218.94 1481.67 Q2215.88 1486.25 2210.07 1486.25 Q2204.26 1486.25 2201.18 1481.67 Q2198.13 1477.06 2198.13 1468.33 Q2198.13 1459.58 2201.18 1455 Q2204.26 1450.39 2210.07 1450.39 Z\" fill=\"#000000\" fill-rule=\"nonzero\" fill-opacity=\"1\" /><path clip-path=\"url(#clip610)\" d=\"M2230.23 1479.7 L2235.12 1479.7 L2235.12 1485.58 L2230.23 1485.58 L2230.23 1479.7 Z\" fill=\"#000000\" fill-rule=\"nonzero\" fill-opacity=\"1\" /><path clip-path=\"url(#clip610)\" d=\"M2258.15 1455.09 L2246.34 1473.54 L2258.15 1473.54 L2258.15 1455.09 M2256.92 1451.02 L2262.8 1451.02 L2262.8 1473.54 L2267.73 1473.54 L2267.73 1477.43 L2262.8 1477.43 L2262.8 1485.58 L2258.15 1485.58 L2258.15 1477.43 L2242.55 1477.43 L2242.55 1472.92 L2256.92 1451.02 Z\" fill=\"#000000\" fill-rule=\"nonzero\" fill-opacity=\"1\" /><path clip-path=\"url(#clip610)\" d=\"M1083.64 1520.52 L1123.84 1520.52 L1123.84 1525.93 L1106.97 1525.93 L1106.97 1568.04 L1100.51 1568.04 L1100.51 1525.93 L1083.64 1525.93 L1083.64 1520.52 Z\" fill=\"#000000\" fill-rule=\"nonzero\" fill-opacity=\"1\" /><path clip-path=\"url(#clip610)\" d=\"M1127.78 1532.4 L1133.64 1532.4 L1133.64 1568.04 L1127.78 1568.04 L1127.78 1532.4 M1127.78 1518.52 L1133.64 1518.52 L1133.64 1525.93 L1127.78 1525.93 L1127.78 1518.52 Z\" fill=\"#000000\" fill-rule=\"nonzero\" fill-opacity=\"1\" /><path clip-path=\"url(#clip610)\" d=\"M1173.65 1539.24 Q1175.84 1535.29 1178.9 1533.41 Q1181.96 1531.54 1186.09 1531.54 Q1191.66 1531.54 1194.69 1535.45 Q1197.71 1539.33 1197.71 1546.53 L1197.71 1568.04 L1191.82 1568.04 L1191.82 1546.72 Q1191.82 1541.59 1190.01 1539.11 Q1188.19 1536.63 1184.47 1536.63 Q1179.92 1536.63 1177.28 1539.65 Q1174.63 1542.68 1174.63 1547.9 L1174.63 1568.04 L1168.75 1568.04 L1168.75 1546.72 Q1168.75 1541.56 1166.93 1539.11 Q1165.12 1536.63 1161.33 1536.63 Q1156.84 1536.63 1154.2 1539.68 Q1151.56 1542.71 1151.56 1547.9 L1151.56 1568.04 L1145.67 1568.04 L1145.67 1532.4 L1151.56 1532.4 L1151.56 1537.93 Q1153.56 1534.66 1156.37 1533.1 Q1159.17 1531.54 1163.02 1531.54 Q1166.9 1531.54 1169.61 1533.51 Q1172.34 1535.48 1173.65 1539.24 Z\" fill=\"#000000\" fill-rule=\"nonzero\" fill-opacity=\"1\" /><path clip-path=\"url(#clip610)\" d=\"M1239.88 1548.76 L1239.88 1551.62 L1212.96 1551.62 Q1213.34 1557.67 1216.58 1560.85 Q1219.86 1564 1225.69 1564 Q1229.06 1564 1232.21 1563.17 Q1235.4 1562.35 1238.51 1560.69 L1238.51 1566.23 Q1235.36 1567.57 1232.05 1568.27 Q1228.74 1568.97 1225.34 1568.97 Q1216.81 1568.97 1211.81 1564 Q1206.85 1559.04 1206.85 1550.57 Q1206.85 1541.82 1211.56 1536.69 Q1216.3 1531.54 1224.32 1531.54 Q1231.51 1531.54 1235.68 1536.18 Q1239.88 1540.8 1239.88 1548.76 M1234.03 1547.04 Q1233.96 1542.23 1231.32 1539.37 Q1228.71 1536.5 1224.38 1536.5 Q1219.48 1536.5 1216.52 1539.27 Q1213.59 1542.04 1213.15 1547.07 L1234.03 1547.04 Z\" fill=\"#000000\" fill-rule=\"nonzero\" fill-opacity=\"1\" /><path clip-path=\"url(#clip610)\" d=\"M1298.96 1522.08 L1298.96 1528.35 Q1295.3 1526.6 1292.05 1525.74 Q1288.8 1524.88 1285.78 1524.88 Q1280.53 1524.88 1277.66 1526.92 Q1274.83 1528.96 1274.83 1532.71 Q1274.83 1535.87 1276.71 1537.49 Q1278.62 1539.08 1283.9 1540.07 L1287.79 1540.86 Q1294.98 1542.23 1298.38 1545.7 Q1301.82 1549.14 1301.82 1554.93 Q1301.82 1561.84 1297.17 1565.4 Q1292.56 1568.97 1283.62 1568.97 Q1280.24 1568.97 1276.42 1568.2 Q1272.63 1567.44 1268.56 1565.94 L1268.56 1559.32 Q1272.48 1561.52 1276.23 1562.63 Q1279.99 1563.75 1283.62 1563.75 Q1289.12 1563.75 1292.11 1561.58 Q1295.11 1559.42 1295.11 1555.41 Q1295.11 1551.91 1292.94 1549.93 Q1290.81 1547.96 1285.91 1546.97 L1281.99 1546.21 Q1274.8 1544.78 1271.58 1541.72 Q1268.37 1538.67 1268.37 1533.22 Q1268.37 1526.92 1272.79 1523.29 Q1277.25 1519.66 1285.05 1519.66 Q1288.39 1519.66 1291.86 1520.27 Q1295.33 1520.87 1298.96 1522.08 Z\" fill=\"#000000\" fill-rule=\"nonzero\" fill-opacity=\"1\" /><path clip-path=\"url(#clip610)\" d=\"M1317.39 1522.27 L1317.39 1532.4 L1329.45 1532.4 L1329.45 1536.95 L1317.39 1536.95 L1317.39 1556.3 Q1317.39 1560.66 1318.56 1561.9 Q1319.77 1563.14 1323.43 1563.14 L1329.45 1563.14 L1329.45 1568.04 L1323.43 1568.04 Q1316.65 1568.04 1314.08 1565.53 Q1311.5 1562.98 1311.5 1556.3 L1311.5 1536.95 L1307.2 1536.95 L1307.2 1532.4 L1311.5 1532.4 L1311.5 1522.27 L1317.39 1522.27 Z\" fill=\"#000000\" fill-rule=\"nonzero\" fill-opacity=\"1\" /><path clip-path=\"url(#clip610)\" d=\"M1367.64 1548.76 L1367.64 1551.62 L1340.72 1551.62 Q1341.1 1557.67 1344.34 1560.85 Q1347.62 1564 1353.45 1564 Q1356.82 1564 1359.97 1563.17 Q1363.16 1562.35 1366.27 1560.69 L1366.27 1566.23 Q1363.12 1567.57 1359.81 1568.27 Q1356.5 1568.97 1353.1 1568.97 Q1344.57 1568.97 1339.57 1564 Q1334.61 1559.04 1334.61 1550.57 Q1334.61 1541.82 1339.32 1536.69 Q1344.06 1531.54 1352.08 1531.54 Q1359.27 1531.54 1363.44 1536.18 Q1367.64 1540.8 1367.64 1548.76 M1361.79 1547.04 Q1361.72 1542.23 1359.08 1539.37 Q1356.47 1536.5 1352.14 1536.5 Q1347.24 1536.5 1344.28 1539.27 Q1341.35 1542.04 1340.91 1547.07 L1361.79 1547.04 Z\" fill=\"#000000\" fill-rule=\"nonzero\" fill-opacity=\"1\" /><path clip-path=\"url(#clip610)\" d=\"M1382.92 1562.7 L1382.92 1581.6 L1377.03 1581.6 L1377.03 1532.4 L1382.92 1532.4 L1382.92 1537.81 Q1384.77 1534.62 1387.57 1533.1 Q1390.4 1531.54 1394.32 1531.54 Q1400.81 1531.54 1404.85 1536.69 Q1408.92 1541.85 1408.92 1550.25 Q1408.92 1558.65 1404.85 1563.81 Q1400.81 1568.97 1394.32 1568.97 Q1390.4 1568.97 1387.57 1567.44 Q1384.77 1565.88 1382.92 1562.7 M1402.85 1550.25 Q1402.85 1543.79 1400.17 1540.13 Q1397.53 1536.44 1392.88 1536.44 Q1388.24 1536.44 1385.56 1540.13 Q1382.92 1543.79 1382.92 1550.25 Q1382.92 1556.71 1385.56 1560.4 Q1388.24 1564.07 1392.88 1564.07 Q1397.53 1564.07 1400.17 1560.4 Q1402.85 1556.71 1402.85 1550.25 Z\" fill=\"#000000\" fill-rule=\"nonzero\" fill-opacity=\"1\" /><path clip-path=\"url(#clip610)\" d=\"M1441.36 1533.45 L1441.36 1538.98 Q1438.88 1537.71 1436.2 1537.07 Q1433.53 1536.44 1430.66 1536.44 Q1426.3 1536.44 1424.11 1537.77 Q1421.94 1539.11 1421.94 1541.79 Q1421.94 1543.82 1423.5 1545 Q1425.06 1546.15 1429.77 1547.2 L1431.78 1547.64 Q1438.02 1548.98 1440.63 1551.43 Q1443.27 1553.85 1443.27 1558.21 Q1443.27 1563.17 1439.32 1566.07 Q1435.41 1568.97 1428.53 1568.97 Q1425.67 1568.97 1422.55 1568.39 Q1419.46 1567.85 1416.02 1566.74 L1416.02 1560.69 Q1419.27 1562.38 1422.42 1563.24 Q1425.57 1564.07 1428.66 1564.07 Q1432.8 1564.07 1435.02 1562.66 Q1437.25 1561.23 1437.25 1558.65 Q1437.25 1556.27 1435.63 1554.99 Q1434.04 1553.72 1428.59 1552.54 L1426.56 1552.07 Q1421.12 1550.92 1418.7 1548.56 Q1416.28 1546.18 1416.28 1542.04 Q1416.28 1537.01 1419.84 1534.27 Q1423.41 1531.54 1429.96 1531.54 Q1433.21 1531.54 1436.07 1532.01 Q1438.94 1532.49 1441.36 1533.45 Z\" fill=\"#000000\" fill-rule=\"nonzero\" fill-opacity=\"1\" /><polyline clip-path=\"url(#clip612)\" style=\"stroke:#000000; stroke-linecap:round; stroke-linejoin:round; stroke-width:2; stroke-opacity:0.1; fill:none\" points=\"174.149,1423.18 2352.76,1423.18 \"/>\n",
       "<polyline clip-path=\"url(#clip612)\" style=\"stroke:#000000; stroke-linecap:round; stroke-linejoin:round; stroke-width:2; stroke-opacity:0.1; fill:none\" points=\"174.149,989.944 2352.76,989.944 \"/>\n",
       "<polyline clip-path=\"url(#clip612)\" style=\"stroke:#000000; stroke-linecap:round; stroke-linejoin:round; stroke-width:2; stroke-opacity:0.1; fill:none\" points=\"174.149,556.708 2352.76,556.708 \"/>\n",
       "<polyline clip-path=\"url(#clip612)\" style=\"stroke:#000000; stroke-linecap:round; stroke-linejoin:round; stroke-width:2; stroke-opacity:0.1; fill:none\" points=\"174.149,123.472 2352.76,123.472 \"/>\n",
       "<polyline clip-path=\"url(#clip610)\" style=\"stroke:#000000; stroke-linecap:round; stroke-linejoin:round; stroke-width:4; stroke-opacity:1; fill:none\" points=\"174.149,1423.18 174.149,123.472 \"/>\n",
       "<polyline clip-path=\"url(#clip610)\" style=\"stroke:#000000; stroke-linecap:round; stroke-linejoin:round; stroke-width:4; stroke-opacity:1; fill:none\" points=\"174.149,1423.18 193.047,1423.18 \"/>\n",
       "<polyline clip-path=\"url(#clip610)\" style=\"stroke:#000000; stroke-linecap:round; stroke-linejoin:round; stroke-width:4; stroke-opacity:1; fill:none\" points=\"174.149,989.944 193.047,989.944 \"/>\n",
       "<polyline clip-path=\"url(#clip610)\" style=\"stroke:#000000; stroke-linecap:round; stroke-linejoin:round; stroke-width:4; stroke-opacity:1; fill:none\" points=\"174.149,556.708 193.047,556.708 \"/>\n",
       "<polyline clip-path=\"url(#clip610)\" style=\"stroke:#000000; stroke-linecap:round; stroke-linejoin:round; stroke-width:4; stroke-opacity:1; fill:none\" points=\"174.149,123.472 193.047,123.472 \"/>\n",
       "<path clip-path=\"url(#clip610)\" d=\"M126.205 1408.98 Q122.593 1408.98 120.765 1412.54 Q118.959 1416.08 118.959 1423.21 Q118.959 1430.32 120.765 1433.89 Q122.593 1437.43 126.205 1437.43 Q129.839 1437.43 131.644 1433.89 Q133.473 1430.32 133.473 1423.21 Q133.473 1416.08 131.644 1412.54 Q129.839 1408.98 126.205 1408.98 M126.205 1405.27 Q132.015 1405.27 135.07 1409.88 Q138.149 1414.46 138.149 1423.21 Q138.149 1431.94 135.07 1436.55 Q132.015 1441.13 126.205 1441.13 Q120.394 1441.13 117.316 1436.55 Q114.26 1431.94 114.26 1423.21 Q114.26 1414.46 117.316 1409.88 Q120.394 1405.27 126.205 1405.27 Z\" fill=\"#000000\" fill-rule=\"nonzero\" fill-opacity=\"1\" /><path clip-path=\"url(#clip610)\" d=\"M118.242 1003.29 L125.88 1003.29 L125.88 976.923 L117.57 978.59 L117.57 974.331 L125.834 972.664 L130.51 972.664 L130.51 1003.29 L138.149 1003.29 L138.149 1007.22 L118.242 1007.22 L118.242 1003.29 Z\" fill=\"#000000\" fill-rule=\"nonzero\" fill-opacity=\"1\" /><path clip-path=\"url(#clip610)\" d=\"M121.83 570.053 L138.149 570.053 L138.149 573.988 L116.205 573.988 L116.205 570.053 Q118.867 567.298 123.45 562.669 Q128.056 558.016 129.237 556.673 Q131.482 554.15 132.362 552.414 Q133.265 550.655 133.265 548.965 Q133.265 546.21 131.32 544.474 Q129.399 542.738 126.297 542.738 Q124.098 542.738 121.644 543.502 Q119.214 544.266 116.436 545.817 L116.436 541.095 Q119.26 539.96 121.714 539.382 Q124.168 538.803 126.205 538.803 Q131.575 538.803 134.769 541.488 Q137.964 544.173 137.964 548.664 Q137.964 550.794 137.154 552.715 Q136.367 554.613 134.26 557.206 Q133.681 557.877 130.58 561.095 Q127.478 564.289 121.83 570.053 Z\" fill=\"#000000\" fill-rule=\"nonzero\" fill-opacity=\"1\" /><path clip-path=\"url(#clip610)\" d=\"M131.019 122.118 Q134.376 122.836 136.251 125.104 Q138.149 127.373 138.149 130.706 Q138.149 135.822 134.63 138.623 Q131.112 141.423 124.63 141.423 Q122.455 141.423 120.14 140.984 Q117.848 140.567 115.394 139.71 L115.394 135.197 Q117.339 136.331 119.654 136.91 Q121.968 137.488 124.492 137.488 Q128.89 137.488 131.181 135.752 Q133.496 134.016 133.496 130.706 Q133.496 127.65 131.343 125.937 Q129.214 124.201 125.394 124.201 L121.367 124.201 L121.367 120.359 L125.58 120.359 Q129.029 120.359 130.857 118.993 Q132.686 117.604 132.686 115.012 Q132.686 112.35 130.788 110.937 Q128.913 109.502 125.394 109.502 Q123.473 109.502 121.274 109.919 Q119.075 110.336 116.436 111.215 L116.436 107.049 Q119.098 106.308 121.413 105.937 Q123.751 105.567 125.811 105.567 Q131.135 105.567 134.237 107.998 Q137.339 110.405 137.339 114.525 Q137.339 117.396 135.695 119.386 Q134.052 121.354 131.019 122.118 Z\" fill=\"#000000\" fill-rule=\"nonzero\" fill-opacity=\"1\" /><path clip-path=\"url(#clip610)\" d=\"M41.7242 1126.73 Q42.4244 1124.67 44.7161 1122.72 Q47.0077 1120.75 51.0181 1118.78 L64.0042 1112.25 L64.0042 1119.16 L51.8138 1125.24 Q47.0395 1127.59 45.48 1129.82 Q43.9204 1132.02 43.9204 1135.84 L43.9204 1142.84 L64.0042 1142.84 L64.0042 1149.27 L16.4842 1149.27 L16.4842 1134.75 Q16.4842 1126.61 19.8898 1122.6 Q23.2955 1118.59 30.1704 1118.59 Q34.6582 1118.59 37.6183 1120.69 Q40.5784 1122.76 41.7242 1126.73 M21.7677 1142.84 L38.6368 1142.84 L38.6368 1134.75 Q38.6368 1130.11 36.5043 1127.75 Q34.34 1125.37 30.1704 1125.37 Q26.0009 1125.37 23.9002 1127.75 Q21.7677 1130.11 21.7677 1134.75 L21.7677 1142.84 Z\" fill=\"#000000\" fill-rule=\"nonzero\" fill-opacity=\"1\" /><path clip-path=\"url(#clip610)\" d=\"M44.7161 1076.67 L47.5806 1076.67 L47.5806 1103.59 Q53.6281 1103.21 56.8109 1099.97 Q59.9619 1096.69 59.9619 1090.86 Q59.9619 1087.49 59.1344 1084.34 Q58.3069 1081.16 56.6518 1078.04 L62.1899 1078.04 Q63.5267 1081.19 64.227 1084.5 Q64.9272 1087.81 64.9272 1091.21 Q64.9272 1099.74 59.9619 1104.74 Q54.9967 1109.71 46.5303 1109.71 Q37.7774 1109.71 32.6531 1105 Q27.4968 1100.25 27.4968 1092.23 Q27.4968 1085.04 32.1438 1080.87 Q36.7589 1076.67 44.7161 1076.67 M42.9973 1082.52 Q38.1912 1082.59 35.3266 1085.23 Q32.4621 1087.84 32.4621 1092.17 Q32.4621 1097.07 35.2312 1100.03 Q38.0002 1102.96 43.0292 1103.4 L42.9973 1082.52 Z\" fill=\"#000000\" fill-rule=\"nonzero\" fill-opacity=\"1\" /><path clip-path=\"url(#clip610)\" d=\"M29.4065 1044.33 L34.9447 1044.33 Q33.6716 1046.81 33.035 1049.49 Q32.3984 1052.16 32.3984 1055.02 Q32.3984 1059.38 33.7352 1061.58 Q35.072 1063.75 37.7456 1063.75 Q39.7826 1063.75 40.9603 1062.19 Q42.1061 1060.63 43.1565 1055.92 L43.6021 1053.91 Q44.9389 1047.67 47.3897 1045.06 Q49.8086 1042.42 54.1691 1042.42 Q59.1344 1042.42 62.0308 1046.37 Q64.9272 1050.28 64.9272 1057.16 Q64.9272 1060.02 64.3543 1063.14 Q63.8132 1066.23 62.6992 1069.67 L56.6518 1069.67 Q58.3387 1066.42 59.198 1063.27 Q60.0256 1060.12 60.0256 1057.03 Q60.0256 1052.89 58.6251 1050.66 Q57.1929 1048.44 54.6147 1048.44 Q52.2276 1048.44 50.9545 1050.06 Q49.6813 1051.65 48.5037 1057.09 L48.0262 1059.13 Q46.8804 1064.57 44.5251 1066.99 Q42.138 1069.41 38.0002 1069.41 Q32.9713 1069.41 30.2341 1065.85 Q27.4968 1062.28 27.4968 1055.72 Q27.4968 1052.48 27.9743 1049.61 Q28.4517 1046.75 29.4065 1044.33 Z\" fill=\"#000000\" fill-rule=\"nonzero\" fill-opacity=\"1\" /><path clip-path=\"url(#clip610)\" d=\"M32.4621 1019.28 Q32.4621 1023.99 36.1542 1026.73 Q39.8145 1029.47 46.212 1029.47 Q52.6095 1029.47 56.3017 1026.76 Q59.9619 1024.02 59.9619 1019.28 Q59.9619 1014.6 56.2698 1011.86 Q52.5777 1009.13 46.212 1009.13 Q39.8781 1009.13 36.186 1011.86 Q32.4621 1014.6 32.4621 1019.28 M27.4968 1019.28 Q27.4968 1011.64 32.4621 1007.28 Q37.4273 1002.92 46.212 1002.92 Q54.9649 1002.92 59.9619 1007.28 Q64.9272 1011.64 64.9272 1019.28 Q64.9272 1026.95 59.9619 1031.31 Q54.9649 1035.64 46.212 1035.64 Q37.4273 1035.64 32.4621 1031.31 Q27.4968 1026.95 27.4968 1019.28 Z\" fill=\"#000000\" fill-rule=\"nonzero\" fill-opacity=\"1\" /><path clip-path=\"url(#clip610)\" d=\"M49.9359 993.818 L28.3562 993.818 L28.3562 987.962 L49.7131 987.962 Q54.7739 987.962 57.3202 985.988 Q59.8346 984.015 59.8346 980.068 Q59.8346 975.326 56.8109 972.589 Q53.7872 969.819 48.5673 969.819 L28.3562 969.819 L28.3562 963.963 L64.0042 963.963 L64.0042 969.819 L58.5296 969.819 Q61.7762 971.952 63.3676 974.785 Q64.9272 977.586 64.9272 981.31 Q64.9272 987.452 61.1078 990.635 Q57.2883 993.818 49.9359 993.818 M27.4968 979.082 L27.4968 979.082 Z\" fill=\"#000000\" fill-rule=\"nonzero\" fill-opacity=\"1\" /><path clip-path=\"url(#clip610)\" d=\"M33.8307 931.243 Q33.2578 932.23 33.0032 933.408 Q32.7167 934.553 32.7167 935.954 Q32.7167 940.919 35.9632 943.593 Q39.1779 946.234 45.2253 946.234 L64.0042 946.234 L64.0042 952.123 L28.3562 952.123 L28.3562 946.234 L33.8944 946.234 Q30.6479 944.388 29.0883 941.428 Q27.4968 938.468 27.4968 934.235 Q27.4968 933.63 27.5923 932.898 Q27.656 932.166 27.8151 931.275 L33.8307 931.243 Z\" fill=\"#000000\" fill-rule=\"nonzero\" fill-opacity=\"1\" /><path clip-path=\"url(#clip610)\" d=\"M29.7248 900.879 L35.1993 900.879 Q33.8307 903.361 33.1623 905.876 Q32.4621 908.359 32.4621 910.905 Q32.4621 916.602 36.0905 919.753 Q39.6872 922.904 46.212 922.904 Q52.7369 922.904 56.3653 919.753 Q59.9619 916.602 59.9619 910.905 Q59.9619 908.359 59.2935 905.876 Q58.5933 903.361 57.2247 900.879 L62.6355 900.879 Q63.7814 903.33 64.3543 905.971 Q64.9272 908.581 64.9272 911.541 Q64.9272 919.594 59.8664 924.336 Q54.8057 929.079 46.212 929.079 Q37.491 929.079 32.4939 924.305 Q27.4968 919.499 27.4968 911.159 Q27.4968 908.454 28.0697 905.876 Q28.6108 903.298 29.7248 900.879 Z\" fill=\"#000000\" fill-rule=\"nonzero\" fill-opacity=\"1\" /><path clip-path=\"url(#clip610)\" d=\"M44.7161 860.202 L47.5806 860.202 L47.5806 887.129 Q53.6281 886.747 56.8109 883.5 Q59.9619 880.222 59.9619 874.397 Q59.9619 871.024 59.1344 867.873 Q58.3069 864.69 56.6518 861.571 L62.1899 861.571 Q63.5267 864.722 64.227 868.032 Q64.9272 871.342 64.9272 874.748 Q64.9272 883.278 59.9619 888.275 Q54.9967 893.24 46.5303 893.24 Q37.7774 893.24 32.6531 888.529 Q27.4968 883.787 27.4968 875.766 Q27.4968 868.573 32.1438 864.403 Q36.7589 860.202 44.7161 860.202 M42.9973 866.058 Q38.1912 866.122 35.3266 868.764 Q32.4621 871.374 32.4621 875.702 Q32.4621 880.604 35.2312 883.564 Q38.0002 886.492 43.0292 886.938 L42.9973 866.058 Z\" fill=\"#000000\" fill-rule=\"nonzero\" fill-opacity=\"1\" /><path clip-path=\"url(#clip610)\" d=\"M22.818 813.732 L46.4666 822.453 L46.4666 804.979 L22.818 813.732 M16.4842 817.361 L16.4842 810.072 L64.0042 791.962 L64.0042 798.646 L51.8138 802.974 L51.8138 824.395 L64.0042 828.724 L64.0042 835.503 L16.4842 817.361 Z\" fill=\"#000000\" fill-rule=\"nonzero\" fill-opacity=\"1\" /><path clip-path=\"url(#clip610)\" d=\"M29.7248 760.77 L35.1993 760.77 Q33.8307 763.252 33.1623 765.767 Q32.4621 768.249 32.4621 770.796 Q32.4621 776.493 36.0905 779.644 Q39.6872 782.795 46.212 782.795 Q52.7369 782.795 56.3653 779.644 Q59.9619 776.493 59.9619 770.796 Q59.9619 768.249 59.2935 765.767 Q58.5933 763.252 57.2247 760.77 L62.6355 760.77 Q63.7814 763.22 64.3543 765.862 Q64.9272 768.472 64.9272 771.432 Q64.9272 779.485 59.8664 784.227 Q54.8057 788.97 46.212 788.97 Q37.491 788.97 32.4939 784.195 Q27.4968 779.389 27.4968 771.05 Q27.4968 768.345 28.0697 765.767 Q28.6108 763.189 29.7248 760.77 Z\" fill=\"#000000\" fill-rule=\"nonzero\" fill-opacity=\"1\" /><path clip-path=\"url(#clip610)\" d=\"M29.7248 724.931 L35.1993 724.931 Q33.8307 727.413 33.1623 729.928 Q32.4621 732.41 32.4621 734.957 Q32.4621 740.654 36.0905 743.805 Q39.6872 746.956 46.212 746.956 Q52.7369 746.956 56.3653 743.805 Q59.9619 740.654 59.9619 734.957 Q59.9619 732.41 59.2935 729.928 Q58.5933 727.413 57.2247 724.931 L62.6355 724.931 Q63.7814 727.381 64.3543 730.023 Q64.9272 732.633 64.9272 735.593 Q64.9272 743.646 59.8664 748.388 Q54.8057 753.131 46.212 753.131 Q37.491 753.131 32.4939 748.356 Q27.4968 743.55 27.4968 735.211 Q27.4968 732.506 28.0697 729.928 Q28.6108 727.35 29.7248 724.931 Z\" fill=\"#000000\" fill-rule=\"nonzero\" fill-opacity=\"1\" /><path clip-path=\"url(#clip610)\" d=\"M49.9359 715.35 L28.3562 715.35 L28.3562 709.494 L49.7131 709.494 Q54.7739 709.494 57.3202 707.52 Q59.8346 705.547 59.8346 701.6 Q59.8346 696.858 56.8109 694.121 Q53.7872 691.352 48.5673 691.352 L28.3562 691.352 L28.3562 685.495 L64.0042 685.495 L64.0042 691.352 L58.5296 691.352 Q61.7762 693.484 63.3676 696.317 Q64.9272 699.118 64.9272 702.842 Q64.9272 708.985 61.1078 712.167 Q57.2883 715.35 49.9359 715.35 M27.4968 700.614 L27.4968 700.614 Z\" fill=\"#000000\" fill-rule=\"nonzero\" fill-opacity=\"1\" /><path clip-path=\"url(#clip610)\" d=\"M35.1993 645.678 Q31.2526 643.481 29.3747 640.426 Q27.4968 637.37 27.4968 633.233 Q27.4968 627.663 31.4117 624.639 Q35.2948 621.615 42.4881 621.615 L64.0042 621.615 L64.0042 627.504 L42.679 627.504 Q37.5546 627.504 35.072 629.318 Q32.5894 631.132 32.5894 634.856 Q32.5894 639.407 35.6131 642.049 Q38.6368 644.691 43.8567 644.691 L64.0042 644.691 L64.0042 650.579 L42.679 650.579 Q37.5228 650.579 35.072 652.393 Q32.5894 654.208 32.5894 657.995 Q32.5894 662.483 35.6449 665.125 Q38.6686 667.767 43.8567 667.767 L64.0042 667.767 L64.0042 673.655 L28.3562 673.655 L28.3562 667.767 L33.8944 667.767 Q30.616 665.761 29.0564 662.961 Q27.4968 660.16 27.4968 656.308 Q27.4968 652.425 29.4702 649.72 Q31.4436 646.983 35.1993 645.678 Z\" fill=\"#000000\" fill-rule=\"nonzero\" fill-opacity=\"1\" /><path clip-path=\"url(#clip610)\" d=\"M49.9359 610.539 L28.3562 610.539 L28.3562 604.683 L49.7131 604.683 Q54.7739 604.683 57.3202 602.709 Q59.8346 600.736 59.8346 596.789 Q59.8346 592.047 56.8109 589.309 Q53.7872 586.54 48.5673 586.54 L28.3562 586.54 L28.3562 580.684 L64.0042 580.684 L64.0042 586.54 L58.5296 586.54 Q61.7762 588.673 63.3676 591.505 Q64.9272 594.306 64.9272 598.03 Q64.9272 604.173 61.1078 607.356 Q57.2883 610.539 49.9359 610.539 M27.4968 595.802 L27.4968 595.802 Z\" fill=\"#000000\" fill-rule=\"nonzero\" fill-opacity=\"1\" /><path clip-path=\"url(#clip610)\" d=\"M14.479 568.621 L14.479 562.764 L64.0042 562.764 L64.0042 568.621 L14.479 568.621 Z\" fill=\"#000000\" fill-rule=\"nonzero\" fill-opacity=\"1\" /><path clip-path=\"url(#clip610)\" d=\"M46.0847 534.31 Q46.0847 541.407 47.7079 544.145 Q49.3312 546.882 53.2461 546.882 Q56.3653 546.882 58.2114 544.845 Q60.0256 542.776 60.0256 539.243 Q60.0256 534.373 56.5881 531.445 Q53.1188 528.485 47.3897 528.485 L46.0847 528.485 L46.0847 534.31 M43.6657 522.629 L64.0042 522.629 L64.0042 528.485 L58.5933 528.485 Q61.8398 530.49 63.3994 533.482 Q64.9272 536.474 64.9272 540.803 Q64.9272 546.277 61.8716 549.524 Q58.7843 552.738 53.6281 552.738 Q47.6125 552.738 44.5569 548.728 Q41.5014 544.686 41.5014 536.697 L41.5014 528.485 L40.9285 528.485 Q36.8862 528.485 34.6901 531.159 Q32.4621 533.8 32.4621 538.606 Q32.4621 541.662 33.1941 544.558 Q33.9262 547.455 35.3903 550.128 L29.9795 550.128 Q28.7381 546.914 28.1334 543.89 Q27.4968 540.866 27.4968 538.002 Q27.4968 530.267 31.5072 526.448 Q35.5176 522.629 43.6657 522.629 Z\" fill=\"#000000\" fill-rule=\"nonzero\" fill-opacity=\"1\" /><path clip-path=\"url(#clip610)\" d=\"M18.2347 504.773 L28.3562 504.773 L28.3562 492.71 L32.9077 492.71 L32.9077 504.773 L52.2594 504.773 Q56.6199 504.773 57.8613 503.595 Q59.1026 502.386 59.1026 498.725 L59.1026 492.71 L64.0042 492.71 L64.0042 498.725 Q64.0042 505.505 61.4897 508.083 Q58.9434 510.661 52.2594 510.661 L32.9077 510.661 L32.9077 514.958 L28.3562 514.958 L28.3562 510.661 L18.2347 510.661 L18.2347 504.773 Z\" fill=\"#000000\" fill-rule=\"nonzero\" fill-opacity=\"1\" /><path clip-path=\"url(#clip610)\" d=\"M28.3562 485.007 L28.3562 479.151 L64.0042 479.151 L64.0042 485.007 L28.3562 485.007 M14.479 485.007 L14.479 479.151 L21.895 479.151 L21.895 485.007 L14.479 485.007 Z\" fill=\"#000000\" fill-rule=\"nonzero\" fill-opacity=\"1\" /><path clip-path=\"url(#clip610)\" d=\"M32.4621 453.083 Q32.4621 457.794 36.1542 460.531 Q39.8145 463.268 46.212 463.268 Q52.6095 463.268 56.3017 460.563 Q59.9619 457.826 59.9619 453.083 Q59.9619 448.404 56.2698 445.667 Q52.5777 442.93 46.212 442.93 Q39.8781 442.93 36.186 445.667 Q32.4621 448.404 32.4621 453.083 M27.4968 453.083 Q27.4968 445.444 32.4621 441.084 Q37.4273 436.723 46.212 436.723 Q54.9649 436.723 59.9619 441.084 Q64.9272 445.444 64.9272 453.083 Q64.9272 460.754 59.9619 465.114 Q54.9649 469.443 46.212 469.443 Q37.4273 469.443 32.4621 465.114 Q27.4968 460.754 27.4968 453.083 Z\" fill=\"#000000\" fill-rule=\"nonzero\" fill-opacity=\"1\" /><path clip-path=\"url(#clip610)\" d=\"M42.4881 397.383 L64.0042 397.383 L64.0042 403.24 L42.679 403.24 Q37.6183 403.24 35.1038 405.213 Q32.5894 407.186 32.5894 411.133 Q32.5894 415.876 35.6131 418.613 Q38.6368 421.35 43.8567 421.35 L64.0042 421.35 L64.0042 427.238 L28.3562 427.238 L28.3562 421.35 L33.8944 421.35 Q30.6797 419.249 29.0883 416.417 Q27.4968 413.552 27.4968 409.828 Q27.4968 403.685 31.3163 400.534 Q35.1038 397.383 42.4881 397.383 Z\" fill=\"#000000\" fill-rule=\"nonzero\" fill-opacity=\"1\" /><path clip-path=\"url(#clip610)\" d=\"M694.057 44.2197 Q696.69 45.1109 699.161 48.0275 Q701.673 50.9442 704.185 56.0483 L712.489 72.576 L703.698 72.576 L695.961 57.061 Q692.964 50.9847 690.128 48.9997 Q687.333 47.0148 682.472 47.0148 L673.56 47.0148 L673.56 72.576 L665.377 72.576 L665.377 12.096 L683.849 12.096 Q694.219 12.096 699.323 16.4305 Q704.428 20.7649 704.428 29.5149 Q704.428 35.2267 701.754 38.994 Q699.121 42.7613 694.057 44.2197 M673.56 18.8205 L673.56 40.2903 L683.849 40.2903 Q689.763 40.2903 692.761 37.5762 Q695.799 34.8216 695.799 29.5149 Q695.799 24.2082 692.761 21.5346 Q689.763 18.8205 683.849 18.8205 L673.56 18.8205 Z\" fill=\"#000000\" fill-rule=\"nonzero\" fill-opacity=\"1\" /><path clip-path=\"url(#clip610)\" d=\"M757.778 48.0275 L757.778 51.6733 L723.507 51.6733 Q723.993 59.3701 728.125 63.421 Q732.298 67.4314 739.711 67.4314 Q744.005 67.4314 748.015 66.3781 Q752.066 65.3249 756.036 63.2184 L756.036 70.267 Q752.026 71.9684 747.813 72.8596 Q743.6 73.7508 739.265 73.7508 Q728.409 73.7508 722.049 67.4314 Q715.73 61.1119 715.73 50.3365 Q715.73 39.1965 721.725 32.6746 Q727.761 26.1121 737.969 26.1121 Q747.124 26.1121 752.431 32.0264 Q757.778 37.9003 757.778 48.0275 M750.324 45.84 Q750.243 39.7232 746.881 36.0774 Q743.559 32.4315 738.05 32.4315 Q731.812 32.4315 728.044 35.9558 Q724.318 39.4801 723.75 45.8805 L750.324 45.84 Z\" fill=\"#000000\" fill-rule=\"nonzero\" fill-opacity=\"1\" /><path clip-path=\"url(#clip610)\" d=\"M798.935 28.5427 L798.935 35.5912 Q795.776 33.9709 792.373 33.1607 Q788.97 32.3505 785.324 32.3505 Q779.774 32.3505 776.979 34.0519 Q774.225 35.7533 774.225 39.156 Q774.225 41.7486 776.21 43.2475 Q778.195 44.7058 784.19 46.0426 L786.742 46.6097 Q794.682 48.3111 798.004 51.4303 Q801.366 54.509 801.366 60.0587 Q801.366 66.3781 796.343 70.0644 Q791.36 73.7508 782.61 73.7508 Q778.964 73.7508 774.994 73.0216 Q771.065 72.3329 766.69 70.9151 L766.69 63.2184 Q770.822 65.3654 774.832 66.4591 Q778.843 67.5124 782.772 67.5124 Q788.038 67.5124 790.874 65.73 Q793.71 63.9071 793.71 60.6258 Q793.71 57.5877 791.644 55.9673 Q789.618 54.3469 782.691 52.8481 L780.099 52.2405 Q773.171 50.7821 770.093 47.7845 Q767.014 44.7463 767.014 39.4801 Q767.014 33.0797 771.551 29.5959 Q776.088 26.1121 784.433 26.1121 Q788.565 26.1121 792.211 26.7198 Q795.857 27.3274 798.935 28.5427 Z\" fill=\"#000000\" fill-rule=\"nonzero\" fill-opacity=\"1\" /><path clip-path=\"url(#clip610)\" d=\"M830.816 32.4315 Q824.821 32.4315 821.337 37.1306 Q817.853 41.7891 817.853 49.9314 Q817.853 58.0738 821.296 62.7728 Q824.78 67.4314 830.816 67.4314 Q836.771 67.4314 840.254 62.7323 Q843.738 58.0333 843.738 49.9314 Q843.738 41.8701 840.254 37.1711 Q836.771 32.4315 830.816 32.4315 M830.816 26.1121 Q840.538 26.1121 846.088 32.4315 Q851.637 38.7509 851.637 49.9314 Q851.637 61.0714 846.088 67.4314 Q840.538 73.7508 830.816 73.7508 Q821.053 73.7508 815.503 67.4314 Q809.994 61.0714 809.994 49.9314 Q809.994 38.7509 815.503 32.4315 Q821.053 26.1121 830.816 26.1121 Z\" fill=\"#000000\" fill-rule=\"nonzero\" fill-opacity=\"1\" /><path clip-path=\"url(#clip610)\" d=\"M863.223 54.671 L863.223 27.2059 L870.677 27.2059 L870.677 54.3874 Q870.677 60.8284 873.188 64.0691 Q875.7 67.2693 880.723 67.2693 Q886.759 67.2693 890.243 63.421 Q893.767 59.5726 893.767 52.9291 L893.767 27.2059 L901.221 27.2059 L901.221 72.576 L893.767 72.576 L893.767 65.6084 Q891.053 69.7404 887.447 71.7658 Q883.883 73.7508 879.143 73.7508 Q871.325 73.7508 867.274 68.8897 Q863.223 64.0286 863.223 54.671 M881.979 26.1121 L881.979 26.1121 Z\" fill=\"#000000\" fill-rule=\"nonzero\" fill-opacity=\"1\" /><path clip-path=\"url(#clip610)\" d=\"M942.864 34.1734 Q941.608 33.4443 940.109 33.1202 Q938.651 32.7556 936.869 32.7556 Q930.549 32.7556 927.146 36.8875 Q923.784 40.9789 923.784 48.6757 L923.784 72.576 L916.29 72.576 L916.29 27.2059 L923.784 27.2059 L923.784 34.2544 Q926.134 30.1225 929.901 28.1376 Q933.668 26.1121 939.056 26.1121 Q939.826 26.1121 940.757 26.2337 Q941.689 26.3147 942.823 26.5172 L942.864 34.1734 Z\" fill=\"#000000\" fill-rule=\"nonzero\" fill-opacity=\"1\" /><path clip-path=\"url(#clip610)\" d=\"M981.509 28.9478 L981.509 35.9153 Q978.35 34.1734 975.15 33.3227 Q971.99 32.4315 968.749 32.4315 Q961.498 32.4315 957.488 37.0496 Q953.477 41.6271 953.477 49.9314 Q953.477 58.2358 957.488 62.8538 Q961.498 67.4314 968.749 67.4314 Q971.99 67.4314 975.15 66.5807 Q978.35 65.6895 981.509 63.9476 L981.509 70.8341 Q978.39 72.2924 975.028 73.0216 Q971.706 73.7508 967.939 73.7508 Q957.69 73.7508 951.654 67.3098 Q945.618 60.8689 945.618 49.9314 Q945.618 38.832 951.695 32.472 Q957.812 26.1121 968.425 26.1121 Q971.868 26.1121 975.15 26.8413 Q978.431 27.5299 981.509 28.9478 Z\" fill=\"#000000\" fill-rule=\"nonzero\" fill-opacity=\"1\" /><path clip-path=\"url(#clip610)\" d=\"M1033.28 48.0275 L1033.28 51.6733 L999.009 51.6733 Q999.495 59.3701 1003.63 63.421 Q1007.8 67.4314 1015.21 67.4314 Q1019.51 67.4314 1023.52 66.3781 Q1027.57 65.3249 1031.54 63.2184 L1031.54 70.267 Q1027.53 71.9684 1023.31 72.8596 Q1019.1 73.7508 1014.77 73.7508 Q1003.91 73.7508 997.551 67.4314 Q991.232 61.1119 991.232 50.3365 Q991.232 39.1965 997.227 32.6746 Q1003.26 26.1121 1013.47 26.1121 Q1022.63 26.1121 1027.93 32.0264 Q1033.28 37.9003 1033.28 48.0275 M1025.83 45.84 Q1025.75 39.7232 1022.38 36.0774 Q1019.06 32.4315 1013.55 32.4315 Q1007.31 32.4315 1003.55 35.9558 Q999.82 39.4801 999.252 45.8805 L1025.83 45.84 Z\" fill=\"#000000\" fill-rule=\"nonzero\" fill-opacity=\"1\" /><path clip-path=\"url(#clip610)\" d=\"M1100.89 44.2197 Q1103.52 45.1109 1105.99 48.0275 Q1108.51 50.9442 1111.02 56.0483 L1119.32 72.576 L1110.53 72.576 L1102.79 57.061 Q1099.8 50.9847 1096.96 48.9997 Q1094.17 47.0148 1089.3 47.0148 L1080.39 47.0148 L1080.39 72.576 L1072.21 72.576 L1072.21 12.096 L1090.68 12.096 Q1101.05 12.096 1106.16 16.4305 Q1111.26 20.7649 1111.26 29.5149 Q1111.26 35.2267 1108.59 38.994 Q1105.95 42.7613 1100.89 44.2197 M1080.39 18.8205 L1080.39 40.2903 L1090.68 40.2903 Q1096.6 40.2903 1099.59 37.5762 Q1102.63 34.8216 1102.63 29.5149 Q1102.63 24.2082 1099.59 21.5346 Q1096.6 18.8205 1090.68 18.8205 L1080.39 18.8205 Z\" fill=\"#000000\" fill-rule=\"nonzero\" fill-opacity=\"1\" /><path clip-path=\"url(#clip610)\" d=\"M1164.61 48.0275 L1164.61 51.6733 L1130.34 51.6733 Q1130.83 59.3701 1134.96 63.421 Q1139.13 67.4314 1146.54 67.4314 Q1150.84 67.4314 1154.85 66.3781 Q1158.9 65.3249 1162.87 63.2184 L1162.87 70.267 Q1158.86 71.9684 1154.65 72.8596 Q1150.43 73.7508 1146.1 73.7508 Q1135.24 73.7508 1128.88 67.4314 Q1122.56 61.1119 1122.56 50.3365 Q1122.56 39.1965 1128.56 32.6746 Q1134.59 26.1121 1144.8 26.1121 Q1153.96 26.1121 1159.26 32.0264 Q1164.61 37.9003 1164.61 48.0275 M1157.16 45.84 Q1157.08 39.7232 1153.71 36.0774 Q1150.39 32.4315 1144.88 32.4315 Q1138.64 32.4315 1134.88 35.9558 Q1131.15 39.4801 1130.58 45.8805 L1157.16 45.84 Z\" fill=\"#000000\" fill-rule=\"nonzero\" fill-opacity=\"1\" /><path clip-path=\"url(#clip610)\" d=\"M1205.77 28.5427 L1205.77 35.5912 Q1202.61 33.9709 1199.21 33.1607 Q1195.8 32.3505 1192.16 32.3505 Q1186.61 32.3505 1183.81 34.0519 Q1181.06 35.7533 1181.06 39.156 Q1181.06 41.7486 1183.04 43.2475 Q1185.03 44.7058 1191.02 46.0426 L1193.57 46.6097 Q1201.51 48.3111 1204.84 51.4303 Q1208.2 54.509 1208.2 60.0587 Q1208.2 66.3781 1203.17 70.0644 Q1198.19 73.7508 1189.44 73.7508 Q1185.8 73.7508 1181.83 73.0216 Q1177.9 72.3329 1173.52 70.9151 L1173.52 63.2184 Q1177.65 65.3654 1181.66 66.4591 Q1185.68 67.5124 1189.6 67.5124 Q1194.87 67.5124 1197.71 65.73 Q1200.54 63.9071 1200.54 60.6258 Q1200.54 57.5877 1198.48 55.9673 Q1196.45 54.3469 1189.52 52.8481 L1186.93 52.2405 Q1180 50.7821 1176.93 47.7845 Q1173.85 44.7463 1173.85 39.4801 Q1173.85 33.0797 1178.38 29.5959 Q1182.92 26.1121 1191.27 26.1121 Q1195.4 26.1121 1199.04 26.7198 Q1202.69 27.3274 1205.77 28.5427 Z\" fill=\"#000000\" fill-rule=\"nonzero\" fill-opacity=\"1\" /><path clip-path=\"url(#clip610)\" d=\"M1258.87 48.0275 L1258.87 51.6733 L1224.6 51.6733 Q1225.09 59.3701 1229.22 63.421 Q1233.39 67.4314 1240.81 67.4314 Q1245.1 67.4314 1249.11 66.3781 Q1253.16 65.3249 1257.13 63.2184 L1257.13 70.267 Q1253.12 71.9684 1248.91 72.8596 Q1244.7 73.7508 1240.36 73.7508 Q1229.51 73.7508 1223.15 67.4314 Q1216.83 61.1119 1216.83 50.3365 Q1216.83 39.1965 1222.82 32.6746 Q1228.86 26.1121 1239.07 26.1121 Q1248.22 26.1121 1253.53 32.0264 Q1258.87 37.9003 1258.87 48.0275 M1251.42 45.84 Q1251.34 39.7232 1247.98 36.0774 Q1244.66 32.4315 1239.15 32.4315 Q1232.91 32.4315 1229.14 35.9558 Q1225.41 39.4801 1224.85 45.8805 L1251.42 45.84 Z\" fill=\"#000000\" fill-rule=\"nonzero\" fill-opacity=\"1\" /><path clip-path=\"url(#clip610)\" d=\"M1297.4 34.1734 Q1296.14 33.4443 1294.64 33.1202 Q1293.19 32.7556 1291.4 32.7556 Q1285.08 32.7556 1281.68 36.8875 Q1278.32 40.9789 1278.32 48.6757 L1278.32 72.576 L1270.83 72.576 L1270.83 27.2059 L1278.32 27.2059 L1278.32 34.2544 Q1280.67 30.1225 1284.44 28.1376 Q1288.2 26.1121 1293.59 26.1121 Q1294.36 26.1121 1295.29 26.2337 Q1296.22 26.3147 1297.36 26.5172 L1297.4 34.1734 Z\" fill=\"#000000\" fill-rule=\"nonzero\" fill-opacity=\"1\" /><path clip-path=\"url(#clip610)\" d=\"M1299.87 27.2059 L1307.77 27.2059 L1321.95 65.2844 L1336.13 27.2059 L1344.02 27.2059 L1327.01 72.576 L1316.88 72.576 L1299.87 27.2059 Z\" fill=\"#000000\" fill-rule=\"nonzero\" fill-opacity=\"1\" /><path clip-path=\"url(#clip610)\" d=\"M1393.12 48.0275 L1393.12 51.6733 L1358.85 51.6733 Q1359.34 59.3701 1363.47 63.421 Q1367.64 67.4314 1375.05 67.4314 Q1379.35 67.4314 1383.36 66.3781 Q1387.41 65.3249 1391.38 63.2184 L1391.38 70.267 Q1387.37 71.9684 1383.16 72.8596 Q1378.94 73.7508 1374.61 73.7508 Q1363.75 73.7508 1357.39 67.4314 Q1351.07 61.1119 1351.07 50.3365 Q1351.07 39.1965 1357.07 32.6746 Q1363.1 26.1121 1373.31 26.1121 Q1382.47 26.1121 1387.77 32.0264 Q1393.12 37.9003 1393.12 48.0275 M1385.67 45.84 Q1385.59 39.7232 1382.22 36.0774 Q1378.9 32.4315 1373.39 32.4315 Q1367.16 32.4315 1363.39 35.9558 Q1359.66 39.4801 1359.09 45.8805 L1385.67 45.84 Z\" fill=\"#000000\" fill-rule=\"nonzero\" fill-opacity=\"1\" /><path clip-path=\"url(#clip610)\" d=\"M1434.28 28.5427 L1434.28 35.5912 Q1431.12 33.9709 1427.72 33.1607 Q1424.31 32.3505 1420.67 32.3505 Q1415.12 32.3505 1412.32 34.0519 Q1409.57 35.7533 1409.57 39.156 Q1409.57 41.7486 1411.55 43.2475 Q1413.54 44.7058 1419.53 46.0426 L1422.09 46.6097 Q1430.03 48.3111 1433.35 51.4303 Q1436.71 54.509 1436.71 60.0587 Q1436.71 66.3781 1431.69 70.0644 Q1426.7 73.7508 1417.95 73.7508 Q1414.31 73.7508 1410.34 73.0216 Q1406.41 72.3329 1402.03 70.9151 L1402.03 63.2184 Q1406.17 65.3654 1410.18 66.4591 Q1414.19 67.5124 1418.12 67.5124 Q1423.38 67.5124 1426.22 65.73 Q1429.05 63.9071 1429.05 60.6258 Q1429.05 57.5877 1426.99 55.9673 Q1424.96 54.3469 1418.03 52.8481 L1415.44 52.2405 Q1408.52 50.7821 1405.44 47.7845 Q1402.36 44.7463 1402.36 39.4801 Q1402.36 33.0797 1406.89 29.5959 Q1411.43 26.1121 1419.78 26.1121 Q1423.91 26.1121 1427.55 26.7198 Q1431.2 27.3274 1434.28 28.5427 Z\" fill=\"#000000\" fill-rule=\"nonzero\" fill-opacity=\"1\" /><path clip-path=\"url(#clip610)\" d=\"M1492.53 32.4315 Q1486.54 32.4315 1483.05 37.1306 Q1479.57 41.7891 1479.57 49.9314 Q1479.57 58.0738 1483.01 62.7728 Q1486.5 67.4314 1492.53 67.4314 Q1498.49 67.4314 1501.97 62.7323 Q1505.45 58.0333 1505.45 49.9314 Q1505.45 41.8701 1501.97 37.1711 Q1498.49 32.4315 1492.53 32.4315 M1492.53 26.1121 Q1502.25 26.1121 1507.8 32.4315 Q1513.35 38.7509 1513.35 49.9314 Q1513.35 61.0714 1507.8 67.4314 Q1502.25 73.7508 1492.53 73.7508 Q1482.77 73.7508 1477.22 67.4314 Q1471.71 61.0714 1471.71 49.9314 Q1471.71 38.7509 1477.22 32.4315 Q1482.77 26.1121 1492.53 26.1121 Z\" fill=\"#000000\" fill-rule=\"nonzero\" fill-opacity=\"1\" /><path clip-path=\"url(#clip610)\" d=\"M1520.36 27.2059 L1528.26 27.2059 L1542.44 65.2844 L1556.62 27.2059 L1564.52 27.2059 L1547.5 72.576 L1537.37 72.576 L1520.36 27.2059 Z\" fill=\"#000000\" fill-rule=\"nonzero\" fill-opacity=\"1\" /><path clip-path=\"url(#clip610)\" d=\"M1613.61 48.0275 L1613.61 51.6733 L1579.34 51.6733 Q1579.83 59.3701 1583.96 63.421 Q1588.13 67.4314 1595.55 67.4314 Q1599.84 67.4314 1603.85 66.3781 Q1607.9 65.3249 1611.87 63.2184 L1611.87 70.267 Q1607.86 71.9684 1603.65 72.8596 Q1599.43 73.7508 1595.1 73.7508 Q1584.24 73.7508 1577.88 67.4314 Q1571.56 61.1119 1571.56 50.3365 Q1571.56 39.1965 1577.56 32.6746 Q1583.6 26.1121 1593.8 26.1121 Q1602.96 26.1121 1608.27 32.0264 Q1613.61 37.9003 1613.61 48.0275 M1606.16 45.84 Q1606.08 39.7232 1602.72 36.0774 Q1599.39 32.4315 1593.88 32.4315 Q1587.65 32.4315 1583.88 35.9558 Q1580.15 39.4801 1579.58 45.8805 L1606.16 45.84 Z\" fill=\"#000000\" fill-rule=\"nonzero\" fill-opacity=\"1\" /><path clip-path=\"url(#clip610)\" d=\"M1652.14 34.1734 Q1650.88 33.4443 1649.38 33.1202 Q1647.92 32.7556 1646.14 32.7556 Q1639.82 32.7556 1636.42 36.8875 Q1633.06 40.9789 1633.06 48.6757 L1633.06 72.576 L1625.56 72.576 L1625.56 27.2059 L1633.06 27.2059 L1633.06 34.2544 Q1635.41 30.1225 1639.17 28.1376 Q1642.94 26.1121 1648.33 26.1121 Q1649.1 26.1121 1650.03 26.2337 Q1650.96 26.3147 1652.1 26.5172 L1652.14 34.1734 Z\" fill=\"#000000\" fill-rule=\"nonzero\" fill-opacity=\"1\" /><path clip-path=\"url(#clip610)\" d=\"M1693.7 14.324 L1693.7 27.2059 L1709.05 27.2059 L1709.05 32.9987 L1693.7 32.9987 L1693.7 57.6282 Q1693.7 63.1779 1695.2 64.7578 Q1696.74 66.3376 1701.4 66.3376 L1709.05 66.3376 L1709.05 72.576 L1701.4 72.576 Q1692.77 72.576 1689.49 69.3758 Q1686.2 66.1351 1686.2 57.6282 L1686.2 32.9987 L1680.74 32.9987 L1680.74 27.2059 L1686.2 27.2059 L1686.2 14.324 L1693.7 14.324 Z\" fill=\"#000000\" fill-rule=\"nonzero\" fill-opacity=\"1\" /><path clip-path=\"url(#clip610)\" d=\"M1718.86 27.2059 L1726.31 27.2059 L1726.31 72.576 L1718.86 72.576 L1718.86 27.2059 M1718.86 9.54393 L1726.31 9.54393 L1726.31 18.9825 L1718.86 18.9825 L1718.86 9.54393 Z\" fill=\"#000000\" fill-rule=\"nonzero\" fill-opacity=\"1\" /><path clip-path=\"url(#clip610)\" d=\"M1777.23 35.9153 Q1780.02 30.8922 1783.91 28.5022 Q1787.8 26.1121 1793.07 26.1121 Q1800.16 26.1121 1804.01 31.0947 Q1807.85 36.0368 1807.85 45.1919 L1807.85 72.576 L1800.36 72.576 L1800.36 45.4349 Q1800.36 38.913 1798.05 35.7533 Q1795.74 32.5936 1791 32.5936 Q1785.21 32.5936 1781.85 36.4419 Q1778.48 40.2903 1778.48 46.9338 L1778.48 72.576 L1770.99 72.576 L1770.99 45.4349 Q1770.99 38.8725 1768.68 35.7533 Q1766.37 32.5936 1761.55 32.5936 Q1755.84 32.5936 1752.48 36.4824 Q1749.12 40.3308 1749.12 46.9338 L1749.12 72.576 L1741.62 72.576 L1741.62 27.2059 L1749.12 27.2059 L1749.12 34.2544 Q1751.67 30.082 1755.23 28.0971 Q1758.8 26.1121 1763.7 26.1121 Q1768.64 26.1121 1772.08 28.6237 Q1775.57 31.1352 1777.23 35.9153 Z\" fill=\"#000000\" fill-rule=\"nonzero\" fill-opacity=\"1\" /><path clip-path=\"url(#clip610)\" d=\"M1861.53 48.0275 L1861.53 51.6733 L1827.26 51.6733 Q1827.74 59.3701 1831.88 63.421 Q1836.05 67.4314 1843.46 67.4314 Q1847.75 67.4314 1851.77 66.3781 Q1855.82 65.3249 1859.79 63.2184 L1859.79 70.267 Q1855.78 71.9684 1851.56 72.8596 Q1847.35 73.7508 1843.02 73.7508 Q1832.16 73.7508 1825.8 67.4314 Q1819.48 61.1119 1819.48 50.3365 Q1819.48 39.1965 1825.47 32.6746 Q1831.51 26.1121 1841.72 26.1121 Q1850.87 26.1121 1856.18 32.0264 Q1861.53 37.9003 1861.53 48.0275 M1854.07 45.84 Q1853.99 39.7232 1850.63 36.0774 Q1847.31 32.4315 1841.8 32.4315 Q1835.56 32.4315 1831.79 35.9558 Q1828.07 39.4801 1827.5 45.8805 L1854.07 45.84 Z\" fill=\"#000000\" fill-rule=\"nonzero\" fill-opacity=\"1\" /><path clip-path=\"url(#clip612)\" d=\"M293.976 123.472 L293.976 1423.18 L2232.93 1423.18 L2232.93 123.472 L293.976 123.472 L293.976 123.472  Z\" fill=\"#009af9\" fill-rule=\"evenodd\" fill-opacity=\"1\"/>\n",
       "<polyline clip-path=\"url(#clip612)\" style=\"stroke:#000000; stroke-linecap:round; stroke-linejoin:round; stroke-width:4; stroke-opacity:1; fill:none\" points=\"293.976,123.472 293.976,1423.18 2232.93,1423.18 2232.93,123.472 293.976,123.472 \"/>\n",
       "<circle clip-path=\"url(#clip612)\" style=\"fill:#009af9; stroke:none; fill-opacity:0\" cx=\"1263.45\" cy=\"123.472\" r=\"2\"/>\n",
       "<path clip-path=\"url(#clip612)\" d=\"M293.976 989.944 L293.976 1423.18 L2232.93 1423.18 L2232.93 989.944 L293.976 989.944 L293.976 989.944  Z\" fill=\"#e26f46\" fill-rule=\"evenodd\" fill-opacity=\"1\"/>\n",
       "<polyline clip-path=\"url(#clip612)\" style=\"stroke:#000000; stroke-linecap:round; stroke-linejoin:round; stroke-width:4; stroke-opacity:1; fill:none\" points=\"293.976,989.944 293.976,1423.18 2232.93,1423.18 2232.93,989.944 293.976,989.944 \"/>\n",
       "<circle clip-path=\"url(#clip612)\" style=\"fill:#e26f46; stroke:none; fill-opacity:0\" cx=\"1263.45\" cy=\"989.944\" r=\"2\"/>\n",
       "<path clip-path=\"url(#clip610)\" d=\"M1645.19 322.316 L2280.14 322.316 L2280.14 166.796 L1645.19 166.796  Z\" fill=\"#ffffff\" fill-rule=\"evenodd\" fill-opacity=\"1\"/>\n",
       "<polyline clip-path=\"url(#clip610)\" style=\"stroke:#000000; stroke-linecap:round; stroke-linejoin:round; stroke-width:4; stroke-opacity:1; fill:none\" points=\"1645.19,322.316 2280.14,322.316 2280.14,166.796 1645.19,166.796 1645.19,322.316 \"/>\n",
       "<path clip-path=\"url(#clip610)\" d=\"M1669.4 239.372 L1814.64 239.372 L1814.64 197.9 L1669.4 197.9 L1669.4 239.372  Z\" fill=\"#009af9\" fill-rule=\"evenodd\" fill-opacity=\"1\"/>\n",
       "<polyline clip-path=\"url(#clip610)\" style=\"stroke:#000000; stroke-linecap:round; stroke-linejoin:round; stroke-width:4; stroke-opacity:1; fill:none\" points=\"1669.4,239.372 1814.64,239.372 1814.64,197.9 1669.4,197.9 1669.4,239.372 \"/>\n",
       "<path clip-path=\"url(#clip610)\" d=\"M1855.24 219.712 Q1856.74 220.221 1858.15 221.888 Q1859.59 223.555 1861.02 226.471 L1865.77 235.916 L1860.75 235.916 L1856.32 227.05 Q1854.61 223.578 1852.99 222.444 Q1851.39 221.309 1848.62 221.309 L1843.52 221.309 L1843.52 235.916 L1838.85 235.916 L1838.85 201.356 L1849.4 201.356 Q1855.33 201.356 1858.25 203.833 Q1861.16 206.309 1861.16 211.309 Q1861.16 214.573 1859.63 216.726 Q1858.13 218.879 1855.24 219.712 M1843.52 205.198 L1843.52 217.467 L1849.4 217.467 Q1852.78 217.467 1854.5 215.916 Q1856.23 214.342 1856.23 211.309 Q1856.23 208.277 1854.5 206.749 Q1852.78 205.198 1849.4 205.198 L1843.52 205.198 Z\" fill=\"#000000\" fill-rule=\"nonzero\" fill-opacity=\"1\" /><path clip-path=\"url(#clip610)\" d=\"M1891.65 221.888 L1891.65 223.971 L1872.07 223.971 Q1872.34 228.369 1874.7 230.684 Q1877.09 232.976 1881.32 232.976 Q1883.78 232.976 1886.07 232.374 Q1888.38 231.772 1890.65 230.569 L1890.65 234.596 Q1888.36 235.568 1885.95 236.078 Q1883.55 236.587 1881.07 236.587 Q1874.87 236.587 1871.23 232.976 Q1867.62 229.365 1867.62 223.207 Q1867.62 216.842 1871.05 213.115 Q1874.5 209.365 1880.33 209.365 Q1885.56 209.365 1888.59 212.745 Q1891.65 216.101 1891.65 221.888 M1887.39 220.638 Q1887.34 217.143 1885.42 215.059 Q1883.52 212.976 1880.38 212.976 Q1876.81 212.976 1874.66 214.99 Q1872.53 217.004 1872.2 220.661 L1887.39 220.638 Z\" fill=\"#000000\" fill-rule=\"nonzero\" fill-opacity=\"1\" /><path clip-path=\"url(#clip610)\" d=\"M1915.17 210.754 L1915.17 214.782 Q1913.36 213.856 1911.42 213.393 Q1909.47 212.93 1907.39 212.93 Q1904.22 212.93 1902.62 213.902 Q1901.05 214.874 1901.05 216.819 Q1901.05 218.3 1902.18 219.157 Q1903.32 219.99 1906.74 220.754 L1908.2 221.078 Q1912.74 222.05 1914.63 223.832 Q1916.56 225.592 1916.56 228.763 Q1916.56 232.374 1913.69 234.481 Q1910.84 236.587 1905.84 236.587 Q1903.75 236.587 1901.49 236.17 Q1899.24 235.777 1896.74 234.967 L1896.74 230.569 Q1899.1 231.795 1901.39 232.42 Q1903.69 233.022 1905.93 233.022 Q1908.94 233.022 1910.56 232.004 Q1912.18 230.962 1912.18 229.087 Q1912.18 227.351 1911 226.425 Q1909.84 225.499 1905.88 224.643 L1904.4 224.295 Q1900.44 223.462 1898.69 221.749 Q1896.93 220.013 1896.93 217.004 Q1896.93 213.346 1899.52 211.356 Q1902.11 209.365 1906.88 209.365 Q1909.24 209.365 1911.32 209.712 Q1913.41 210.059 1915.17 210.754 Z\" fill=\"#000000\" fill-rule=\"nonzero\" fill-opacity=\"1\" /><path clip-path=\"url(#clip610)\" d=\"M1933.38 212.976 Q1929.96 212.976 1927.97 215.661 Q1925.98 218.323 1925.98 222.976 Q1925.98 227.629 1927.94 230.314 Q1929.94 232.976 1933.38 232.976 Q1936.79 232.976 1938.78 230.291 Q1940.77 227.606 1940.77 222.976 Q1940.77 218.37 1938.78 215.684 Q1936.79 212.976 1933.38 212.976 M1933.38 209.365 Q1938.94 209.365 1942.11 212.976 Q1945.28 216.587 1945.28 222.976 Q1945.28 229.342 1942.11 232.976 Q1938.94 236.587 1933.38 236.587 Q1927.81 236.587 1924.63 232.976 Q1921.49 229.342 1921.49 222.976 Q1921.49 216.587 1924.63 212.976 Q1927.81 209.365 1933.38 209.365 Z\" fill=\"#000000\" fill-rule=\"nonzero\" fill-opacity=\"1\" /><path clip-path=\"url(#clip610)\" d=\"M1951.9 225.684 L1951.9 209.99 L1956.16 209.99 L1956.16 225.522 Q1956.16 229.203 1957.6 231.055 Q1959.03 232.883 1961.9 232.883 Q1965.35 232.883 1967.34 230.684 Q1969.36 228.485 1969.36 224.689 L1969.36 209.99 L1973.62 209.99 L1973.62 235.916 L1969.36 235.916 L1969.36 231.934 Q1967.81 234.295 1965.75 235.453 Q1963.71 236.587 1961 236.587 Q1956.53 236.587 1954.22 233.809 Q1951.9 231.031 1951.9 225.684 M1962.62 209.365 L1962.62 209.365 Z\" fill=\"#000000\" fill-rule=\"nonzero\" fill-opacity=\"1\" /><path clip-path=\"url(#clip610)\" d=\"M1997.41 213.971 Q1996.69 213.555 1995.84 213.37 Q1995 213.161 1993.99 213.161 Q1990.37 213.161 1988.43 215.522 Q1986.51 217.86 1986.51 222.258 L1986.51 235.916 L1982.23 235.916 L1982.23 209.99 L1986.51 209.99 L1986.51 214.018 Q1987.85 211.657 1990 210.522 Q1992.16 209.365 1995.24 209.365 Q1995.68 209.365 1996.21 209.434 Q1996.74 209.481 1997.39 209.596 L1997.41 213.971 Z\" fill=\"#000000\" fill-rule=\"nonzero\" fill-opacity=\"1\" /><path clip-path=\"url(#clip610)\" d=\"M2019.5 210.985 L2019.5 214.967 Q2017.69 213.971 2015.86 213.485 Q2014.06 212.976 2012.2 212.976 Q2008.06 212.976 2005.77 215.615 Q2003.48 218.231 2003.48 222.976 Q2003.48 227.721 2005.77 230.36 Q2008.06 232.976 2012.2 232.976 Q2014.06 232.976 2015.86 232.49 Q2017.69 231.981 2019.5 230.985 L2019.5 234.92 Q2017.71 235.754 2015.79 236.17 Q2013.89 236.587 2011.74 236.587 Q2005.88 236.587 2002.43 232.906 Q1998.99 229.226 1998.99 222.976 Q1998.99 216.633 2002.46 212.999 Q2005.95 209.365 2012.02 209.365 Q2013.99 209.365 2015.86 209.782 Q2017.74 210.175 2019.5 210.985 Z\" fill=\"#000000\" fill-rule=\"nonzero\" fill-opacity=\"1\" /><path clip-path=\"url(#clip610)\" d=\"M2049.08 221.888 L2049.08 223.971 L2029.49 223.971 Q2029.77 228.369 2032.13 230.684 Q2034.52 232.976 2038.75 232.976 Q2041.21 232.976 2043.5 232.374 Q2045.81 231.772 2048.08 230.569 L2048.08 234.596 Q2045.79 235.568 2043.38 236.078 Q2040.98 236.587 2038.5 236.587 Q2032.3 236.587 2028.66 232.976 Q2025.05 229.365 2025.05 223.207 Q2025.05 216.842 2028.48 213.115 Q2031.93 209.365 2037.76 209.365 Q2042.99 209.365 2046.02 212.745 Q2049.08 216.101 2049.08 221.888 M2044.82 220.638 Q2044.77 217.143 2042.85 215.059 Q2040.95 212.976 2037.81 212.976 Q2034.24 212.976 2032.09 214.99 Q2029.96 217.004 2029.63 220.661 L2044.82 220.638 Z\" fill=\"#000000\" fill-rule=\"nonzero\" fill-opacity=\"1\" /><path clip-path=\"url(#clip610)\" d=\"M2072.6 210.754 L2072.6 214.782 Q2070.79 213.856 2068.85 213.393 Q2066.9 212.93 2064.82 212.93 Q2061.65 212.93 2060.05 213.902 Q2058.48 214.874 2058.48 216.819 Q2058.48 218.3 2059.61 219.157 Q2060.74 219.99 2064.17 220.754 L2065.63 221.078 Q2070.17 222.05 2072.06 223.832 Q2073.99 225.592 2073.99 228.763 Q2073.99 232.374 2071.12 234.481 Q2068.27 236.587 2063.27 236.587 Q2061.18 236.587 2058.92 236.17 Q2056.67 235.777 2054.17 234.967 L2054.17 230.569 Q2056.53 231.795 2058.82 232.42 Q2061.12 233.022 2063.36 233.022 Q2066.37 233.022 2067.99 232.004 Q2069.61 230.962 2069.61 229.087 Q2069.61 227.351 2068.43 226.425 Q2067.27 225.499 2063.31 224.643 L2061.83 224.295 Q2057.87 223.462 2056.12 221.749 Q2054.36 220.013 2054.36 217.004 Q2054.36 213.346 2056.95 211.356 Q2059.54 209.365 2064.31 209.365 Q2066.67 209.365 2068.75 209.712 Q2070.84 210.059 2072.6 210.754 Z\" fill=\"#000000\" fill-rule=\"nonzero\" fill-opacity=\"1\" /><path clip-path=\"url(#clip610)\" d=\"M2096.02 201.356 L2100.7 201.356 L2100.7 215.522 L2117.69 215.522 L2117.69 201.356 L2122.36 201.356 L2122.36 235.916 L2117.69 235.916 L2117.69 219.457 L2100.7 219.457 L2100.7 235.916 L2096.02 235.916 L2096.02 201.356 Z\" fill=\"#000000\" fill-rule=\"nonzero\" fill-opacity=\"1\" /><path clip-path=\"url(#clip610)\" d=\"M2136.11 231.981 L2152.43 231.981 L2152.43 235.916 L2130.49 235.916 L2130.49 231.981 Q2133.15 229.226 2137.74 224.596 Q2142.34 219.944 2143.52 218.601 Q2145.77 216.078 2146.65 214.342 Q2147.55 212.583 2147.55 210.893 Q2147.55 208.138 2145.61 206.402 Q2143.68 204.666 2140.58 204.666 Q2138.38 204.666 2135.93 205.43 Q2133.5 206.194 2130.72 207.745 L2130.72 203.022 Q2133.55 201.888 2136 201.309 Q2138.45 200.731 2140.49 200.731 Q2145.86 200.731 2149.05 203.416 Q2152.25 206.101 2152.25 210.592 Q2152.25 212.721 2151.44 214.643 Q2150.65 216.541 2148.55 219.133 Q2147.97 219.805 2144.86 223.022 Q2141.76 226.217 2136.11 231.981 Z\" fill=\"#000000\" fill-rule=\"nonzero\" fill-opacity=\"1\" /><path clip-path=\"url(#clip610)\" d=\"M2172.25 204.434 Q2168.64 204.434 2166.81 207.999 Q2165 211.541 2165 218.67 Q2165 225.777 2166.81 229.342 Q2168.64 232.883 2172.25 232.883 Q2175.88 232.883 2177.69 229.342 Q2179.52 225.777 2179.52 218.67 Q2179.52 211.541 2177.69 207.999 Q2175.88 204.434 2172.25 204.434 M2172.25 200.731 Q2178.06 200.731 2181.11 205.337 Q2184.19 209.92 2184.19 218.67 Q2184.19 227.397 2181.11 232.004 Q2178.06 236.587 2172.25 236.587 Q2166.44 236.587 2163.36 232.004 Q2160.3 227.397 2160.3 218.67 Q2160.3 209.92 2163.36 205.337 Q2166.44 200.731 2172.25 200.731 Z\" fill=\"#000000\" fill-rule=\"nonzero\" fill-opacity=\"1\" /><path clip-path=\"url(#clip610)\" d=\"M1669.4 291.212 L1814.64 291.212 L1814.64 249.74 L1669.4 249.74 L1669.4 291.212  Z\" fill=\"#e26f46\" fill-rule=\"evenodd\" fill-opacity=\"1\"/>\n",
       "<polyline clip-path=\"url(#clip610)\" style=\"stroke:#000000; stroke-linecap:round; stroke-linejoin:round; stroke-width:4; stroke-opacity:1; fill:none\" points=\"1669.4,291.212 1814.64,291.212 1814.64,249.74 1669.4,249.74 1669.4,291.212 \"/>\n",
       "<path clip-path=\"url(#clip610)\" d=\"M1855.24 271.552 Q1856.74 272.061 1858.15 273.728 Q1859.59 275.395 1861.02 278.311 L1865.77 287.756 L1860.75 287.756 L1856.32 278.89 Q1854.61 275.418 1852.99 274.284 Q1851.39 273.149 1848.62 273.149 L1843.52 273.149 L1843.52 287.756 L1838.85 287.756 L1838.85 253.196 L1849.4 253.196 Q1855.33 253.196 1858.25 255.673 Q1861.16 258.149 1861.16 263.149 Q1861.16 266.413 1859.63 268.566 Q1858.13 270.719 1855.24 271.552 M1843.52 257.038 L1843.52 269.307 L1849.4 269.307 Q1852.78 269.307 1854.5 267.756 Q1856.23 266.182 1856.23 263.149 Q1856.23 260.117 1854.5 258.589 Q1852.78 257.038 1849.4 257.038 L1843.52 257.038 Z\" fill=\"#000000\" fill-rule=\"nonzero\" fill-opacity=\"1\" /><path clip-path=\"url(#clip610)\" d=\"M1891.65 273.728 L1891.65 275.811 L1872.07 275.811 Q1872.34 280.209 1874.7 282.524 Q1877.09 284.816 1881.32 284.816 Q1883.78 284.816 1886.07 284.214 Q1888.38 283.612 1890.65 282.409 L1890.65 286.436 Q1888.36 287.408 1885.95 287.918 Q1883.55 288.427 1881.07 288.427 Q1874.87 288.427 1871.23 284.816 Q1867.62 281.205 1867.62 275.047 Q1867.62 268.682 1871.05 264.955 Q1874.5 261.205 1880.33 261.205 Q1885.56 261.205 1888.59 264.585 Q1891.65 267.941 1891.65 273.728 M1887.39 272.478 Q1887.34 268.983 1885.42 266.899 Q1883.52 264.816 1880.38 264.816 Q1876.81 264.816 1874.66 266.83 Q1872.53 268.844 1872.2 272.501 L1887.39 272.478 Z\" fill=\"#000000\" fill-rule=\"nonzero\" fill-opacity=\"1\" /><path clip-path=\"url(#clip610)\" d=\"M1915.17 262.594 L1915.17 266.622 Q1913.36 265.696 1911.42 265.233 Q1909.47 264.77 1907.39 264.77 Q1904.22 264.77 1902.62 265.742 Q1901.05 266.714 1901.05 268.659 Q1901.05 270.14 1902.18 270.997 Q1903.32 271.83 1906.74 272.594 L1908.2 272.918 Q1912.74 273.89 1914.63 275.672 Q1916.56 277.432 1916.56 280.603 Q1916.56 284.214 1913.69 286.321 Q1910.84 288.427 1905.84 288.427 Q1903.75 288.427 1901.49 288.01 Q1899.24 287.617 1896.74 286.807 L1896.74 282.409 Q1899.1 283.635 1901.39 284.26 Q1903.69 284.862 1905.93 284.862 Q1908.94 284.862 1910.56 283.844 Q1912.18 282.802 1912.18 280.927 Q1912.18 279.191 1911 278.265 Q1909.84 277.339 1905.88 276.483 L1904.4 276.135 Q1900.44 275.302 1898.69 273.589 Q1896.93 271.853 1896.93 268.844 Q1896.93 265.186 1899.52 263.196 Q1902.11 261.205 1906.88 261.205 Q1909.24 261.205 1911.32 261.552 Q1913.41 261.899 1915.17 262.594 Z\" fill=\"#000000\" fill-rule=\"nonzero\" fill-opacity=\"1\" /><path clip-path=\"url(#clip610)\" d=\"M1933.38 264.816 Q1929.96 264.816 1927.97 267.501 Q1925.98 270.163 1925.98 274.816 Q1925.98 279.469 1927.94 282.154 Q1929.94 284.816 1933.38 284.816 Q1936.79 284.816 1938.78 282.131 Q1940.77 279.446 1940.77 274.816 Q1940.77 270.21 1938.78 267.524 Q1936.79 264.816 1933.38 264.816 M1933.38 261.205 Q1938.94 261.205 1942.11 264.816 Q1945.28 268.427 1945.28 274.816 Q1945.28 281.182 1942.11 284.816 Q1938.94 288.427 1933.38 288.427 Q1927.81 288.427 1924.63 284.816 Q1921.49 281.182 1921.49 274.816 Q1921.49 268.427 1924.63 264.816 Q1927.81 261.205 1933.38 261.205 Z\" fill=\"#000000\" fill-rule=\"nonzero\" fill-opacity=\"1\" /><path clip-path=\"url(#clip610)\" d=\"M1951.9 277.524 L1951.9 261.83 L1956.16 261.83 L1956.16 277.362 Q1956.16 281.043 1957.6 282.895 Q1959.03 284.723 1961.9 284.723 Q1965.35 284.723 1967.34 282.524 Q1969.36 280.325 1969.36 276.529 L1969.36 261.83 L1973.62 261.83 L1973.62 287.756 L1969.36 287.756 L1969.36 283.774 Q1967.81 286.135 1965.75 287.293 Q1963.71 288.427 1961 288.427 Q1956.53 288.427 1954.22 285.649 Q1951.9 282.871 1951.9 277.524 M1962.62 261.205 L1962.62 261.205 Z\" fill=\"#000000\" fill-rule=\"nonzero\" fill-opacity=\"1\" /><path clip-path=\"url(#clip610)\" d=\"M1997.41 265.811 Q1996.69 265.395 1995.84 265.21 Q1995 265.001 1993.99 265.001 Q1990.37 265.001 1988.43 267.362 Q1986.51 269.7 1986.51 274.098 L1986.51 287.756 L1982.23 287.756 L1982.23 261.83 L1986.51 261.83 L1986.51 265.858 Q1987.85 263.497 1990 262.362 Q1992.16 261.205 1995.24 261.205 Q1995.68 261.205 1996.21 261.274 Q1996.74 261.321 1997.39 261.436 L1997.41 265.811 Z\" fill=\"#000000\" fill-rule=\"nonzero\" fill-opacity=\"1\" /><path clip-path=\"url(#clip610)\" d=\"M2019.5 262.825 L2019.5 266.807 Q2017.69 265.811 2015.86 265.325 Q2014.06 264.816 2012.2 264.816 Q2008.06 264.816 2005.77 267.455 Q2003.48 270.071 2003.48 274.816 Q2003.48 279.561 2005.77 282.2 Q2008.06 284.816 2012.2 284.816 Q2014.06 284.816 2015.86 284.33 Q2017.69 283.821 2019.5 282.825 L2019.5 286.76 Q2017.71 287.594 2015.79 288.01 Q2013.89 288.427 2011.74 288.427 Q2005.88 288.427 2002.43 284.746 Q1998.99 281.066 1998.99 274.816 Q1998.99 268.473 2002.46 264.839 Q2005.95 261.205 2012.02 261.205 Q2013.99 261.205 2015.86 261.622 Q2017.74 262.015 2019.5 262.825 Z\" fill=\"#000000\" fill-rule=\"nonzero\" fill-opacity=\"1\" /><path clip-path=\"url(#clip610)\" d=\"M2049.08 273.728 L2049.08 275.811 L2029.49 275.811 Q2029.77 280.209 2032.13 282.524 Q2034.52 284.816 2038.75 284.816 Q2041.21 284.816 2043.5 284.214 Q2045.81 283.612 2048.08 282.409 L2048.08 286.436 Q2045.79 287.408 2043.38 287.918 Q2040.98 288.427 2038.5 288.427 Q2032.3 288.427 2028.66 284.816 Q2025.05 281.205 2025.05 275.047 Q2025.05 268.682 2028.48 264.955 Q2031.93 261.205 2037.76 261.205 Q2042.99 261.205 2046.02 264.585 Q2049.08 267.941 2049.08 273.728 M2044.82 272.478 Q2044.77 268.983 2042.85 266.899 Q2040.95 264.816 2037.81 264.816 Q2034.24 264.816 2032.09 266.83 Q2029.96 268.844 2029.63 272.501 L2044.82 272.478 Z\" fill=\"#000000\" fill-rule=\"nonzero\" fill-opacity=\"1\" /><path clip-path=\"url(#clip610)\" d=\"M2072.6 262.594 L2072.6 266.622 Q2070.79 265.696 2068.85 265.233 Q2066.9 264.77 2064.82 264.77 Q2061.65 264.77 2060.05 265.742 Q2058.48 266.714 2058.48 268.659 Q2058.48 270.14 2059.61 270.997 Q2060.74 271.83 2064.17 272.594 L2065.63 272.918 Q2070.17 273.89 2072.06 275.672 Q2073.99 277.432 2073.99 280.603 Q2073.99 284.214 2071.12 286.321 Q2068.27 288.427 2063.27 288.427 Q2061.18 288.427 2058.92 288.01 Q2056.67 287.617 2054.17 286.807 L2054.17 282.409 Q2056.53 283.635 2058.82 284.26 Q2061.12 284.862 2063.36 284.862 Q2066.37 284.862 2067.99 283.844 Q2069.61 282.802 2069.61 280.927 Q2069.61 279.191 2068.43 278.265 Q2067.27 277.339 2063.31 276.483 L2061.83 276.135 Q2057.87 275.302 2056.12 273.589 Q2054.36 271.853 2054.36 268.844 Q2054.36 265.186 2056.95 263.196 Q2059.54 261.205 2064.31 261.205 Q2066.67 261.205 2068.75 261.552 Q2070.84 261.899 2072.6 262.594 Z\" fill=\"#000000\" fill-rule=\"nonzero\" fill-opacity=\"1\" /><path clip-path=\"url(#clip610)\" d=\"M2096.02 253.196 L2117.87 253.196 L2117.87 257.131 L2100.7 257.131 L2100.7 267.362 L2117.16 267.362 L2117.16 271.297 L2100.7 271.297 L2100.7 283.821 L2118.29 283.821 L2118.29 287.756 L2096.02 287.756 L2096.02 253.196 Z\" fill=\"#000000\" fill-rule=\"nonzero\" fill-opacity=\"1\" /><path clip-path=\"url(#clip610)\" d=\"M2147.34 272.108 L2147.34 287.756 L2143.08 287.756 L2143.08 272.247 Q2143.08 268.566 2141.65 266.737 Q2140.21 264.909 2137.34 264.909 Q2133.89 264.909 2131.9 267.108 Q2129.91 269.307 2129.91 273.103 L2129.91 287.756 L2125.63 287.756 L2125.63 261.83 L2129.91 261.83 L2129.91 265.858 Q2131.44 263.52 2133.5 262.362 Q2135.58 261.205 2138.29 261.205 Q2142.76 261.205 2145.05 263.983 Q2147.34 266.737 2147.34 272.108 Z\" fill=\"#000000\" fill-rule=\"nonzero\" fill-opacity=\"1\" /><path clip-path=\"url(#clip610)\" d=\"M2178.01 273.728 L2178.01 275.811 L2158.43 275.811 Q2158.71 280.209 2161.07 282.524 Q2163.45 284.816 2167.69 284.816 Q2170.14 284.816 2172.43 284.214 Q2174.75 283.612 2177.02 282.409 L2177.02 286.436 Q2174.73 287.408 2172.32 287.918 Q2169.91 288.427 2167.43 288.427 Q2161.23 288.427 2157.6 284.816 Q2153.99 281.205 2153.99 275.047 Q2153.99 268.682 2157.41 264.955 Q2160.86 261.205 2166.69 261.205 Q2171.92 261.205 2174.96 264.585 Q2178.01 267.941 2178.01 273.728 M2173.75 272.478 Q2173.71 268.983 2171.79 266.899 Q2169.89 264.816 2166.74 264.816 Q2163.17 264.816 2161.02 266.83 Q2158.89 268.844 2158.57 272.501 L2173.75 272.478 Z\" fill=\"#000000\" fill-rule=\"nonzero\" fill-opacity=\"1\" /><path clip-path=\"url(#clip610)\" d=\"M2200.03 265.811 Q2199.31 265.395 2198.45 265.21 Q2197.62 265.001 2196.6 265.001 Q2192.99 265.001 2191.05 267.362 Q2189.12 269.7 2189.12 274.098 L2189.12 287.756 L2184.84 287.756 L2184.84 261.83 L2189.12 261.83 L2189.12 265.858 Q2190.47 263.497 2192.62 262.362 Q2194.77 261.205 2197.85 261.205 Q2198.29 261.205 2198.82 261.274 Q2199.36 261.321 2200 261.436 L2200.03 265.811 Z\" fill=\"#000000\" fill-rule=\"nonzero\" fill-opacity=\"1\" /><path clip-path=\"url(#clip610)\" d=\"M2220.72 274.492 Q2220.72 269.862 2218.8 267.316 Q2216.9 264.77 2213.45 264.77 Q2210.03 264.77 2208.11 267.316 Q2206.21 269.862 2206.21 274.492 Q2206.21 279.098 2208.11 281.645 Q2210.03 284.191 2213.45 284.191 Q2216.9 284.191 2218.8 281.645 Q2220.72 279.098 2220.72 274.492 M2224.98 284.538 Q2224.98 291.158 2222.04 294.376 Q2219.1 297.617 2213.04 297.617 Q2210.79 297.617 2208.8 297.27 Q2206.81 296.945 2204.93 296.251 L2204.93 292.108 Q2206.81 293.126 2208.64 293.612 Q2210.47 294.098 2212.36 294.098 Q2216.55 294.098 2218.64 291.899 Q2220.72 289.723 2220.72 285.302 L2220.72 283.196 Q2219.4 285.487 2217.34 286.621 Q2215.28 287.756 2212.41 287.756 Q2207.64 287.756 2204.73 284.121 Q2201.81 280.487 2201.81 274.492 Q2201.81 268.473 2204.73 264.839 Q2207.64 261.205 2212.41 261.205 Q2215.28 261.205 2217.34 262.339 Q2219.4 263.473 2220.72 265.765 L2220.72 261.83 L2224.98 261.83 L2224.98 284.538 Z\" fill=\"#000000\" fill-rule=\"nonzero\" fill-opacity=\"1\" /><path clip-path=\"url(#clip610)\" d=\"M2244.54 290.163 Q2242.73 294.793 2241.02 296.205 Q2239.31 297.617 2236.44 297.617 L2233.04 297.617 L2233.04 294.052 L2235.54 294.052 Q2237.29 294.052 2238.27 293.219 Q2239.24 292.385 2240.42 289.283 L2241.18 287.339 L2230.7 261.83 L2235.21 261.83 L2243.31 282.108 L2251.42 261.83 L2255.93 261.83 L2244.54 290.163 Z\" fill=\"#000000\" fill-rule=\"nonzero\" fill-opacity=\"1\" /></svg>\n"
      ]
     },
     "metadata": {},
     "output_type": "display_data"
    }
   ],
   "source": [
    "#Resource level histogram\n",
    "p3 = bar(t, [resources_total, resources_E], xlabel=\"Time Steps\", ylabel=\"Resource Accumulation\", label=[\"Resources H20\" \"Resources Energy\"], title = \"Resource Reserves over time\")\n",
    "\n",
    "#savefig(p3, \"Resource Reserves.pdf\")"
   ]
  },
  {
   "cell_type": "code",
   "execution_count": 15,
   "metadata": {},
   "outputs": [
    {
     "ename": "UndefVarError",
     "evalue": "UndefVarError: `rewards` not defined",
     "output_type": "error",
     "traceback": [
      "UndefVarError: `rewards` not defined\n",
      "\n",
      "Stacktrace:\n",
      " [1] top-level scope\n",
      "   @ ~/Documents/SanFran/04_Academics/01_Autumn Quarter 2023/AA228/aa-228-final-project/Simulation_Anna.ipynb:4"
     ]
    }
   ],
   "source": [
    "#Plot Reward accumulation over time\n",
    "layout = @layout [a b] #creates 1x2 subplots\n",
    "\n",
    "p4 = plot(t[1:end-1], rewards[1:end-1], subplot=1, layout=layout,legend=false)\n",
    "plot!(p4, t, rewards_accumulation, subplot=2, legend=false)\n",
    "xlabel!(p4, \"Time Steps\")\n",
    "ylabel!(p4, \"Rewards\", subplot=1)\n",
    "ylabel!(p4, \"Accumulated Rewards\", subplot=2)\n",
    "title!(p4,\"Rewards (except the \\n last time step)\", subplot = 1)\n",
    "title!(p4,\"Accumulated Rewards\", subplot = 2)\n",
    "\n",
    "#savefig(p4, \"Rewards.pdf\")"
   ]
  }
 ],
 "metadata": {
  "kernelspec": {
   "display_name": "Julia 1.9.3",
   "language": "julia",
   "name": "julia-1.9"
  },
  "language_info": {
   "file_extension": ".jl",
   "mimetype": "application/julia",
   "name": "julia",
   "version": "1.9.3"
  }
 },
 "nbformat": 4,
 "nbformat_minor": 2
}
