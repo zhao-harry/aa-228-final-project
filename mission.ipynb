{
 "cells": [
  {
   "cell_type": "code",
   "execution_count": 3,
   "metadata": {},
   "outputs": [
    {
     "name": "stderr",
     "output_type": "stream",
     "text": [
      "WARNING: using POMDPs.transition in module Main conflicts with an existing identifier.\n"
     ]
    }
   ],
   "source": [
    "using POMDPs\n",
    "using POMDPTools\n",
    "using QuickPOMDPs\n",
    "using MCTS\n",
    "using POMDPSimulators\n",
    "using Distributions\n",
    "using LinearAlgebra\n",
    "using D3Trees\n",
    "using Random"
   ]
  },
  {
   "cell_type": "markdown",
   "metadata": {},
   "source": [
    "# Parameters"
   ]
  },
  {
   "cell_type": "code",
   "execution_count": 4,
   "metadata": {},
   "outputs": [
    {
     "data": {
      "text/plain": [
       "9"
      ]
     },
     "metadata": {},
     "output_type": "display_data"
    }
   ],
   "source": [
    "# Dimensions\n",
    "max_progress = 5\n",
    "max_power = 20\n",
    "max_h2o = 20\n",
    "max_o2 = 20\n",
    "max_food = 20\n",
    "\n",
    "# Uncertainties\n",
    "p_mission_regression = 0.05\n",
    "p_power_fail = 0.02\n",
    "p_water_loss = 0.02\n",
    "p_food_loss = 0.02\n",
    "p_no_mission_progress = 0.05\n",
    "\n",
    "# Resource consumption\n",
    "consumed_power = -10 # generated\n",
    "consumed_h2o = 1\n",
    "consumed_o2 = 8\n",
    "consumed_food = 9"
   ]
  },
  {
   "cell_type": "code",
   "execution_count": 5,
   "metadata": {},
   "outputs": [
    {
     "data": {
      "text/plain": [
       "5-element Vector{CartesianIndex{5}}:\n",
       " CartesianIndex(1, 9, -1, -8, -9)\n",
       " CartesianIndex(0, 9, 1, -8, -9)\n",
       " CartesianIndex(0, 8, -2, -7, -9)\n",
       " CartesianIndex(0, 9, -2, -9, -7)\n",
       " CartesianIndex(0, 10, -1, -8, -9)"
      ]
     },
     "metadata": {},
     "output_type": "display_data"
    }
   ],
   "source": [
    "# Define all possible states and actions (with constraints)\n",
    "# [progress, power, h2o, o2, food]\n",
    "indexed = LinearIndices((max_progress, max_power, max_h2o, max_o2, max_food))\n",
    "states = 1:indexed[max_progress, max_power, max_h2o, max_o2, max_food]\n",
    "\n",
    "basic_actions = [\n",
    "      CartesianIndex(1, -1, 0, 0, 0), # make mission progress\n",
    "      CartesianIndex(0, -1, 2, 0, 0), # make water \n",
    "      CartesianIndex(0, -2, -1, 1, 0), # make oxygen\n",
    "      CartesianIndex(0, -1, -1, -1, 2), # make food\n",
    "      CartesianIndex(0, 0, 0, 0, 0)\n",
    "] # do nothing\n",
    "consumed = CartesianIndex(0, consumed_power, consumed_h2o, consumed_o2, consumed_food)\n",
    "actions = [action - consumed for action in basic_actions]\n",
    "\n"
   ]
  },
  {
   "cell_type": "code",
   "execution_count": 15,
   "metadata": {},
   "outputs": [
    {
     "data": {
      "text/plain": [
       "outofbounds (generic function with 1 method)"
      ]
     },
     "metadata": {},
     "output_type": "display_data"
    }
   ],
   "source": [
    "# Determine if action is out of bounds\n",
    "# Associated consequences are reflected in transition/reward functions\n",
    "state_maxes = [max_progress, max_power, max_h2o, max_o2, max_food]\n",
    "function outofbounds(state, action)\n",
    "    for i in 1:length(state)\n",
    "        if ((state[i] + action[i]) < 1 || (state[i] + action[i]) > state_maxes[i])\n",
    "            return true\n",
    "        end\n",
    "    end\n",
    "    return false\n",
    "end"
   ]
  },
  {
   "cell_type": "code",
   "execution_count": 21,
   "metadata": {},
   "outputs": [
    {
     "data": {
      "text/plain": [
       "clamp_state (generic function with 1 method)"
      ]
     },
     "metadata": {},
     "output_type": "display_data"
    }
   ],
   "source": [
    "# Determine if action is out of bounds\n",
    "# Associated consequences are reflected in transition/reward functions\n",
    "state_maxes = [max_progress, max_power, max_h2o, max_o2, max_food]\n",
    "function clamp_state(state)\n",
    "    for i in 1:length(state)\n",
    "        state[i] = clamp(state[i], 1, state_maxes[i])\n",
    "    end\n",
    "    return state\n",
    "end"
   ]
  },
  {
   "cell_type": "code",
   "execution_count": 24,
   "metadata": {},
   "outputs": [
    {
     "data": {
      "text/plain": [
       "transition (generic function with 1 method)"
      ]
     },
     "metadata": {},
     "output_type": "display_data"
    }
   ],
   "source": [
    "        #thought: when we make no mission progress or lose water - we would still consume/produce energy??\n",
    "\n",
    "# Transition function\n",
    "function transition(s, a)\n",
    "    p_nominal = 1 - p_no_mission_progress - p_water_loss - p_power_fail - p_mission_regression \n",
    "    probabilities = [p_no_mission_progress, p_water_loss, p_power_fail, p_mission_regression, p_nominal]\n",
    "\n",
    "    svec = CartesianIndices((max_progress, max_power, max_h2o, max_o2, max_food))[s]\n",
    "    svec = collect(Tuple(svec))\n",
    "    a = collect(Tuple(a))\n",
    "\n",
    "    if outofbounds(svec, a)\n",
    "        return [[s], [1]]\n",
    "    else\n",
    "        spvec_no_mission_progress = svec\n",
    "\n",
    "        spvec_water_loss = svec + a\n",
    "        spvec_water_loss[3] = 1 # lose all water\n",
    "\n",
    "        spvec_power_fail = svec + a\n",
    "        spvec_power_fail[2] = 1 # lose all energy\n",
    "\n",
    "        spvec_mission_regression = svec + a\n",
    "        spvec_mission_regression[1] = spvec_mission_regression[1] - 1 # mission setback\n",
    "\n",
    "        spvec_nominal = svec + a\n",
    "\n",
    "        spvec = [spvec_no_mission_progress, spvec_water_loss, spvec_power_fail, spvec_mission_regression, spvec_nominal]\n",
    "    end\n",
    "    \n",
    "\n",
    "    for i in 1:length(probabilities)\n",
    "        spvec[i] = clamp_state(spvec[i])\n",
    "        spvec[i] = CartesianIndex(Tuple(spvec[i]))\n",
    "        sp[i] = indexed[spvec[i]]\n",
    "    end\n",
    "\n",
    "    return [sp, probabilities]\n",
    "    \n",
    "end\n"
   ]
  },
  {
   "cell_type": "code",
   "execution_count": 25,
   "metadata": {},
   "outputs": [
    {
     "data": {
      "text/plain": [
       "QuickMDP{UUID(\"bf9ba5a4-cf42-41e2-bc58-fe6b91e292d0\"), Int64, CartesianIndex{5}, NamedTuple{(:stateindex, :isterminal, :actionindex, :initialstate, :transition, :states, :actions, :discount, :reward), Tuple{Dict{Int64, Int64}, var\"#37#40\", Dict{CartesianIndex{5}, Int64}, Deterministic{Int64}, var\"#38#41\", UnitRange{Int64}, Vector{CartesianIndex{5}}, Float64, var\"#39#42\"}}}((stateindex = Dict(185983 => 185983, 221120 => 221120, 371966 => 371966, 92533 => 92533, 395569 => 395569, 76914 => 76914, 437164 => 437164, 37100 => 37100, 173643 => 173643, 300190 => 300190…), isterminal = var\"#37#40\"(), actionindex = Dict{CartesianIndex{5}, Int64}(CartesianIndex(0, 9, 1, -8, -9) => 2, CartesianIndex(1, 9, -1, -8, -9) => 1, CartesianIndex(0, 8, -2, -7, -9) => 3, CartesianIndex(0, 9, -2, -9, -7) => 4, CartesianIndex(0, 10, -1, -8, -9) => 5), initialstate = Deterministic{Int64}(479998), transition = var\"#38#41\"(), states = 1:480000, actions = CartesianIndex{5}[CartesianIndex(1, 9, -1, -8, -9), CartesianIndex(0, 9, 1, -8, -9), CartesianIndex(0, 8, -2, -7, -9), CartesianIndex(0, 9, -2, -9, -7), CartesianIndex(0, 10, -1, -8, -9)], discount = 0.95, reward = var\"#39#42\"()))"
      ]
     },
     "metadata": {},
     "output_type": "display_data"
    }
   ],
   "source": [
    "initialindex = indexed[1, 20, 20, 20, 20]\n",
    "initialstate = Deterministic(initialindex)\n",
    "\n",
    "mission = QuickMDP(\n",
    "    states = states,\n",
    "    actions = actions,\n",
    "    initialstate = initialstate,\n",
    "    discount = 0.95,\n",
    "    isterminal = s -> CartesianIndices((max_progress, max_power, max_h2o, max_o2, max_food))[s][1] == max_progress,\n",
    "\n",
    "    transition = function(s,a)\n",
    "        T = transition(s,a)\n",
    "        dist = SparseCat(T[1], T[2])\n",
    "        return dist\n",
    "    end,\n",
    "\n",
    "    reward = function (s, a)\n",
    "        svec = CartesianIndices((max_progress, max_power, max_h2o, max_o2, max_food))[s]\n",
    "        spvec = svec + a\n",
    "        if spvec[1] == max_progress\n",
    "            r = 1000\n",
    "        elseif outofbounds(svec, a) # If invalid action\n",
    "            r = -1e9\n",
    "        else\n",
    "            r = -1\n",
    "        end\n",
    "        return r\n",
    "    end\n",
    ")"
   ]
  },
  {
   "cell_type": "code",
   "execution_count": 26,
   "metadata": {},
   "outputs": [
    {
     "data": {
      "text/plain": [
       "MCTSPlanner{QuickMDP{UUID(\"bf9ba5a4-cf42-41e2-bc58-fe6b91e292d0\"), Int64, CartesianIndex{5}, NamedTuple{(:stateindex, :isterminal, :actionindex, :initialstate, :transition, :states, :actions, :discount, :reward), Tuple{Dict{Int64, Int64}, var\"#37#40\", Dict{CartesianIndex{5}, Int64}, Deterministic{Int64}, var\"#38#41\", UnitRange{Int64}, Vector{CartesianIndex{5}}, Float64, var\"#39#42\"}}}, Int64, CartesianIndex{5}, MCTS.SolvedRolloutEstimator{RandomPolicy{Random._GLOBAL_RNG, QuickMDP{UUID(\"bf9ba5a4-cf42-41e2-bc58-fe6b91e292d0\"), Int64, CartesianIndex{5}, NamedTuple{(:stateindex, :isterminal, :actionindex, :initialstate, :transition, :states, :actions, :discount, :reward), Tuple{Dict{Int64, Int64}, var\"#37#40\", Dict{CartesianIndex{5}, Int64}, Deterministic{Int64}, var\"#38#41\", UnitRange{Int64}, Vector{CartesianIndex{5}}, Float64, var\"#39#42\"}}}, NothingUpdater}, Random._GLOBAL_RNG}, Random._GLOBAL_RNG}(MCTSSolver(100000, Inf, 10, 5.0, Random._GLOBAL_RNG(), RolloutEstimator(RandomSolver(Random._GLOBAL_RNG()), 50, 0.0), 0.0, 0, false, true, MCTS.var\"#5#7\"()), QuickMDP{UUID(\"bf9ba5a4-cf42-41e2-bc58-fe6b91e292d0\"), Int64, CartesianIndex{5}, NamedTuple{(:stateindex, :isterminal, :actionindex, :initialstate, :transition, :states, :actions, :discount, :reward), Tuple{Dict{Int64, Int64}, var\"#37#40\", Dict{CartesianIndex{5}, Int64}, Deterministic{Int64}, var\"#38#41\", UnitRange{Int64}, Vector{CartesianIndex{5}}, Float64, var\"#39#42\"}}}((stateindex = Dict(185983 => 185983, 221120 => 221120, 371966 => 371966, 92533 => 92533, 395569 => 395569, 76914 => 76914, 437164 => 437164, 37100 => 37100, 173643 => 173643, 300190 => 300190…), isterminal = var\"#37#40\"(), actionindex = Dict{CartesianIndex{5}, Int64}(CartesianIndex(0, 9, 1, -8, -9) => 2, CartesianIndex(1, 9, -1, -8, -9) => 1, CartesianIndex(0, 8, -2, -7, -9) => 3, CartesianIndex(0, 9, -2, -9, -7) => 4, CartesianIndex(0, 10, -1, -8, -9) => 5), initialstate = Deterministic{Int64}(479998), transition = var\"#38#41\"(), states = 1:480000, actions = CartesianIndex{5}[CartesianIndex(1, 9, -1, -8, -9), CartesianIndex(0, 9, 1, -8, -9), CartesianIndex(0, 8, -2, -7, -9), CartesianIndex(0, 9, -2, -9, -7), CartesianIndex(0, 10, -1, -8, -9)], discount = 0.95, reward = var\"#39#42\"())), MCTS.MCTSTree{Int64, CartesianIndex{5}}(Dict{Int64, Int64}(), Vector{Int64}[], Int64[], Int64[], Int64[], Float64[], CartesianIndex{5}[], Dict{Pair{Int64, Int64}, Int64}()), MCTS.SolvedRolloutEstimator{RandomPolicy{Random._GLOBAL_RNG, QuickMDP{UUID(\"bf9ba5a4-cf42-41e2-bc58-fe6b91e292d0\"), Int64, CartesianIndex{5}, NamedTuple{(:stateindex, :isterminal, :actionindex, :initialstate, :transition, :states, :actions, :discount, :reward), Tuple{Dict{Int64, Int64}, var\"#37#40\", Dict{CartesianIndex{5}, Int64}, Deterministic{Int64}, var\"#38#41\", UnitRange{Int64}, Vector{CartesianIndex{5}}, Float64, var\"#39#42\"}}}, NothingUpdater}, Random._GLOBAL_RNG}(RandomPolicy{Random._GLOBAL_RNG, QuickMDP{UUID(\"bf9ba5a4-cf42-41e2-bc58-fe6b91e292d0\"), Int64, CartesianIndex{5}, NamedTuple{(:stateindex, :isterminal, :actionindex, :initialstate, :transition, :states, :actions, :discount, :reward), Tuple{Dict{Int64, Int64}, var\"#37#40\", Dict{CartesianIndex{5}, Int64}, Deterministic{Int64}, var\"#38#41\", UnitRange{Int64}, Vector{CartesianIndex{5}}, Float64, var\"#39#42\"}}}, NothingUpdater}(Random._GLOBAL_RNG(), QuickMDP{UUID(\"bf9ba5a4-cf42-41e2-bc58-fe6b91e292d0\"), Int64, CartesianIndex{5}, NamedTuple{(:stateindex, :isterminal, :actionindex, :initialstate, :transition, :states, :actions, :discount, :reward), Tuple{Dict{Int64, Int64}, var\"#37#40\", Dict{CartesianIndex{5}, Int64}, Deterministic{Int64}, var\"#38#41\", UnitRange{Int64}, Vector{CartesianIndex{5}}, Float64, var\"#39#42\"}}}((stateindex = Dict(185983 => 185983, 221120 => 221120, 371966 => 371966, 92533 => 92533, 395569 => 395569, 76914 => 76914, 437164 => 437164, 37100 => 37100, 173643 => 173643, 300190 => 300190…), isterminal = var\"#37#40\"(), actionindex = Dict{CartesianIndex{5}, Int64}(CartesianIndex(0, 9, 1, -8, -9) => 2, CartesianIndex(1, 9, -1, -8, -9) => 1, CartesianIndex(0, 8, -2, -7, -9) => 3, CartesianIndex(0, 9, -2, -9, -7) => 4, CartesianIndex(0, 10, -1, -8, -9) => 5), initialstate = Deterministic{Int64}(479998), transition = var\"#38#41\"(), states = 1:480000, actions = CartesianIndex{5}[CartesianIndex(1, 9, -1, -8, -9), CartesianIndex(0, 9, 1, -8, -9), CartesianIndex(0, 8, -2, -7, -9), CartesianIndex(0, 9, -2, -9, -7), CartesianIndex(0, 10, -1, -8, -9)], discount = 0.95, reward = var\"#39#42\"())), NothingUpdater()), Random._GLOBAL_RNG(), 50, 0.0), Random._GLOBAL_RNG())"
      ]
     },
     "metadata": {},
     "output_type": "display_data"
    }
   ],
   "source": [
    "solver = MCTSSolver(n_iterations=100000, depth=10, exploration_constant=5.0, enable_tree_vis=true)\n",
    "policy = solve(solver, mission)"
   ]
  },
  {
   "cell_type": "code",
   "execution_count": 30,
   "metadata": {},
   "outputs": [],
   "source": [
    "# Initial_state = initialstate(1)\n",
    "sim  = RolloutSimulator()\n",
    "\n",
    "# Print the resulting history\n",
    "r = simulate(sim, mission, policy)"
   ]
  },
  {
   "cell_type": "code",
   "execution_count": 27,
   "metadata": {},
   "outputs": [
    {
     "ename": "MethodError",
     "evalue": "MethodError: no method matching getindex(::Deterministic{Int64}, ::Int64)",
     "output_type": "error",
     "traceback": [
      "MethodError: no method matching getindex(::Deterministic{Int64}, ::Int64)\n",
      "\n",
      "Stacktrace:\n",
      "  [1] (::var\"#38#41\")(s::Int64, a::CartesianIndex{5})\n",
      "    @ Main ~/Documents/SanFran/04_Academics/01_Autumn Quarter 2023/AA228/aa-228-final-project/mission.ipynb:13\n",
      "  [2] transition\n",
      "    @ ~/.julia/packages/QuickPOMDPs/SNkbc/src/quick.jl:217 [inlined]\n",
      "  [3] macro expansion\n",
      "    @ ~/.julia/packages/POMDPs/0qEIe/src/gen_impl.jl:39 [inlined]\n",
      "  [4] genout(v::DDNOut{(:sp, :r)}, m::QuickMDP{UUID(\"bf9ba5a4-cf42-41e2-bc58-fe6b91e292d0\"), Int64, CartesianIndex{5}, NamedTuple{(:stateindex, :isterminal, :actionindex, :initialstate, :transition, :states, :actions, :discount, :reward), Tuple{Dict{Int64, Int64}, var\"#37#40\", Dict{CartesianIndex{5}, Int64}, Deterministic{Int64}, var\"#38#41\", UnitRange{Int64}, Vector{CartesianIndex{5}}, Float64, var\"#39#42\"}}}, s::Int64, a::CartesianIndex{5}, rng::Random._GLOBAL_RNG)\n",
      "    @ POMDPs ~/.julia/packages/POMDPs/0qEIe/src/gen_impl.jl:19\n",
      "  [5] #87#f\n",
      "    @ ~/.julia/packages/POMDPs/0qEIe/src/generative.jl:67 [inlined]\n",
      "  [6] simulate(planner::MCTSPlanner{QuickMDP{UUID(\"bf9ba5a4-cf42-41e2-bc58-fe6b91e292d0\"), Int64, CartesianIndex{5}, NamedTuple{(:stateindex, :isterminal, :actionindex, :initialstate, :transition, :states, :actions, :discount, :reward), Tuple{Dict{Int64, Int64}, var\"#37#40\", Dict{CartesianIndex{5}, Int64}, Deterministic{Int64}, var\"#38#41\", UnitRange{Int64}, Vector{CartesianIndex{5}}, Float64, var\"#39#42\"}}}, Int64, CartesianIndex{5}, MCTS.SolvedRolloutEstimator{RandomPolicy{Random._GLOBAL_RNG, QuickMDP{UUID(\"bf9ba5a4-cf42-41e2-bc58-fe6b91e292d0\"), Int64, CartesianIndex{5}, NamedTuple{(:stateindex, :isterminal, :actionindex, :initialstate, :transition, :states, :actions, :discount, :reward), Tuple{Dict{Int64, Int64}, var\"#37#40\", Dict{CartesianIndex{5}, Int64}, Deterministic{Int64}, var\"#38#41\", UnitRange{Int64}, Vector{CartesianIndex{5}}, Float64, var\"#39#42\"}}}, NothingUpdater}, Random._GLOBAL_RNG}, Random._GLOBAL_RNG}, node::StateNode{Int64, CartesianIndex{5}}, depth::Int64)\n",
      "    @ MCTS ~/.julia/packages/MCTS/AjLdf/src/vanilla.jl:287\n",
      "  [7] build_tree(planner::MCTSPlanner{QuickMDP{UUID(\"bf9ba5a4-cf42-41e2-bc58-fe6b91e292d0\"), Int64, CartesianIndex{5}, NamedTuple{(:stateindex, :isterminal, :actionindex, :initialstate, :transition, :states, :actions, :discount, :reward), Tuple{Dict{Int64, Int64}, var\"#37#40\", Dict{CartesianIndex{5}, Int64}, Deterministic{Int64}, var\"#38#41\", UnitRange{Int64}, Vector{CartesianIndex{5}}, Float64, var\"#39#42\"}}}, Int64, CartesianIndex{5}, MCTS.SolvedRolloutEstimator{RandomPolicy{Random._GLOBAL_RNG, QuickMDP{UUID(\"bf9ba5a4-cf42-41e2-bc58-fe6b91e292d0\"), Int64, CartesianIndex{5}, NamedTuple{(:stateindex, :isterminal, :actionindex, :initialstate, :transition, :states, :actions, :discount, :reward), Tuple{Dict{Int64, Int64}, var\"#37#40\", Dict{CartesianIndex{5}, Int64}, Deterministic{Int64}, var\"#38#41\", UnitRange{Int64}, Vector{CartesianIndex{5}}, Float64, var\"#39#42\"}}}, NothingUpdater}, Random._GLOBAL_RNG}, Random._GLOBAL_RNG}, s::Int64)\n",
      "    @ MCTS ~/.julia/packages/MCTS/AjLdf/src/vanilla.jl:260\n",
      "  [8] plan!\n",
      "    @ ~/.julia/packages/MCTS/AjLdf/src/vanilla.jl:234 [inlined]\n",
      "  [9] action_info(p::MCTSPlanner{QuickMDP{UUID(\"bf9ba5a4-cf42-41e2-bc58-fe6b91e292d0\"), Int64, CartesianIndex{5}, NamedTuple{(:stateindex, :isterminal, :actionindex, :initialstate, :transition, :states, :actions, :discount, :reward), Tuple{Dict{Int64, Int64}, var\"#37#40\", Dict{CartesianIndex{5}, Int64}, Deterministic{Int64}, var\"#38#41\", UnitRange{Int64}, Vector{CartesianIndex{5}}, Float64, var\"#39#42\"}}}, Int64, CartesianIndex{5}, MCTS.SolvedRolloutEstimator{RandomPolicy{Random._GLOBAL_RNG, QuickMDP{UUID(\"bf9ba5a4-cf42-41e2-bc58-fe6b91e292d0\"), Int64, CartesianIndex{5}, NamedTuple{(:stateindex, :isterminal, :actionindex, :initialstate, :transition, :states, :actions, :discount, :reward), Tuple{Dict{Int64, Int64}, var\"#37#40\", Dict{CartesianIndex{5}, Int64}, Deterministic{Int64}, var\"#38#41\", UnitRange{Int64}, Vector{CartesianIndex{5}}, Float64, var\"#39#42\"}}}, NothingUpdater}, Random._GLOBAL_RNG}, Random._GLOBAL_RNG}, s::Int64)\n",
      "    @ MCTS ~/.julia/packages/MCTS/AjLdf/src/vanilla.jl:189\n",
      " [10] action(p::MCTSPlanner{QuickMDP{UUID(\"bf9ba5a4-cf42-41e2-bc58-fe6b91e292d0\"), Int64, CartesianIndex{5}, NamedTuple{(:stateindex, :isterminal, :actionindex, :initialstate, :transition, :states, :actions, :discount, :reward), Tuple{Dict{Int64, Int64}, var\"#37#40\", Dict{CartesianIndex{5}, Int64}, Deterministic{Int64}, var\"#38#41\", UnitRange{Int64}, Vector{CartesianIndex{5}}, Float64, var\"#39#42\"}}}, Int64, CartesianIndex{5}, MCTS.SolvedRolloutEstimator{RandomPolicy{Random._GLOBAL_RNG, QuickMDP{UUID(\"bf9ba5a4-cf42-41e2-bc58-fe6b91e292d0\"), Int64, CartesianIndex{5}, NamedTuple{(:stateindex, :isterminal, :actionindex, :initialstate, :transition, :states, :actions, :discount, :reward), Tuple{Dict{Int64, Int64}, var\"#37#40\", Dict{CartesianIndex{5}, Int64}, Deterministic{Int64}, var\"#38#41\", UnitRange{Int64}, Vector{CartesianIndex{5}}, Float64, var\"#39#42\"}}}, NothingUpdater}, Random._GLOBAL_RNG}, Random._GLOBAL_RNG}, s::Int64)\n",
      "    @ MCTS ~/.julia/packages/MCTS/AjLdf/src/vanilla.jl:194\n",
      " [11] top-level scope\n",
      "    @ ~/Documents/SanFran/04_Academics/01_Autumn Quarter 2023/AA228/aa-228-final-project/mission.ipynb:3"
     ]
    }
   ],
   "source": [
    "\n",
    "state = indexed[1, 20, 20, 20, 20] #initialstate(mission)\n",
    "a = action(policy, state)\n",
    "a, info = action_info(policy, state)\n",
    "D3Tree(info[:tree], init_expand=2) # click on the node to expand it"
   ]
  },
  {
   "cell_type": "code",
   "execution_count": null,
   "metadata": {},
   "outputs": [],
   "source": [
    "#for i in 1:length(states)\n",
    "    #s = CartesianIndices((max_progress, max_power, max_h2o, max_o2, max_food))[i] \n",
    "   # a = action(policy, i)\n",
    "    #if rand() < 0.1\n",
    "    #    println(i)\n",
    "    #    println(a + consumed)\n",
    "    #end\n",
    "#end"
   ]
  }
 ],
 "metadata": {
  "kernelspec": {
   "display_name": "Julia 1.9.3",
   "language": "julia",
   "name": "julia-1.9"
  },
  "language_info": {
   "file_extension": ".jl",
   "mimetype": "application/julia",
   "name": "julia",
   "version": "1.9.3"
  }
 },
 "nbformat": 4,
 "nbformat_minor": 2
}
