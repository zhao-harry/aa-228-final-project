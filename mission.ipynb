{
 "cells": [
  {
   "cell_type": "code",
   "execution_count": 1,
   "metadata": {},
   "outputs": [],
   "source": [
    "using POMDPs\n",
    "using POMDPTools\n",
    "using QuickPOMDPs\n",
    "using MCTS\n",
    "using POMDPSimulators\n",
    "using Distributions\n",
    "using LinearAlgebra\n",
    "# using D3Trees\n",
    "using Random"
   ]
  },
  {
   "cell_type": "markdown",
   "metadata": {},
   "source": [
    "# Parameters"
   ]
  },
  {
   "cell_type": "code",
   "execution_count": 2,
   "metadata": {},
   "outputs": [
    {
     "data": {
      "text/plain": [
       "1"
      ]
     },
     "metadata": {},
     "output_type": "display_data"
    }
   ],
   "source": [
    "# Dimensions\n",
    "max_progress = 5\n",
    "max_power = 50\n",
    "max_h2o = 50\n",
    "max_o2 = 50\n",
    "max_food = 50\n",
    "\n",
    "# Uncertainties\n",
    "p_mission_regression = 0.05\n",
    "p_power_fail = 0.02\n",
    "p_water_loss = 0.02\n",
    "p_food_loss = 0.02\n",
    "p_no_mission_progress = 0.05\n",
    "\n",
    "# Resource consumption\n",
    "consumed_power = -2 # generated\n",
    "consumed_h2o = 1\n",
    "consumed_o2 = 1\n",
    "consumed_food = 1"
   ]
  },
  {
   "cell_type": "code",
   "execution_count": 3,
   "metadata": {},
   "outputs": [
    {
     "data": {
      "text/plain": [
       "5-element Vector{CartesianIndex{5}}:\n",
       " CartesianIndex(1, -1, -1, -1, -1)\n",
       " CartesianIndex(0, 0, 4, -1, -1)\n",
       " CartesianIndex(0, 0, -2, 4, -1)\n",
       " CartesianIndex(0, 0, -2, -2, 4)\n",
       " CartesianIndex(0, 2, -1, -1, -1)"
      ]
     },
     "metadata": {},
     "output_type": "display_data"
    }
   ],
   "source": [
    "# Define all possible states and actions (with constraints)\n",
    "# [progress, power, h2o, o2, food]\n",
    "indexed = LinearIndices((max_progress, max_power, max_h2o, max_o2, max_food))\n",
    "states = 1:indexed[max_progress, max_power, max_h2o, max_o2, max_food]\n",
    "\n",
    "basic_actions = [\n",
    "      CartesianIndex(1, -3, 0, 0, 0), # make mission progress\n",
    "      CartesianIndex(0, -2, 5, 0, 0), # make water \n",
    "      CartesianIndex(0, -2, -1, 5, 0), # make oxygen\n",
    "      CartesianIndex(0, -2, -1, -1, 5), # make food\n",
    "      CartesianIndex(0, 0, 0, 0, 0) # do nothing\n",
    "] \n",
    "consumed = CartesianIndex(0, consumed_power, consumed_h2o, consumed_o2, consumed_food)\n",
    "actions = [action - consumed for action in basic_actions]"
   ]
  },
  {
   "cell_type": "code",
   "execution_count": 4,
   "metadata": {},
   "outputs": [
    {
     "data": {
      "text/plain": [
       "clamp_state (generic function with 1 method)"
      ]
     },
     "metadata": {},
     "output_type": "display_data"
    }
   ],
   "source": [
    "# Determine if action is out of bounds\n",
    "# Associated consequences are reflected in transition/reward functions\n",
    "state_maxes = [max_progress, max_power, max_h2o, max_o2, max_food]\n",
    "function inbounds(state, action)\n",
    "    for i in 1:length(state)\n",
    "        if ((state[i] + action[i]) < 1 || (state[i] + action[i]) > state_maxes[i])\n",
    "            return false\n",
    "        end\n",
    "    end\n",
    "    return true\n",
    "end\n",
    "\n",
    "function clamp_state(state)\n",
    "    for i in 1:length(state)\n",
    "        state[i] = clamp(state[i], 1, state_maxes[i])\n",
    "    end\n",
    "    return state\n",
    "end"
   ]
  },
  {
   "cell_type": "code",
   "execution_count": 5,
   "metadata": {},
   "outputs": [
    {
     "data": {
      "text/plain": [
       "reward (generic function with 1 method)"
      ]
     },
     "metadata": {},
     "output_type": "display_data"
    }
   ],
   "source": [
    "# Is terminal?\n",
    "function isterminal(s)\n",
    "    return CartesianIndices((max_progress, max_power, max_h2o, max_o2, max_food))[s][1] == max_progress\n",
    "end\n",
    "\n",
    "# Transition function\n",
    "function transition(s, a)\n",
    "    p_nominal = 1 - p_no_mission_progress - p_water_loss - p_power_fail - p_mission_regression \n",
    "    p = [p_no_mission_progress, p_water_loss, p_power_fail, p_mission_regression, p_nominal]\n",
    "\n",
    "    svec = CartesianIndices((max_progress, max_power, max_h2o, max_o2, max_food))[s]\n",
    "    svec = collect(Tuple(svec))\n",
    "    a = collect(Tuple(a))\n",
    "    if !inbounds(svec, a)\n",
    "        return SparseCat([s,], [1,])\n",
    "    else\n",
    "        spvec_no_mission_progress = svec\n",
    "\n",
    "        spvec_water_loss = svec + a\n",
    "        spvec_water_loss[3] = 1 # lose all water\n",
    "\n",
    "        spvec_power_fail = svec + a\n",
    "        spvec_power_fail[2] = 1 # lose all energy\n",
    "\n",
    "        spvec_mission_regression = svec + a\n",
    "        spvec_mission_regression[1] = spvec_mission_regression[1] - 1 # mission setback\n",
    "\n",
    "        spvec_nominal = svec + a\n",
    "\n",
    "        spvec = [spvec_no_mission_progress, spvec_water_loss, spvec_power_fail, spvec_mission_regression, spvec_nominal]\n",
    "    end\n",
    "    \n",
    "    sp = []\n",
    "    for i in 1:length(p)\n",
    "        push!(sp, indexed[CartesianIndex(Tuple(clamp_state(spvec[i])))])\n",
    "    end\n",
    "    return SparseCat(sp, p)\n",
    "    \n",
    "end\n",
    "\n",
    "# Reward function\n",
    "function reward(s, a)\n",
    "    svec = CartesianIndices((max_progress, max_power, max_h2o, max_o2, max_food))[s]\n",
    "    spvec = svec + a\n",
    "    if spvec[1] == max_progress\n",
    "        r = 1000\n",
    "    elseif !inbounds(svec, a) # If invalid action\n",
    "        r = -1e9\n",
    "    else\n",
    "        r = -1\n",
    "    end\n",
    "    return r\n",
    "end"
   ]
  },
  {
   "cell_type": "code",
   "execution_count": 6,
   "metadata": {},
   "outputs": [
    {
     "data": {
      "text/plain": [
       "generate_mdp (generic function with 7 methods)"
      ]
     },
     "metadata": {},
     "output_type": "display_data"
    }
   ],
   "source": [
    "function generate_mdp(initialstate, states=states, actions=actions, discount=0.95, isterminal=isterminal, transition=transition, reward=reward)\n",
    "    return QuickMDP(\n",
    "        states = states,\n",
    "        actions = actions,\n",
    "        initialstate = initialstate,\n",
    "        discount = discount,\n",
    "        isterminal = isterminal,\n",
    "        transition = transition,\n",
    "        reward = reward\n",
    "    )\n",
    "end"
   ]
  },
  {
   "cell_type": "code",
   "execution_count": 8,
   "metadata": {},
   "outputs": [
    {
     "data": {
      "text/plain": [
       "MCTSSolver(20, Inf, 10, 5.0, Random._GLOBAL_RNG(), RolloutEstimator(RandomSolver(Random._GLOBAL_RNG()), 50, 0.0), 0.0, 0, false, true, MCTS.var\"#5#7\"())"
      ]
     },
     "metadata": {},
     "output_type": "display_data"
    }
   ],
   "source": [
    "solver = MCTSSolver(n_iterations=20, depth=10, exploration_constant=5.0, enable_tree_vis=true)"
   ]
  },
  {
   "cell_type": "code",
   "execution_count": 17,
   "metadata": {},
   "outputs": [
    {
     "data": {
      "text/plain": [
       "rollout_policy (generic function with 1 method)"
      ]
     },
     "metadata": {},
     "output_type": "display_data"
    }
   ],
   "source": [
    "function simulate_mcts(initialstate, iter, rollout_iter, depth, replan_interval)\n",
    "\n",
    "    s = initialstate\n",
    "    policy = rollout_policy(s, rollout_iter, depth)\n",
    "\n",
    "    for i in 1:iter\n",
    "\n",
    "        if isterminal(s)\n",
    "            break\n",
    "        end\n",
    "\n",
    "        if i % replan_interval == 0 # Replan\n",
    "            rolloutstate = s\n",
    "            policy = rollout_policy(s, rollout_iter, depth)\n",
    "        end\n",
    "\n",
    "        a = action(policy, s)\n",
    "        T = transition(s, a)\n",
    "        s = rand(T)\n",
    "        display(s)\n",
    "\n",
    "    end\n",
    "\n",
    "end\n",
    "\n",
    "function rollout_policy(state, rollout_iter, depth)\n",
    "    mdp = generate_mdp(state)\n",
    "    solver = MCTSSolver(n_iterations=rollout_iter, depth=depth, exploration_constant=5.0, enable_tree_vis=true)\n",
    "    policy = solve(solver, mdp)\n",
    "    return policy\n",
    "end"
   ]
  },
  {
   "cell_type": "code",
   "execution_count": 15,
   "metadata": {},
   "outputs": [
    {
     "data": {
      "text/plain": [
       "8928571"
      ]
     },
     "metadata": {},
     "output_type": "display_data"
    }
   ],
   "source": [
    "initialstate = indexed[1, 15, 15, 15, 15]"
   ]
  },
  {
   "cell_type": "code",
   "execution_count": 18,
   "metadata": {},
   "outputs": [
    {
     "data": {
      "text/plain": [
       "8292071"
      ]
     },
     "metadata": {},
     "output_type": "display_data"
    },
    {
     "data": {
      "text/plain": [
       "7654317"
      ]
     },
     "metadata": {},
     "output_type": "display_data"
    },
    {
     "data": {
      "text/plain": [
       "7016563"
      ]
     },
     "metadata": {},
     "output_type": "display_data"
    },
    {
     "data": {
      "text/plain": [
       "6378809"
      ]
     },
     "metadata": {},
     "output_type": "display_data"
    },
    {
     "data": {
      "text/plain": [
       "5741055"
      ]
     },
     "metadata": {},
     "output_type": "display_data"
    }
   ],
   "source": [
    "simulate_mcts(initialstate, 10, 1000, 10, 2)"
   ]
  },
  {
   "cell_type": "markdown",
   "metadata": {},
   "source": [
    "# ---"
   ]
  }
 ],
 "metadata": {
  "kernelspec": {
   "display_name": "Julia 1.9.3",
   "language": "julia",
   "name": "julia-1.9"
  },
  "language_info": {
   "file_extension": ".jl",
   "mimetype": "application/julia",
   "name": "julia",
   "version": "1.9.3"
  }
 },
 "nbformat": 4,
 "nbformat_minor": 2
}
