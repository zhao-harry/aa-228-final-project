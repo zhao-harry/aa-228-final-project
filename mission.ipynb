{
 "cells": [
  {
   "cell_type": "code",
   "execution_count": null,
   "metadata": {},
   "outputs": [],
   "source": [
    "using POMDPs\n",
    "using POMDPTools\n",
    "using QuickPOMDPs\n",
    "using MCTS\n",
    "\n",
    "using Distributions\n",
    "using LinearAlgebra"
   ]
  },
  {
   "cell_type": "markdown",
   "metadata": {},
   "source": [
    "# Parameters"
   ]
  },
  {
   "cell_type": "code",
   "execution_count": null,
   "metadata": {},
   "outputs": [],
   "source": [
    "# Dimensions\n",
    "max_progress = 5\n",
    "max_power = 20\n",
    "max_h2o = 20\n",
    "max_o2 = 20\n",
    "max_food = 20\n",
    "\n",
    "# Uncertainties\n",
    "p_mission_regression = 0.05\n",
    "p_power_fail = 0.02\n",
    "p_water_loss = 0.02\n",
    "p_food_loss = 0.02\n",
    "p_no_mission_progress = 0.05\n",
    "\n",
    "# Resource consumption\n",
    "consumed_power = -10 # generated\n",
    "consumed_h2o = 1\n",
    "consumed_o2 = 8\n",
    "consumed_food = 9"
   ]
  },
  {
   "cell_type": "code",
   "execution_count": null,
   "metadata": {},
   "outputs": [],
   "source": [
    "# Define all possible states and actions (with constraints)\n",
    "# [progress, power, h2o, o2, food]\n",
    "indexed = LinearIndices((max_progress, max_power, max_h2o, max_o2, max_food))\n",
    "states = 1:indexed[max_progress, max_power, max_h2o, max_o2, max_food]\n",
    "\n",
    "basic_actions = [\n",
    "      CartesianIndex(1, -1, 0, 0, 0), # make mission progress\n",
    "      CartesianIndex(0, -1, 2, 0, 0), # make water\n",
    "      CartesianIndex(0, -2, -1, 1, 0), # make oxygen\n",
    "      CartesianIndex(0, -1, -1, -1, 2), # make food\n",
    "      CartesianIndex(0, 0, 0, 0, 0)\n",
    "] # do nothing\n",
    "consumed = CartesianIndex(0, consumed_power, consumed_h2o, consumed_o2, consumed_food)\n",
    "actions = [action - consumed for action in basic_actions]\n",
    "\n",
    "initialindex = indexed[1, 20, 20, 20, 20]\n",
    "initialstate = Deterministic(initialindex)"
   ]
  },
  {
   "cell_type": "code",
   "execution_count": null,
   "metadata": {},
   "outputs": [],
   "source": [
    "# Determine if action is out of bounds\n",
    "# Associated consequences are reflected in transition/reward functions\n",
    "state_maxes = [max_progress, max_power, max_h2o, max_o2, max_food]\n",
    "function outofbounds(state, action)\n",
    "    for i in 1:length(state)\n",
    "        if ((state[i] + action[i]) < 1 || (state[i] + action[i]) > state_maxes[i])\n",
    "            return true\n",
    "        end\n",
    "    end\n",
    "    return false\n",
    "end"
   ]
  },
  {
   "cell_type": "code",
   "execution_count": null,
   "metadata": {},
   "outputs": [],
   "source": [
    "# Transition function\n",
    "function transition(s, a)\n",
    "    svec = CartesianIndices((max_progress, max_power, max_h2o, max_o2, max_food))[s]\n",
    "    svec = collect(Tuple(svec))\n",
    "    a = collect(Tuple(a))\n",
    "    if svec[2] + a[2] > max_power\n",
    "        svec[2] = max_power\n",
    "    end\n",
    "    if outofbounds(svec, a)\n",
    "        spvec = svec\n",
    "    else\n",
    "        x = rand()\n",
    "        if (x < p_no_mission_progress)\n",
    "            spvec = svec # no progress\n",
    "        elseif (x < (p_water_loss + p_no_mission_progress))\n",
    "            svec[3] = 1 # lose all water\n",
    "            spvec = svec + a\n",
    "        elseif (x<(p_water_loss + p_power_fail + p_no_mission_progress))\n",
    "            svec[2] = 1 # lose all energy\n",
    "            spvec = svec + a\n",
    "        elseif (x < (p_mission_regression + p_water_loss + p_power_fail + p_no_mission_progress) && svec[3] > 1)\n",
    "            svec[1] = svec[1] - 1 # mission setback\n",
    "            spvec = svec + a\n",
    "        else \n",
    "            spvec = svec + a\n",
    "        end\n",
    "    end\n",
    "    spvec = CartesianIndex(Tuple(spvec))\n",
    "    sp = indexed[spvec]\n",
    "    return sp\n",
    "end\n"
   ]
  },
  {
   "cell_type": "code",
   "execution_count": null,
   "metadata": {},
   "outputs": [],
   "source": [
    "mission = QuickMDP(\n",
    "    states = states,\n",
    "    actions = actions,\n",
    "    initialstate = initialstate,\n",
    "    discount = 0.95,\n",
    "    isterminal = s -> CartesianIndices((max_progress, max_power, max_h2o, max_o2, max_food))[s][1] == max_progress,\n",
    "\n",
    "    transition = function(s,a)\n",
    "        return Deterministic(transition(s,a))\n",
    "    end,\n",
    "\n",
    "    reward = function (s, a)\n",
    "        svec = CartesianIndices((max_progress, max_power, max_h2o, max_o2, max_food))[s]\n",
    "        spvec = svec + a\n",
    "        if spvec[1] == max_progress\n",
    "            r = 1000\n",
    "        elseif outofbounds(svec, a) # If invalid action\n",
    "            r = -1e9\n",
    "        else\n",
    "            r = -1\n",
    "        end\n",
    "        return r\n",
    "    end\n",
    ")"
   ]
  },
  {
   "cell_type": "code",
   "execution_count": null,
   "metadata": {},
   "outputs": [],
   "source": [
    "solver = MCTSSolver(n_iterations=1000, depth=100, exploration_constant=5.0)\n",
    "policy = solve(solver, mission)"
   ]
  },
  {
   "cell_type": "code",
   "execution_count": null,
   "metadata": {},
   "outputs": [],
   "source": [
    "for i in 1:length(states)\n",
    "    s = CartesianIndices((max_progress, max_power, max_h2o, max_o2, max_food))[i] \n",
    "    a = action(policy, i)\n",
    "    if rand() < 0.1\n",
    "        println(i)\n",
    "        println(a + consumed)\n",
    "    end\n",
    "end"
   ]
  }
 ],
 "metadata": {
  "kernelspec": {
   "display_name": "Julia 1.9.3",
   "language": "julia",
   "name": "julia-1.9"
  },
  "language_info": {
   "file_extension": ".jl",
   "mimetype": "application/julia",
   "name": "julia",
   "version": "1.9.3"
  }
 },
 "nbformat": 4,
 "nbformat_minor": 2
}
