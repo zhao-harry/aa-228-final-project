{
 "cells": [
  {
   "cell_type": "code",
   "execution_count": 28,
   "metadata": {},
   "outputs": [],
   "source": [
    "using POMDPs\n",
    "using POMDPTools\n",
    "using QuickPOMDPs\n",
    "using MCTS\n",
    "using POMDPSimulators\n",
    "using Distributions\n",
    "using LinearAlgebra\n",
    "# using D3Trees\n",
    "using Random"
   ]
  },
  {
   "cell_type": "code",
   "execution_count": 29,
   "metadata": {},
   "outputs": [
    {
     "name": "stderr",
     "output_type": "stream",
     "text": [
      "\u001b[32m\u001b[1m   Resolving\u001b[22m\u001b[39m package versions...\n"
     ]
    },
    {
     "name": "stderr",
     "output_type": "stream",
     "text": [
      "\u001b[32m\u001b[1m  No Changes\u001b[22m\u001b[39m to `~/.julia/environments/v1.9/Project.toml`\n",
      "\u001b[32m\u001b[1m  No Changes\u001b[22m\u001b[39m to `~/.julia/environments/v1.9/Manifest.toml`\n"
     ]
    }
   ],
   "source": [
    "using Pkg\n",
    "Pkg.add(\"QuickPOMDPs\")"
   ]
  },
  {
   "cell_type": "markdown",
   "metadata": {},
   "source": [
    "# Parameters"
   ]
  },
  {
   "cell_type": "code",
   "execution_count": 30,
   "metadata": {},
   "outputs": [
    {
     "data": {
      "text/plain": [
       "9"
      ]
     },
     "metadata": {},
     "output_type": "display_data"
    }
   ],
   "source": [
    "# Dimensions\n",
    "max_progress = 5\n",
    "max_power = 20\n",
    "max_h2o = 20\n",
    "max_o2 = 20\n",
    "max_food = 20\n",
    "\n",
    "# Uncertainties\n",
    "p_mission_regression = 0.05\n",
    "p_power_fail = 0.02\n",
    "p_water_loss = 0.02\n",
    "p_food_loss = 0.02\n",
    "p_no_mission_progress = 0.05\n",
    "\n",
    "# Resource consumption\n",
    "consumed_power = -10 # generated\n",
    "consumed_h2o = 1\n",
    "consumed_o2 = 8\n",
    "consumed_food = 9"
   ]
  },
  {
   "cell_type": "code",
   "execution_count": 31,
   "metadata": {},
   "outputs": [
    {
     "data": {
      "text/plain": [
       "5-element Vector{CartesianIndex{5}}:\n",
       " CartesianIndex(1, 9, -1, -8, -9)\n",
       " CartesianIndex(0, 9, 1, -8, -9)\n",
       " CartesianIndex(0, 8, -2, -7, -9)\n",
       " CartesianIndex(0, 9, -2, -9, -7)\n",
       " CartesianIndex(0, 10, -1, -8, -9)"
      ]
     },
     "metadata": {},
     "output_type": "display_data"
    }
   ],
   "source": [
    "# Define all possible states and actions (with constraints)\n",
    "# [progress, power, h2o, o2, food]\n",
    "indexed = LinearIndices((max_progress, max_power, max_h2o, max_o2, max_food))\n",
    "states = 1:indexed[max_progress, max_power, max_h2o, max_o2, max_food]\n",
    "\n",
    "basic_actions = [\n",
    "      CartesianIndex(1, -1, 0, 0, 0), # make mission progress\n",
    "      CartesianIndex(0, -1, 2, 0, 0), # make water \n",
    "      CartesianIndex(0, -2, -1, 1, 0), # make oxygen\n",
    "      CartesianIndex(0, -1, -1, -1, 2), # make food\n",
    "      CartesianIndex(0, 0, 0, 0, 0)\n",
    "] # do nothing\n",
    "consumed = CartesianIndex(0, consumed_power, consumed_h2o, consumed_o2, consumed_food)\n",
    "actions = [action - consumed for action in basic_actions]\n",
    "\n"
   ]
  },
  {
   "cell_type": "code",
   "execution_count": 32,
   "metadata": {},
   "outputs": [
    {
     "data": {
      "text/plain": [
       "outofbounds (generic function with 1 method)"
      ]
     },
     "metadata": {},
     "output_type": "display_data"
    }
   ],
   "source": [
    "# Determine if action is out of bounds\n",
    "# Associated consequences are reflected in transition/reward functions\n",
    "state_maxes = [max_progress, max_power, max_h2o, max_o2, max_food]\n",
    "function outofbounds(state, action)\n",
    "    for i in 1:length(state)\n",
    "        if ((state[i] + action[i]) < 1 || (state[i] + action[i]) > state_maxes[i])\n",
    "            return true\n",
    "        end\n",
    "    end\n",
    "    return false\n",
    "end"
   ]
  },
  {
   "cell_type": "code",
   "execution_count": 33,
   "metadata": {},
   "outputs": [
    {
     "data": {
      "text/plain": [
       "clamp_state (generic function with 1 method)"
      ]
     },
     "metadata": {},
     "output_type": "display_data"
    }
   ],
   "source": [
    "# Determine if action is out of bounds\n",
    "# Associated consequences are reflected in transition/reward functions\n",
    "state_maxes = [max_progress, max_power, max_h2o, max_o2, max_food]\n",
    "function clamp_state(state)\n",
    "    for i in 1:length(state)\n",
    "        state[i] = clamp(state[i], 1, state_maxes[i])\n",
    "    end\n",
    "    return state\n",
    "end"
   ]
  },
  {
   "cell_type": "code",
   "execution_count": 34,
   "metadata": {},
   "outputs": [
    {
     "data": {
      "text/plain": [
       "transition (generic function with 1 method)"
      ]
     },
     "metadata": {},
     "output_type": "display_data"
    }
   ],
   "source": [
    "        #thought: when we make no mission progress or lose water - we would still consume/produce energy??\n",
    "\n",
    "# Transition function\n",
    "function transition(s, a)\n",
    "    p_nominal = 1 - p_no_mission_progress - p_water_loss - p_power_fail - p_mission_regression \n",
    "    probabilities = [p_no_mission_progress, p_water_loss, p_power_fail, p_mission_regression, p_nominal]\n",
    "\n",
    "    svec = CartesianIndices((max_progress, max_power, max_h2o, max_o2, max_food))[s]\n",
    "    svec = collect(Tuple(svec))\n",
    "    a = collect(Tuple(a))\n",
    "\n",
    "    if outofbounds(svec, a)\n",
    "        return [[s], [1]]\n",
    "    else\n",
    "        spvec_no_mission_progress = svec\n",
    "\n",
    "        spvec_water_loss = svec + a\n",
    "        spvec_water_loss[3] = 1 # lose all water\n",
    "\n",
    "        spvec_power_fail = svec + a\n",
    "        spvec_power_fail[2] = 1 # lose all energy\n",
    "\n",
    "        spvec_mission_regression = svec + a\n",
    "        spvec_mission_regression[1] = spvec_mission_regression[1] - 1 # mission setback\n",
    "\n",
    "        spvec_nominal = svec + a\n",
    "\n",
    "        spvec = [spvec_no_mission_progress, spvec_water_loss, spvec_power_fail, spvec_mission_regression, spvec_nominal]\n",
    "    end\n",
    "    \n",
    "\n",
    "    for i in 1:length(probabilities)\n",
    "        spvec[i] = clamp_state(spvec[i])\n",
    "        spvec[i] = CartesianIndex(Tuple(spvec[i]))\n",
    "        sp[i] = indexed[spvec[i]]\n",
    "    end\n",
    "\n",
    "    return [sp, probabilities]\n",
    "    \n",
    "end\n"
   ]
  },
  {
   "cell_type": "code",
   "execution_count": 35,
   "metadata": {},
   "outputs": [
    {
     "data": {
      "text/plain": [
       "reward_func (generic function with 1 method)"
      ]
     },
     "metadata": {},
     "output_type": "display_data"
    }
   ],
   "source": [
    "using QuickPOMDPs\n",
    "\n",
    "mission = QuickMDP(\n",
    "    states = states,\n",
    "    actions = actions,\n",
    "    initialstate = initialstate,\n",
    "    discount = 0.95,\n",
    "    isterminal = s -> CartesianIndices((max_progress, max_power, max_h2o, max_o2, max_food))[s][1] == max_progress,\n",
    "\n",
    "    transition = function(s,a)\n",
    "        T = transition(s,a)\n",
    "        dist = SparseCat(T[1], T[2])\n",
    "        return dist\n",
    "    end,\n",
    "\n",
    "    reward = function (s, a)\n",
    "       return reward_func(s,a)\n",
    "    end\n",
    ")\n",
    "\n",
    "function reward_func(s, a)\n",
    "    svec = CartesianIndices((max_progress, max_power, max_h2o, max_o2, max_food))[s]\n",
    "    spvec = svec + a\n",
    "    if spvec[1] == max_progress\n",
    "        r = 1000\n",
    "    elseif outofbounds(svec, a) # If invalid action\n",
    "        r = -1e9\n",
    "    else\n",
    "        r = -1\n",
    "    end\n",
    "    return r\n",
    "end"
   ]
  },
  {
   "cell_type": "code",
   "execution_count": 36,
   "metadata": {},
   "outputs": [
    {
     "data": {
      "text/plain": [
       "MCTSSolver(100000, Inf, 10, 5.0, Random._GLOBAL_RNG(), RolloutEstimator(RandomSolver(Random._GLOBAL_RNG()), 50, 0.0), 0.0, 0, false, true, MCTS.var\"#5#7\"())"
      ]
     },
     "metadata": {},
     "output_type": "display_data"
    }
   ],
   "source": [
    "solver = MCTSSolver(n_iterations=100000, depth=10, exploration_constant=5.0, enable_tree_vis=true)\n"
   ]
  },
  {
   "cell_type": "code",
   "execution_count": 37,
   "metadata": {},
   "outputs": [
    {
     "ename": "ErrorException",
     "evalue": "syntax: \"!=\" is not a unary operator",
     "output_type": "error",
     "traceback": [
      "syntax: \"!=\" is not a unary operator\n",
      "\n",
      "Stacktrace:\n",
      " [1] top-level scope\n",
      "   @ ~/Documents/AA228/aa-228-final-project/mission.ipynb:9"
     ]
    }
   ],
   "source": [
    "initial_index = indexed[1, 20, 20, 20, 20]\n",
    "\n",
    "states = [initial_state]\n",
    "\n",
    "sim  = RolloutSimulator()\n",
    "r = 0.0\n",
    "i = 1\n",
    "# Print the resulting history\n",
    "while (!= isterminal):\n",
    "    initialstate = state[i]\n",
    "    policy = solve(solver, mission)\n",
    "    r += simulate(sim, mission, policy)\n",
    "    push!(states, state)\n",
    "    i += 1\n",
    "end\n",
    "    "
   ]
  },
  {
   "cell_type": "code",
   "execution_count": 43,
   "metadata": {},
   "outputs": [
    {
     "data": {
      "text/plain": [
       "update_statistics (generic function with 1 method)"
      ]
     },
     "metadata": {},
     "output_type": "display_data"
    }
   ],
   "source": [
    "# Main function with replanning\n",
    "function mdp_with_replanning(mission, num_iterations::Int, replan_interval::Int, initial_state)\n",
    "    state = initial_state\n",
    "    for i in 1:num_iterations\n",
    "        # Replanning step\n",
    "        if need_replanning(i, replan_interval)\n",
    "            print(\"replanning\")\n",
    "            mission = replan(mission)\n",
    "        end\n",
    "\n",
    "        for _ in 1:10  # Adjust the number of simulation steps as needed\n",
    "            # Choose action using the rollout policy\n",
    "            display(state)\n",
    "            action, policy = rollout_policy(mission, state)\n",
    "\n",
    "            # display(rollout_policy)\n",
    "            # action = consumed[action]\n",
    "\n",
    "            # Use the chosen action to update the state, get reward, and update statistics\n",
    "            T = transition(state, action)\n",
    "            next_state = rand(SparseCat(T[1], T[2]))\n",
    "            display(next_state)\n",
    "            r = reward_func(state, action)\n",
    "\n",
    "            update_statistics(state, action, r, policy)\n",
    "\n",
    "            # Move to the next state\n",
    "            state = next_state\n",
    "        end\n",
    "    end\n",
    "    # Return the final MDP\n",
    "    return mission\n",
    "end\n",
    "\n",
    "# Replanning function (example: update transition probabilities)\n",
    "function replan(mission)\n",
    "    updated_probabilities = Dict{Symbol, Dict{Symbol, Dict{Symbol, Float64}}}()\n",
    "\n",
    "    # # Update transition probabilities (example: random update)\n",
    "    # for s in mission.state_space\n",
    "    #     updated_probabilities[s] = Dict{Symbol, Dict{Symbol, Float64}}()\n",
    "    #     for a in mission.action_space\n",
    "    #         updated_probabilities[s][a] = Dict{Symbol, Float64}()\n",
    "    #         for sp in mission.state_space\n",
    "    #             updated_probabilities[s][a][sp] = rand()\n",
    "    #         end\n",
    "    #     end\n",
    "    # end\n",
    "\n",
    "    \n",
    "\n",
    "    # Create a new MDP instance with updated probabilities\n",
    "    updated_mdp = QuickMDP(mission.state_space, mission.action_space, updated_probabilities, mission.reward_function)\n",
    "\n",
    "    return updated_mdp\n",
    "end\n",
    "\n",
    "# Replanning condition (example: every N visits)\n",
    "function need_replanning(visits::Int, replan_interval::Int)\n",
    "    return visits % replan_interval == 0\n",
    "end\n",
    "\n",
    "# Rollout policy using MCTSSolver\n",
    "function rollout_policy(mission, state)\n",
    "    solver = MCTSSolver(n_iterations=100000, depth=10, exploration_constant=5.0, enable_tree_vis=true)\n",
    "    policy = solve(solver, mission)\n",
    "    return action(policy, state), policy\n",
    "end\n",
    "\n",
    "function update_statistics(state, action, reward, policy)\n",
    "    # Update or record relevant statistics here\n",
    "    display(\"State: $state, Action: $action, Reward: $reward, Policy: $policy\")\n",
    "end"
   ]
  },
  {
   "cell_type": "code",
   "execution_count": 45,
   "metadata": {},
   "outputs": [
    {
     "data": {
      "text/plain": [
       "589471"
      ]
     },
     "metadata": {},
     "output_type": "display_data"
    },
    {
     "data": {
      "text/plain": [
       "589471"
      ]
     },
     "metadata": {},
     "output_type": "display_data"
    },
    {
     "data": {
      "text/plain": [
       "\"State: 589471, Action: CartesianIndex(0, 10, -1, -8, -9), Reward: -1.0e9\""
      ]
     },
     "metadata": {},
     "output_type": "display_data"
    },
    {
     "data": {
      "text/plain": [
       "589471"
      ]
     },
     "metadata": {},
     "output_type": "display_data"
    },
    {
     "data": {
      "text/plain": [
       "589471"
      ]
     },
     "metadata": {},
     "output_type": "display_data"
    },
    {
     "data": {
      "text/plain": [
       "\"State: 589471, Action: CartesianIndex(0, 10, -1, -8, -9), Reward: -1.0e9\""
      ]
     },
     "metadata": {},
     "output_type": "display_data"
    },
    {
     "data": {
      "text/plain": [
       "589471"
      ]
     },
     "metadata": {},
     "output_type": "display_data"
    },
    {
     "data": {
      "text/plain": [
       "589471"
      ]
     },
     "metadata": {},
     "output_type": "display_data"
    },
    {
     "data": {
      "text/plain": [
       "\"State: 589471, Action: CartesianIndex(0, 10, -1, -8, -9), Reward: -1.0e9\""
      ]
     },
     "metadata": {},
     "output_type": "display_data"
    },
    {
     "data": {
      "text/plain": [
       "589471"
      ]
     },
     "metadata": {},
     "output_type": "display_data"
    },
    {
     "ename": "InterruptException",
     "evalue": "InterruptException:",
     "output_type": "error",
     "traceback": [
      "InterruptException:\n",
      "\n",
      "Stacktrace:\n",
      "  [1] transition(s::Int64, a::CartesianIndex{5})\n",
      "    @ Main ~/Documents/AA228/aa-228-final-project/mission.ipynb:8\n",
      "  [2] (::var\"#22#25\")(s::Int64, a::CartesianIndex{5})\n",
      "    @ Main ~/Documents/AA228/aa-228-final-project/mission.ipynb:11\n",
      "  [3] transition\n",
      "    @ ~/.julia/packages/QuickPOMDPs/SNkbc/src/quick.jl:217 [inlined]\n",
      "  [4] macro expansion\n",
      "    @ ~/.julia/packages/POMDPs/0qEIe/src/gen_impl.jl:39 [inlined]\n",
      "  [5] genout(v::DDNOut{(:sp, :r)}, m::QuickMDP{UUID(\"05c1107b-3b41-43fe-8213-d1596d7d8a08\"), Int64, CartesianIndex{5}, NamedTuple{(:stateindex, :isterminal, :actionindex, :initialstate, :transition, :states, :actions, :discount, :reward), Tuple{Dict{Int64, Int64}, var\"#21#24\", Dict{CartesianIndex{5}, Int64}, typeof(initialstate), var\"#22#25\", UnitRange{Int64}, Vector{CartesianIndex{5}}, Float64, var\"#23#26\"}}}, s::Int64, a::CartesianIndex{5}, rng::Random._GLOBAL_RNG)\n",
      "    @ POMDPs ~/.julia/packages/POMDPs/0qEIe/src/gen_impl.jl:19\n",
      "  [6] (::POMDPTools.Simulators.var\"#367#f#3\")(m::QuickMDP{UUID(\"05c1107b-3b41-43fe-8213-d1596d7d8a08\"), Int64, CartesianIndex{5}, NamedTuple{(:stateindex, :isterminal, :actionindex, :initialstate, :transition, :states, :actions, :discount, :reward), Tuple{Dict{Int64, Int64}, var\"#21#24\", Dict{CartesianIndex{5}, Int64}, typeof(initialstate), var\"#22#25\", UnitRange{Int64}, Vector{CartesianIndex{5}}, Float64, var\"#23#26\"}}}, s::Int64, a::CartesianIndex{5}, rng::Random._GLOBAL_RNG)\n",
      "    @ POMDPTools.Simulators ~/.julia/packages/POMDPs/0qEIe/src/generative.jl:67\n",
      "  [7] simulate(sim::RolloutSimulator{Random._GLOBAL_RNG}, mdp::QuickMDP{UUID(\"05c1107b-3b41-43fe-8213-d1596d7d8a08\"), Int64, CartesianIndex{5}, NamedTuple{(:stateindex, :isterminal, :actionindex, :initialstate, :transition, :states, :actions, :discount, :reward), Tuple{Dict{Int64, Int64}, var\"#21#24\", Dict{CartesianIndex{5}, Int64}, typeof(initialstate), var\"#22#25\", UnitRange{Int64}, Vector{CartesianIndex{5}}, Float64, var\"#23#26\"}}}, policy::RandomPolicy{Random._GLOBAL_RNG, QuickMDP{UUID(\"05c1107b-3b41-43fe-8213-d1596d7d8a08\"), Int64, CartesianIndex{5}, NamedTuple{(:stateindex, :isterminal, :actionindex, :initialstate, :transition, :states, :actions, :discount, :reward), Tuple{Dict{Int64, Int64}, var\"#21#24\", Dict{CartesianIndex{5}, Int64}, typeof(initialstate), var\"#22#25\", UnitRange{Int64}, Vector{CartesianIndex{5}}, Float64, var\"#23#26\"}}}, NothingUpdater}, initialstate::Int64)\n",
      "    @ POMDPTools.Simulators ~/.julia/packages/POMDPTools/7Rekv/src/Simulators/rollout.jl:143\n",
      "  [8] estimate_value\n",
      "    @ ~/.julia/packages/MCTS/AjLdf/src/domain_knowledge.jl:72 [inlined]\n",
      "  [9] simulate(planner::MCTSPlanner{QuickMDP{UUID(\"05c1107b-3b41-43fe-8213-d1596d7d8a08\"), Int64, CartesianIndex{5}, NamedTuple{(:stateindex, :isterminal, :actionindex, :initialstate, :transition, :states, :actions, :discount, :reward), Tuple{Dict{Int64, Int64}, var\"#21#24\", Dict{CartesianIndex{5}, Int64}, typeof(initialstate), var\"#22#25\", UnitRange{Int64}, Vector{CartesianIndex{5}}, Float64, var\"#23#26\"}}}, Int64, CartesianIndex{5}, MCTS.SolvedRolloutEstimator{RandomPolicy{Random._GLOBAL_RNG, QuickMDP{UUID(\"05c1107b-3b41-43fe-8213-d1596d7d8a08\"), Int64, CartesianIndex{5}, NamedTuple{(:stateindex, :isterminal, :actionindex, :initialstate, :transition, :states, :actions, :discount, :reward), Tuple{Dict{Int64, Int64}, var\"#21#24\", Dict{CartesianIndex{5}, Int64}, typeof(initialstate), var\"#22#25\", UnitRange{Int64}, Vector{CartesianIndex{5}}, Float64, var\"#23#26\"}}}, NothingUpdater}, Random._GLOBAL_RNG}, Random._GLOBAL_RNG}, node::StateNode{Int64, CartesianIndex{5}}, depth::Int64)\n",
      "    @ MCTS ~/.julia/packages/MCTS/AjLdf/src/vanilla.jl:279\n",
      " [10] simulate(planner::MCTSPlanner{QuickMDP{UUID(\"05c1107b-3b41-43fe-8213-d1596d7d8a08\"), Int64, CartesianIndex{5}, NamedTuple{(:stateindex, :isterminal, :actionindex, :initialstate, :transition, :states, :actions, :discount, :reward), Tuple{Dict{Int64, Int64}, var\"#21#24\", Dict{CartesianIndex{5}, Int64}, typeof(initialstate), var\"#22#25\", UnitRange{Int64}, Vector{CartesianIndex{5}}, Float64, var\"#23#26\"}}}, Int64, CartesianIndex{5}, MCTS.SolvedRolloutEstimator{RandomPolicy{Random._GLOBAL_RNG, QuickMDP{UUID(\"05c1107b-3b41-43fe-8213-d1596d7d8a08\"), Int64, CartesianIndex{5}, NamedTuple{(:stateindex, :isterminal, :actionindex, :initialstate, :transition, :states, :actions, :discount, :reward), Tuple{Dict{Int64, Int64}, var\"#21#24\", Dict{CartesianIndex{5}, Int64}, typeof(initialstate), var\"#22#25\", UnitRange{Int64}, Vector{CartesianIndex{5}}, Float64, var\"#23#26\"}}}, NothingUpdater}, Random._GLOBAL_RNG}, Random._GLOBAL_RNG}, node::StateNode{Int64, CartesianIndex{5}}, depth::Int64) (repeats 10 times)\n",
      "    @ MCTS ~/.julia/packages/MCTS/AjLdf/src/vanilla.jl:295\n",
      " [11] build_tree(planner::MCTSPlanner{QuickMDP{UUID(\"05c1107b-3b41-43fe-8213-d1596d7d8a08\"), Int64, CartesianIndex{5}, NamedTuple{(:stateindex, :isterminal, :actionindex, :initialstate, :transition, :states, :actions, :discount, :reward), Tuple{Dict{Int64, Int64}, var\"#21#24\", Dict{CartesianIndex{5}, Int64}, typeof(initialstate), var\"#22#25\", UnitRange{Int64}, Vector{CartesianIndex{5}}, Float64, var\"#23#26\"}}}, Int64, CartesianIndex{5}, MCTS.SolvedRolloutEstimator{RandomPolicy{Random._GLOBAL_RNG, QuickMDP{UUID(\"05c1107b-3b41-43fe-8213-d1596d7d8a08\"), Int64, CartesianIndex{5}, NamedTuple{(:stateindex, :isterminal, :actionindex, :initialstate, :transition, :states, :actions, :discount, :reward), Tuple{Dict{Int64, Int64}, var\"#21#24\", Dict{CartesianIndex{5}, Int64}, typeof(initialstate), var\"#22#25\", UnitRange{Int64}, Vector{CartesianIndex{5}}, Float64, var\"#23#26\"}}}, NothingUpdater}, Random._GLOBAL_RNG}, Random._GLOBAL_RNG}, s::Int64)\n",
      "    @ MCTS ~/.julia/packages/MCTS/AjLdf/src/vanilla.jl:260\n",
      " [12] plan!\n",
      "    @ ~/.julia/packages/MCTS/AjLdf/src/vanilla.jl:234 [inlined]\n",
      " [13] action_info(p::MCTSPlanner{QuickMDP{UUID(\"05c1107b-3b41-43fe-8213-d1596d7d8a08\"), Int64, CartesianIndex{5}, NamedTuple{(:stateindex, :isterminal, :actionindex, :initialstate, :transition, :states, :actions, :discount, :reward), Tuple{Dict{Int64, Int64}, var\"#21#24\", Dict{CartesianIndex{5}, Int64}, typeof(initialstate), var\"#22#25\", UnitRange{Int64}, Vector{CartesianIndex{5}}, Float64, var\"#23#26\"}}}, Int64, CartesianIndex{5}, MCTS.SolvedRolloutEstimator{RandomPolicy{Random._GLOBAL_RNG, QuickMDP{UUID(\"05c1107b-3b41-43fe-8213-d1596d7d8a08\"), Int64, CartesianIndex{5}, NamedTuple{(:stateindex, :isterminal, :actionindex, :initialstate, :transition, :states, :actions, :discount, :reward), Tuple{Dict{Int64, Int64}, var\"#21#24\", Dict{CartesianIndex{5}, Int64}, typeof(initialstate), var\"#22#25\", UnitRange{Int64}, Vector{CartesianIndex{5}}, Float64, var\"#23#26\"}}}, NothingUpdater}, Random._GLOBAL_RNG}, Random._GLOBAL_RNG}, s::Int64)\n",
      "    @ MCTS ~/.julia/packages/MCTS/AjLdf/src/vanilla.jl:189\n",
      " [14] action(p::MCTSPlanner{QuickMDP{UUID(\"05c1107b-3b41-43fe-8213-d1596d7d8a08\"), Int64, CartesianIndex{5}, NamedTuple{(:stateindex, :isterminal, :actionindex, :initialstate, :transition, :states, :actions, :discount, :reward), Tuple{Dict{Int64, Int64}, var\"#21#24\", Dict{CartesianIndex{5}, Int64}, typeof(initialstate), var\"#22#25\", UnitRange{Int64}, Vector{CartesianIndex{5}}, Float64, var\"#23#26\"}}}, Int64, CartesianIndex{5}, MCTS.SolvedRolloutEstimator{RandomPolicy{Random._GLOBAL_RNG, QuickMDP{UUID(\"05c1107b-3b41-43fe-8213-d1596d7d8a08\"), Int64, CartesianIndex{5}, NamedTuple{(:stateindex, :isterminal, :actionindex, :initialstate, :transition, :states, :actions, :discount, :reward), Tuple{Dict{Int64, Int64}, var\"#21#24\", Dict{CartesianIndex{5}, Int64}, typeof(initialstate), var\"#22#25\", UnitRange{Int64}, Vector{CartesianIndex{5}}, Float64, var\"#23#26\"}}}, NothingUpdater}, Random._GLOBAL_RNG}, Random._GLOBAL_RNG}, s::Int64)\n",
      "    @ MCTS ~/.julia/packages/MCTS/AjLdf/src/vanilla.jl:194\n",
      " [15] rollout_policy(mission::QuickMDP{UUID(\"05c1107b-3b41-43fe-8213-d1596d7d8a08\"), Int64, CartesianIndex{5}, NamedTuple{(:stateindex, :isterminal, :actionindex, :initialstate, :transition, :states, :actions, :discount, :reward), Tuple{Dict{Int64, Int64}, var\"#21#24\", Dict{CartesianIndex{5}, Int64}, typeof(initialstate), var\"#22#25\", UnitRange{Int64}, Vector{CartesianIndex{5}}, Float64, var\"#23#26\"}}}, state::Int64)\n",
      "    @ Main ~/Documents/AA228/aa-228-final-project/mission.ipynb:67\n",
      " [16] mdp_with_replanning(mission::QuickMDP{UUID(\"05c1107b-3b41-43fe-8213-d1596d7d8a08\"), Int64, CartesianIndex{5}, NamedTuple{(:stateindex, :isterminal, :actionindex, :initialstate, :transition, :states, :actions, :discount, :reward), Tuple{Dict{Int64, Int64}, var\"#21#24\", Dict{CartesianIndex{5}, Int64}, typeof(initialstate), var\"#22#25\", UnitRange{Int64}, Vector{CartesianIndex{5}}, Float64, var\"#23#26\"}}}, num_iterations::Int64, replan_interval::Int64, initial_state::Int64)\n",
      "    @ Main ~/Documents/AA228/aa-228-final-project/mission.ipynb:14\n",
      " [17] eval\n",
      "    @ ./boot.jl:370 [inlined]\n",
      " [18] include_string(mapexpr::typeof(REPL.softscope), mod::Module, code::String, filename::String)\n",
      "    @ Base ./loading.jl:1903\n",
      " [19] #invokelatest#2\n",
      "    @ ./essentials.jl:819 [inlined]\n",
      " [20] invokelatest\n",
      "    @ ./essentials.jl:816 [inlined]\n",
      " [21] (::VSCodeServer.var\"#202#203\"{VSCodeServer.NotebookRunCellArguments, String})()\n",
      "    @ VSCodeServer ~/.vscode/extensions/julialang.language-julia-1.60.2/scripts/packages/VSCodeServer/src/serve_notebook.jl:19\n",
      " [22] withpath(f::VSCodeServer.var\"#202#203\"{VSCodeServer.NotebookRunCellArguments, String}, path::String)\n",
      "    @ VSCodeServer ~/.vscode/extensions/julialang.language-julia-1.60.2/scripts/packages/VSCodeServer/src/repl.jl:274\n",
      " [23] notebook_runcell_request(conn::VSCodeServer.JSONRPC.JSONRPCEndpoint{Base.PipeEndpoint, Base.PipeEndpoint}, params::VSCodeServer.NotebookRunCellArguments)\n",
      "    @ VSCodeServer ~/.vscode/extensions/julialang.language-julia-1.60.2/scripts/packages/VSCodeServer/src/serve_notebook.jl:13\n",
      " [24] dispatch_msg(x::VSCodeServer.JSONRPC.JSONRPCEndpoint{Base.PipeEndpoint, Base.PipeEndpoint}, dispatcher::VSCodeServer.JSONRPC.MsgDispatcher, msg::Dict{String, Any})\n",
      "    @ VSCodeServer.JSONRPC ~/.vscode/extensions/julialang.language-julia-1.60.2/scripts/packages/JSONRPC/src/typed.jl:67\n",
      " [25] serve_notebook(pipename::String, outputchannel_logger::Base.CoreLogging.SimpleLogger; crashreporting_pipename::String)\n",
      "    @ VSCodeServer ~/.vscode/extensions/julialang.language-julia-1.60.2/scripts/packages/VSCodeServer/src/serve_notebook.jl:139\n",
      " [26] top-level scope\n",
      "    @ ~/.vscode/extensions/julialang.language-julia-1.60.2/scripts/notebook/notebook.jl:32"
     ]
    }
   ],
   "source": [
    "num_iterations = 10\n",
    "replan_interval = 2\n",
    "initial_state = indexed[1, 15, 15, 15, 15]\n",
    "final_mdp = mdp_with_replanning(mission, num_iterations, replan_interval, initial_state)"
   ]
  },
  {
   "cell_type": "code",
   "execution_count": 40,
   "metadata": {},
   "outputs": [
    {
     "ename": "UndefVarError",
     "evalue": "UndefVarError: `policy` not defined",
     "output_type": "error",
     "traceback": [
      "UndefVarError: `policy` not defined\n",
      "\n",
      "Stacktrace:\n",
      " [1] top-level scope\n",
      "   @ ~/Documents/AA228/aa-228-final-project/mission.ipynb:3"
     ]
    }
   ],
   "source": [
    "\n",
    "state = indexed[1, 20, 20, 20, 20] #initialstate(mission)\n",
    "a = action(policy, state)\n",
    "a, info = action_info(policy, state)\n",
    "D3Tree(info[:tree], init_expand=2) # click on the node to expand it"
   ]
  },
  {
   "cell_type": "code",
   "execution_count": 41,
   "metadata": {},
   "outputs": [],
   "source": [
    "#for i in 1:length(states)\n",
    "    #s = CartesianIndices((max_progress, max_power, max_h2o, max_o2, max_food))[i] \n",
    "   # a = action(policy, i)\n",
    "    #if rand() < 0.1\n",
    "    #    println(i)\n",
    "    #    println(a + consumed)\n",
    "    #end\n",
    "#end"
   ]
  },
  {
   "cell_type": "code",
   "execution_count": 42,
   "metadata": {},
   "outputs": [],
   "source": []
  }
 ],
 "metadata": {
  "kernelspec": {
   "display_name": "Julia 1.9.3",
   "language": "julia",
   "name": "julia-1.9"
  },
  "language_info": {
   "file_extension": ".jl",
   "mimetype": "application/julia",
   "name": "julia",
   "version": "1.9.3"
  }
 },
 "nbformat": 4,
 "nbformat_minor": 2
}
