{
 "cells": [
  {
   "cell_type": "code",
   "execution_count": null,
   "metadata": {},
   "outputs": [],
   "source": [
    "using Plots\n",
    "using CSV\n",
    "using Tables\n",
    "using DataFrames\n",
    "using Statistics\n",
    "using StatsPlots"
   ]
  },
  {
   "cell_type": "code",
   "execution_count": null,
   "metadata": {},
   "outputs": [],
   "source": [
    "function linear2cartesian(s)\n",
    "    return collect(Tuple(CartesianIndices((max_progress, max_power, max_h2o, max_o2, max_food))[s]))\n",
    "end"
   ]
  },
  {
   "cell_type": "code",
   "execution_count": null,
   "metadata": {},
   "outputs": [],
   "source": [
    "infile = \"MCTS_policy_sarsp.csv\"\n",
    "df = CSV.read(infile, DataFrame, header = false)\n",
    "Data = Matrix(df)\n",
    "initial_state = df[1,1]\n",
    "indices_restart = findall(x -> x == initial_state, df[:, 1])\n",
    "steps = []\n",
    "\n",
    "for i in 2:length(indices_restart)\n",
    "    if (df[indices_restart[i]-1, 3] != 1000000000000)\n",
    "        steps = push!(steps, 0)\n",
    "    else \n",
    "        steps = push!(steps, (indices_restart[i] - indices_restart[i-1]))\n",
    "    end\n",
    "end"
   ]
  },
  {
   "cell_type": "code",
   "execution_count": null,
   "metadata": {},
   "outputs": [],
   "source": [
    "df = CSV.read(\"random_policy.csv\", DataFrame)\n",
    "random_steps = Matrix(df)"
   ]
  },
  {
   "cell_type": "code",
   "execution_count": null,
   "metadata": {},
   "outputs": [],
   "source": [
    "histogram(random_steps; bins = 0:10:100, label= \"Random Policy\" )\n",
    "histogram!(steps; bins = 0:10:100, label= \"MCTS\", title = \"Steps until termination (0 indicating failure)\" )\n",
    "\n",
    "ylabel!(\"Number of runs [%]\")\n",
    "xlabel!(\"Steps until termination\")"
   ]
  },
  {
   "cell_type": "code",
   "execution_count": null,
   "metadata": {},
   "outputs": [],
   "source": [
    "# Plot mission progress and resources over time\n",
    "\n",
    "# Dimensions\n",
    "max_progress = 10\n",
    "max_power = 50\n",
    "max_h2o = 50\n",
    "max_o2 = 50\n",
    "max_food = 50\n",
    "\n",
    "p1 = plot()\n",
    "states = []\n",
    "for i in 2:(length(indices_restart))\n",
    "    states = Data[indices_restart[i-1]:(indices_restart[i]-1), 1]\n",
    "    states = push!(states, Data[(indices_restart[i]-1), 4])\n",
    "    states = stack([linear2cartesian(state) for state in states], dims = 1)\n",
    "    \n",
    "    mission = states[:,1]/max_progress\n",
    "    resources_E = states[:, 2]/max_power\n",
    "    resources_H2O = states[:,3]/max_h2o\n",
    "    resources_oxy = states[:,4]/max_o2\n",
    "    resources_food = states[:,5]/max_food\n",
    "    resources_total = (resources_E  + resources_H2O + resources_oxy + resources_food)/(max_power + max_h2o + max_o2 + max_food)\n",
    "    t = range(0, length=length(mission))\n",
    "\n",
    "\n",
    "    plot!(p1, t, mission, legend=false, title = \"Mission Progress\")\n",
    "    plot!(p1, t, resources_E, legend=false, title = \"Power Accumulation over Time\")\n",
    "    plot!(p1, t, resources_H2O, legend=false, title = \"Water Accumulation over Time\")\n",
    "    plot!(p1, t, resources_oxy, legend=false, title = \"Oxygen Accumulation over Time\")\n",
    "    plot!(p1, t, resources_food, legend=false, title = \"Food Accumulation over Time\")\n",
    "        \n",
    "\n",
    "\n",
    "    vline!(p1, 10)\n",
    "end\n",
    "\n",
    "ylabel!(\"[%]\")\n",
    "xlabel!(\"Time [steps]\")\n",
    "savefig(p1, \"Mission Progress.pdf\")"
   ]
  },
  {
   "cell_type": "code",
   "execution_count": null,
   "metadata": {},
   "outputs": [],
   "source": [
    "# Plot mission progress and resources for one run\n",
    "\n",
    "# Dimensions\n",
    "max_progress = 10\n",
    "max_power = 50\n",
    "max_h2o = 50\n",
    "max_o2 = 50\n",
    "max_food = 50\n",
    "\n",
    "p2 = plot()\n",
    "states = []\n",
    "states = Data[indices_restart[7]:(indices_restart[8]-1), 1]\n",
    "states = push!(states, Data[(indices_restart[8]-1), 4])\n",
    "states = stack([linear2cartesian(state) for state in states], dims = 1)\n",
    "\n",
    "mission = 100 *states[:,1]/max_progress\n",
    "resources_E = 100* states[:, 2]/max_power\n",
    "resources_H2O = 100 * states[:,3]/max_h2o\n",
    "resources_oxy = 100 * states[:,4]/max_o2\n",
    "resources_food = 100 * states[:,5]/max_food\n",
    "t = range(0, length=length(mission))\n",
    "\n",
    "plot!(p2,t,\n",
    "    [mission resources_E resources_H2O resources_oxy resources_food],\n",
    "    label=[\"Mission Progress\" \"Power\" \"Water\" \"Oxygen\" \"Food\"]\n",
    ")\n",
    "hline!(p2, [100], linewdith = 2, label=\"Mission Goal\")\n",
    "ylabel!(\"[%]\")\n",
    "xlabel!(\"Time [steps]\")\n",
    "savefig(p2, \"Mission Progress VS Resources.pdf\")"
   ]
  },
  {
   "cell_type": "code",
   "execution_count": null,
   "metadata": {},
   "outputs": [],
   "source": [
    "p5 = boxplot([steps[steps .!= 0],random_steps[random_steps .!= 0]],xticks = false, label=[\"MCTS\" \"Random Policy\"], ylabel=\"[steps]\", title=\"Steps until successful completion (ignoring failures)\")\n",
    "savefig(p5, \"Boxplot.pdf\")"
   ]
  }
 ],
 "metadata": {
  "kernelspec": {
   "display_name": "Julia 1.9.3",
   "language": "julia",
   "name": "julia-1.9"
  },
  "language_info": {
   "file_extension": ".jl",
   "mimetype": "application/julia",
   "name": "julia",
   "version": "1.9.3"
  }
 },
 "nbformat": 4,
 "nbformat_minor": 2
}
