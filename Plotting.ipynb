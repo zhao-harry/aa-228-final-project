{
 "cells": [
  {
   "cell_type": "code",
   "execution_count": 3,
   "metadata": {},
   "outputs": [],
   "source": [
    "using Plots\n",
    "using CSV\n",
    "using Tables\n",
    "using DataFrames\n",
    "using Statistics"
   ]
  },
  {
   "cell_type": "code",
   "execution_count": 10,
   "metadata": {},
   "outputs": [
    {
     "data": {
      "text/plain": [
       "10208101"
      ]
     },
     "metadata": {},
     "output_type": "display_data"
    },
    {
     "data": {
      "text/plain": [
       "29-element Vector{Int64}:\n",
       "    1\n",
       "  419\n",
       "  489\n",
       "  555\n",
       "  621\n",
       "  664\n",
       "  713\n",
       "  990\n",
       " 1030\n",
       " 1055\n",
       "    ⋮\n",
       " 1824\n",
       " 1964\n",
       " 2066\n",
       " 2115\n",
       " 2234\n",
       " 2332\n",
       " 2364\n",
       " 2410\n",
       " 2545"
      ]
     },
     "metadata": {},
     "output_type": "display_data"
    }
   ],
   "source": [
    "infile = \"MCTS_policy_sarsp.csv\"\n",
    "df = CSV.read(infile, DataFrame)\n",
    "Data = Matrix(df)\n",
    "rows, columns = size(Data)\n",
    "initial_state = df[1,1]\n",
    "display(initial_state)\n",
    "11479591\n",
    "indices_terminal = findall(x -> x == initial_state, df[:, 1])"
   ]
  },
  {
   "cell_type": "code",
   "execution_count": 8,
   "metadata": {},
   "outputs": [
    {
     "name": "stdout",
     "output_type": "stream",
     "text": [
      "(60,)\n"
     ]
    }
   ],
   "source": [
    "\n",
    "#plot mission progress\n",
    "mission_length = \n",
    "\n"
   ]
  }
 ],
 "metadata": {
  "kernelspec": {
   "display_name": "Julia 1.9.3",
   "language": "julia",
   "name": "julia-1.9"
  },
  "language_info": {
   "file_extension": ".jl",
   "mimetype": "application/julia",
   "name": "julia",
   "version": "1.9.3"
  }
 },
 "nbformat": 4,
 "nbformat_minor": 2
}
